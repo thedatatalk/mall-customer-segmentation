{
 "cells": [
  {
   "cell_type": "code",
   "execution_count": null,
   "metadata": {
    "id": "BDDZnsTkeh0h"
   },
   "outputs": [],
   "source": [
    "import pandas as pd\n",
    "import numpy as np\n",
    "import seaborn as sns\n",
    "import matplotlib.pyplot as plt\n",
    "import plotly.express as ex\n",
    "from mlxtend.preprocessing import TransactionEncoder\n",
    "from mlxtend.frequent_patterns import apriori, association_rules\n",
    "from sklearn.preprocessing import MinMaxScaler\n",
    "from sklearn.cluster import KMeans\n",
    "from category_encoders.count import CountEncoder\n",
    "from sklearn.decomposition import PCA"
   ]
  },
  {
   "cell_type": "code",
   "execution_count": null,
   "metadata": {
    "id": "yddIl4KYeh0l",
    "outputId": "c5f592e5-d754-4942-8228-2cf62a20da8c"
   },
   "outputs": [
    {
     "data": {
      "text/html": [
       "<div>\n",
       "<style scoped>\n",
       "    .dataframe tbody tr th:only-of-type {\n",
       "        vertical-align: middle;\n",
       "    }\n",
       "\n",
       "    .dataframe tbody tr th {\n",
       "        vertical-align: top;\n",
       "    }\n",
       "\n",
       "    .dataframe thead th {\n",
       "        text-align: right;\n",
       "    }\n",
       "</style>\n",
       "<table border=\"1\" class=\"dataframe\">\n",
       "  <thead>\n",
       "    <tr style=\"text-align: right;\">\n",
       "      <th></th>\n",
       "      <th>order_id</th>\n",
       "      <th>user_id</th>\n",
       "      <th>order_number</th>\n",
       "      <th>order_dow</th>\n",
       "      <th>order_hour_of_day</th>\n",
       "      <th>days_since_prior_order</th>\n",
       "      <th>product_id</th>\n",
       "      <th>add_to_cart_order</th>\n",
       "      <th>reordered</th>\n",
       "      <th>department_id</th>\n",
       "      <th>department</th>\n",
       "      <th>product_name</th>\n",
       "    </tr>\n",
       "  </thead>\n",
       "  <tbody>\n",
       "    <tr>\n",
       "      <th>0</th>\n",
       "      <td>2425083</td>\n",
       "      <td>49125</td>\n",
       "      <td>1</td>\n",
       "      <td>2</td>\n",
       "      <td>18</td>\n",
       "      <td>NaN</td>\n",
       "      <td>17</td>\n",
       "      <td>1</td>\n",
       "      <td>0</td>\n",
       "      <td>13</td>\n",
       "      <td>pantry</td>\n",
       "      <td>baking ingredients</td>\n",
       "    </tr>\n",
       "    <tr>\n",
       "      <th>1</th>\n",
       "      <td>2425083</td>\n",
       "      <td>49125</td>\n",
       "      <td>1</td>\n",
       "      <td>2</td>\n",
       "      <td>18</td>\n",
       "      <td>NaN</td>\n",
       "      <td>91</td>\n",
       "      <td>2</td>\n",
       "      <td>0</td>\n",
       "      <td>16</td>\n",
       "      <td>dairy eggs</td>\n",
       "      <td>soy lactosefree</td>\n",
       "    </tr>\n",
       "    <tr>\n",
       "      <th>2</th>\n",
       "      <td>2425083</td>\n",
       "      <td>49125</td>\n",
       "      <td>1</td>\n",
       "      <td>2</td>\n",
       "      <td>18</td>\n",
       "      <td>NaN</td>\n",
       "      <td>36</td>\n",
       "      <td>3</td>\n",
       "      <td>0</td>\n",
       "      <td>16</td>\n",
       "      <td>dairy eggs</td>\n",
       "      <td>butter</td>\n",
       "    </tr>\n",
       "    <tr>\n",
       "      <th>3</th>\n",
       "      <td>2425083</td>\n",
       "      <td>49125</td>\n",
       "      <td>1</td>\n",
       "      <td>2</td>\n",
       "      <td>18</td>\n",
       "      <td>NaN</td>\n",
       "      <td>83</td>\n",
       "      <td>4</td>\n",
       "      <td>0</td>\n",
       "      <td>4</td>\n",
       "      <td>produce</td>\n",
       "      <td>fresh vegetables</td>\n",
       "    </tr>\n",
       "    <tr>\n",
       "      <th>4</th>\n",
       "      <td>2425083</td>\n",
       "      <td>49125</td>\n",
       "      <td>1</td>\n",
       "      <td>2</td>\n",
       "      <td>18</td>\n",
       "      <td>NaN</td>\n",
       "      <td>83</td>\n",
       "      <td>5</td>\n",
       "      <td>0</td>\n",
       "      <td>4</td>\n",
       "      <td>produce</td>\n",
       "      <td>fresh vegetables</td>\n",
       "    </tr>\n",
       "  </tbody>\n",
       "</table>\n",
       "</div>"
      ],
      "text/plain": [
       "   order_id  user_id  order_number  order_dow  order_hour_of_day  \\\n",
       "0   2425083    49125             1          2                 18   \n",
       "1   2425083    49125             1          2                 18   \n",
       "2   2425083    49125             1          2                 18   \n",
       "3   2425083    49125             1          2                 18   \n",
       "4   2425083    49125             1          2                 18   \n",
       "\n",
       "   days_since_prior_order  product_id  add_to_cart_order  reordered  \\\n",
       "0                     NaN          17                  1          0   \n",
       "1                     NaN          91                  2          0   \n",
       "2                     NaN          36                  3          0   \n",
       "3                     NaN          83                  4          0   \n",
       "4                     NaN          83                  5          0   \n",
       "\n",
       "   department_id  department        product_name  \n",
       "0             13      pantry  baking ingredients  \n",
       "1             16  dairy eggs     soy lactosefree  \n",
       "2             16  dairy eggs              butter  \n",
       "3              4     produce    fresh vegetables  \n",
       "4              4     produce    fresh vegetables  "
      ]
     },
     "execution_count": 94,
     "metadata": {},
     "output_type": "execute_result"
    }
   ],
   "source": [
    "data = pd.read_csv(\"ECommerce_consumer behaviour.csv\")\n",
    "data.head()"
   ]
  },
  {
   "cell_type": "code",
   "execution_count": null,
   "metadata": {
    "id": "eXqYSxMpeh0n",
    "outputId": "5270849d-f562-4317-d7bc-cb7298dacf0e"
   },
   "outputs": [
    {
     "data": {
      "text/plain": [
       "(2019501, 12)"
      ]
     },
     "execution_count": 95,
     "metadata": {},
     "output_type": "execute_result"
    }
   ],
   "source": [
    "data.shape"
   ]
  },
  {
   "cell_type": "code",
   "execution_count": null,
   "metadata": {
    "id": "Ha9jpZD-eh0n",
    "outputId": "c8d0d027-d370-480a-a16a-73a458c02816"
   },
   "outputs": [
    {
     "name": "stdout",
     "output_type": "stream",
     "text": [
      "<class 'pandas.core.frame.DataFrame'>\n",
      "RangeIndex: 2019501 entries, 0 to 2019500\n",
      "Data columns (total 12 columns):\n",
      " #   Column                  Dtype  \n",
      "---  ------                  -----  \n",
      " 0   order_id                int64  \n",
      " 1   user_id                 int64  \n",
      " 2   order_number            int64  \n",
      " 3   order_dow               int64  \n",
      " 4   order_hour_of_day       int64  \n",
      " 5   days_since_prior_order  float64\n",
      " 6   product_id              int64  \n",
      " 7   add_to_cart_order       int64  \n",
      " 8   reordered               int64  \n",
      " 9   department_id           int64  \n",
      " 10  department              object \n",
      " 11  product_name            object \n",
      "dtypes: float64(1), int64(9), object(2)\n",
      "memory usage: 184.9+ MB\n"
     ]
    }
   ],
   "source": [
    "data.info()"
   ]
  },
  {
   "cell_type": "code",
   "execution_count": null,
   "metadata": {
    "id": "swfdhm1oeh0o",
    "outputId": "f9c766b0-7113-4f1c-b72b-a2cfe30fbe0a"
   },
   "outputs": [
    {
     "data": {
      "text/plain": [
       "order_id                       0\n",
       "user_id                        0\n",
       "order_number                   0\n",
       "order_dow                      0\n",
       "order_hour_of_day              0\n",
       "days_since_prior_order    124342\n",
       "product_id                     0\n",
       "add_to_cart_order              0\n",
       "reordered                      0\n",
       "department_id                  0\n",
       "department                     0\n",
       "product_name                   0\n",
       "dtype: int64"
      ]
     },
     "execution_count": 97,
     "metadata": {},
     "output_type": "execute_result"
    }
   ],
   "source": [
    "data.isna().sum()"
   ]
  },
  {
   "cell_type": "code",
   "execution_count": null,
   "metadata": {
    "id": "U056JHbheh0o",
    "outputId": "6a01ade1-5051-4c43-aa93-e69b91bc55d7"
   },
   "outputs": [
    {
     "data": {
      "text/plain": [
       "order_id                  200000\n",
       "user_id                   105273\n",
       "order_number                 100\n",
       "order_dow                      7\n",
       "order_hour_of_day             24\n",
       "days_since_prior_order        31\n",
       "product_id                   134\n",
       "add_to_cart_order            137\n",
       "reordered                      2\n",
       "department_id                 21\n",
       "department                    21\n",
       "product_name                 134\n",
       "dtype: int64"
      ]
     },
     "execution_count": 98,
     "metadata": {},
     "output_type": "execute_result"
    }
   ],
   "source": [
    "data.nunique()"
   ]
  },
  {
   "cell_type": "code",
   "execution_count": null,
   "metadata": {
    "id": "-iV5afEleh0o"
   },
   "outputs": [],
   "source": [
    "# data['days_since_prior_order'].value_counts(dropna=True)"
   ]
  },
  {
   "cell_type": "code",
   "execution_count": null,
   "metadata": {
    "id": "50u8kODReh0p",
    "outputId": "288683d7-c775-4006-dcb5-3943519ddd3f"
   },
   "outputs": [
    {
     "data": {
      "text/plain": [
       "array([nan,  3.,  6.,  7., 30., 20.,  4.,  8., 15., 10., 28.,  9., 12.,\n",
       "       11.,  2., 25., 13., 29., 14., 21.,  5.,  1., 18.,  0., 19., 17.,\n",
       "       22., 26., 24., 16., 23., 27.])"
      ]
     },
     "execution_count": 100,
     "metadata": {},
     "output_type": "execute_result"
    }
   ],
   "source": [
    "data[\"days_since_prior_order\"].unique()"
   ]
  },
  {
   "cell_type": "code",
   "execution_count": null,
   "metadata": {
    "id": "Cob56NB8eh0p",
    "outputId": "e935ef87-db62-4486-a0ad-a48f89e12596"
   },
   "outputs": [
    {
     "data": {
      "text/plain": [
       "array(['pantry', 'dairy eggs', 'produce', 'canned goods', 'meat seafood',\n",
       "       'frozen', 'bakery', 'beverages', 'breakfast', 'snacks',\n",
       "       'international', 'household', 'personal care', 'babies', 'deli',\n",
       "       'dry goods pasta', 'missing', 'alcohol', 'pets', 'bulk', 'other'],\n",
       "      dtype=object)"
      ]
     },
     "execution_count": 101,
     "metadata": {},
     "output_type": "execute_result"
    }
   ],
   "source": [
    "data[\"department\"].unique()"
   ]
  },
  {
   "cell_type": "code",
   "execution_count": null,
   "metadata": {
    "id": "onDAUZCTeh0q",
    "outputId": "e3f6c0b9-5852-4014-c616-343faa1e03e1"
   },
   "outputs": [
    {
     "data": {
      "text/plain": [
       "product_name\n",
       "fresh fruits                     226039\n",
       "fresh vegetables                 212611\n",
       "packaged vegetables fruits       109596\n",
       "yogurt                            90751\n",
       "packaged cheese                   61502\n",
       "milk                              55150\n",
       "water seltzer sparkling water     52564\n",
       "chips pretzels                    45306\n",
       "soy lactosefree                   39389\n",
       "bread                             36381\n",
       "Name: count, dtype: int64"
      ]
     },
     "execution_count": 102,
     "metadata": {},
     "output_type": "execute_result"
    }
   ],
   "source": [
    "data[\"product_name\"].value_counts().head(10)"
   ]
  },
  {
   "cell_type": "code",
   "execution_count": null,
   "metadata": {
    "id": "4-9515m8eh0q"
   },
   "outputs": [],
   "source": [
    "data[\"days_since_prior_order\"] = data[\"days_since_prior_order\"].fillna(-1).astype(int)"
   ]
  },
  {
   "cell_type": "code",
   "execution_count": null,
   "metadata": {
    "id": "N3_6v0Treh0r",
    "outputId": "4ecacefa-7925-4d3b-8ea2-8a305c97c927"
   },
   "outputs": [
    {
     "data": {
      "text/plain": [
       "<Axes: >"
      ]
     },
     "execution_count": 104,
     "metadata": {},
     "output_type": "execute_result"
    },
    {
     "data": {
      "image/png": "[encoded data removed]",
      "text/plain": [
       "<Figure size 1200x800 with 2 Axes>"
      ]
     },
     "metadata": {},
     "output_type": "display_data"
    }
   ],
   "source": [
    "plt.figure(figsize=(12, 8))\n",
    "sns.heatmap(data.drop([\"department\", \"product_name\"], axis=1).corr(), annot=True)"
   ]
  },
  {
   "cell_type": "code",
   "execution_count": null,
   "metadata": {
    "id": "wm1YzBwjeh0r"
   },
   "outputs": [],
   "source": [
    "# data.groupby('order_id')['reordered'].agg(['count']).sort_values(by='count',ascending=False).plot(kind='pie',autopct='%1.2f%%',subplots=True,title='Number of order took place',figsize=(9,9))\n"
   ]
  },
  {
   "cell_type": "code",
   "execution_count": null,
   "metadata": {
    "id": "PPDfVHBjeh0r",
    "outputId": "a48c8239-5207-4715-8fb0-bc9191f06994"
   },
   "outputs": [
    {
     "data": {
      "application/vnd.plotly.v1+json": {
       "config": {
        "plotlyServerURL": "https://plot.ly"
       },
       "data": [
        {
         "domain": {
          "x": [
           0,
           1
          ],
          "y": [
           0,
           1
          ]
         },
         "hovertemplate": "reordered=%{label}<br>count=%{value}<extra></extra>",
         "labels": [
          0,
          1
         ],
         "legendgroup": "",
         "name": "",
         "showlegend": true,
         "type": "pie",
         "values": [
          828515,
          1190986
         ]
        }
       ],
       "layout": {
        "legend": {
         "tracegroupgap": 0
        },
        "template": {
         "data": {
          "bar": [
           {
            "error_x": {
             "color": "#2a3f5f"
            },
            "error_y": {
             "color": "#2a3f5f"
            },
            "marker": {
             "line": {
              "color": "#E5ECF6",
              "width": 0.5
             },
             "pattern": {
              "fillmode": "overlay",
              "size": 10,
              "solidity": 0.2
             }
            },
            "type": "bar"
           }
          ],
          "barpolar": [
           {
            "marker": {
             "line": {
              "color": "#E5ECF6",
              "width": 0.5
             },
             "pattern": {
              "fillmode": "overlay",
              "size": 10,
              "solidity": 0.2
             }
            },
            "type": "barpolar"
           }
          ],
          "carpet": [
           {
            "aaxis": {
             "endlinecolor": "#2a3f5f",
             "gridcolor": "white",
             "linecolor": "white",
             "minorgridcolor": "white",
             "startlinecolor": "#2a3f5f"
            },
            "baxis": {
             "endlinecolor": "#2a3f5f",
             "gridcolor": "white",
             "linecolor": "white",
             "minorgridcolor": "white",
             "startlinecolor": "#2a3f5f"
            },
            "type": "carpet"
           }
          ],
          "choropleth": [
           {
            "colorbar": {
             "outlinewidth": 0,
             "ticks": ""
            },
            "type": "choropleth"
           }
          ],
          "contour": [
           {
            "colorbar": {
             "outlinewidth": 0,
             "ticks": ""
            },
            "colorscale": [
             [
              0,
              "#0d0887"
             ],
             [
              0.1111111111111111,
              "#46039f"
             ],
             [
              0.2222222222222222,
              "#7201a8"
             ],
             [
              0.3333333333333333,
              "#9c179e"
             ],
             [
              0.4444444444444444,
              "#bd3786"
             ],
             [
              0.5555555555555556,
              "#d8576b"
             ],
             [
              0.6666666666666666,
              "#ed7953"
             ],
             [
              0.7777777777777778,
              "#fb9f3a"
             ],
             [
              0.8888888888888888,
              "#fdca26"
             ],
             [
              1,
              "#f0f921"
             ]
            ],
            "type": "contour"
           }
          ],
          "contourcarpet": [
           {
            "colorbar": {
             "outlinewidth": 0,
             "ticks": ""
            },
            "type": "contourcarpet"
           }
          ],
          "heatmap": [
           {
            "colorbar": {
             "outlinewidth": 0,
             "ticks": ""
            },
            "colorscale": [
             [
              0,
              "#0d0887"
             ],
             [
              0.1111111111111111,
              "#46039f"
             ],
             [
              0.2222222222222222,
              "#7201a8"
             ],
             [
              0.3333333333333333,
              "#9c179e"
             ],
             [
              0.4444444444444444,
              "#bd3786"
             ],
             [
              0.5555555555555556,
              "#d8576b"
             ],
             [
              0.6666666666666666,
              "#ed7953"
             ],
             [
              0.7777777777777778,
              "#fb9f3a"
             ],
             [
              0.8888888888888888,
              "#fdca26"
             ],
             [
              1,
              "#f0f921"
             ]
            ],
            "type": "heatmap"
           }
          ],
          "heatmapgl": [
           {
            "colorbar": {
             "outlinewidth": 0,
             "ticks": ""
            },
            "colorscale": [
             [
              0,
              "#0d0887"
             ],
             [
              0.1111111111111111,
              "#46039f"
             ],
             [
              0.2222222222222222,
              "#7201a8"
             ],
             [
              0.3333333333333333,
              "#9c179e"
             ],
             [
              0.4444444444444444,
              "#bd3786"
             ],
             [
              0.5555555555555556,
              "#d8576b"
             ],
             [
              0.6666666666666666,
              "#ed7953"
             ],
             [
              0.7777777777777778,
              "#fb9f3a"
             ],
             [
              0.8888888888888888,
              "#fdca26"
             ],
             [
              1,
              "#f0f921"
             ]
            ],
            "type": "heatmapgl"
           }
          ],
          "histogram": [
           {
            "marker": {
             "pattern": {
              "fillmode": "overlay",
              "size": 10,
              "solidity": 0.2
             }
            },
            "type": "histogram"
           }
          ],
          "histogram2d": [
           {
            "colorbar": {
             "outlinewidth": 0,
             "ticks": ""
            },
            "colorscale": [
             [
              0,
              "#0d0887"
             ],
             [
              0.1111111111111111,
              "#46039f"
             ],
             [
              0.2222222222222222,
              "#7201a8"
             ],
             [
              0.3333333333333333,
              "#9c179e"
             ],
             [
              0.4444444444444444,
              "#bd3786"
             ],
             [
              0.5555555555555556,
              "#d8576b"
             ],
             [
              0.6666666666666666,
              "#ed7953"
             ],
             [
              0.7777777777777778,
              "#fb9f3a"
             ],
             [
              0.8888888888888888,
              "#fdca26"
             ],
             [
              1,
              "#f0f921"
             ]
            ],
            "type": "histogram2d"
           }
          ],
          "histogram2dcontour": [
           {
            "colorbar": {
             "outlinewidth": 0,
             "ticks": ""
            },
            "colorscale": [
             [
              0,
              "#0d0887"
             ],
             [
              0.1111111111111111,
              "#46039f"
             ],
             [
              0.2222222222222222,
              "#7201a8"
             ],
             [
              0.3333333333333333,
              "#9c179e"
             ],
             [
              0.4444444444444444,
              "#bd3786"
             ],
             [
              0.5555555555555556,
              "#d8576b"
             ],
             [
              0.6666666666666666,
              "#ed7953"
             ],
             [
              0.7777777777777778,
              "#fb9f3a"
             ],
             [
              0.8888888888888888,
              "#fdca26"
             ],
             [
              1,
              "#f0f921"
             ]
            ],
            "type": "histogram2dcontour"
           }
          ],
          "mesh3d": [
           {
            "colorbar": {
             "outlinewidth": 0,
             "ticks": ""
            },
            "type": "mesh3d"
           }
          ],
          "parcoords": [
           {
            "line": {
             "colorbar": {
              "outlinewidth": 0,
              "ticks": ""
             }
            },
            "type": "parcoords"
           }
          ],
          "pie": [
           {
            "automargin": true,
            "type": "pie"
           }
          ],
          "scatter": [
           {
            "fillpattern": {
             "fillmode": "overlay",
             "size": 10,
             "solidity": 0.2
            },
            "type": "scatter"
           }
          ],
          "scatter3d": [
           {
            "line": {
             "colorbar": {
              "outlinewidth": 0,
              "ticks": ""
             }
            },
            "marker": {
             "colorbar": {
              "outlinewidth": 0,
              "ticks": ""
             }
            },
            "type": "scatter3d"
           }
          ],
          "scattercarpet": [
           {
            "marker": {
             "colorbar": {
              "outlinewidth": 0,
              "ticks": ""
             }
            },
            "type": "scattercarpet"
           }
          ],
          "scattergeo": [
           {
            "marker": {
             "colorbar": {
              "outlinewidth": 0,
              "ticks": ""
             }
            },
            "type": "scattergeo"
           }
          ],
          "scattergl": [
           {
            "marker": {
             "colorbar": {
              "outlinewidth": 0,
              "ticks": ""
             }
            },
            "type": "scattergl"
           }
          ],
          "scattermapbox": [
           {
            "marker": {
             "colorbar": {
              "outlinewidth": 0,
              "ticks": ""
             }
            },
            "type": "scattermapbox"
           }
          ],
          "scatterpolar": [
           {
            "marker": {
             "colorbar": {
              "outlinewidth": 0,
              "ticks": ""
             }
            },
            "type": "scatterpolar"
           }
          ],
          "scatterpolargl": [
           {
            "marker": {
             "colorbar": {
              "outlinewidth": 0,
              "ticks": ""
             }
            },
            "type": "scatterpolargl"
           }
          ],
          "scatterternary": [
           {
            "marker": {
             "colorbar": {
              "outlinewidth": 0,
              "ticks": ""
             }
            },
            "type": "scatterternary"
           }
          ],
          "surface": [
           {
            "colorbar": {
             "outlinewidth": 0,
             "ticks": ""
            },
            "colorscale": [
             [
              0,
              "#0d0887"
             ],
             [
              0.1111111111111111,
              "#46039f"
             ],
             [
              0.2222222222222222,
              "#7201a8"
             ],
             [
              0.3333333333333333,
              "#9c179e"
             ],
             [
              0.4444444444444444,
              "#bd3786"
             ],
             [
              0.5555555555555556,
              "#d8576b"
             ],
             [
              0.6666666666666666,
              "#ed7953"
             ],
             [
              0.7777777777777778,
              "#fb9f3a"
             ],
             [
              0.8888888888888888,
              "#fdca26"
             ],
             [
              1,
              "#f0f921"
             ]
            ],
            "type": "surface"
           }
          ],
          "table": [
           {
            "cells": {
             "fill": {
              "color": "#EBF0F8"
             },
             "line": {
              "color": "white"
             }
            },
            "header": {
             "fill": {
              "color": "#C8D4E3"
             },
             "line": {
              "color": "white"
             }
            },
            "type": "table"
           }
          ]
         },
         "layout": {
          "annotationdefaults": {
           "arrowcolor": "#2a3f5f",
           "arrowhead": 0,
           "arrowwidth": 1
          },
          "autotypenumbers": "strict",
          "coloraxis": {
           "colorbar": {
            "outlinewidth": 0,
            "ticks": ""
           }
          },
          "colorscale": {
           "diverging": [
            [
             0,
             "#8e0152"
            ],
            [
             0.1,
             "#c51b7d"
            ],
            [
             0.2,
             "#de77ae"
            ],
            [
             0.3,
             "#f1b6da"
            ],
            [
             0.4,
             "#fde0ef"
            ],
            [
             0.5,
             "#f7f7f7"
            ],
            [
             0.6,
             "#e6f5d0"
            ],
            [
             0.7,
             "#b8e186"
            ],
            [
             0.8,
             "#7fbc41"
            ],
            [
             0.9,
             "#4d9221"
            ],
            [
             1,
             "#276419"
            ]
           ],
           "sequential": [
            [
             0,
             "#0d0887"
            ],
            [
             0.1111111111111111,
             "#46039f"
            ],
            [
             0.2222222222222222,
             "#7201a8"
            ],
            [
             0.3333333333333333,
             "#9c179e"
            ],
            [
             0.4444444444444444,
             "#bd3786"
            ],
            [
             0.5555555555555556,
             "#d8576b"
            ],
            [
             0.6666666666666666,
             "#ed7953"
            ],
            [
             0.7777777777777778,
             "#fb9f3a"
            ],
            [
             0.8888888888888888,
             "#fdca26"
            ],
            [
             1,
             "#f0f921"
            ]
           ],
           "sequentialminus": [
            [
             0,
             "#0d0887"
            ],
            [
             0.1111111111111111,
             "#46039f"
            ],
            [
             0.2222222222222222,
             "#7201a8"
            ],
            [
             0.3333333333333333,
             "#9c179e"
            ],
            [
             0.4444444444444444,
             "#bd3786"
            ],
            [
             0.5555555555555556,
             "#d8576b"
            ],
            [
             0.6666666666666666,
             "#ed7953"
            ],
            [
             0.7777777777777778,
             "#fb9f3a"
            ],
            [
             0.8888888888888888,
             "#fdca26"
            ],
            [
             1,
             "#f0f921"
            ]
           ]
          },
          "colorway": [
           "#636efa",
           "#EF553B",
           "#00cc96",
           "#ab63fa",
           "#FFA15A",
           "#19d3f3",
           "#FF6692",
           "#B6E880",
           "#FF97FF",
           "#FECB52"
          ],
          "font": {
           "color": "#2a3f5f"
          },
          "geo": {
           "bgcolor": "white",
           "lakecolor": "white",
           "landcolor": "#E5ECF6",
           "showlakes": true,
           "showland": true,
           "subunitcolor": "white"
          },
          "hoverlabel": {
           "align": "left"
          },
          "hovermode": "closest",
          "mapbox": {
           "style": "light"
          },
          "paper_bgcolor": "white",
          "plot_bgcolor": "#E5ECF6",
          "polar": {
           "angularaxis": {
            "gridcolor": "white",
            "linecolor": "white",
            "ticks": ""
           },
           "bgcolor": "#E5ECF6",
           "radialaxis": {
            "gridcolor": "white",
            "linecolor": "white",
            "ticks": ""
           }
          },
          "scene": {
           "xaxis": {
            "backgroundcolor": "#E5ECF6",
            "gridcolor": "white",
            "gridwidth": 2,
            "linecolor": "white",
            "showbackground": true,
            "ticks": "",
            "zerolinecolor": "white"
           },
           "yaxis": {
            "backgroundcolor": "#E5ECF6",
            "gridcolor": "white",
            "gridwidth": 2,
            "linecolor": "white",
            "showbackground": true,
            "ticks": "",
            "zerolinecolor": "white"
           },
           "zaxis": {
            "backgroundcolor": "#E5ECF6",
            "gridcolor": "white",
            "gridwidth": 2,
            "linecolor": "white",
            "showbackground": true,
            "ticks": "",
            "zerolinecolor": "white"
           }
          },
          "shapedefaults": {
           "line": {
            "color": "#2a3f5f"
           }
          },
          "ternary": {
           "aaxis": {
            "gridcolor": "white",
            "linecolor": "white",
            "ticks": ""
           },
           "baxis": {
            "gridcolor": "white",
            "linecolor": "white",
            "ticks": ""
           },
           "bgcolor": "#E5ECF6",
           "caxis": {
            "gridcolor": "white",
            "linecolor": "white",
            "ticks": ""
           }
          },
          "title": {
           "x": 0.05
          },
          "xaxis": {
           "automargin": true,
           "gridcolor": "white",
           "linecolor": "white",
           "ticks": "",
           "title": {
            "standoff": 15
           },
           "zerolinecolor": "white",
           "zerolinewidth": 2
          },
          "yaxis": {
           "automargin": true,
           "gridcolor": "white",
           "linecolor": "white",
           "ticks": "",
           "title": {
            "standoff": 15
           },
           "zerolinecolor": "white",
           "zerolinewidth": 2
          }
         }
        },
        "title": {
         "text": "The Number Reorder take place by Users"
        }
       }
      }
     },
     "metadata": {},
     "output_type": "display_data"
    }
   ],
   "source": [
    "# The number of order take place\n",
    "order_place = data.groupby(\"reordered\")[\"user_id\"].agg([\"count\"]).reset_index()\n",
    "fig = ex.pie(\n",
    "    order_place,\n",
    "    values=\"count\",\n",
    "    names=\"reordered\",\n",
    "    title=\"The Number Reorder take place by Users\",\n",
    ")\n",
    "fig.show()"
   ]
  },
  {
   "cell_type": "code",
   "execution_count": null,
   "metadata": {
    "id": "48HuBIM9eh0s",
    "outputId": "0db56a35-d3d6-4569-84f5-b3b99d6d583d"
   },
   "outputs": [
    {
     "data": {
      "text/plain": [
       "Index(['order_id', 'user_id', 'order_number', 'order_dow', 'order_hour_of_day',\n",
       "       'days_since_prior_order', 'product_id', 'add_to_cart_order',\n",
       "       'reordered', 'department_id', 'department', 'product_name'],\n",
       "      dtype='object')"
      ]
     },
     "execution_count": 107,
     "metadata": {},
     "output_type": "execute_result"
    }
   ],
   "source": [
    "data.columns"
   ]
  },
  {
   "cell_type": "code",
   "execution_count": null,
   "metadata": {
    "id": "5l4o6LzUeh0t",
    "outputId": "eca1dd4c-1199-4c6f-8545-a99be8019526"
   },
   "outputs": [
    {
     "data": {
      "text/plain": [
       "array([  1,  14,  81,   3,  11,   5,  12,  78,   2,  10,  13,   8,   6,\n",
       "         4,  23,  59,  25,  36,  19,   7,  63,  51,  28,   9,  18,  27,\n",
       "        61,  30,  91,  46,  21,  42,  16,  41,  62,  32,  52,  20,  56,\n",
       "        15,  68,  33,  50,  38,  17,  55,  44,  26,  72,  67,  29,  45,\n",
       "        58,  43,  34,  66,  35,  47,  53,  48,  24,  31,  77,  22,  57,\n",
       "        93,  86,  80,  40,  39,  82,  74,  49,  37,  71,  69,  70,  60,\n",
       "       100,  96,  75,  87,  90,  54,  98,  65,  76,  83,  84,  79,  92,\n",
       "        97,  64,  73,  95,  88,  85,  89,  99,  94], dtype=int64)"
      ]
     },
     "execution_count": 108,
     "metadata": {},
     "output_type": "execute_result"
    }
   ],
   "source": [
    "data.order_number.unique()"
   ]
  },
  {
   "cell_type": "code",
   "execution_count": null,
   "metadata": {
    "id": "pHSmO6Beeh0u",
    "outputId": "e94e381e-7489-46e7-cef1-4cdd83b93a14"
   },
   "outputs": [
    {
     "data": {
      "text/html": [
       "<div>\n",
       "<style scoped>\n",
       "    .dataframe tbody tr th:only-of-type {\n",
       "        vertical-align: middle;\n",
       "    }\n",
       "\n",
       "    .dataframe tbody tr th {\n",
       "        vertical-align: top;\n",
       "    }\n",
       "\n",
       "    .dataframe thead th {\n",
       "        text-align: right;\n",
       "    }\n",
       "</style>\n",
       "<table border=\"1\" class=\"dataframe\">\n",
       "  <thead>\n",
       "    <tr style=\"text-align: right;\">\n",
       "      <th></th>\n",
       "      <th>count</th>\n",
       "    </tr>\n",
       "    <tr>\n",
       "      <th>order_number</th>\n",
       "      <th></th>\n",
       "    </tr>\n",
       "  </thead>\n",
       "  <tbody>\n",
       "    <tr>\n",
       "      <th>1</th>\n",
       "      <td>124342</td>\n",
       "    </tr>\n",
       "    <tr>\n",
       "      <th>2</th>\n",
       "      <td>122397</td>\n",
       "    </tr>\n",
       "    <tr>\n",
       "      <th>3</th>\n",
       "      <td>120627</td>\n",
       "    </tr>\n",
       "    <tr>\n",
       "      <th>4</th>\n",
       "      <td>118573</td>\n",
       "    </tr>\n",
       "    <tr>\n",
       "      <th>5</th>\n",
       "      <td>105482</td>\n",
       "    </tr>\n",
       "    <tr>\n",
       "      <th>...</th>\n",
       "      <td>...</td>\n",
       "    </tr>\n",
       "    <tr>\n",
       "      <th>96</th>\n",
       "      <td>1051</td>\n",
       "    </tr>\n",
       "    <tr>\n",
       "      <th>97</th>\n",
       "      <td>834</td>\n",
       "    </tr>\n",
       "    <tr>\n",
       "      <th>98</th>\n",
       "      <td>964</td>\n",
       "    </tr>\n",
       "    <tr>\n",
       "      <th>99</th>\n",
       "      <td>716</td>\n",
       "    </tr>\n",
       "    <tr>\n",
       "      <th>100</th>\n",
       "      <td>493</td>\n",
       "    </tr>\n",
       "  </tbody>\n",
       "</table>\n",
       "<p>100 rows × 1 columns</p>\n",
       "</div>"
      ],
      "text/plain": [
       "               count\n",
       "order_number        \n",
       "1             124342\n",
       "2             122397\n",
       "3             120627\n",
       "4             118573\n",
       "5             105482\n",
       "...              ...\n",
       "96              1051\n",
       "97               834\n",
       "98               964\n",
       "99               716\n",
       "100              493\n",
       "\n",
       "[100 rows x 1 columns]"
      ]
     },
     "execution_count": 109,
     "metadata": {},
     "output_type": "execute_result"
    }
   ],
   "source": [
    "data.groupby(\"order_number\")[\"user_id\"].agg([\"count\"])"
   ]
  },
  {
   "cell_type": "code",
   "execution_count": null,
   "metadata": {
    "id": "DXD0_9c2eh0u"
   },
   "outputs": [],
   "source": [
    "def order_group(x):\n",
    "    if x <= 20:\n",
    "        x = \"1-20 orders\"\n",
    "    elif x > 20 and x < 40:\n",
    "        x = \"21-40 orders\"\n",
    "    elif x < 60:\n",
    "        x = \"41-60 orders\"\n",
    "    else:\n",
    "        x = \"81-100 orders\"\n",
    "    return x"
   ]
  },
  {
   "cell_type": "code",
   "execution_count": null,
   "metadata": {
    "id": "8W-w3zg6eh0v"
   },
   "outputs": [],
   "source": [
    "data[\"order_number_group\"] = data[\"order_number\"].apply(order_group)"
   ]
  },
  {
   "cell_type": "code",
   "execution_count": null,
   "metadata": {
    "id": "kgsIhI7Teh0v",
    "outputId": "efa0b000-771a-435c-e85a-ad6120b69f21"
   },
   "outputs": [
    {
     "data": {
      "text/plain": [
       "order_number_group\n",
       "1-20 orders      1426484\n",
       "21-40 orders      369280\n",
       "41-60 orders      146541\n",
       "81-100 orders      77196\n",
       "Name: count, dtype: int64"
      ]
     },
     "execution_count": 112,
     "metadata": {},
     "output_type": "execute_result"
    }
   ],
   "source": [
    "data[\"order_number_group\"].value_counts()"
   ]
  },
  {
   "cell_type": "code",
   "execution_count": null,
   "metadata": {
    "id": "-KLTuDrYeh0w",
    "outputId": "44d279ca-1fa6-4cce-f606-19844f22a029"
   },
   "outputs": [
    {
     "data": {
      "application/vnd.plotly.v1+json": {
       "config": {
        "plotlyServerURL": "https://plot.ly"
       },
       "data": [
        {
         "domain": {
          "x": [
           0,
           1
          ],
          "y": [
           0,
           1
          ]
         },
         "hovertemplate": "order_number_group=%{label}<br>count=%{value}<extra></extra>",
         "labels": [
          "1-20 orders",
          "21-40 orders",
          "41-60 orders",
          "81-100 orders"
         ],
         "legendgroup": "",
         "name": "",
         "showlegend": true,
         "type": "pie",
         "values": [
          1426484,
          369280,
          146541,
          77196
         ]
        }
       ],
       "layout": {
        "legend": {
         "tracegroupgap": 0
        },
        "margin": {
         "t": 60
        },
        "template": {
         "data": {
          "bar": [
           {
            "error_x": {
             "color": "#2a3f5f"
            },
            "error_y": {
             "color": "#2a3f5f"
            },
            "marker": {
             "line": {
              "color": "#E5ECF6",
              "width": 0.5
             },
             "pattern": {
              "fillmode": "overlay",
              "size": 10,
              "solidity": 0.2
             }
            },
            "type": "bar"
           }
          ],
          "barpolar": [
           {
            "marker": {
             "line": {
              "color": "#E5ECF6",
              "width": 0.5
             },
             "pattern": {
              "fillmode": "overlay",
              "size": 10,
              "solidity": 0.2
             }
            },
            "type": "barpolar"
           }
          ],
          "carpet": [
           {
            "aaxis": {
             "endlinecolor": "#2a3f5f",
             "gridcolor": "white",
             "linecolor": "white",
             "minorgridcolor": "white",
             "startlinecolor": "#2a3f5f"
            },
            "baxis": {
             "endlinecolor": "#2a3f5f",
             "gridcolor": "white",
             "linecolor": "white",
             "minorgridcolor": "white",
             "startlinecolor": "#2a3f5f"
            },
            "type": "carpet"
           }
          ],
          "choropleth": [
           {
            "colorbar": {
             "outlinewidth": 0,
             "ticks": ""
            },
            "type": "choropleth"
           }
          ],
          "contour": [
           {
            "colorbar": {
             "outlinewidth": 0,
             "ticks": ""
            },
            "colorscale": [
             [
              0,
              "#0d0887"
             ],
             [
              0.1111111111111111,
              "#46039f"
             ],
             [
              0.2222222222222222,
              "#7201a8"
             ],
             [
              0.3333333333333333,
              "#9c179e"
             ],
             [
              0.4444444444444444,
              "#bd3786"
             ],
             [
              0.5555555555555556,
              "#d8576b"
             ],
             [
              0.6666666666666666,
              "#ed7953"
             ],
             [
              0.7777777777777778,
              "#fb9f3a"
             ],
             [
              0.8888888888888888,
              "#fdca26"
             ],
             [
              1,
              "#f0f921"
             ]
            ],
            "type": "contour"
           }
          ],
          "contourcarpet": [
           {
            "colorbar": {
             "outlinewidth": 0,
             "ticks": ""
            },
            "type": "contourcarpet"
           }
          ],
          "heatmap": [
           {
            "colorbar": {
             "outlinewidth": 0,
             "ticks": ""
            },
            "colorscale": [
             [
              0,
              "#0d0887"
             ],
             [
              0.1111111111111111,
              "#46039f"
             ],
             [
              0.2222222222222222,
              "#7201a8"
             ],
             [
              0.3333333333333333,
              "#9c179e"
             ],
             [
              0.4444444444444444,
              "#bd3786"
             ],
             [
              0.5555555555555556,
              "#d8576b"
             ],
             [
              0.6666666666666666,
              "#ed7953"
             ],
             [
              0.7777777777777778,
              "#fb9f3a"
             ],
             [
              0.8888888888888888,
              "#fdca26"
             ],
             [
              1,
              "#f0f921"
             ]
            ],
            "type": "heatmap"
           }
          ],
          "heatmapgl": [
           {
            "colorbar": {
             "outlinewidth": 0,
             "ticks": ""
            },
            "colorscale": [
             [
              0,
              "#0d0887"
             ],
             [
              0.1111111111111111,
              "#46039f"
             ],
             [
              0.2222222222222222,
              "#7201a8"
             ],
             [
              0.3333333333333333,
              "#9c179e"
             ],
             [
              0.4444444444444444,
              "#bd3786"
             ],
             [
              0.5555555555555556,
              "#d8576b"
             ],
             [
              0.6666666666666666,
              "#ed7953"
             ],
             [
              0.7777777777777778,
              "#fb9f3a"
             ],
             [
              0.8888888888888888,
              "#fdca26"
             ],
             [
              1,
              "#f0f921"
             ]
            ],
            "type": "heatmapgl"
           }
          ],
          "histogram": [
           {
            "marker": {
             "pattern": {
              "fillmode": "overlay",
              "size": 10,
              "solidity": 0.2
             }
            },
            "type": "histogram"
           }
          ],
          "histogram2d": [
           {
            "colorbar": {
             "outlinewidth": 0,
             "ticks": ""
            },
            "colorscale": [
             [
              0,
              "#0d0887"
             ],
             [
              0.1111111111111111,
              "#46039f"
             ],
             [
              0.2222222222222222,
              "#7201a8"
             ],
             [
              0.3333333333333333,
              "#9c179e"
             ],
             [
              0.4444444444444444,
              "#bd3786"
             ],
             [
              0.5555555555555556,
              "#d8576b"
             ],
             [
              0.6666666666666666,
              "#ed7953"
             ],
             [
              0.7777777777777778,
              "#fb9f3a"
             ],
             [
              0.8888888888888888,
              "#fdca26"
             ],
             [
              1,
              "#f0f921"
             ]
            ],
            "type": "histogram2d"
           }
          ],
          "histogram2dcontour": [
           {
            "colorbar": {
             "outlinewidth": 0,
             "ticks": ""
            },
            "colorscale": [
             [
              0,
              "#0d0887"
             ],
             [
              0.1111111111111111,
              "#46039f"
             ],
             [
              0.2222222222222222,
              "#7201a8"
             ],
             [
              0.3333333333333333,
              "#9c179e"
             ],
             [
              0.4444444444444444,
              "#bd3786"
             ],
             [
              0.5555555555555556,
              "#d8576b"
             ],
             [
              0.6666666666666666,
              "#ed7953"
             ],
             [
              0.7777777777777778,
              "#fb9f3a"
             ],
             [
              0.8888888888888888,
              "#fdca26"
             ],
             [
              1,
              "#f0f921"
             ]
            ],
            "type": "histogram2dcontour"
           }
          ],
          "mesh3d": [
           {
            "colorbar": {
             "outlinewidth": 0,
             "ticks": ""
            },
            "type": "mesh3d"
           }
          ],
          "parcoords": [
           {
            "line": {
             "colorbar": {
              "outlinewidth": 0,
              "ticks": ""
             }
            },
            "type": "parcoords"
           }
          ],
          "pie": [
           {
            "automargin": true,
            "type": "pie"
           }
          ],
          "scatter": [
           {
            "fillpattern": {
             "fillmode": "overlay",
             "size": 10,
             "solidity": 0.2
            },
            "type": "scatter"
           }
          ],
          "scatter3d": [
           {
            "line": {
             "colorbar": {
              "outlinewidth": 0,
              "ticks": ""
             }
            },
            "marker": {
             "colorbar": {
              "outlinewidth": 0,
              "ticks": ""
             }
            },
            "type": "scatter3d"
           }
          ],
          "scattercarpet": [
           {
            "marker": {
             "colorbar": {
              "outlinewidth": 0,
              "ticks": ""
             }
            },
            "type": "scattercarpet"
           }
          ],
          "scattergeo": [
           {
            "marker": {
             "colorbar": {
              "outlinewidth": 0,
              "ticks": ""
             }
            },
            "type": "scattergeo"
           }
          ],
          "scattergl": [
           {
            "marker": {
             "colorbar": {
              "outlinewidth": 0,
              "ticks": ""
             }
            },
            "type": "scattergl"
           }
          ],
          "scattermapbox": [
           {
            "marker": {
             "colorbar": {
              "outlinewidth": 0,
              "ticks": ""
             }
            },
            "type": "scattermapbox"
           }
          ],
          "scatterpolar": [
           {
            "marker": {
             "colorbar": {
              "outlinewidth": 0,
              "ticks": ""
             }
            },
            "type": "scatterpolar"
           }
          ],
          "scatterpolargl": [
           {
            "marker": {
             "colorbar": {
              "outlinewidth": 0,
              "ticks": ""
             }
            },
            "type": "scatterpolargl"
           }
          ],
          "scatterternary": [
           {
            "marker": {
             "colorbar": {
              "outlinewidth": 0,
              "ticks": ""
             }
            },
            "type": "scatterternary"
           }
          ],
          "surface": [
           {
            "colorbar": {
             "outlinewidth": 0,
             "ticks": ""
            },
            "colorscale": [
             [
              0,
              "#0d0887"
             ],
             [
              0.1111111111111111,
              "#46039f"
             ],
             [
              0.2222222222222222,
              "#7201a8"
             ],
             [
              0.3333333333333333,
              "#9c179e"
             ],
             [
              0.4444444444444444,
              "#bd3786"
             ],
             [
              0.5555555555555556,
              "#d8576b"
             ],
             [
              0.6666666666666666,
              "#ed7953"
             ],
             [
              0.7777777777777778,
              "#fb9f3a"
             ],
             [
              0.8888888888888888,
              "#fdca26"
             ],
             [
              1,
              "#f0f921"
             ]
            ],
            "type": "surface"
           }
          ],
          "table": [
           {
            "cells": {
             "fill": {
              "color": "#EBF0F8"
             },
             "line": {
              "color": "white"
             }
            },
            "header": {
             "fill": {
              "color": "#C8D4E3"
             },
             "line": {
              "color": "white"
             }
            },
            "type": "table"
           }
          ]
         },
         "layout": {
          "annotationdefaults": {
           "arrowcolor": "#2a3f5f",
           "arrowhead": 0,
           "arrowwidth": 1
          },
          "autotypenumbers": "strict",
          "coloraxis": {
           "colorbar": {
            "outlinewidth": 0,
            "ticks": ""
           }
          },
          "colorscale": {
           "diverging": [
            [
             0,
             "#8e0152"
            ],
            [
             0.1,
             "#c51b7d"
            ],
            [
             0.2,
             "#de77ae"
            ],
            [
             0.3,
             "#f1b6da"
            ],
            [
             0.4,
             "#fde0ef"
            ],
            [
             0.5,
             "#f7f7f7"
            ],
            [
             0.6,
             "#e6f5d0"
            ],
            [
             0.7,
             "#b8e186"
            ],
            [
             0.8,
             "#7fbc41"
            ],
            [
             0.9,
             "#4d9221"
            ],
            [
             1,
             "#276419"
            ]
           ],
           "sequential": [
            [
             0,
             "#0d0887"
            ],
            [
             0.1111111111111111,
             "#46039f"
            ],
            [
             0.2222222222222222,
             "#7201a8"
            ],
            [
             0.3333333333333333,
             "#9c179e"
            ],
            [
             0.4444444444444444,
             "#bd3786"
            ],
            [
             0.5555555555555556,
             "#d8576b"
            ],
            [
             0.6666666666666666,
             "#ed7953"
            ],
            [
             0.7777777777777778,
             "#fb9f3a"
            ],
            [
             0.8888888888888888,
             "#fdca26"
            ],
            [
             1,
             "#f0f921"
            ]
           ],
           "sequentialminus": [
            [
             0,
             "#0d0887"
            ],
            [
             0.1111111111111111,
             "#46039f"
            ],
            [
             0.2222222222222222,
             "#7201a8"
            ],
            [
             0.3333333333333333,
             "#9c179e"
            ],
            [
             0.4444444444444444,
             "#bd3786"
            ],
            [
             0.5555555555555556,
             "#d8576b"
            ],
            [
             0.6666666666666666,
             "#ed7953"
            ],
            [
             0.7777777777777778,
             "#fb9f3a"
            ],
            [
             0.8888888888888888,
             "#fdca26"
            ],
            [
             1,
             "#f0f921"
            ]
           ]
          },
          "colorway": [
           "#636efa",
           "#EF553B",
           "#00cc96",
           "#ab63fa",
           "#FFA15A",
           "#19d3f3",
           "#FF6692",
           "#B6E880",
           "#FF97FF",
           "#FECB52"
          ],
          "font": {
           "color": "#2a3f5f"
          },
          "geo": {
           "bgcolor": "white",
           "lakecolor": "white",
           "landcolor": "#E5ECF6",
           "showlakes": true,
           "showland": true,
           "subunitcolor": "white"
          },
          "hoverlabel": {
           "align": "left"
          },
          "hovermode": "closest",
          "mapbox": {
           "style": "light"
          },
          "paper_bgcolor": "white",
          "plot_bgcolor": "#E5ECF6",
          "polar": {
           "angularaxis": {
            "gridcolor": "white",
            "linecolor": "white",
            "ticks": ""
           },
           "bgcolor": "#E5ECF6",
           "radialaxis": {
            "gridcolor": "white",
            "linecolor": "white",
            "ticks": ""
           }
          },
          "scene": {
           "xaxis": {
            "backgroundcolor": "#E5ECF6",
            "gridcolor": "white",
            "gridwidth": 2,
            "linecolor": "white",
            "showbackground": true,
            "ticks": "",
            "zerolinecolor": "white"
           },
           "yaxis": {
            "backgroundcolor": "#E5ECF6",
            "gridcolor": "white",
            "gridwidth": 2,
            "linecolor": "white",
            "showbackground": true,
            "ticks": "",
            "zerolinecolor": "white"
           },
           "zaxis": {
            "backgroundcolor": "#E5ECF6",
            "gridcolor": "white",
            "gridwidth": 2,
            "linecolor": "white",
            "showbackground": true,
            "ticks": "",
            "zerolinecolor": "white"
           }
          },
          "shapedefaults": {
           "line": {
            "color": "#2a3f5f"
           }
          },
          "ternary": {
           "aaxis": {
            "gridcolor": "white",
            "linecolor": "white",
            "ticks": ""
           },
           "baxis": {
            "gridcolor": "white",
            "linecolor": "white",
            "ticks": ""
           },
           "bgcolor": "#E5ECF6",
           "caxis": {
            "gridcolor": "white",
            "linecolor": "white",
            "ticks": ""
           }
          },
          "title": {
           "x": 0.05
          },
          "xaxis": {
           "automargin": true,
           "gridcolor": "white",
           "linecolor": "white",
           "ticks": "",
           "title": {
            "standoff": 15
           },
           "zerolinecolor": "white",
           "zerolinewidth": 2
          },
          "yaxis": {
           "automargin": true,
           "gridcolor": "white",
           "linecolor": "white",
           "ticks": "",
           "title": {
            "standoff": 15
           },
           "zerolinecolor": "white",
           "zerolinewidth": 2
          }
         }
        }
       }
      }
     },
     "metadata": {},
     "output_type": "display_data"
    }
   ],
   "source": [
    "no_of_order_place_by_user = (\n",
    "    data.groupby(\"order_number_group\")[\"user_id\"].agg([\"count\"]).reset_index()\n",
    ")\n",
    "fig = ex.pie(no_of_order_place_by_user, values=\"count\", names=\"order_number_group\")\n",
    "fig.show()"
   ]
  },
  {
   "cell_type": "code",
   "execution_count": null,
   "metadata": {
    "id": "djJpVfLJeh0w",
    "outputId": "7d56d5b8-29b9-428e-d4a7-a0a9fd99d680"
   },
   "outputs": [
    {
     "data": {
      "application/vnd.plotly.v1+json": {
       "config": {
        "plotlyServerURL": "https://plot.ly"
       },
       "data": [
        {
         "domain": {
          "x": [
           0,
           1
          ],
          "y": [
           0,
           1
          ]
         },
         "hovertemplate": "order_dow=%{label}<br>count=%{value}<extra></extra>",
         "labels": [
          0,
          1,
          2,
          3,
          4,
          5,
          6
         ],
         "legendgroup": "",
         "name": "",
         "showlegend": true,
         "type": "pie",
         "values": [
          391831,
          349236,
          261912,
          238730,
          234884,
          262157,
          280751
         ]
        }
       ],
       "layout": {
        "legend": {
         "tracegroupgap": 0
        },
        "template": {
         "data": {
          "bar": [
           {
            "error_x": {
             "color": "#2a3f5f"
            },
            "error_y": {
             "color": "#2a3f5f"
            },
            "marker": {
             "line": {
              "color": "#E5ECF6",
              "width": 0.5
             },
             "pattern": {
              "fillmode": "overlay",
              "size": 10,
              "solidity": 0.2
             }
            },
            "type": "bar"
           }
          ],
          "barpolar": [
           {
            "marker": {
             "line": {
              "color": "#E5ECF6",
              "width": 0.5
             },
             "pattern": {
              "fillmode": "overlay",
              "size": 10,
              "solidity": 0.2
             }
            },
            "type": "barpolar"
           }
          ],
          "carpet": [
           {
            "aaxis": {
             "endlinecolor": "#2a3f5f",
             "gridcolor": "white",
             "linecolor": "white",
             "minorgridcolor": "white",
             "startlinecolor": "#2a3f5f"
            },
            "baxis": {
             "endlinecolor": "#2a3f5f",
             "gridcolor": "white",
             "linecolor": "white",
             "minorgridcolor": "white",
             "startlinecolor": "#2a3f5f"
            },
            "type": "carpet"
           }
          ],
          "choropleth": [
           {
            "colorbar": {
             "outlinewidth": 0,
             "ticks": ""
            },
            "type": "choropleth"
           }
          ],
          "contour": [
           {
            "colorbar": {
             "outlinewidth": 0,
             "ticks": ""
            },
            "colorscale": [
             [
              0,
              "#0d0887"
             ],
             [
              0.1111111111111111,
              "#46039f"
             ],
             [
              0.2222222222222222,
              "#7201a8"
             ],
             [
              0.3333333333333333,
              "#9c179e"
             ],
             [
              0.4444444444444444,
              "#bd3786"
             ],
             [
              0.5555555555555556,
              "#d8576b"
             ],
             [
              0.6666666666666666,
              "#ed7953"
             ],
             [
              0.7777777777777778,
              "#fb9f3a"
             ],
             [
              0.8888888888888888,
              "#fdca26"
             ],
             [
              1,
              "#f0f921"
             ]
            ],
            "type": "contour"
           }
          ],
          "contourcarpet": [
           {
            "colorbar": {
             "outlinewidth": 0,
             "ticks": ""
            },
            "type": "contourcarpet"
           }
          ],
          "heatmap": [
           {
            "colorbar": {
             "outlinewidth": 0,
             "ticks": ""
            },
            "colorscale": [
             [
              0,
              "#0d0887"
             ],
             [
              0.1111111111111111,
              "#46039f"
             ],
             [
              0.2222222222222222,
              "#7201a8"
             ],
             [
              0.3333333333333333,
              "#9c179e"
             ],
             [
              0.4444444444444444,
              "#bd3786"
             ],
             [
              0.5555555555555556,
              "#d8576b"
             ],
             [
              0.6666666666666666,
              "#ed7953"
             ],
             [
              0.7777777777777778,
              "#fb9f3a"
             ],
             [
              0.8888888888888888,
              "#fdca26"
             ],
             [
              1,
              "#f0f921"
             ]
            ],
            "type": "heatmap"
           }
          ],
          "heatmapgl": [
           {
            "colorbar": {
             "outlinewidth": 0,
             "ticks": ""
            },
            "colorscale": [
             [
              0,
              "#0d0887"
             ],
             [
              0.1111111111111111,
              "#46039f"
             ],
             [
              0.2222222222222222,
              "#7201a8"
             ],
             [
              0.3333333333333333,
              "#9c179e"
             ],
             [
              0.4444444444444444,
              "#bd3786"
             ],
             [
              0.5555555555555556,
              "#d8576b"
             ],
             [
              0.6666666666666666,
              "#ed7953"
             ],
             [
              0.7777777777777778,
              "#fb9f3a"
             ],
             [
              0.8888888888888888,
              "#fdca26"
             ],
             [
              1,
              "#f0f921"
             ]
            ],
            "type": "heatmapgl"
           }
          ],
          "histogram": [
           {
            "marker": {
             "pattern": {
              "fillmode": "overlay",
              "size": 10,
              "solidity": 0.2
             }
            },
            "type": "histogram"
           }
          ],
          "histogram2d": [
           {
            "colorbar": {
             "outlinewidth": 0,
             "ticks": ""
            },
            "colorscale": [
             [
              0,
              "#0d0887"
             ],
             [
              0.1111111111111111,
              "#46039f"
             ],
             [
              0.2222222222222222,
              "#7201a8"
             ],
             [
              0.3333333333333333,
              "#9c179e"
             ],
             [
              0.4444444444444444,
              "#bd3786"
             ],
             [
              0.5555555555555556,
              "#d8576b"
             ],
             [
              0.6666666666666666,
              "#ed7953"
             ],
             [
              0.7777777777777778,
              "#fb9f3a"
             ],
             [
              0.8888888888888888,
              "#fdca26"
             ],
             [
              1,
              "#f0f921"
             ]
            ],
            "type": "histogram2d"
           }
          ],
          "histogram2dcontour": [
           {
            "colorbar": {
             "outlinewidth": 0,
             "ticks": ""
            },
            "colorscale": [
             [
              0,
              "#0d0887"
             ],
             [
              0.1111111111111111,
              "#46039f"
             ],
             [
              0.2222222222222222,
              "#7201a8"
             ],
             [
              0.3333333333333333,
              "#9c179e"
             ],
             [
              0.4444444444444444,
              "#bd3786"
             ],
             [
              0.5555555555555556,
              "#d8576b"
             ],
             [
              0.6666666666666666,
              "#ed7953"
             ],
             [
              0.7777777777777778,
              "#fb9f3a"
             ],
             [
              0.8888888888888888,
              "#fdca26"
             ],
             [
              1,
              "#f0f921"
             ]
            ],
            "type": "histogram2dcontour"
           }
          ],
          "mesh3d": [
           {
            "colorbar": {
             "outlinewidth": 0,
             "ticks": ""
            },
            "type": "mesh3d"
           }
          ],
          "parcoords": [
           {
            "line": {
             "colorbar": {
              "outlinewidth": 0,
              "ticks": ""
             }
            },
            "type": "parcoords"
           }
          ],
          "pie": [
           {
            "automargin": true,
            "type": "pie"
           }
          ],
          "scatter": [
           {
            "fillpattern": {
             "fillmode": "overlay",
             "size": 10,
             "solidity": 0.2
            },
            "type": "scatter"
           }
          ],
          "scatter3d": [
           {
            "line": {
             "colorbar": {
              "outlinewidth": 0,
              "ticks": ""
             }
            },
            "marker": {
             "colorbar": {
              "outlinewidth": 0,
              "ticks": ""
             }
            },
            "type": "scatter3d"
           }
          ],
          "scattercarpet": [
           {
            "marker": {
             "colorbar": {
              "outlinewidth": 0,
              "ticks": ""
             }
            },
            "type": "scattercarpet"
           }
          ],
          "scattergeo": [
           {
            "marker": {
             "colorbar": {
              "outlinewidth": 0,
              "ticks": ""
             }
            },
            "type": "scattergeo"
           }
          ],
          "scattergl": [
           {
            "marker": {
             "colorbar": {
              "outlinewidth": 0,
              "ticks": ""
             }
            },
            "type": "scattergl"
           }
          ],
          "scattermapbox": [
           {
            "marker": {
             "colorbar": {
              "outlinewidth": 0,
              "ticks": ""
             }
            },
            "type": "scattermapbox"
           }
          ],
          "scatterpolar": [
           {
            "marker": {
             "colorbar": {
              "outlinewidth": 0,
              "ticks": ""
             }
            },
            "type": "scatterpolar"
           }
          ],
          "scatterpolargl": [
           {
            "marker": {
             "colorbar": {
              "outlinewidth": 0,
              "ticks": ""
             }
            },
            "type": "scatterpolargl"
           }
          ],
          "scatterternary": [
           {
            "marker": {
             "colorbar": {
              "outlinewidth": 0,
              "ticks": ""
             }
            },
            "type": "scatterternary"
           }
          ],
          "surface": [
           {
            "colorbar": {
             "outlinewidth": 0,
             "ticks": ""
            },
            "colorscale": [
             [
              0,
              "#0d0887"
             ],
             [
              0.1111111111111111,
              "#46039f"
             ],
             [
              0.2222222222222222,
              "#7201a8"
             ],
             [
              0.3333333333333333,
              "#9c179e"
             ],
             [
              0.4444444444444444,
              "#bd3786"
             ],
             [
              0.5555555555555556,
              "#d8576b"
             ],
             [
              0.6666666666666666,
              "#ed7953"
             ],
             [
              0.7777777777777778,
              "#fb9f3a"
             ],
             [
              0.8888888888888888,
              "#fdca26"
             ],
             [
              1,
              "#f0f921"
             ]
            ],
            "type": "surface"
           }
          ],
          "table": [
           {
            "cells": {
             "fill": {
              "color": "#EBF0F8"
             },
             "line": {
              "color": "white"
             }
            },
            "header": {
             "fill": {
              "color": "#C8D4E3"
             },
             "line": {
              "color": "white"
             }
            },
            "type": "table"
           }
          ]
         },
         "layout": {
          "annotationdefaults": {
           "arrowcolor": "#2a3f5f",
           "arrowhead": 0,
           "arrowwidth": 1
          },
          "autotypenumbers": "strict",
          "coloraxis": {
           "colorbar": {
            "outlinewidth": 0,
            "ticks": ""
           }
          },
          "colorscale": {
           "diverging": [
            [
             0,
             "#8e0152"
            ],
            [
             0.1,
             "#c51b7d"
            ],
            [
             0.2,
             "#de77ae"
            ],
            [
             0.3,
             "#f1b6da"
            ],
            [
             0.4,
             "#fde0ef"
            ],
            [
             0.5,
             "#f7f7f7"
            ],
            [
             0.6,
             "#e6f5d0"
            ],
            [
             0.7,
             "#b8e186"
            ],
            [
             0.8,
             "#7fbc41"
            ],
            [
             0.9,
             "#4d9221"
            ],
            [
             1,
             "#276419"
            ]
           ],
           "sequential": [
            [
             0,
             "#0d0887"
            ],
            [
             0.1111111111111111,
             "#46039f"
            ],
            [
             0.2222222222222222,
             "#7201a8"
            ],
            [
             0.3333333333333333,
             "#9c179e"
            ],
            [
             0.4444444444444444,
             "#bd3786"
            ],
            [
             0.5555555555555556,
             "#d8576b"
            ],
            [
             0.6666666666666666,
             "#ed7953"
            ],
            [
             0.7777777777777778,
             "#fb9f3a"
            ],
            [
             0.8888888888888888,
             "#fdca26"
            ],
            [
             1,
             "#f0f921"
            ]
           ],
           "sequentialminus": [
            [
             0,
             "#0d0887"
            ],
            [
             0.1111111111111111,
             "#46039f"
            ],
            [
             0.2222222222222222,
             "#7201a8"
            ],
            [
             0.3333333333333333,
             "#9c179e"
            ],
            [
             0.4444444444444444,
             "#bd3786"
            ],
            [
             0.5555555555555556,
             "#d8576b"
            ],
            [
             0.6666666666666666,
             "#ed7953"
            ],
            [
             0.7777777777777778,
             "#fb9f3a"
            ],
            [
             0.8888888888888888,
             "#fdca26"
            ],
            [
             1,
             "#f0f921"
            ]
           ]
          },
          "colorway": [
           "#636efa",
           "#EF553B",
           "#00cc96",
           "#ab63fa",
           "#FFA15A",
           "#19d3f3",
           "#FF6692",
           "#B6E880",
           "#FF97FF",
           "#FECB52"
          ],
          "font": {
           "color": "#2a3f5f"
          },
          "geo": {
           "bgcolor": "white",
           "lakecolor": "white",
           "landcolor": "#E5ECF6",
           "showlakes": true,
           "showland": true,
           "subunitcolor": "white"
          },
          "hoverlabel": {
           "align": "left"
          },
          "hovermode": "closest",
          "mapbox": {
           "style": "light"
          },
          "paper_bgcolor": "white",
          "plot_bgcolor": "#E5ECF6",
          "polar": {
           "angularaxis": {
            "gridcolor": "white",
            "linecolor": "white",
            "ticks": ""
           },
           "bgcolor": "#E5ECF6",
           "radialaxis": {
            "gridcolor": "white",
            "linecolor": "white",
            "ticks": ""
           }
          },
          "scene": {
           "xaxis": {
            "backgroundcolor": "#E5ECF6",
            "gridcolor": "white",
            "gridwidth": 2,
            "linecolor": "white",
            "showbackground": true,
            "ticks": "",
            "zerolinecolor": "white"
           },
           "yaxis": {
            "backgroundcolor": "#E5ECF6",
            "gridcolor": "white",
            "gridwidth": 2,
            "linecolor": "white",
            "showbackground": true,
            "ticks": "",
            "zerolinecolor": "white"
           },
           "zaxis": {
            "backgroundcolor": "#E5ECF6",
            "gridcolor": "white",
            "gridwidth": 2,
            "linecolor": "white",
            "showbackground": true,
            "ticks": "",
            "zerolinecolor": "white"
           }
          },
          "shapedefaults": {
           "line": {
            "color": "#2a3f5f"
           }
          },
          "ternary": {
           "aaxis": {
            "gridcolor": "white",
            "linecolor": "white",
            "ticks": ""
           },
           "baxis": {
            "gridcolor": "white",
            "linecolor": "white",
            "ticks": ""
           },
           "bgcolor": "#E5ECF6",
           "caxis": {
            "gridcolor": "white",
            "linecolor": "white",
            "ticks": ""
           }
          },
          "title": {
           "x": 0.05
          },
          "xaxis": {
           "automargin": true,
           "gridcolor": "white",
           "linecolor": "white",
           "ticks": "",
           "title": {
            "standoff": 15
           },
           "zerolinecolor": "white",
           "zerolinewidth": 2
          },
          "yaxis": {
           "automargin": true,
           "gridcolor": "white",
           "linecolor": "white",
           "ticks": "",
           "title": {
            "standoff": 15
           },
           "zerolinecolor": "white",
           "zerolinewidth": 2
          }
         }
        },
        "title": {
         "text": "Number of Purchase by day"
        }
       }
      }
     },
     "metadata": {},
     "output_type": "display_data"
    }
   ],
   "source": [
    "order_dow_by_user = data.groupby(\"order_dow\")[\"user_id\"].agg([\"count\"]).reset_index()\n",
    "fig = ex.pie(\n",
    "    order_dow_by_user,\n",
    "    values=\"count\",\n",
    "    names=\"order_dow\",\n",
    "    title=\"Number of Purchase by day\",\n",
    ")\n",
    "fig.show()"
   ]
  },
  {
   "cell_type": "code",
   "execution_count": null,
   "metadata": {
    "id": "DsIntLCbeh0w",
    "outputId": "2073447e-d082-4d20-d27a-f272cdda3b36"
   },
   "outputs": [
    {
     "data": {
      "text/plain": [
       "array([18, 17, 16, 11, 10,  1,  8,  6,  2,  9, 12, 13, 14, 19, 21, 15, 20,\n",
       "        7, 22,  4, 23,  0,  5,  3], dtype=int64)"
      ]
     },
     "execution_count": 115,
     "metadata": {},
     "output_type": "execute_result"
    }
   ],
   "source": [
    "data.order_hour_of_day.unique()"
   ]
  },
  {
   "cell_type": "code",
   "execution_count": null,
   "metadata": {
    "id": "wuv8DFMNeh0x"
   },
   "outputs": [],
   "source": [
    "def order_time(x):\n",
    "    if x >= 5 and x <= 11:\n",
    "        return \"Morning\"\n",
    "    elif x > 11 and x <= 17:\n",
    "        return \"Afternoon\"\n",
    "    elif x > 17 and x <= 23:\n",
    "        return \"Night\"\n",
    "    else:\n",
    "        return \"Midnight\""
   ]
  },
  {
   "cell_type": "code",
   "execution_count": null,
   "metadata": {
    "id": "pzDfJOhHeh0x"
   },
   "outputs": [],
   "source": [
    "data[\"order_time\"] = data[\"order_hour_of_day\"].apply(order_time)"
   ]
  },
  {
   "cell_type": "code",
   "execution_count": null,
   "metadata": {
    "id": "P8tC-ak4eh0x",
    "outputId": "9db9e097-1b6d-447e-cf3f-f7dc1377fbac"
   },
   "outputs": [
    {
     "data": {
      "text/plain": [
       "order_time\n",
       "Afternoon    952505\n",
       "Morning      678767\n",
       "Night        356992\n",
       "Midnight      31237\n",
       "Name: count, dtype: int64"
      ]
     },
     "execution_count": 118,
     "metadata": {},
     "output_type": "execute_result"
    }
   ],
   "source": [
    "data[\"order_time\"].value_counts()"
   ]
  },
  {
   "cell_type": "code",
   "execution_count": null,
   "metadata": {
    "id": "kOZkfnz5eh0y",
    "outputId": "d45f59e4-076b-4cb9-9c8e-3ecb9b56a888"
   },
   "outputs": [
    {
     "data": {
      "application/vnd.plotly.v1+json": {
       "config": {
        "plotlyServerURL": "https://plot.ly"
       },
       "data": [
        {
         "alignmentgroup": "True",
         "hovertemplate": "order_time=%{x}<br>count=%{y}<extra></extra>",
         "legendgroup": "",
         "marker": {
          "color": "#636efa",
          "pattern": {
           "shape": ""
          }
         },
         "name": "",
         "offsetgroup": "",
         "orientation": "v",
         "showlegend": false,
         "textposition": "auto",
         "type": "bar",
         "x": [
          "Afternoon",
          "Midnight",
          "Morning",
          "Night"
         ],
         "xaxis": "x",
         "y": [
          952505,
          31237,
          678767,
          356992
         ],
         "yaxis": "y"
        }
       ],
       "layout": {
        "barmode": "relative",
        "legend": {
         "tracegroupgap": 0
        },
        "margin": {
         "t": 60
        },
        "template": {
         "data": {
          "bar": [
           {
            "error_x": {
             "color": "#2a3f5f"
            },
            "error_y": {
             "color": "#2a3f5f"
            },
            "marker": {
             "line": {
              "color": "#E5ECF6",
              "width": 0.5
             },
             "pattern": {
              "fillmode": "overlay",
              "size": 10,
              "solidity": 0.2
             }
            },
            "type": "bar"
           }
          ],
          "barpolar": [
           {
            "marker": {
             "line": {
              "color": "#E5ECF6",
              "width": 0.5
             },
             "pattern": {
              "fillmode": "overlay",
              "size": 10,
              "solidity": 0.2
             }
            },
            "type": "barpolar"
           }
          ],
          "carpet": [
           {
            "aaxis": {
             "endlinecolor": "#2a3f5f",
             "gridcolor": "white",
             "linecolor": "white",
             "minorgridcolor": "white",
             "startlinecolor": "#2a3f5f"
            },
            "baxis": {
             "endlinecolor": "#2a3f5f",
             "gridcolor": "white",
             "linecolor": "white",
             "minorgridcolor": "white",
             "startlinecolor": "#2a3f5f"
            },
            "type": "carpet"
           }
          ],
          "choropleth": [
           {
            "colorbar": {
             "outlinewidth": 0,
             "ticks": ""
            },
            "type": "choropleth"
           }
          ],
          "contour": [
           {
            "colorbar": {
             "outlinewidth": 0,
             "ticks": ""
            },
            "colorscale": [
             [
              0,
              "#0d0887"
             ],
             [
              0.1111111111111111,
              "#46039f"
             ],
             [
              0.2222222222222222,
              "#7201a8"
             ],
             [
              0.3333333333333333,
              "#9c179e"
             ],
             [
              0.4444444444444444,
              "#bd3786"
             ],
             [
              0.5555555555555556,
              "#d8576b"
             ],
             [
              0.6666666666666666,
              "#ed7953"
             ],
             [
              0.7777777777777778,
              "#fb9f3a"
             ],
             [
              0.8888888888888888,
              "#fdca26"
             ],
             [
              1,
              "#f0f921"
             ]
            ],
            "type": "contour"
           }
          ],
          "contourcarpet": [
           {
            "colorbar": {
             "outlinewidth": 0,
             "ticks": ""
            },
            "type": "contourcarpet"
           }
          ],
          "heatmap": [
           {
            "colorbar": {
             "outlinewidth": 0,
             "ticks": ""
            },
            "colorscale": [
             [
              0,
              "#0d0887"
             ],
             [
              0.1111111111111111,
              "#46039f"
             ],
             [
              0.2222222222222222,
              "#7201a8"
             ],
             [
              0.3333333333333333,
              "#9c179e"
             ],
             [
              0.4444444444444444,
              "#bd3786"
             ],
             [
              0.5555555555555556,
              "#d8576b"
             ],
             [
              0.6666666666666666,
              "#ed7953"
             ],
             [
              0.7777777777777778,
              "#fb9f3a"
             ],
             [
              0.8888888888888888,
              "#fdca26"
             ],
             [
              1,
              "#f0f921"
             ]
            ],
            "type": "heatmap"
           }
          ],
          "heatmapgl": [
           {
            "colorbar": {
             "outlinewidth": 0,
             "ticks": ""
            },
            "colorscale": [
             [
              0,
              "#0d0887"
             ],
             [
              0.1111111111111111,
              "#46039f"
             ],
             [
              0.2222222222222222,
              "#7201a8"
             ],
             [
              0.3333333333333333,
              "#9c179e"
             ],
             [
              0.4444444444444444,
              "#bd3786"
             ],
             [
              0.5555555555555556,
              "#d8576b"
             ],
             [
              0.6666666666666666,
              "#ed7953"
             ],
             [
              0.7777777777777778,
              "#fb9f3a"
             ],
             [
              0.8888888888888888,
              "#fdca26"
             ],
             [
              1,
              "#f0f921"
             ]
            ],
            "type": "heatmapgl"
           }
          ],
          "histogram": [
           {
            "marker": {
             "pattern": {
              "fillmode": "overlay",
              "size": 10,
              "solidity": 0.2
             }
            },
            "type": "histogram"
           }
          ],
          "histogram2d": [
           {
            "colorbar": {
             "outlinewidth": 0,
             "ticks": ""
            },
            "colorscale": [
             [
              0,
              "#0d0887"
             ],
             [
              0.1111111111111111,
              "#46039f"
             ],
             [
              0.2222222222222222,
              "#7201a8"
             ],
             [
              0.3333333333333333,
              "#9c179e"
             ],
             [
              0.4444444444444444,
              "#bd3786"
             ],
             [
              0.5555555555555556,
              "#d8576b"
             ],
             [
              0.6666666666666666,
              "#ed7953"
             ],
             [
              0.7777777777777778,
              "#fb9f3a"
             ],
             [
              0.8888888888888888,
              "#fdca26"
             ],
             [
              1,
              "#f0f921"
             ]
            ],
            "type": "histogram2d"
           }
          ],
          "histogram2dcontour": [
           {
            "colorbar": {
             "outlinewidth": 0,
             "ticks": ""
            },
            "colorscale": [
             [
              0,
              "#0d0887"
             ],
             [
              0.1111111111111111,
              "#46039f"
             ],
             [
              0.2222222222222222,
              "#7201a8"
             ],
             [
              0.3333333333333333,
              "#9c179e"
             ],
             [
              0.4444444444444444,
              "#bd3786"
             ],
             [
              0.5555555555555556,
              "#d8576b"
             ],
             [
              0.6666666666666666,
              "#ed7953"
             ],
             [
              0.7777777777777778,
              "#fb9f3a"
             ],
             [
              0.8888888888888888,
              "#fdca26"
             ],
             [
              1,
              "#f0f921"
             ]
            ],
            "type": "histogram2dcontour"
           }
          ],
          "mesh3d": [
           {
            "colorbar": {
             "outlinewidth": 0,
             "ticks": ""
            },
            "type": "mesh3d"
           }
          ],
          "parcoords": [
           {
            "line": {
             "colorbar": {
              "outlinewidth": 0,
              "ticks": ""
             }
            },
            "type": "parcoords"
           }
          ],
          "pie": [
           {
            "automargin": true,
            "type": "pie"
           }
          ],
          "scatter": [
           {
            "fillpattern": {
             "fillmode": "overlay",
             "size": 10,
             "solidity": 0.2
            },
            "type": "scatter"
           }
          ],
          "scatter3d": [
           {
            "line": {
             "colorbar": {
              "outlinewidth": 0,
              "ticks": ""
             }
            },
            "marker": {
             "colorbar": {
              "outlinewidth": 0,
              "ticks": ""
             }
            },
            "type": "scatter3d"
           }
          ],
          "scattercarpet": [
           {
            "marker": {
             "colorbar": {
              "outlinewidth": 0,
              "ticks": ""
             }
            },
            "type": "scattercarpet"
           }
          ],
          "scattergeo": [
           {
            "marker": {
             "colorbar": {
              "outlinewidth": 0,
              "ticks": ""
             }
            },
            "type": "scattergeo"
           }
          ],
          "scattergl": [
           {
            "marker": {
             "colorbar": {
              "outlinewidth": 0,
              "ticks": ""
             }
            },
            "type": "scattergl"
           }
          ],
          "scattermapbox": [
           {
            "marker": {
             "colorbar": {
              "outlinewidth": 0,
              "ticks": ""
             }
            },
            "type": "scattermapbox"
           }
          ],
          "scatterpolar": [
           {
            "marker": {
             "colorbar": {
              "outlinewidth": 0,
              "ticks": ""
             }
            },
            "type": "scatterpolar"
           }
          ],
          "scatterpolargl": [
           {
            "marker": {
             "colorbar": {
              "outlinewidth": 0,
              "ticks": ""
             }
            },
            "type": "scatterpolargl"
           }
          ],
          "scatterternary": [
           {
            "marker": {
             "colorbar": {
              "outlinewidth": 0,
              "ticks": ""
             }
            },
            "type": "scatterternary"
           }
          ],
          "surface": [
           {
            "colorbar": {
             "outlinewidth": 0,
             "ticks": ""
            },
            "colorscale": [
             [
              0,
              "#0d0887"
             ],
             [
              0.1111111111111111,
              "#46039f"
             ],
             [
              0.2222222222222222,
              "#7201a8"
             ],
             [
              0.3333333333333333,
              "#9c179e"
             ],
             [
              0.4444444444444444,
              "#bd3786"
             ],
             [
              0.5555555555555556,
              "#d8576b"
             ],
             [
              0.6666666666666666,
              "#ed7953"
             ],
             [
              0.7777777777777778,
              "#fb9f3a"
             ],
             [
              0.8888888888888888,
              "#fdca26"
             ],
             [
              1,
              "#f0f921"
             ]
            ],
            "type": "surface"
           }
          ],
          "table": [
           {
            "cells": {
             "fill": {
              "color": "#EBF0F8"
             },
             "line": {
              "color": "white"
             }
            },
            "header": {
             "fill": {
              "color": "#C8D4E3"
             },
             "line": {
              "color": "white"
             }
            },
            "type": "table"
           }
          ]
         },
         "layout": {
          "annotationdefaults": {
           "arrowcolor": "#2a3f5f",
           "arrowhead": 0,
           "arrowwidth": 1
          },
          "autotypenumbers": "strict",
          "coloraxis": {
           "colorbar": {
            "outlinewidth": 0,
            "ticks": ""
           }
          },
          "colorscale": {
           "diverging": [
            [
             0,
             "#8e0152"
            ],
            [
             0.1,
             "#c51b7d"
            ],
            [
             0.2,
             "#de77ae"
            ],
            [
             0.3,
             "#f1b6da"
            ],
            [
             0.4,
             "#fde0ef"
            ],
            [
             0.5,
             "#f7f7f7"
            ],
            [
             0.6,
             "#e6f5d0"
            ],
            [
             0.7,
             "#b8e186"
            ],
            [
             0.8,
             "#7fbc41"
            ],
            [
             0.9,
             "#4d9221"
            ],
            [
             1,
             "#276419"
            ]
           ],
           "sequential": [
            [
             0,
             "#0d0887"
            ],
            [
             0.1111111111111111,
             "#46039f"
            ],
            [
             0.2222222222222222,
             "#7201a8"
            ],
            [
             0.3333333333333333,
             "#9c179e"
            ],
            [
             0.4444444444444444,
             "#bd3786"
            ],
            [
             0.5555555555555556,
             "#d8576b"
            ],
            [
             0.6666666666666666,
             "#ed7953"
            ],
            [
             0.7777777777777778,
             "#fb9f3a"
            ],
            [
             0.8888888888888888,
             "#fdca26"
            ],
            [
             1,
             "#f0f921"
            ]
           ],
           "sequentialminus": [
            [
             0,
             "#0d0887"
            ],
            [
             0.1111111111111111,
             "#46039f"
            ],
            [
             0.2222222222222222,
             "#7201a8"
            ],
            [
             0.3333333333333333,
             "#9c179e"
            ],
            [
             0.4444444444444444,
             "#bd3786"
            ],
            [
             0.5555555555555556,
             "#d8576b"
            ],
            [
             0.6666666666666666,
             "#ed7953"
            ],
            [
             0.7777777777777778,
             "#fb9f3a"
            ],
            [
             0.8888888888888888,
             "#fdca26"
            ],
            [
             1,
             "#f0f921"
            ]
           ]
          },
          "colorway": [
           "#636efa",
           "#EF553B",
           "#00cc96",
           "#ab63fa",
           "#FFA15A",
           "#19d3f3",
           "#FF6692",
           "#B6E880",
           "#FF97FF",
           "#FECB52"
          ],
          "font": {
           "color": "#2a3f5f"
          },
          "geo": {
           "bgcolor": "white",
           "lakecolor": "white",
           "landcolor": "#E5ECF6",
           "showlakes": true,
           "showland": true,
           "subunitcolor": "white"
          },
          "hoverlabel": {
           "align": "left"
          },
          "hovermode": "closest",
          "mapbox": {
           "style": "light"
          },
          "paper_bgcolor": "white",
          "plot_bgcolor": "#E5ECF6",
          "polar": {
           "angularaxis": {
            "gridcolor": "white",
            "linecolor": "white",
            "ticks": ""
           },
           "bgcolor": "#E5ECF6",
           "radialaxis": {
            "gridcolor": "white",
            "linecolor": "white",
            "ticks": ""
           }
          },
          "scene": {
           "xaxis": {
            "backgroundcolor": "#E5ECF6",
            "gridcolor": "white",
            "gridwidth": 2,
            "linecolor": "white",
            "showbackground": true,
            "ticks": "",
            "zerolinecolor": "white"
           },
           "yaxis": {
            "backgroundcolor": "#E5ECF6",
            "gridcolor": "white",
            "gridwidth": 2,
            "linecolor": "white",
            "showbackground": true,
            "ticks": "",
            "zerolinecolor": "white"
           },
           "zaxis": {
            "backgroundcolor": "#E5ECF6",
            "gridcolor": "white",
            "gridwidth": 2,
            "linecolor": "white",
            "showbackground": true,
            "ticks": "",
            "zerolinecolor": "white"
           }
          },
          "shapedefaults": {
           "line": {
            "color": "#2a3f5f"
           }
          },
          "ternary": {
           "aaxis": {
            "gridcolor": "white",
            "linecolor": "white",
            "ticks": ""
           },
           "baxis": {
            "gridcolor": "white",
            "linecolor": "white",
            "ticks": ""
           },
           "bgcolor": "#E5ECF6",
           "caxis": {
            "gridcolor": "white",
            "linecolor": "white",
            "ticks": ""
           }
          },
          "title": {
           "x": 0.05
          },
          "xaxis": {
           "automargin": true,
           "gridcolor": "white",
           "linecolor": "white",
           "ticks": "",
           "title": {
            "standoff": 15
           },
           "zerolinecolor": "white",
           "zerolinewidth": 2
          },
          "yaxis": {
           "automargin": true,
           "gridcolor": "white",
           "linecolor": "white",
           "ticks": "",
           "title": {
            "standoff": 15
           },
           "zerolinecolor": "white",
           "zerolinewidth": 2
          }
         }
        },
        "xaxis": {
         "anchor": "y",
         "domain": [
          0,
          1
         ],
         "title": {
          "text": "order_time"
         }
        },
        "yaxis": {
         "anchor": "x",
         "domain": [
          0,
          1
         ],
         "title": {
          "text": "count"
         }
        }
       }
      }
     },
     "metadata": {},
     "output_type": "display_data"
    }
   ],
   "source": [
    "order_place_time = data.groupby(\"order_time\")[\"user_id\"].agg([\"count\"]).reset_index()\n",
    "fig = ex.bar(order_place_time, x=\"order_time\", y=\"count\")\n",
    "fig.show()"
   ]
  },
  {
   "cell_type": "code",
   "execution_count": null,
   "metadata": {
    "id": "kQbyif-Leh0y",
    "outputId": "b417b089-04c8-4aeb-cd8e-0242aead24a2"
   },
   "outputs": [
    {
     "data": {
      "application/vnd.plotly.v1+json": {
       "config": {
        "plotlyServerURL": "https://plot.ly"
       },
       "data": [
        {
         "alignmentgroup": "True",
         "hovertemplate": "Order Time=Afternoon<br>Day of Week=%{x}<br>User Count=%{y}<extra></extra>",
         "legendgroup": "Afternoon",
         "marker": {
          "color": "#636efa",
          "pattern": {
           "shape": ""
          }
         },
         "name": "Afternoon",
         "offsetgroup": "Afternoon",
         "orientation": "v",
         "showlegend": true,
         "textposition": "auto",
         "type": "bar",
         "x": [
          0,
          1,
          2,
          3,
          4,
          5,
          6
         ],
         "xaxis": "x",
         "y": [
          196603,
          158970,
          120927,
          112185,
          107170,
          121577,
          135073
         ],
         "yaxis": "y"
        },
        {
         "alignmentgroup": "True",
         "hovertemplate": "Order Time=Midnight<br>Day of Week=%{x}<br>User Count=%{y}<extra></extra>",
         "legendgroup": "Midnight",
         "marker": {
          "color": "#EF553B",
          "pattern": {
           "shape": ""
          }
         },
         "name": "Midnight",
         "offsetgroup": "Midnight",
         "orientation": "v",
         "showlegend": true,
         "textposition": "auto",
         "type": "bar",
         "x": [
          0,
          1,
          2,
          3,
          4,
          5,
          6
         ],
         "xaxis": "x",
         "y": [
          6095,
          4836,
          3891,
          3298,
          3825,
          4389,
          4903
         ],
         "yaxis": "y"
        },
        {
         "alignmentgroup": "True",
         "hovertemplate": "Order Time=Morning<br>Day of Week=%{x}<br>User Count=%{y}<extra></extra>",
         "legendgroup": "Morning",
         "marker": {
          "color": "#00cc96",
          "pattern": {
           "shape": ""
          }
         },
         "name": "Morning",
         "offsetgroup": "Morning",
         "orientation": "v",
         "showlegend": true,
         "textposition": "auto",
         "type": "bar",
         "x": [
          0,
          1,
          2,
          3,
          4,
          5,
          6
         ],
         "xaxis": "x",
         "y": [
          124582,
          130332,
          88526,
          78385,
          75266,
          90614,
          91062
         ],
         "yaxis": "y"
        },
        {
         "alignmentgroup": "True",
         "hovertemplate": "Order Time=Night<br>Day of Week=%{x}<br>User Count=%{y}<extra></extra>",
         "legendgroup": "Night",
         "marker": {
          "color": "#ab63fa",
          "pattern": {
           "shape": ""
          }
         },
         "name": "Night",
         "offsetgroup": "Night",
         "orientation": "v",
         "showlegend": true,
         "textposition": "auto",
         "type": "bar",
         "x": [
          0,
          1,
          2,
          3,
          4,
          5,
          6
         ],
         "xaxis": "x",
         "y": [
          64551,
          55098,
          48568,
          44862,
          48623,
          45577,
          49713
         ],
         "yaxis": "y"
        }
       ],
       "layout": {
        "barmode": "group",
        "legend": {
         "title": {
          "text": "Order Time"
         },
         "tracegroupgap": 0
        },
        "template": {
         "data": {
          "bar": [
           {
            "error_x": {
             "color": "#2a3f5f"
            },
            "error_y": {
             "color": "#2a3f5f"
            },
            "marker": {
             "line": {
              "color": "#E5ECF6",
              "width": 0.5
             },
             "pattern": {
              "fillmode": "overlay",
              "size": 10,
              "solidity": 0.2
             }
            },
            "type": "bar"
           }
          ],
          "barpolar": [
           {
            "marker": {
             "line": {
              "color": "#E5ECF6",
              "width": 0.5
             },
             "pattern": {
              "fillmode": "overlay",
              "size": 10,
              "solidity": 0.2
             }
            },
            "type": "barpolar"
           }
          ],
          "carpet": [
           {
            "aaxis": {
             "endlinecolor": "#2a3f5f",
             "gridcolor": "white",
             "linecolor": "white",
             "minorgridcolor": "white",
             "startlinecolor": "#2a3f5f"
            },
            "baxis": {
             "endlinecolor": "#2a3f5f",
             "gridcolor": "white",
             "linecolor": "white",
             "minorgridcolor": "white",
             "startlinecolor": "#2a3f5f"
            },
            "type": "carpet"
           }
          ],
          "choropleth": [
           {
            "colorbar": {
             "outlinewidth": 0,
             "ticks": ""
            },
            "type": "choropleth"
           }
          ],
          "contour": [
           {
            "colorbar": {
             "outlinewidth": 0,
             "ticks": ""
            },
            "colorscale": [
             [
              0,
              "#0d0887"
             ],
             [
              0.1111111111111111,
              "#46039f"
             ],
             [
              0.2222222222222222,
              "#7201a8"
             ],
             [
              0.3333333333333333,
              "#9c179e"
             ],
             [
              0.4444444444444444,
              "#bd3786"
             ],
             [
              0.5555555555555556,
              "#d8576b"
             ],
             [
              0.6666666666666666,
              "#ed7953"
             ],
             [
              0.7777777777777778,
              "#fb9f3a"
             ],
             [
              0.8888888888888888,
              "#fdca26"
             ],
             [
              1,
              "#f0f921"
             ]
            ],
            "type": "contour"
           }
          ],
          "contourcarpet": [
           {
            "colorbar": {
             "outlinewidth": 0,
             "ticks": ""
            },
            "type": "contourcarpet"
           }
          ],
          "heatmap": [
           {
            "colorbar": {
             "outlinewidth": 0,
             "ticks": ""
            },
            "colorscale": [
             [
              0,
              "#0d0887"
             ],
             [
              0.1111111111111111,
              "#46039f"
             ],
             [
              0.2222222222222222,
              "#7201a8"
             ],
             [
              0.3333333333333333,
              "#9c179e"
             ],
             [
              0.4444444444444444,
              "#bd3786"
             ],
             [
              0.5555555555555556,
              "#d8576b"
             ],
             [
              0.6666666666666666,
              "#ed7953"
             ],
             [
              0.7777777777777778,
              "#fb9f3a"
             ],
             [
              0.8888888888888888,
              "#fdca26"
             ],
             [
              1,
              "#f0f921"
             ]
            ],
            "type": "heatmap"
           }
          ],
          "heatmapgl": [
           {
            "colorbar": {
             "outlinewidth": 0,
             "ticks": ""
            },
            "colorscale": [
             [
              0,
              "#0d0887"
             ],
             [
              0.1111111111111111,
              "#46039f"
             ],
             [
              0.2222222222222222,
              "#7201a8"
             ],
             [
              0.3333333333333333,
              "#9c179e"
             ],
             [
              0.4444444444444444,
              "#bd3786"
             ],
             [
              0.5555555555555556,
              "#d8576b"
             ],
             [
              0.6666666666666666,
              "#ed7953"
             ],
             [
              0.7777777777777778,
              "#fb9f3a"
             ],
             [
              0.8888888888888888,
              "#fdca26"
             ],
             [
              1,
              "#f0f921"
             ]
            ],
            "type": "heatmapgl"
           }
          ],
          "histogram": [
           {
            "marker": {
             "pattern": {
              "fillmode": "overlay",
              "size": 10,
              "solidity": 0.2
             }
            },
            "type": "histogram"
           }
          ],
          "histogram2d": [
           {
            "colorbar": {
             "outlinewidth": 0,
             "ticks": ""
            },
            "colorscale": [
             [
              0,
              "#0d0887"
             ],
             [
              0.1111111111111111,
              "#46039f"
             ],
             [
              0.2222222222222222,
              "#7201a8"
             ],
             [
              0.3333333333333333,
              "#9c179e"
             ],
             [
              0.4444444444444444,
              "#bd3786"
             ],
             [
              0.5555555555555556,
              "#d8576b"
             ],
             [
              0.6666666666666666,
              "#ed7953"
             ],
             [
              0.7777777777777778,
              "#fb9f3a"
             ],
             [
              0.8888888888888888,
              "#fdca26"
             ],
             [
              1,
              "#f0f921"
             ]
            ],
            "type": "histogram2d"
           }
          ],
          "histogram2dcontour": [
           {
            "colorbar": {
             "outlinewidth": 0,
             "ticks": ""
            },
            "colorscale": [
             [
              0,
              "#0d0887"
             ],
             [
              0.1111111111111111,
              "#46039f"
             ],
             [
              0.2222222222222222,
              "#7201a8"
             ],
             [
              0.3333333333333333,
              "#9c179e"
             ],
             [
              0.4444444444444444,
              "#bd3786"
             ],
             [
              0.5555555555555556,
              "#d8576b"
             ],
             [
              0.6666666666666666,
              "#ed7953"
             ],
             [
              0.7777777777777778,
              "#fb9f3a"
             ],
             [
              0.8888888888888888,
              "#fdca26"
             ],
             [
              1,
              "#f0f921"
             ]
            ],
            "type": "histogram2dcontour"
           }
          ],
          "mesh3d": [
           {
            "colorbar": {
             "outlinewidth": 0,
             "ticks": ""
            },
            "type": "mesh3d"
           }
          ],
          "parcoords": [
           {
            "line": {
             "colorbar": {
              "outlinewidth": 0,
              "ticks": ""
             }
            },
            "type": "parcoords"
           }
          ],
          "pie": [
           {
            "automargin": true,
            "type": "pie"
           }
          ],
          "scatter": [
           {
            "fillpattern": {
             "fillmode": "overlay",
             "size": 10,
             "solidity": 0.2
            },
            "type": "scatter"
           }
          ],
          "scatter3d": [
           {
            "line": {
             "colorbar": {
              "outlinewidth": 0,
              "ticks": ""
             }
            },
            "marker": {
             "colorbar": {
              "outlinewidth": 0,
              "ticks": ""
             }
            },
            "type": "scatter3d"
           }
          ],
          "scattercarpet": [
           {
            "marker": {
             "colorbar": {
              "outlinewidth": 0,
              "ticks": ""
             }
            },
            "type": "scattercarpet"
           }
          ],
          "scattergeo": [
           {
            "marker": {
             "colorbar": {
              "outlinewidth": 0,
              "ticks": ""
             }
            },
            "type": "scattergeo"
           }
          ],
          "scattergl": [
           {
            "marker": {
             "colorbar": {
              "outlinewidth": 0,
              "ticks": ""
             }
            },
            "type": "scattergl"
           }
          ],
          "scattermapbox": [
           {
            "marker": {
             "colorbar": {
              "outlinewidth": 0,
              "ticks": ""
             }
            },
            "type": "scattermapbox"
           }
          ],
          "scatterpolar": [
           {
            "marker": {
             "colorbar": {
              "outlinewidth": 0,
              "ticks": ""
             }
            },
            "type": "scatterpolar"
           }
          ],
          "scatterpolargl": [
           {
            "marker": {
             "colorbar": {
              "outlinewidth": 0,
              "ticks": ""
             }
            },
            "type": "scatterpolargl"
           }
          ],
          "scatterternary": [
           {
            "marker": {
             "colorbar": {
              "outlinewidth": 0,
              "ticks": ""
             }
            },
            "type": "scatterternary"
           }
          ],
          "surface": [
           {
            "colorbar": {
             "outlinewidth": 0,
             "ticks": ""
            },
            "colorscale": [
             [
              0,
              "#0d0887"
             ],
             [
              0.1111111111111111,
              "#46039f"
             ],
             [
              0.2222222222222222,
              "#7201a8"
             ],
             [
              0.3333333333333333,
              "#9c179e"
             ],
             [
              0.4444444444444444,
              "#bd3786"
             ],
             [
              0.5555555555555556,
              "#d8576b"
             ],
             [
              0.6666666666666666,
              "#ed7953"
             ],
             [
              0.7777777777777778,
              "#fb9f3a"
             ],
             [
              0.8888888888888888,
              "#fdca26"
             ],
             [
              1,
              "#f0f921"
             ]
            ],
            "type": "surface"
           }
          ],
          "table": [
           {
            "cells": {
             "fill": {
              "color": "#EBF0F8"
             },
             "line": {
              "color": "white"
             }
            },
            "header": {
             "fill": {
              "color": "#C8D4E3"
             },
             "line": {
              "color": "white"
             }
            },
            "type": "table"
           }
          ]
         },
         "layout": {
          "annotationdefaults": {
           "arrowcolor": "#2a3f5f",
           "arrowhead": 0,
           "arrowwidth": 1
          },
          "autotypenumbers": "strict",
          "coloraxis": {
           "colorbar": {
            "outlinewidth": 0,
            "ticks": ""
           }
          },
          "colorscale": {
           "diverging": [
            [
             0,
             "#8e0152"
            ],
            [
             0.1,
             "#c51b7d"
            ],
            [
             0.2,
             "#de77ae"
            ],
            [
             0.3,
             "#f1b6da"
            ],
            [
             0.4,
             "#fde0ef"
            ],
            [
             0.5,
             "#f7f7f7"
            ],
            [
             0.6,
             "#e6f5d0"
            ],
            [
             0.7,
             "#b8e186"
            ],
            [
             0.8,
             "#7fbc41"
            ],
            [
             0.9,
             "#4d9221"
            ],
            [
             1,
             "#276419"
            ]
           ],
           "sequential": [
            [
             0,
             "#0d0887"
            ],
            [
             0.1111111111111111,
             "#46039f"
            ],
            [
             0.2222222222222222,
             "#7201a8"
            ],
            [
             0.3333333333333333,
             "#9c179e"
            ],
            [
             0.4444444444444444,
             "#bd3786"
            ],
            [
             0.5555555555555556,
             "#d8576b"
            ],
            [
             0.6666666666666666,
             "#ed7953"
            ],
            [
             0.7777777777777778,
             "#fb9f3a"
            ],
            [
             0.8888888888888888,
             "#fdca26"
            ],
            [
             1,
             "#f0f921"
            ]
           ],
           "sequentialminus": [
            [
             0,
             "#0d0887"
            ],
            [
             0.1111111111111111,
             "#46039f"
            ],
            [
             0.2222222222222222,
             "#7201a8"
            ],
            [
             0.3333333333333333,
             "#9c179e"
            ],
            [
             0.4444444444444444,
             "#bd3786"
            ],
            [
             0.5555555555555556,
             "#d8576b"
            ],
            [
             0.6666666666666666,
             "#ed7953"
            ],
            [
             0.7777777777777778,
             "#fb9f3a"
            ],
            [
             0.8888888888888888,
             "#fdca26"
            ],
            [
             1,
             "#f0f921"
            ]
           ]
          },
          "colorway": [
           "#636efa",
           "#EF553B",
           "#00cc96",
           "#ab63fa",
           "#FFA15A",
           "#19d3f3",
           "#FF6692",
           "#B6E880",
           "#FF97FF",
           "#FECB52"
          ],
          "font": {
           "color": "#2a3f5f"
          },
          "geo": {
           "bgcolor": "white",
           "lakecolor": "white",
           "landcolor": "#E5ECF6",
           "showlakes": true,
           "showland": true,
           "subunitcolor": "white"
          },
          "hoverlabel": {
           "align": "left"
          },
          "hovermode": "closest",
          "mapbox": {
           "style": "light"
          },
          "paper_bgcolor": "white",
          "plot_bgcolor": "#E5ECF6",
          "polar": {
           "angularaxis": {
            "gridcolor": "white",
            "linecolor": "white",
            "ticks": ""
           },
           "bgcolor": "#E5ECF6",
           "radialaxis": {
            "gridcolor": "white",
            "linecolor": "white",
            "ticks": ""
           }
          },
          "scene": {
           "xaxis": {
            "backgroundcolor": "#E5ECF6",
            "gridcolor": "white",
            "gridwidth": 2,
            "linecolor": "white",
            "showbackground": true,
            "ticks": "",
            "zerolinecolor": "white"
           },
           "yaxis": {
            "backgroundcolor": "#E5ECF6",
            "gridcolor": "white",
            "gridwidth": 2,
            "linecolor": "white",
            "showbackground": true,
            "ticks": "",
            "zerolinecolor": "white"
           },
           "zaxis": {
            "backgroundcolor": "#E5ECF6",
            "gridcolor": "white",
            "gridwidth": 2,
            "linecolor": "white",
            "showbackground": true,
            "ticks": "",
            "zerolinecolor": "white"
           }
          },
          "shapedefaults": {
           "line": {
            "color": "#2a3f5f"
           }
          },
          "ternary": {
           "aaxis": {
            "gridcolor": "white",
            "linecolor": "white",
            "ticks": ""
           },
           "baxis": {
            "gridcolor": "white",
            "linecolor": "white",
            "ticks": ""
           },
           "bgcolor": "#E5ECF6",
           "caxis": {
            "gridcolor": "white",
            "linecolor": "white",
            "ticks": ""
           }
          },
          "title": {
           "x": 0.05
          },
          "xaxis": {
           "automargin": true,
           "gridcolor": "white",
           "linecolor": "white",
           "ticks": "",
           "title": {
            "standoff": 15
           },
           "zerolinecolor": "white",
           "zerolinewidth": 2
          },
          "yaxis": {
           "automargin": true,
           "gridcolor": "white",
           "linecolor": "white",
           "ticks": "",
           "title": {
            "standoff": 15
           },
           "zerolinecolor": "white",
           "zerolinewidth": 2
          }
         }
        },
        "title": {
         "text": "User Orders by Day of Week and Time of Day"
        },
        "xaxis": {
         "anchor": "y",
         "domain": [
          0,
          1
         ],
         "title": {
          "text": "Day of Week"
         }
        },
        "yaxis": {
         "anchor": "x",
         "domain": [
          0,
          1
         ],
         "title": {
          "text": "User Count"
         }
        }
       }
      }
     },
     "metadata": {},
     "output_type": "display_data"
    }
   ],
   "source": [
    "order_by_day_and_time = data.pivot_table(\n",
    "    index=\"order_dow\", columns=\"order_time\", values=\"user_id\", aggfunc=\"count\"\n",
    ").reset_index()\n",
    "new_order_by_day_and_time = order_by_day_and_time.melt(\n",
    "    id_vars=\"order_dow\",\n",
    "    value_vars=order_by_day_and_time.columns[1:],\n",
    "    var_name=\"order_time\",\n",
    "    value_name=\"count\",\n",
    ")\n",
    "fig = ex.bar(\n",
    "    new_order_by_day_and_time,\n",
    "    x=\"order_dow\",\n",
    "    y=\"count\",\n",
    "    color=\"order_time\",\n",
    "    barmode=\"group\",\n",
    "    labels={\n",
    "        \"order_dow\": \"Day of Week\",\n",
    "        \"count\": \"User Count\",\n",
    "        \"order_time\": \"Order Time\",\n",
    "    },\n",
    "    title=\"User Orders by Day of Week and Time of Day\",\n",
    ")\n",
    "fig.show()"
   ]
  },
  {
   "cell_type": "code",
   "execution_count": null,
   "metadata": {
    "id": "ahsEG7Ddeh0z",
    "outputId": "feac8b19-90e1-475e-a99f-ac70d97bbba5"
   },
   "outputs": [
    {
     "data": {
      "application/vnd.plotly.v1+json": {
       "config": {
        "plotlyServerURL": "https://plot.ly"
       },
       "data": [
        {
         "alignmentgroup": "True",
         "hovertemplate": "days_since_prior_order=%{x}<br>user_id=%{y}<extra></extra>",
         "legendgroup": "",
         "marker": {
          "color": "#636efa",
          "pattern": {
           "shape": ""
          }
         },
         "name": "",
         "offsetgroup": "",
         "orientation": "v",
         "showlegend": false,
         "textposition": "auto",
         "type": "bar",
         "x": [
          30,
          29,
          28,
          27,
          26,
          25,
          24,
          23,
          22,
          21,
          20,
          19,
          18,
          17,
          16,
          15,
          14,
          13,
          12,
          11,
          10,
          9,
          8,
          7,
          6,
          5,
          4,
          3,
          2,
          1,
          0,
          -1
         ],
         "xaxis": "x",
         "y": [
          210814,
          11590,
          16459,
          12804,
          11301,
          11832,
          12833,
          13779,
          19950,
          28359,
          23234,
          20140,
          22777,
          23921,
          28632,
          41531,
          63414,
          52204,
          48171,
          51476,
          62073,
          75120,
          118722,
          214126,
          155685,
          129089,
          126250,
          113263,
          88737,
          59200,
          27673,
          124342
         ],
         "yaxis": "y"
        }
       ],
       "layout": {
        "barmode": "relative",
        "legend": {
         "tracegroupgap": 0
        },
        "margin": {
         "t": 60
        },
        "template": {
         "data": {
          "bar": [
           {
            "error_x": {
             "color": "#2a3f5f"
            },
            "error_y": {
             "color": "#2a3f5f"
            },
            "marker": {
             "line": {
              "color": "#E5ECF6",
              "width": 0.5
             },
             "pattern": {
              "fillmode": "overlay",
              "size": 10,
              "solidity": 0.2
             }
            },
            "type": "bar"
           }
          ],
          "barpolar": [
           {
            "marker": {
             "line": {
              "color": "#E5ECF6",
              "width": 0.5
             },
             "pattern": {
              "fillmode": "overlay",
              "size": 10,
              "solidity": 0.2
             }
            },
            "type": "barpolar"
           }
          ],
          "carpet": [
           {
            "aaxis": {
             "endlinecolor": "#2a3f5f",
             "gridcolor": "white",
             "linecolor": "white",
             "minorgridcolor": "white",
             "startlinecolor": "#2a3f5f"
            },
            "baxis": {
             "endlinecolor": "#2a3f5f",
             "gridcolor": "white",
             "linecolor": "white",
             "minorgridcolor": "white",
             "startlinecolor": "#2a3f5f"
            },
            "type": "carpet"
           }
          ],
          "choropleth": [
           {
            "colorbar": {
             "outlinewidth": 0,
             "ticks": ""
            },
            "type": "choropleth"
           }
          ],
          "contour": [
           {
            "colorbar": {
             "outlinewidth": 0,
             "ticks": ""
            },
            "colorscale": [
             [
              0,
              "#0d0887"
             ],
             [
              0.1111111111111111,
              "#46039f"
             ],
             [
              0.2222222222222222,
              "#7201a8"
             ],
             [
              0.3333333333333333,
              "#9c179e"
             ],
             [
              0.4444444444444444,
              "#bd3786"
             ],
             [
              0.5555555555555556,
              "#d8576b"
             ],
             [
              0.6666666666666666,
              "#ed7953"
             ],
             [
              0.7777777777777778,
              "#fb9f3a"
             ],
             [
              0.8888888888888888,
              "#fdca26"
             ],
             [
              1,
              "#f0f921"
             ]
            ],
            "type": "contour"
           }
          ],
          "contourcarpet": [
           {
            "colorbar": {
             "outlinewidth": 0,
             "ticks": ""
            },
            "type": "contourcarpet"
           }
          ],
          "heatmap": [
           {
            "colorbar": {
             "outlinewidth": 0,
             "ticks": ""
            },
            "colorscale": [
             [
              0,
              "#0d0887"
             ],
             [
              0.1111111111111111,
              "#46039f"
             ],
             [
              0.2222222222222222,
              "#7201a8"
             ],
             [
              0.3333333333333333,
              "#9c179e"
             ],
             [
              0.4444444444444444,
              "#bd3786"
             ],
             [
              0.5555555555555556,
              "#d8576b"
             ],
             [
              0.6666666666666666,
              "#ed7953"
             ],
             [
              0.7777777777777778,
              "#fb9f3a"
             ],
             [
              0.8888888888888888,
              "#fdca26"
             ],
             [
              1,
              "#f0f921"
             ]
            ],
            "type": "heatmap"
           }
          ],
          "heatmapgl": [
           {
            "colorbar": {
             "outlinewidth": 0,
             "ticks": ""
            },
            "colorscale": [
             [
              0,
              "#0d0887"
             ],
             [
              0.1111111111111111,
              "#46039f"
             ],
             [
              0.2222222222222222,
              "#7201a8"
             ],
             [
              0.3333333333333333,
              "#9c179e"
             ],
             [
              0.4444444444444444,
              "#bd3786"
             ],
             [
              0.5555555555555556,
              "#d8576b"
             ],
             [
              0.6666666666666666,
              "#ed7953"
             ],
             [
              0.7777777777777778,
              "#fb9f3a"
             ],
             [
              0.8888888888888888,
              "#fdca26"
             ],
             [
              1,
              "#f0f921"
             ]
            ],
            "type": "heatmapgl"
           }
          ],
          "histogram": [
           {
            "marker": {
             "pattern": {
              "fillmode": "overlay",
              "size": 10,
              "solidity": 0.2
             }
            },
            "type": "histogram"
           }
          ],
          "histogram2d": [
           {
            "colorbar": {
             "outlinewidth": 0,
             "ticks": ""
            },
            "colorscale": [
             [
              0,
              "#0d0887"
             ],
             [
              0.1111111111111111,
              "#46039f"
             ],
             [
              0.2222222222222222,
              "#7201a8"
             ],
             [
              0.3333333333333333,
              "#9c179e"
             ],
             [
              0.4444444444444444,
              "#bd3786"
             ],
             [
              0.5555555555555556,
              "#d8576b"
             ],
             [
              0.6666666666666666,
              "#ed7953"
             ],
             [
              0.7777777777777778,
              "#fb9f3a"
             ],
             [
              0.8888888888888888,
              "#fdca26"
             ],
             [
              1,
              "#f0f921"
             ]
            ],
            "type": "histogram2d"
           }
          ],
          "histogram2dcontour": [
           {
            "colorbar": {
             "outlinewidth": 0,
             "ticks": ""
            },
            "colorscale": [
             [
              0,
              "#0d0887"
             ],
             [
              0.1111111111111111,
              "#46039f"
             ],
             [
              0.2222222222222222,
              "#7201a8"
             ],
             [
              0.3333333333333333,
              "#9c179e"
             ],
             [
              0.4444444444444444,
              "#bd3786"
             ],
             [
              0.5555555555555556,
              "#d8576b"
             ],
             [
              0.6666666666666666,
              "#ed7953"
             ],
             [
              0.7777777777777778,
              "#fb9f3a"
             ],
             [
              0.8888888888888888,
              "#fdca26"
             ],
             [
              1,
              "#f0f921"
             ]
            ],
            "type": "histogram2dcontour"
           }
          ],
          "mesh3d": [
           {
            "colorbar": {
             "outlinewidth": 0,
             "ticks": ""
            },
            "type": "mesh3d"
           }
          ],
          "parcoords": [
           {
            "line": {
             "colorbar": {
              "outlinewidth": 0,
              "ticks": ""
             }
            },
            "type": "parcoords"
           }
          ],
          "pie": [
           {
            "automargin": true,
            "type": "pie"
           }
          ],
          "scatter": [
           {
            "fillpattern": {
             "fillmode": "overlay",
             "size": 10,
             "solidity": 0.2
            },
            "type": "scatter"
           }
          ],
          "scatter3d": [
           {
            "line": {
             "colorbar": {
              "outlinewidth": 0,
              "ticks": ""
             }
            },
            "marker": {
             "colorbar": {
              "outlinewidth": 0,
              "ticks": ""
             }
            },
            "type": "scatter3d"
           }
          ],
          "scattercarpet": [
           {
            "marker": {
             "colorbar": {
              "outlinewidth": 0,
              "ticks": ""
             }
            },
            "type": "scattercarpet"
           }
          ],
          "scattergeo": [
           {
            "marker": {
             "colorbar": {
              "outlinewidth": 0,
              "ticks": ""
             }
            },
            "type": "scattergeo"
           }
          ],
          "scattergl": [
           {
            "marker": {
             "colorbar": {
              "outlinewidth": 0,
              "ticks": ""
             }
            },
            "type": "scattergl"
           }
          ],
          "scattermapbox": [
           {
            "marker": {
             "colorbar": {
              "outlinewidth": 0,
              "ticks": ""
             }
            },
            "type": "scattermapbox"
           }
          ],
          "scatterpolar": [
           {
            "marker": {
             "colorbar": {
              "outlinewidth": 0,
              "ticks": ""
             }
            },
            "type": "scatterpolar"
           }
          ],
          "scatterpolargl": [
           {
            "marker": {
             "colorbar": {
              "outlinewidth": 0,
              "ticks": ""
             }
            },
            "type": "scatterpolargl"
           }
          ],
          "scatterternary": [
           {
            "marker": {
             "colorbar": {
              "outlinewidth": 0,
              "ticks": ""
             }
            },
            "type": "scatterternary"
           }
          ],
          "surface": [
           {
            "colorbar": {
             "outlinewidth": 0,
             "ticks": ""
            },
            "colorscale": [
             [
              0,
              "#0d0887"
             ],
             [
              0.1111111111111111,
              "#46039f"
             ],
             [
              0.2222222222222222,
              "#7201a8"
             ],
             [
              0.3333333333333333,
              "#9c179e"
             ],
             [
              0.4444444444444444,
              "#bd3786"
             ],
             [
              0.5555555555555556,
              "#d8576b"
             ],
             [
              0.6666666666666666,
              "#ed7953"
             ],
             [
              0.7777777777777778,
              "#fb9f3a"
             ],
             [
              0.8888888888888888,
              "#fdca26"
             ],
             [
              1,
              "#f0f921"
             ]
            ],
            "type": "surface"
           }
          ],
          "table": [
           {
            "cells": {
             "fill": {
              "color": "#EBF0F8"
             },
             "line": {
              "color": "white"
             }
            },
            "header": {
             "fill": {
              "color": "#C8D4E3"
             },
             "line": {
              "color": "white"
             }
            },
            "type": "table"
           }
          ]
         },
         "layout": {
          "annotationdefaults": {
           "arrowcolor": "#2a3f5f",
           "arrowhead": 0,
           "arrowwidth": 1
          },
          "autotypenumbers": "strict",
          "coloraxis": {
           "colorbar": {
            "outlinewidth": 0,
            "ticks": ""
           }
          },
          "colorscale": {
           "diverging": [
            [
             0,
             "#8e0152"
            ],
            [
             0.1,
             "#c51b7d"
            ],
            [
             0.2,
             "#de77ae"
            ],
            [
             0.3,
             "#f1b6da"
            ],
            [
             0.4,
             "#fde0ef"
            ],
            [
             0.5,
             "#f7f7f7"
            ],
            [
             0.6,
             "#e6f5d0"
            ],
            [
             0.7,
             "#b8e186"
            ],
            [
             0.8,
             "#7fbc41"
            ],
            [
             0.9,
             "#4d9221"
            ],
            [
             1,
             "#276419"
            ]
           ],
           "sequential": [
            [
             0,
             "#0d0887"
            ],
            [
             0.1111111111111111,
             "#46039f"
            ],
            [
             0.2222222222222222,
             "#7201a8"
            ],
            [
             0.3333333333333333,
             "#9c179e"
            ],
            [
             0.4444444444444444,
             "#bd3786"
            ],
            [
             0.5555555555555556,
             "#d8576b"
            ],
            [
             0.6666666666666666,
             "#ed7953"
            ],
            [
             0.7777777777777778,
             "#fb9f3a"
            ],
            [
             0.8888888888888888,
             "#fdca26"
            ],
            [
             1,
             "#f0f921"
            ]
           ],
           "sequentialminus": [
            [
             0,
             "#0d0887"
            ],
            [
             0.1111111111111111,
             "#46039f"
            ],
            [
             0.2222222222222222,
             "#7201a8"
            ],
            [
             0.3333333333333333,
             "#9c179e"
            ],
            [
             0.4444444444444444,
             "#bd3786"
            ],
            [
             0.5555555555555556,
             "#d8576b"
            ],
            [
             0.6666666666666666,
             "#ed7953"
            ],
            [
             0.7777777777777778,
             "#fb9f3a"
            ],
            [
             0.8888888888888888,
             "#fdca26"
            ],
            [
             1,
             "#f0f921"
            ]
           ]
          },
          "colorway": [
           "#636efa",
           "#EF553B",
           "#00cc96",
           "#ab63fa",
           "#FFA15A",
           "#19d3f3",
           "#FF6692",
           "#B6E880",
           "#FF97FF",
           "#FECB52"
          ],
          "font": {
           "color": "#2a3f5f"
          },
          "geo": {
           "bgcolor": "white",
           "lakecolor": "white",
           "landcolor": "#E5ECF6",
           "showlakes": true,
           "showland": true,
           "subunitcolor": "white"
          },
          "hoverlabel": {
           "align": "left"
          },
          "hovermode": "closest",
          "mapbox": {
           "style": "light"
          },
          "paper_bgcolor": "white",
          "plot_bgcolor": "#E5ECF6",
          "polar": {
           "angularaxis": {
            "gridcolor": "white",
            "linecolor": "white",
            "ticks": ""
           },
           "bgcolor": "#E5ECF6",
           "radialaxis": {
            "gridcolor": "white",
            "linecolor": "white",
            "ticks": ""
           }
          },
          "scene": {
           "xaxis": {
            "backgroundcolor": "#E5ECF6",
            "gridcolor": "white",
            "gridwidth": 2,
            "linecolor": "white",
            "showbackground": true,
            "ticks": "",
            "zerolinecolor": "white"
           },
           "yaxis": {
            "backgroundcolor": "#E5ECF6",
            "gridcolor": "white",
            "gridwidth": 2,
            "linecolor": "white",
            "showbackground": true,
            "ticks": "",
            "zerolinecolor": "white"
           },
           "zaxis": {
            "backgroundcolor": "#E5ECF6",
            "gridcolor": "white",
            "gridwidth": 2,
            "linecolor": "white",
            "showbackground": true,
            "ticks": "",
            "zerolinecolor": "white"
           }
          },
          "shapedefaults": {
           "line": {
            "color": "#2a3f5f"
           }
          },
          "ternary": {
           "aaxis": {
            "gridcolor": "white",
            "linecolor": "white",
            "ticks": ""
           },
           "baxis": {
            "gridcolor": "white",
            "linecolor": "white",
            "ticks": ""
           },
           "bgcolor": "#E5ECF6",
           "caxis": {
            "gridcolor": "white",
            "linecolor": "white",
            "ticks": ""
           }
          },
          "title": {
           "x": 0.05
          },
          "xaxis": {
           "automargin": true,
           "gridcolor": "white",
           "linecolor": "white",
           "ticks": "",
           "title": {
            "standoff": 15
           },
           "zerolinecolor": "white",
           "zerolinewidth": 2
          },
          "yaxis": {
           "automargin": true,
           "gridcolor": "white",
           "linecolor": "white",
           "ticks": "",
           "title": {
            "standoff": 15
           },
           "zerolinecolor": "white",
           "zerolinewidth": 2
          }
         }
        },
        "xaxis": {
         "anchor": "y",
         "domain": [
          0,
          1
         ],
         "title": {
          "text": "days_since_prior_order"
         }
        },
        "yaxis": {
         "anchor": "x",
         "domain": [
          0,
          1
         ],
         "title": {
          "text": "user_id"
         }
        }
       }
      }
     },
     "metadata": {},
     "output_type": "display_data"
    }
   ],
   "source": [
    "history_of_order = (\n",
    "    data.groupby(\"days_since_prior_order\")[\"user_id\"]\n",
    "    .agg(\"count\")\n",
    "    .reset_index()\n",
    "    .sort_values(by=\"days_since_prior_order\", ascending=False)\n",
    ")\n",
    "fig = ex.bar(history_of_order, x=\"days_since_prior_order\", y=\"user_id\")\n",
    "fig.show()"
   ]
  },
  {
   "cell_type": "code",
   "execution_count": null,
   "metadata": {
    "id": "o1LNbObJeh0z",
    "outputId": "255d7b23-cff8-478a-d319-a5438f44775c"
   },
   "outputs": [
    {
     "data": {
      "text/plain": [
       "Index(['order_id', 'user_id', 'order_number', 'order_dow', 'order_hour_of_day',\n",
       "       'days_since_prior_order', 'product_id', 'add_to_cart_order',\n",
       "       'reordered', 'department_id', 'department', 'product_name',\n",
       "       'order_number_group', 'order_time'],\n",
       "      dtype='object')"
      ]
     },
     "execution_count": 122,
     "metadata": {},
     "output_type": "execute_result"
    }
   ],
   "source": [
    "data.columns"
   ]
  },
  {
   "cell_type": "code",
   "execution_count": null,
   "metadata": {
    "id": "dXUsnZ_jeh0z",
    "outputId": "ea86059a-f2ca-49a0-f9c1-09e874411408"
   },
   "outputs": [
    {
     "data": {
      "application/vnd.plotly.v1+json": {
       "config": {
        "plotlyServerURL": "https://plot.ly"
       },
       "data": [
        {
         "domain": {
          "x": [
           0,
           1
          ],
          "y": [
           0,
           1
          ]
         },
         "hovertemplate": "product_name=%{label}<br>count=%{value}<extra></extra>",
         "labels": [
          "fresh fruits",
          "fresh vegetables",
          "packaged vegetables fruits",
          "yogurt",
          "packaged cheese",
          "milk",
          "water seltzer sparkling water",
          "chips pretzels",
          "soy lactosefree",
          "bread",
          "refrigerated",
          "frozen produce",
          "ice cream ice",
          "energy granola bars",
          "crackers",
          "eggs",
          "lunch meat",
          "frozen meals",
          "cereal",
          "baby food formula"
         ],
         "legendgroup": "",
         "name": "",
         "showlegend": true,
         "type": "pie",
         "values": [
          226039,
          212611,
          109596,
          90751,
          61502,
          55150,
          52564,
          45306,
          39389,
          36381,
          35893,
          32432,
          31323,
          28639,
          28574,
          27986,
          24470,
          24449,
          23754,
          23355
         ]
        }
       ],
       "layout": {
        "legend": {
         "tracegroupgap": 0
        },
        "template": {
         "data": {
          "bar": [
           {
            "error_x": {
             "color": "#2a3f5f"
            },
            "error_y": {
             "color": "#2a3f5f"
            },
            "marker": {
             "line": {
              "color": "#E5ECF6",
              "width": 0.5
             },
             "pattern": {
              "fillmode": "overlay",
              "size": 10,
              "solidity": 0.2
             }
            },
            "type": "bar"
           }
          ],
          "barpolar": [
           {
            "marker": {
             "line": {
              "color": "#E5ECF6",
              "width": 0.5
             },
             "pattern": {
              "fillmode": "overlay",
              "size": 10,
              "solidity": 0.2
             }
            },
            "type": "barpolar"
           }
          ],
          "carpet": [
           {
            "aaxis": {
             "endlinecolor": "#2a3f5f",
             "gridcolor": "white",
             "linecolor": "white",
             "minorgridcolor": "white",
             "startlinecolor": "#2a3f5f"
            },
            "baxis": {
             "endlinecolor": "#2a3f5f",
             "gridcolor": "white",
             "linecolor": "white",
             "minorgridcolor": "white",
             "startlinecolor": "#2a3f5f"
            },
            "type": "carpet"
           }
          ],
          "choropleth": [
           {
            "colorbar": {
             "outlinewidth": 0,
             "ticks": ""
            },
            "type": "choropleth"
           }
          ],
          "contour": [
           {
            "colorbar": {
             "outlinewidth": 0,
             "ticks": ""
            },
            "colorscale": [
             [
              0,
              "#0d0887"
             ],
             [
              0.1111111111111111,
              "#46039f"
             ],
             [
              0.2222222222222222,
              "#7201a8"
             ],
             [
              0.3333333333333333,
              "#9c179e"
             ],
             [
              0.4444444444444444,
              "#bd3786"
             ],
             [
              0.5555555555555556,
              "#d8576b"
             ],
             [
              0.6666666666666666,
              "#ed7953"
             ],
             [
              0.7777777777777778,
              "#fb9f3a"
             ],
             [
              0.8888888888888888,
              "#fdca26"
             ],
             [
              1,
              "#f0f921"
             ]
            ],
            "type": "contour"
           }
          ],
          "contourcarpet": [
           {
            "colorbar": {
             "outlinewidth": 0,
             "ticks": ""
            },
            "type": "contourcarpet"
           }
          ],
          "heatmap": [
           {
            "colorbar": {
             "outlinewidth": 0,
             "ticks": ""
            },
            "colorscale": [
             [
              0,
              "#0d0887"
             ],
             [
              0.1111111111111111,
              "#46039f"
             ],
             [
              0.2222222222222222,
              "#7201a8"
             ],
             [
              0.3333333333333333,
              "#9c179e"
             ],
             [
              0.4444444444444444,
              "#bd3786"
             ],
             [
              0.5555555555555556,
              "#d8576b"
             ],
             [
              0.6666666666666666,
              "#ed7953"
             ],
             [
              0.7777777777777778,
              "#fb9f3a"
             ],
             [
              0.8888888888888888,
              "#fdca26"
             ],
             [
              1,
              "#f0f921"
             ]
            ],
            "type": "heatmap"
           }
          ],
          "heatmapgl": [
           {
            "colorbar": {
             "outlinewidth": 0,
             "ticks": ""
            },
            "colorscale": [
             [
              0,
              "#0d0887"
             ],
             [
              0.1111111111111111,
              "#46039f"
             ],
             [
              0.2222222222222222,
              "#7201a8"
             ],
             [
              0.3333333333333333,
              "#9c179e"
             ],
             [
              0.4444444444444444,
              "#bd3786"
             ],
             [
              0.5555555555555556,
              "#d8576b"
             ],
             [
              0.6666666666666666,
              "#ed7953"
             ],
             [
              0.7777777777777778,
              "#fb9f3a"
             ],
             [
              0.8888888888888888,
              "#fdca26"
             ],
             [
              1,
              "#f0f921"
             ]
            ],
            "type": "heatmapgl"
           }
          ],
          "histogram": [
           {
            "marker": {
             "pattern": {
              "fillmode": "overlay",
              "size": 10,
              "solidity": 0.2
             }
            },
            "type": "histogram"
           }
          ],
          "histogram2d": [
           {
            "colorbar": {
             "outlinewidth": 0,
             "ticks": ""
            },
            "colorscale": [
             [
              0,
              "#0d0887"
             ],
             [
              0.1111111111111111,
              "#46039f"
             ],
             [
              0.2222222222222222,
              "#7201a8"
             ],
             [
              0.3333333333333333,
              "#9c179e"
             ],
             [
              0.4444444444444444,
              "#bd3786"
             ],
             [
              0.5555555555555556,
              "#d8576b"
             ],
             [
              0.6666666666666666,
              "#ed7953"
             ],
             [
              0.7777777777777778,
              "#fb9f3a"
             ],
             [
              0.8888888888888888,
              "#fdca26"
             ],
             [
              1,
              "#f0f921"
             ]
            ],
            "type": "histogram2d"
           }
          ],
          "histogram2dcontour": [
           {
            "colorbar": {
             "outlinewidth": 0,
             "ticks": ""
            },
            "colorscale": [
             [
              0,
              "#0d0887"
             ],
             [
              0.1111111111111111,
              "#46039f"
             ],
             [
              0.2222222222222222,
              "#7201a8"
             ],
             [
              0.3333333333333333,
              "#9c179e"
             ],
             [
              0.4444444444444444,
              "#bd3786"
             ],
             [
              0.5555555555555556,
              "#d8576b"
             ],
             [
              0.6666666666666666,
              "#ed7953"
             ],
             [
              0.7777777777777778,
              "#fb9f3a"
             ],
             [
              0.8888888888888888,
              "#fdca26"
             ],
             [
              1,
              "#f0f921"
             ]
            ],
            "type": "histogram2dcontour"
           }
          ],
          "mesh3d": [
           {
            "colorbar": {
             "outlinewidth": 0,
             "ticks": ""
            },
            "type": "mesh3d"
           }
          ],
          "parcoords": [
           {
            "line": {
             "colorbar": {
              "outlinewidth": 0,
              "ticks": ""
             }
            },
            "type": "parcoords"
           }
          ],
          "pie": [
           {
            "automargin": true,
            "type": "pie"
           }
          ],
          "scatter": [
           {
            "fillpattern": {
             "fillmode": "overlay",
             "size": 10,
             "solidity": 0.2
            },
            "type": "scatter"
           }
          ],
          "scatter3d": [
           {
            "line": {
             "colorbar": {
              "outlinewidth": 0,
              "ticks": ""
             }
            },
            "marker": {
             "colorbar": {
              "outlinewidth": 0,
              "ticks": ""
             }
            },
            "type": "scatter3d"
           }
          ],
          "scattercarpet": [
           {
            "marker": {
             "colorbar": {
              "outlinewidth": 0,
              "ticks": ""
             }
            },
            "type": "scattercarpet"
           }
          ],
          "scattergeo": [
           {
            "marker": {
             "colorbar": {
              "outlinewidth": 0,
              "ticks": ""
             }
            },
            "type": "scattergeo"
           }
          ],
          "scattergl": [
           {
            "marker": {
             "colorbar": {
              "outlinewidth": 0,
              "ticks": ""
             }
            },
            "type": "scattergl"
           }
          ],
          "scattermapbox": [
           {
            "marker": {
             "colorbar": {
              "outlinewidth": 0,
              "ticks": ""
             }
            },
            "type": "scattermapbox"
           }
          ],
          "scatterpolar": [
           {
            "marker": {
             "colorbar": {
              "outlinewidth": 0,
              "ticks": ""
             }
            },
            "type": "scatterpolar"
           }
          ],
          "scatterpolargl": [
           {
            "marker": {
             "colorbar": {
              "outlinewidth": 0,
              "ticks": ""
             }
            },
            "type": "scatterpolargl"
           }
          ],
          "scatterternary": [
           {
            "marker": {
             "colorbar": {
              "outlinewidth": 0,
              "ticks": ""
             }
            },
            "type": "scatterternary"
           }
          ],
          "surface": [
           {
            "colorbar": {
             "outlinewidth": 0,
             "ticks": ""
            },
            "colorscale": [
             [
              0,
              "#0d0887"
             ],
             [
              0.1111111111111111,
              "#46039f"
             ],
             [
              0.2222222222222222,
              "#7201a8"
             ],
             [
              0.3333333333333333,
              "#9c179e"
             ],
             [
              0.4444444444444444,
              "#bd3786"
             ],
             [
              0.5555555555555556,
              "#d8576b"
             ],
             [
              0.6666666666666666,
              "#ed7953"
             ],
             [
              0.7777777777777778,
              "#fb9f3a"
             ],
             [
              0.8888888888888888,
              "#fdca26"
             ],
             [
              1,
              "#f0f921"
             ]
            ],
            "type": "surface"
           }
          ],
          "table": [
           {
            "cells": {
             "fill": {
              "color": "#EBF0F8"
             },
             "line": {
              "color": "white"
             }
            },
            "header": {
             "fill": {
              "color": "#C8D4E3"
             },
             "line": {
              "color": "white"
             }
            },
            "type": "table"
           }
          ]
         },
         "layout": {
          "annotationdefaults": {
           "arrowcolor": "#2a3f5f",
           "arrowhead": 0,
           "arrowwidth": 1
          },
          "autotypenumbers": "strict",
          "coloraxis": {
           "colorbar": {
            "outlinewidth": 0,
            "ticks": ""
           }
          },
          "colorscale": {
           "diverging": [
            [
             0,
             "#8e0152"
            ],
            [
             0.1,
             "#c51b7d"
            ],
            [
             0.2,
             "#de77ae"
            ],
            [
             0.3,
             "#f1b6da"
            ],
            [
             0.4,
             "#fde0ef"
            ],
            [
             0.5,
             "#f7f7f7"
            ],
            [
             0.6,
             "#e6f5d0"
            ],
            [
             0.7,
             "#b8e186"
            ],
            [
             0.8,
             "#7fbc41"
            ],
            [
             0.9,
             "#4d9221"
            ],
            [
             1,
             "#276419"
            ]
           ],
           "sequential": [
            [
             0,
             "#0d0887"
            ],
            [
             0.1111111111111111,
             "#46039f"
            ],
            [
             0.2222222222222222,
             "#7201a8"
            ],
            [
             0.3333333333333333,
             "#9c179e"
            ],
            [
             0.4444444444444444,
             "#bd3786"
            ],
            [
             0.5555555555555556,
             "#d8576b"
            ],
            [
             0.6666666666666666,
             "#ed7953"
            ],
            [
             0.7777777777777778,
             "#fb9f3a"
            ],
            [
             0.8888888888888888,
             "#fdca26"
            ],
            [
             1,
             "#f0f921"
            ]
           ],
           "sequentialminus": [
            [
             0,
             "#0d0887"
            ],
            [
             0.1111111111111111,
             "#46039f"
            ],
            [
             0.2222222222222222,
             "#7201a8"
            ],
            [
             0.3333333333333333,
             "#9c179e"
            ],
            [
             0.4444444444444444,
             "#bd3786"
            ],
            [
             0.5555555555555556,
             "#d8576b"
            ],
            [
             0.6666666666666666,
             "#ed7953"
            ],
            [
             0.7777777777777778,
             "#fb9f3a"
            ],
            [
             0.8888888888888888,
             "#fdca26"
            ],
            [
             1,
             "#f0f921"
            ]
           ]
          },
          "colorway": [
           "#636efa",
           "#EF553B",
           "#00cc96",
           "#ab63fa",
           "#FFA15A",
           "#19d3f3",
           "#FF6692",
           "#B6E880",
           "#FF97FF",
           "#FECB52"
          ],
          "font": {
           "color": "#2a3f5f"
          },
          "geo": {
           "bgcolor": "white",
           "lakecolor": "white",
           "landcolor": "#E5ECF6",
           "showlakes": true,
           "showland": true,
           "subunitcolor": "white"
          },
          "hoverlabel": {
           "align": "left"
          },
          "hovermode": "closest",
          "mapbox": {
           "style": "light"
          },
          "paper_bgcolor": "white",
          "plot_bgcolor": "#E5ECF6",
          "polar": {
           "angularaxis": {
            "gridcolor": "white",
            "linecolor": "white",
            "ticks": ""
           },
           "bgcolor": "#E5ECF6",
           "radialaxis": {
            "gridcolor": "white",
            "linecolor": "white",
            "ticks": ""
           }
          },
          "scene": {
           "xaxis": {
            "backgroundcolor": "#E5ECF6",
            "gridcolor": "white",
            "gridwidth": 2,
            "linecolor": "white",
            "showbackground": true,
            "ticks": "",
            "zerolinecolor": "white"
           },
           "yaxis": {
            "backgroundcolor": "#E5ECF6",
            "gridcolor": "white",
            "gridwidth": 2,
            "linecolor": "white",
            "showbackground": true,
            "ticks": "",
            "zerolinecolor": "white"
           },
           "zaxis": {
            "backgroundcolor": "#E5ECF6",
            "gridcolor": "white",
            "gridwidth": 2,
            "linecolor": "white",
            "showbackground": true,
            "ticks": "",
            "zerolinecolor": "white"
           }
          },
          "shapedefaults": {
           "line": {
            "color": "#2a3f5f"
           }
          },
          "ternary": {
           "aaxis": {
            "gridcolor": "white",
            "linecolor": "white",
            "ticks": ""
           },
           "baxis": {
            "gridcolor": "white",
            "linecolor": "white",
            "ticks": ""
           },
           "bgcolor": "#E5ECF6",
           "caxis": {
            "gridcolor": "white",
            "linecolor": "white",
            "ticks": ""
           }
          },
          "title": {
           "x": 0.05
          },
          "xaxis": {
           "automargin": true,
           "gridcolor": "white",
           "linecolor": "white",
           "ticks": "",
           "title": {
            "standoff": 15
           },
           "zerolinecolor": "white",
           "zerolinewidth": 2
          },
          "yaxis": {
           "automargin": true,
           "gridcolor": "white",
           "linecolor": "white",
           "ticks": "",
           "title": {
            "standoff": 15
           },
           "zerolinecolor": "white",
           "zerolinewidth": 2
          }
         }
        },
        "title": {
         "text": "Top 20 Most popular Products"
        }
       }
      }
     },
     "metadata": {},
     "output_type": "display_data"
    }
   ],
   "source": [
    "top_20_popular_products = (\n",
    "    data.groupby(\"product_name\")[\"user_id\"]\n",
    "    .agg([\"count\"])\n",
    "    .reset_index()\n",
    "    .sort_values(by=\"count\", ascending=False)\n",
    "    .head(20)\n",
    ")\n",
    "\n",
    "fig = ex.pie(\n",
    "    top_20_popular_products,\n",
    "    values=\"count\",\n",
    "    names=\"product_name\",\n",
    "    title=\"Top 20 Most popular Products\",\n",
    ")\n",
    "fig.show()"
   ]
  },
  {
   "cell_type": "code",
   "execution_count": null,
   "metadata": {
    "id": "CL7j96udeh00",
    "outputId": "d391393c-6d01-4403-d801-7a65d370459e"
   },
   "outputs": [
    {
     "data": {
      "application/vnd.plotly.v1+json": {
       "config": {
        "plotlyServerURL": "https://plot.ly"
       },
       "data": [
        {
         "alignmentgroup": "True",
         "hovertemplate": "count=%{x}<br>department=%{y}<extra></extra>",
         "legendgroup": "",
         "marker": {
          "color": "#636efa",
          "pattern": {
           "shape": ""
          }
         },
         "name": "",
         "offsetgroup": "",
         "orientation": "h",
         "showlegend": false,
         "textposition": "auto",
         "type": "bar",
         "x": [
          588996,
          336915,
          180692,
          168126,
          139536,
          116262,
          72983,
          66053,
          65176,
          54054,
          46446,
          44605,
          44271,
          28134,
          25940,
          16738,
          9439,
          6013,
          4749,
          2240,
          2133
         ],
         "xaxis": "x",
         "y": [
          "produce",
          "dairy eggs",
          "snacks",
          "beverages",
          "frozen",
          "pantry",
          "bakery",
          "canned goods",
          "deli",
          "dry goods pasta",
          "household",
          "breakfast",
          "meat seafood",
          "personal care",
          "babies",
          "international",
          "alcohol",
          "pets",
          "missing",
          "other",
          "bulk"
         ],
         "yaxis": "y"
        }
       ],
       "layout": {
        "barmode": "relative",
        "legend": {
         "tracegroupgap": 0
        },
        "margin": {
         "t": 60
        },
        "template": {
         "data": {
          "bar": [
           {
            "error_x": {
             "color": "#2a3f5f"
            },
            "error_y": {
             "color": "#2a3f5f"
            },
            "marker": {
             "line": {
              "color": "#E5ECF6",
              "width": 0.5
             },
             "pattern": {
              "fillmode": "overlay",
              "size": 10,
              "solidity": 0.2
             }
            },
            "type": "bar"
           }
          ],
          "barpolar": [
           {
            "marker": {
             "line": {
              "color": "#E5ECF6",
              "width": 0.5
             },
             "pattern": {
              "fillmode": "overlay",
              "size": 10,
              "solidity": 0.2
             }
            },
            "type": "barpolar"
           }
          ],
          "carpet": [
           {
            "aaxis": {
             "endlinecolor": "#2a3f5f",
             "gridcolor": "white",
             "linecolor": "white",
             "minorgridcolor": "white",
             "startlinecolor": "#2a3f5f"
            },
            "baxis": {
             "endlinecolor": "#2a3f5f",
             "gridcolor": "white",
             "linecolor": "white",
             "minorgridcolor": "white",
             "startlinecolor": "#2a3f5f"
            },
            "type": "carpet"
           }
          ],
          "choropleth": [
           {
            "colorbar": {
             "outlinewidth": 0,
             "ticks": ""
            },
            "type": "choropleth"
           }
          ],
          "contour": [
           {
            "colorbar": {
             "outlinewidth": 0,
             "ticks": ""
            },
            "colorscale": [
             [
              0,
              "#0d0887"
             ],
             [
              0.1111111111111111,
              "#46039f"
             ],
             [
              0.2222222222222222,
              "#7201a8"
             ],
             [
              0.3333333333333333,
              "#9c179e"
             ],
             [
              0.4444444444444444,
              "#bd3786"
             ],
             [
              0.5555555555555556,
              "#d8576b"
             ],
             [
              0.6666666666666666,
              "#ed7953"
             ],
             [
              0.7777777777777778,
              "#fb9f3a"
             ],
             [
              0.8888888888888888,
              "#fdca26"
             ],
             [
              1,
              "#f0f921"
             ]
            ],
            "type": "contour"
           }
          ],
          "contourcarpet": [
           {
            "colorbar": {
             "outlinewidth": 0,
             "ticks": ""
            },
            "type": "contourcarpet"
           }
          ],
          "heatmap": [
           {
            "colorbar": {
             "outlinewidth": 0,
             "ticks": ""
            },
            "colorscale": [
             [
              0,
              "#0d0887"
             ],
             [
              0.1111111111111111,
              "#46039f"
             ],
             [
              0.2222222222222222,
              "#7201a8"
             ],
             [
              0.3333333333333333,
              "#9c179e"
             ],
             [
              0.4444444444444444,
              "#bd3786"
             ],
             [
              0.5555555555555556,
              "#d8576b"
             ],
             [
              0.6666666666666666,
              "#ed7953"
             ],
             [
              0.7777777777777778,
              "#fb9f3a"
             ],
             [
              0.8888888888888888,
              "#fdca26"
             ],
             [
              1,
              "#f0f921"
             ]
            ],
            "type": "heatmap"
           }
          ],
          "heatmapgl": [
           {
            "colorbar": {
             "outlinewidth": 0,
             "ticks": ""
            },
            "colorscale": [
             [
              0,
              "#0d0887"
             ],
             [
              0.1111111111111111,
              "#46039f"
             ],
             [
              0.2222222222222222,
              "#7201a8"
             ],
             [
              0.3333333333333333,
              "#9c179e"
             ],
             [
              0.4444444444444444,
              "#bd3786"
             ],
             [
              0.5555555555555556,
              "#d8576b"
             ],
             [
              0.6666666666666666,
              "#ed7953"
             ],
             [
              0.7777777777777778,
              "#fb9f3a"
             ],
             [
              0.8888888888888888,
              "#fdca26"
             ],
             [
              1,
              "#f0f921"
             ]
            ],
            "type": "heatmapgl"
           }
          ],
          "histogram": [
           {
            "marker": {
             "pattern": {
              "fillmode": "overlay",
              "size": 10,
              "solidity": 0.2
             }
            },
            "type": "histogram"
           }
          ],
          "histogram2d": [
           {
            "colorbar": {
             "outlinewidth": 0,
             "ticks": ""
            },
            "colorscale": [
             [
              0,
              "#0d0887"
             ],
             [
              0.1111111111111111,
              "#46039f"
             ],
             [
              0.2222222222222222,
              "#7201a8"
             ],
             [
              0.3333333333333333,
              "#9c179e"
             ],
             [
              0.4444444444444444,
              "#bd3786"
             ],
             [
              0.5555555555555556,
              "#d8576b"
             ],
             [
              0.6666666666666666,
              "#ed7953"
             ],
             [
              0.7777777777777778,
              "#fb9f3a"
             ],
             [
              0.8888888888888888,
              "#fdca26"
             ],
             [
              1,
              "#f0f921"
             ]
            ],
            "type": "histogram2d"
           }
          ],
          "histogram2dcontour": [
           {
            "colorbar": {
             "outlinewidth": 0,
             "ticks": ""
            },
            "colorscale": [
             [
              0,
              "#0d0887"
             ],
             [
              0.1111111111111111,
              "#46039f"
             ],
             [
              0.2222222222222222,
              "#7201a8"
             ],
             [
              0.3333333333333333,
              "#9c179e"
             ],
             [
              0.4444444444444444,
              "#bd3786"
             ],
             [
              0.5555555555555556,
              "#d8576b"
             ],
             [
              0.6666666666666666,
              "#ed7953"
             ],
             [
              0.7777777777777778,
              "#fb9f3a"
             ],
             [
              0.8888888888888888,
              "#fdca26"
             ],
             [
              1,
              "#f0f921"
             ]
            ],
            "type": "histogram2dcontour"
           }
          ],
          "mesh3d": [
           {
            "colorbar": {
             "outlinewidth": 0,
             "ticks": ""
            },
            "type": "mesh3d"
           }
          ],
          "parcoords": [
           {
            "line": {
             "colorbar": {
              "outlinewidth": 0,
              "ticks": ""
             }
            },
            "type": "parcoords"
           }
          ],
          "pie": [
           {
            "automargin": true,
            "type": "pie"
           }
          ],
          "scatter": [
           {
            "fillpattern": {
             "fillmode": "overlay",
             "size": 10,
             "solidity": 0.2
            },
            "type": "scatter"
           }
          ],
          "scatter3d": [
           {
            "line": {
             "colorbar": {
              "outlinewidth": 0,
              "ticks": ""
             }
            },
            "marker": {
             "colorbar": {
              "outlinewidth": 0,
              "ticks": ""
             }
            },
            "type": "scatter3d"
           }
          ],
          "scattercarpet": [
           {
            "marker": {
             "colorbar": {
              "outlinewidth": 0,
              "ticks": ""
             }
            },
            "type": "scattercarpet"
           }
          ],
          "scattergeo": [
           {
            "marker": {
             "colorbar": {
              "outlinewidth": 0,
              "ticks": ""
             }
            },
            "type": "scattergeo"
           }
          ],
          "scattergl": [
           {
            "marker": {
             "colorbar": {
              "outlinewidth": 0,
              "ticks": ""
             }
            },
            "type": "scattergl"
           }
          ],
          "scattermapbox": [
           {
            "marker": {
             "colorbar": {
              "outlinewidth": 0,
              "ticks": ""
             }
            },
            "type": "scattermapbox"
           }
          ],
          "scatterpolar": [
           {
            "marker": {
             "colorbar": {
              "outlinewidth": 0,
              "ticks": ""
             }
            },
            "type": "scatterpolar"
           }
          ],
          "scatterpolargl": [
           {
            "marker": {
             "colorbar": {
              "outlinewidth": 0,
              "ticks": ""
             }
            },
            "type": "scatterpolargl"
           }
          ],
          "scatterternary": [
           {
            "marker": {
             "colorbar": {
              "outlinewidth": 0,
              "ticks": ""
             }
            },
            "type": "scatterternary"
           }
          ],
          "surface": [
           {
            "colorbar": {
             "outlinewidth": 0,
             "ticks": ""
            },
            "colorscale": [
             [
              0,
              "#0d0887"
             ],
             [
              0.1111111111111111,
              "#46039f"
             ],
             [
              0.2222222222222222,
              "#7201a8"
             ],
             [
              0.3333333333333333,
              "#9c179e"
             ],
             [
              0.4444444444444444,
              "#bd3786"
             ],
             [
              0.5555555555555556,
              "#d8576b"
             ],
             [
              0.6666666666666666,
              "#ed7953"
             ],
             [
              0.7777777777777778,
              "#fb9f3a"
             ],
             [
              0.8888888888888888,
              "#fdca26"
             ],
             [
              1,
              "#f0f921"
             ]
            ],
            "type": "surface"
           }
          ],
          "table": [
           {
            "cells": {
             "fill": {
              "color": "#EBF0F8"
             },
             "line": {
              "color": "white"
             }
            },
            "header": {
             "fill": {
              "color": "#C8D4E3"
             },
             "line": {
              "color": "white"
             }
            },
            "type": "table"
           }
          ]
         },
         "layout": {
          "annotationdefaults": {
           "arrowcolor": "#2a3f5f",
           "arrowhead": 0,
           "arrowwidth": 1
          },
          "autotypenumbers": "strict",
          "coloraxis": {
           "colorbar": {
            "outlinewidth": 0,
            "ticks": ""
           }
          },
          "colorscale": {
           "diverging": [
            [
             0,
             "#8e0152"
            ],
            [
             0.1,
             "#c51b7d"
            ],
            [
             0.2,
             "#de77ae"
            ],
            [
             0.3,
             "#f1b6da"
            ],
            [
             0.4,
             "#fde0ef"
            ],
            [
             0.5,
             "#f7f7f7"
            ],
            [
             0.6,
             "#e6f5d0"
            ],
            [
             0.7,
             "#b8e186"
            ],
            [
             0.8,
             "#7fbc41"
            ],
            [
             0.9,
             "#4d9221"
            ],
            [
             1,
             "#276419"
            ]
           ],
           "sequential": [
            [
             0,
             "#0d0887"
            ],
            [
             0.1111111111111111,
             "#46039f"
            ],
            [
             0.2222222222222222,
             "#7201a8"
            ],
            [
             0.3333333333333333,
             "#9c179e"
            ],
            [
             0.4444444444444444,
             "#bd3786"
            ],
            [
             0.5555555555555556,
             "#d8576b"
            ],
            [
             0.6666666666666666,
             "#ed7953"
            ],
            [
             0.7777777777777778,
             "#fb9f3a"
            ],
            [
             0.8888888888888888,
             "#fdca26"
            ],
            [
             1,
             "#f0f921"
            ]
           ],
           "sequentialminus": [
            [
             0,
             "#0d0887"
            ],
            [
             0.1111111111111111,
             "#46039f"
            ],
            [
             0.2222222222222222,
             "#7201a8"
            ],
            [
             0.3333333333333333,
             "#9c179e"
            ],
            [
             0.4444444444444444,
             "#bd3786"
            ],
            [
             0.5555555555555556,
             "#d8576b"
            ],
            [
             0.6666666666666666,
             "#ed7953"
            ],
            [
             0.7777777777777778,
             "#fb9f3a"
            ],
            [
             0.8888888888888888,
             "#fdca26"
            ],
            [
             1,
             "#f0f921"
            ]
           ]
          },
          "colorway": [
           "#636efa",
           "#EF553B",
           "#00cc96",
           "#ab63fa",
           "#FFA15A",
           "#19d3f3",
           "#FF6692",
           "#B6E880",
           "#FF97FF",
           "#FECB52"
          ],
          "font": {
           "color": "#2a3f5f"
          },
          "geo": {
           "bgcolor": "white",
           "lakecolor": "white",
           "landcolor": "#E5ECF6",
           "showlakes": true,
           "showland": true,
           "subunitcolor": "white"
          },
          "hoverlabel": {
           "align": "left"
          },
          "hovermode": "closest",
          "mapbox": {
           "style": "light"
          },
          "paper_bgcolor": "white",
          "plot_bgcolor": "#E5ECF6",
          "polar": {
           "angularaxis": {
            "gridcolor": "white",
            "linecolor": "white",
            "ticks": ""
           },
           "bgcolor": "#E5ECF6",
           "radialaxis": {
            "gridcolor": "white",
            "linecolor": "white",
            "ticks": ""
           }
          },
          "scene": {
           "xaxis": {
            "backgroundcolor": "#E5ECF6",
            "gridcolor": "white",
            "gridwidth": 2,
            "linecolor": "white",
            "showbackground": true,
            "ticks": "",
            "zerolinecolor": "white"
           },
           "yaxis": {
            "backgroundcolor": "#E5ECF6",
            "gridcolor": "white",
            "gridwidth": 2,
            "linecolor": "white",
            "showbackground": true,
            "ticks": "",
            "zerolinecolor": "white"
           },
           "zaxis": {
            "backgroundcolor": "#E5ECF6",
            "gridcolor": "white",
            "gridwidth": 2,
            "linecolor": "white",
            "showbackground": true,
            "ticks": "",
            "zerolinecolor": "white"
           }
          },
          "shapedefaults": {
           "line": {
            "color": "#2a3f5f"
           }
          },
          "ternary": {
           "aaxis": {
            "gridcolor": "white",
            "linecolor": "white",
            "ticks": ""
           },
           "baxis": {
            "gridcolor": "white",
            "linecolor": "white",
            "ticks": ""
           },
           "bgcolor": "#E5ECF6",
           "caxis": {
            "gridcolor": "white",
            "linecolor": "white",
            "ticks": ""
           }
          },
          "title": {
           "x": 0.05
          },
          "xaxis": {
           "automargin": true,
           "gridcolor": "white",
           "linecolor": "white",
           "ticks": "",
           "title": {
            "standoff": 15
           },
           "zerolinecolor": "white",
           "zerolinewidth": 2
          },
          "yaxis": {
           "automargin": true,
           "gridcolor": "white",
           "linecolor": "white",
           "ticks": "",
           "title": {
            "standoff": 15
           },
           "zerolinecolor": "white",
           "zerolinewidth": 2
          }
         }
        },
        "xaxis": {
         "anchor": "y",
         "domain": [
          0,
          1
         ],
         "title": {
          "text": "count"
         }
        },
        "yaxis": {
         "anchor": "x",
         "domain": [
          0,
          1
         ],
         "title": {
          "text": "department"
         }
        }
       }
      }
     },
     "metadata": {},
     "output_type": "display_data"
    }
   ],
   "source": [
    "order_place_by_department = (\n",
    "    data.groupby(\"department\")[\"reordered\"]\n",
    "    .agg([\"count\"])\n",
    "    .reset_index()\n",
    "    .sort_values(by=\"count\", ascending=False)\n",
    ")\n",
    "fig = ex.bar(order_place_by_department, y=\"department\", x=\"count\")\n",
    "fig.show()"
   ]
  },
  {
   "cell_type": "code",
   "execution_count": null,
   "metadata": {
    "id": "OeYLOwRYeh00"
   },
   "outputs": [],
   "source": [
    "pantry_weight = (\n",
    "    data[data[\"department\"] == \"pantry\"][\"department\"].value_counts() / len(data) * 100\n",
    ")"
   ]
  },
  {
   "cell_type": "code",
   "execution_count": null,
   "metadata": {
    "id": "K9cJsJ5Eeh01",
    "outputId": "6ead48a8-0b8c-4de4-a1ab-26155ec31e5b"
   },
   "outputs": [
    {
     "data": {
      "text/plain": [
       "array(['pantry', 'dairy eggs', 'produce', 'canned goods', 'meat seafood',\n",
       "       'frozen', 'bakery', 'beverages', 'breakfast', 'snacks',\n",
       "       'international', 'household', 'personal care', 'babies', 'deli',\n",
       "       'dry goods pasta', 'missing', 'alcohol', 'pets', 'bulk', 'other'],\n",
       "      dtype=object)"
      ]
     },
     "execution_count": 126,
     "metadata": {},
     "output_type": "execute_result"
    }
   ],
   "source": [
    "data.department.unique()"
   ]
  },
  {
   "cell_type": "code",
   "execution_count": null,
   "metadata": {
    "id": "-_GSJPMCeh01"
   },
   "outputs": [],
   "source": [
    "new_data = data.groupby([\"user_id\", \"department\"])[\"product_name\"].sum()"
   ]
  },
  {
   "cell_type": "code",
   "execution_count": null,
   "metadata": {
    "id": "DQkXbNA4eh01",
    "outputId": "e20c2c88-4689-42ff-9809-7e0069ab6cc1"
   },
   "outputs": [
    {
     "data": {
      "text/plain": [
       "user_id  department\n",
       "2        dairy eggs                       packaged cheesepackaged cheese\n",
       "         deli          lunch meatprepared soups saladsfresh dips tape...\n",
       "         produce                    fresh fruitsfresh fruitsfresh fruits\n",
       "         snacks                      popcorn jerkycrackerschips pretzels\n",
       "3        beverages                         water seltzer sparkling water\n",
       "                                             ...                        \n",
       "206209   frozen                                           frozen produce\n",
       "         household     laundrytrash bags linersfood storagedish deter...\n",
       "         pantry                                        spices seasonings\n",
       "         produce       packaged vegetables fruitsfresh fruitsfresh fr...\n",
       "         snacks                                         crackerscrackers\n",
       "Name: product_name, Length: 639006, dtype: object"
      ]
     },
     "execution_count": 128,
     "metadata": {},
     "output_type": "execute_result"
    }
   ],
   "source": [
    "new_data"
   ]
  },
  {
   "cell_type": "code",
   "execution_count": null,
   "metadata": {
    "id": "egjV7Gmkeh02"
   },
   "outputs": [],
   "source": [
    "# transactions = [a[1]['product_name'].tolist() for a in list(data.groupby(['user_id','department']))]"
   ]
  },
  {
   "cell_type": "code",
   "execution_count": null,
   "metadata": {
    "id": "KFlLx5H3eh02"
   },
   "outputs": [],
   "source": [
    "transactions = [\n",
    "    a[1][\"product_name\"].tolist() for a in list(data.groupby([\"user_id\", \"department\"]))\n",
    "]"
   ]
  },
  {
   "cell_type": "code",
   "execution_count": null,
   "metadata": {
    "id": "o1Lw0QAreh02",
    "outputId": "dce9688b-7476-4449-86c3-5eaba618426c"
   },
   "outputs": [
    {
     "data": {
      "text/plain": [
       "[['packaged cheese', 'packaged cheese'],\n",
       " ['lunch meat', 'prepared soups salads', 'fresh dips tapenades'],\n",
       " ['fresh fruits', 'fresh fruits', 'fresh fruits'],\n",
       " ['popcorn jerky', 'crackers', 'chips pretzels'],\n",
       " ['water seltzer sparkling water'],\n",
       " ['other creams cheeses',\n",
       "  'packaged cheese',\n",
       "  'soy lactosefree',\n",
       "  'soy lactosefree',\n",
       "  'soy lactosefree'],\n",
       " ['ice cream ice', 'frozen breakfast'],\n",
       " ['paper goods'],\n",
       " ['spreads'],\n",
       " ['fresh fruits',\n",
       "  'packaged vegetables fruits',\n",
       "  'fresh fruits',\n",
       "  'fresh fruits',\n",
       "  'packaged vegetables fruits',\n",
       "  'packaged vegetables fruits'],\n",
       " ['nuts seeds dried fruit', 'nuts seeds dried fruit', 'crackers'],\n",
       " ['bread'],\n",
       " ['refrigerated',\n",
       "  'coffee',\n",
       "  'refrigerated',\n",
       "  'refrigerated',\n",
       "  'refrigerated',\n",
       "  'coffee',\n",
       "  'refrigerated'],\n",
       " ['canned meals beans', 'canned fruit applesauce'],\n",
       " ['packaged cheese', 'other creams cheeses', 'yogurt', 'soy lactosefree'],\n",
       " ['lunch meat', 'lunch meat', 'lunch meat'],\n",
       " ['frozen meals'],\n",
       " ['meat counter'],\n",
       " ['fresh fruits', 'fresh vegetables'],\n",
       " ['fruit vegetable snacks', 'popcorn jerky', 'crackers'],\n",
       " ['packaged cheese',\n",
       "  'packaged cheese',\n",
       "  'packaged cheese',\n",
       "  'yogurt',\n",
       "  'packaged cheese'],\n",
       " ['fresh dips tapenades', 'lunch meat', 'lunch meat', 'lunch meat'],\n",
       " ['hot dogs bacon sausage',\n",
       "  'poultry counter',\n",
       "  'hot dogs bacon sausage',\n",
       "  'meat counter'],\n",
       " ['preserved dips spreads',\n",
       "  'oils vinegars',\n",
       "  'preserved dips spreads',\n",
       "  'marinades meat preparation'],\n",
       " ['fresh vegetables',\n",
       "  'fresh fruits',\n",
       "  'fresh vegetables',\n",
       "  'fresh herbs',\n",
       "  'fresh herbs',\n",
       "  'fresh herbs',\n",
       "  'fresh herbs',\n",
       "  'fresh herbs',\n",
       "  'packaged vegetables fruits',\n",
       "  'packaged vegetables fruits',\n",
       "  'packaged vegetables fruits',\n",
       "  'fresh vegetables',\n",
       "  'fresh fruits'],\n",
       " ['water seltzer sparkling water',\n",
       "  'soft drinks',\n",
       "  'water seltzer sparkling water'],\n",
       " ['butter', 'cream'],\n",
       " ['baking ingredients', 'oils vinegars', 'baking ingredients', 'spreads'],\n",
       " ['packaged vegetables fruits', 'packaged produce'],\n",
       " ['bread', 'tortillas flat bread'],\n",
       " ['canned meals beans'],\n",
       " ['milk', 'cream', 'soy lactosefree'],\n",
       " ['fresh vegetables', 'fresh vegetables', 'fresh vegetables'],\n",
       " ['nuts seeds dried fruit'],\n",
       " ['white wines'],\n",
       " ['water seltzer sparkling water'],\n",
       " ['soup broth bouillon'],\n",
       " ['eggs'],\n",
       " ['fresh fruits'],\n",
       " ['breakfast bakery'],\n",
       " ['tea'],\n",
       " ['eggs'],\n",
       " ['crackers'],\n",
       " ['eggs'],\n",
       " ['frozen produce'],\n",
       " ['baking ingredients', 'condiments'],\n",
       " ['packaged vegetables fruits',\n",
       "  'packaged vegetables fruits',\n",
       "  'fresh vegetables',\n",
       "  'fresh vegetables',\n",
       "  'fresh fruits'],\n",
       " ['juice nectars'],\n",
       " ['hot dogs bacon sausage'],\n",
       " ['crackers', 'popcorn jerky'],\n",
       " ['cream'],\n",
       " ['honeys syrups nectars'],\n",
       " ['nuts seeds dried fruit'],\n",
       " ['breakfast bakery'],\n",
       " ['water seltzer sparkling water',\n",
       "  'coffee',\n",
       "  'juice nectars',\n",
       "  'refrigerated',\n",
       "  'coffee'],\n",
       " ['soy lactosefree'],\n",
       " ['spreads'],\n",
       " ['energy granola bars', 'mint gum'],\n",
       " ['bakery desserts'],\n",
       " ['juice nectars'],\n",
       " ['canned meat seafood'],\n",
       " ['packaged cheese', 'packaged cheese'],\n",
       " ['lunch meat'],\n",
       " ['frozen meals', 'ice cream ice'],\n",
       " ['paper goods'],\n",
       " ['spreads'],\n",
       " ['cookies cakes', 'cookies cakes', 'crackers'],\n",
       " ['water seltzer sparkling water', 'water seltzer sparkling water'],\n",
       " ['trash bags liners'],\n",
       " ['bread'],\n",
       " ['milk'],\n",
       " ['ice cream ice', 'ice cream ice'],\n",
       " ['doughs gelatins bake mixes'],\n",
       " ['refrigerated'],\n",
       " ['pasta sauce'],\n",
       " ['soy lactosefree', 'packaged cheese', 'yogurt', 'yogurt'],\n",
       " ['tofu meat alternatives'],\n",
       " ['spreads'],\n",
       " ['fresh fruits',\n",
       "  'fresh fruits',\n",
       "  'packaged vegetables fruits',\n",
       "  'fresh fruits',\n",
       "  'fresh vegetables',\n",
       "  'packaged vegetables fruits',\n",
       "  'fresh vegetables'],\n",
       " ['cookies cakes'],\n",
       " ['bread'],\n",
       " ['packaged cheese', 'other creams cheeses', 'butter', 'cream'],\n",
       " ['dry pasta'],\n",
       " ['spreads', 'spreads', 'spreads', 'spreads', 'spreads'],\n",
       " ['fresh vegetables',\n",
       "  'fresh fruits',\n",
       "  'fresh vegetables',\n",
       "  'fresh fruits',\n",
       "  'fresh fruits',\n",
       "  'fresh fruits',\n",
       "  'fresh fruits'],\n",
       " ['breakfast bakery', 'tortillas flat bread', 'breakfast bakery', 'bread'],\n",
       " ['coffee',\n",
       "  'water seltzer sparkling water',\n",
       "  'coffee',\n",
       "  'coffee',\n",
       "  'water seltzer sparkling water',\n",
       "  'water seltzer sparkling water',\n",
       "  'coffee'],\n",
       " ['milk',\n",
       "  'packaged cheese',\n",
       "  'packaged cheese',\n",
       "  'packaged cheese',\n",
       "  'packaged cheese',\n",
       "  'soy lactosefree',\n",
       "  'eggs',\n",
       "  'soy lactosefree',\n",
       "  'packaged cheese',\n",
       "  'packaged cheese',\n",
       "  'soy lactosefree',\n",
       "  'butter'],\n",
       " ['pasta sauce', 'dry pasta', 'dry pasta', 'instant foods'],\n",
       " ['frozen appetizers sides', 'frozen appetizers sides', 'frozen produce'],\n",
       " ['paper goods', 'paper goods', 'dish detergents'],\n",
       " ['hot dogs bacon sausage', 'hot dogs bacon sausage'],\n",
       " ['baking ingredients',\n",
       "  'oils vinegars',\n",
       "  'oils vinegars',\n",
       "  'doughs gelatins bake mixes'],\n",
       " ['packaged vegetables fruits',\n",
       "  'fresh fruits',\n",
       "  'fresh vegetables',\n",
       "  'fresh vegetables',\n",
       "  'fresh vegetables',\n",
       "  'fresh fruits',\n",
       "  'fresh vegetables',\n",
       "  'fresh vegetables'],\n",
       " ['chips pretzels', 'chips pretzels', 'chips pretzels'],\n",
       " ['canned meals beans', 'canned jarred vegetables', 'canned meals beans'],\n",
       " ['yogurt'],\n",
       " ['lunch meat'],\n",
       " ['frozen meat seafood', 'frozen produce', 'frozen produce', 'frozen produce'],\n",
       " ['packaged poultry'],\n",
       " ['fresh fruits',\n",
       "  'fresh vegetables',\n",
       "  'fresh fruits',\n",
       "  'fresh fruits',\n",
       "  'fresh fruits',\n",
       "  'packaged vegetables fruits',\n",
       "  'fresh fruits',\n",
       "  'fresh vegetables',\n",
       "  'packaged vegetables fruits'],\n",
       " ['bread', 'bread', 'breakfast bakery'],\n",
       " ['canned meals beans'],\n",
       " ['packaged cheese', 'packaged cheese', 'milk', 'other creams cheeses'],\n",
       " ['frozen vegan vegetarian',\n",
       "  'frozen vegan vegetarian',\n",
       "  'frozen meals',\n",
       "  'frozen pizza',\n",
       "  'frozen meals',\n",
       "  'frozen meals',\n",
       "  'frozen meals',\n",
       "  'frozen meals',\n",
       "  'frozen meals',\n",
       "  'frozen meals'],\n",
       " ['paper goods'],\n",
       " ['preserved dips spreads'],\n",
       " ['fresh fruits'],\n",
       " ['candy chocolate', 'crackers'],\n",
       " ['buns rolls'],\n",
       " ['soft drinks'],\n",
       " ['cereal'],\n",
       " ['soup broth bouillon', 'canned jarred vegetables'],\n",
       " ['milk', 'cream', 'yogurt', 'milk', 'packaged cheese', 'cream'],\n",
       " ['instant foods'],\n",
       " ['frozen meals'],\n",
       " ['hot dogs bacon sausage'],\n",
       " ['doughs gelatins bake mixes'],\n",
       " ['fresh fruits',\n",
       "  'packaged vegetables fruits',\n",
       "  'fresh fruits',\n",
       "  'fresh fruits',\n",
       "  'packaged vegetables fruits',\n",
       "  'packaged produce',\n",
       "  'fresh fruits',\n",
       "  'fresh fruits',\n",
       "  'packaged vegetables fruits',\n",
       "  'fresh vegetables',\n",
       "  'packaged produce',\n",
       "  'packaged vegetables fruits',\n",
       "  'fresh fruits'],\n",
       " ['energy granola bars'],\n",
       " ['refrigerated'],\n",
       " ['cereal'],\n",
       " ['ice cream ice'],\n",
       " ['hot dogs bacon sausage'],\n",
       " ['chips pretzels'],\n",
       " ['bread'],\n",
       " ['yogurt', 'packaged cheese'],\n",
       " ['frozen breakfast'],\n",
       " ['baking ingredients'],\n",
       " ['fresh fruits'],\n",
       " ['water seltzer sparkling water', 'water seltzer sparkling water'],\n",
       " ['butter', 'eggs'],\n",
       " ['laundry'],\n",
       " ['fresh vegetables',\n",
       "  'fresh fruits',\n",
       "  'fresh vegetables',\n",
       "  'fresh vegetables',\n",
       "  'fresh vegetables',\n",
       "  'fresh vegetables'],\n",
       " ['mint gum'],\n",
       " ['soft drinks', 'soft drinks', 'soft drinks'],\n",
       " ['packaged produce', 'packaged produce', 'packaged produce'],\n",
       " ['energy granola bars',\n",
       "  'nuts seeds dried fruit',\n",
       "  'energy granola bars',\n",
       "  'fruit vegetable snacks',\n",
       "  'nuts seeds dried fruit',\n",
       "  'candy chocolate',\n",
       "  'popcorn jerky'],\n",
       " ['water seltzer sparkling water', 'water seltzer sparkling water'],\n",
       " ['canned meals beans',\n",
       "  'canned jarred vegetables',\n",
       "  'soup broth bouillon',\n",
       "  'soup broth bouillon'],\n",
       " ['yogurt', 'milk', 'butter', 'milk'],\n",
       " ['tofu meat alternatives'],\n",
       " ['oils vinegars',\n",
       "  'salad dressing toppings',\n",
       "  'baking ingredients',\n",
       "  'oils vinegars'],\n",
       " ['fresh vegetables',\n",
       "  'fresh fruits',\n",
       "  'fresh vegetables',\n",
       "  'fresh herbs',\n",
       "  'fresh vegetables',\n",
       "  'fresh herbs',\n",
       "  'fresh fruits'],\n",
       " ['other creams cheeses', 'other creams cheeses', 'eggs', 'milk'],\n",
       " ['instant foods'],\n",
       " ['frozen meals', 'frozen meals'],\n",
       " ['missing'],\n",
       " ['other'],\n",
       " ['fresh vegetables',\n",
       "  'packaged vegetables fruits',\n",
       "  'fresh vegetables',\n",
       "  'fresh fruits',\n",
       "  'packaged vegetables fruits'],\n",
       " ['nuts seeds dried fruit', 'nuts seeds dried fruit', 'popcorn jerky'],\n",
       " ['frozen produce'],\n",
       " ['meat counter'],\n",
       " ['fresh vegetables'],\n",
       " ['buns rolls'],\n",
       " ['cocoa drink mixes', 'tea', 'refrigerated'],\n",
       " ['cream', 'butter'],\n",
       " ['lunch meat'],\n",
       " ['pasta sauce', 'dry pasta'],\n",
       " ['frozen produce'],\n",
       " ['other'],\n",
       " ['doughs gelatins bake mixes', 'doughs gelatins bake mixes'],\n",
       " ['fresh vegetables'],\n",
       " ['chips pretzels'],\n",
       " ['baby food formula', 'baby food formula', 'baby food formula'],\n",
       " ['cereal'],\n",
       " ['soy lactosefree', 'cream', 'butter', 'yogurt'],\n",
       " ['fresh dips tapenades'],\n",
       " ['frozen produce'],\n",
       " ['meat counter'],\n",
       " ['baking ingredients', 'baking ingredients', 'spreads'],\n",
       " ['fresh fruits',\n",
       "  'fresh fruits',\n",
       "  'fresh fruits',\n",
       "  'packaged vegetables fruits',\n",
       "  'packaged vegetables fruits'],\n",
       " ['chips pretzels', 'energy granola bars'],\n",
       " ['bread', 'buns rolls'],\n",
       " ['water seltzer sparkling water'],\n",
       " ['hot cereal pancake mixes'],\n",
       " ['soy lactosefree', 'yogurt', 'soy lactosefree'],\n",
       " ['lunch meat'],\n",
       " ['oils vinegars'],\n",
       " ['fresh fruits', 'fresh vegetables', 'fresh vegetables'],\n",
       " ['chips pretzels'],\n",
       " ['water seltzer sparkling water', 'water seltzer sparkling water'],\n",
       " ['granola'],\n",
       " ['soup broth bouillon', 'canned jarred vegetables', 'soup broth bouillon'],\n",
       " ['packaged cheese', 'milk', 'yogurt'],\n",
       " ['pasta sauce'],\n",
       " ['frozen meals', 'frozen produce', 'frozen meals', 'frozen meals'],\n",
       " ['asian foods'],\n",
       " ['packaged meat'],\n",
       " ['oils vinegars'],\n",
       " ['fresh vegetables',\n",
       "  'fresh vegetables',\n",
       "  'fresh vegetables',\n",
       "  'fresh fruits',\n",
       "  'fresh fruits',\n",
       "  'packaged vegetables fruits',\n",
       "  'fresh vegetables',\n",
       "  'packaged vegetables fruits',\n",
       "  'fresh vegetables',\n",
       "  'fresh fruits',\n",
       "  'fresh fruits',\n",
       "  'fresh fruits',\n",
       "  'fresh fruits',\n",
       "  'packaged vegetables fruits',\n",
       "  'fresh vegetables'],\n",
       " ['chips pretzels'],\n",
       " ['bread'],\n",
       " ['soup broth bouillon'],\n",
       " ['milk',\n",
       "  'yogurt',\n",
       "  'yogurt',\n",
       "  'cream',\n",
       "  'milk',\n",
       "  'packaged cheese',\n",
       "  'cream',\n",
       "  'soy lactosefree',\n",
       "  'packaged cheese',\n",
       "  'eggs',\n",
       "  'other creams cheeses',\n",
       "  'cream',\n",
       "  'eggs',\n",
       "  'soy lactosefree',\n",
       "  'yogurt',\n",
       "  'yogurt'],\n",
       " ['instant foods', 'instant foods', 'instant foods', 'instant foods'],\n",
       " ['frozen appetizers sides',\n",
       "  'frozen produce',\n",
       "  'frozen produce',\n",
       "  'frozen vegan vegetarian',\n",
       "  'frozen vegan vegetarian',\n",
       "  'frozen meals',\n",
       "  'frozen meals',\n",
       "  'frozen meals',\n",
       "  'frozen meals',\n",
       "  'frozen meals',\n",
       "  'frozen meals',\n",
       "  'frozen meals',\n",
       "  'frozen meals',\n",
       "  'frozen meals'],\n",
       " ['hot dogs bacon sausage',\n",
       "  'hot dogs bacon sausage',\n",
       "  'hot dogs bacon sausage',\n",
       "  'hot dogs bacon sausage',\n",
       "  'hot dogs bacon sausage'],\n",
       " ['doughs gelatins bake mixes',\n",
       "  'doughs gelatins bake mixes',\n",
       "  'baking supplies decor',\n",
       "  'baking supplies decor',\n",
       "  'baking ingredients',\n",
       "  'baking ingredients',\n",
       "  'condiments',\n",
       "  'salad dressing toppings'],\n",
       " ['vitamins supplements'],\n",
       " ['fresh fruits',\n",
       "  'fresh vegetables',\n",
       "  'fresh vegetables',\n",
       "  'fresh fruits',\n",
       "  'fresh fruits',\n",
       "  'fresh vegetables',\n",
       "  'fresh fruits',\n",
       "  'fresh fruits',\n",
       "  'packaged vegetables fruits',\n",
       "  'fresh fruits',\n",
       "  'fresh vegetables',\n",
       "  'fresh fruits',\n",
       "  'fresh vegetables',\n",
       "  'fresh vegetables',\n",
       "  'fresh fruits',\n",
       "  'fresh vegetables',\n",
       "  'fresh fruits',\n",
       "  'packaged vegetables fruits',\n",
       "  'fresh vegetables',\n",
       "  'fresh vegetables'],\n",
       " ['nuts seeds dried fruit', 'chips pretzels'],\n",
       " ['bread', 'bread'],\n",
       " ['bulk dried fruits vegetables', 'bulk dried fruits vegetables'],\n",
       " ['soy lactosefree', 'packaged cheese', 'butter', 'packaged cheese'],\n",
       " ['fresh vegetables',\n",
       "  'packaged vegetables fruits',\n",
       "  'fresh fruits',\n",
       "  'fresh fruits',\n",
       "  'fresh herbs',\n",
       "  'fresh herbs',\n",
       "  'fresh vegetables',\n",
       "  'fresh vegetables',\n",
       "  'fresh fruits',\n",
       "  'fresh vegetables',\n",
       "  'packaged vegetables fruits'],\n",
       " ['candy chocolate'],\n",
       " ['breakfast bakery'],\n",
       " ['canned meals beans'],\n",
       " ['milk', 'cream', 'butter', 'yogurt'],\n",
       " ['dry pasta', 'grains rice dried goods'],\n",
       " ['meat counter'],\n",
       " ['baking ingredients', 'spreads', 'baking ingredients'],\n",
       " ['fresh herbs', 'fresh vegetables', 'fresh vegetables'],\n",
       " ['cookies cakes', 'candy chocolate'],\n",
       " ['bread'],\n",
       " ['canned jarred vegetables', 'canned jarred vegetables'],\n",
       " ['packaged cheese', 'soy lactosefree'],\n",
       " ['fresh dips tapenades', 'fresh dips tapenades'],\n",
       " ['dry pasta', 'dry pasta', 'dry pasta', 'grains rice dried goods'],\n",
       " ['frozen appetizers sides',\n",
       "  'frozen breads doughs',\n",
       "  'frozen pizza',\n",
       "  'frozen appetizers sides',\n",
       "  'frozen produce',\n",
       "  'frozen vegan vegetarian'],\n",
       " ['oral hygiene', 'deodorants'],\n",
       " ['fresh vegetables',\n",
       "  'fresh vegetables',\n",
       "  'fresh vegetables',\n",
       "  'fresh vegetables',\n",
       "  'fresh vegetables',\n",
       "  'packaged vegetables fruits',\n",
       "  'packaged vegetables fruits',\n",
       "  'fresh fruits',\n",
       "  'fresh vegetables',\n",
       "  'fresh vegetables',\n",
       "  'fresh vegetables',\n",
       "  'fresh vegetables',\n",
       "  'packaged vegetables fruits',\n",
       "  'fresh vegetables',\n",
       "  'fresh vegetables',\n",
       "  'fresh vegetables'],\n",
       " ['energy granola bars', 'chips pretzels'],\n",
       " ['baby food formula', 'baby food formula'],\n",
       " ['breakfast bakery'],\n",
       " ['canned jarred vegetables'],\n",
       " ['packaged cheese',\n",
       "  'butter',\n",
       "  'other creams cheeses',\n",
       "  'yogurt',\n",
       "  'yogurt',\n",
       "  'eggs',\n",
       "  'yogurt',\n",
       "  'yogurt',\n",
       "  'yogurt',\n",
       "  'yogurt',\n",
       "  'yogurt'],\n",
       " ['lunch meat', 'fresh dips tapenades', 'lunch meat'],\n",
       " ['pasta sauce'],\n",
       " ['packaged poultry', 'packaged seafood'],\n",
       " ['preserved dips spreads',\n",
       "  'condiments',\n",
       "  'preserved dips spreads',\n",
       "  'spreads',\n",
       "  'spreads',\n",
       "  'spreads'],\n",
       " ['fresh vegetables',\n",
       "  'fresh herbs',\n",
       "  'fresh vegetables',\n",
       "  'fresh vegetables',\n",
       "  'fresh fruits',\n",
       "  'packaged vegetables fruits'],\n",
       " ['crackers',\n",
       "  'fruit vegetable snacks',\n",
       "  'fruit vegetable snacks',\n",
       "  'fruit vegetable snacks',\n",
       "  'crackers'],\n",
       " ['soft drinks', 'tea'],\n",
       " ['ice cream ice', 'ice cream ice', 'frozen appetizers sides', 'frozen pizza'],\n",
       " ['paper goods', 'paper goods'],\n",
       " ['other'],\n",
       " ['cold flu allergy'],\n",
       " ['candy chocolate'],\n",
       " ['cereal', 'cereal'],\n",
       " ['yogurt', 'yogurt', 'yogurt', 'yogurt', 'soy lactosefree'],\n",
       " ['frozen breakfast', 'ice cream ice'],\n",
       " ['missing'],\n",
       " ['spreads', 'spreads'],\n",
       " ['fresh fruits',\n",
       "  'fresh fruits',\n",
       "  'fresh fruits',\n",
       "  'fresh fruits',\n",
       "  'fresh fruits',\n",
       "  'fresh vegetables'],\n",
       " ['energy granola bars'],\n",
       " ['soft drinks'],\n",
       " ['packaged produce', 'packaged produce', 'packaged produce'],\n",
       " ['bread'],\n",
       " ['refrigerated'],\n",
       " ['canned jarred vegetables'],\n",
       " ['frozen produce'],\n",
       " ['hot dogs bacon sausage'],\n",
       " ['fresh fruits',\n",
       "  'fresh vegetables',\n",
       "  'fresh fruits',\n",
       "  'fresh vegetables',\n",
       "  'fresh vegetables',\n",
       "  'fresh vegetables',\n",
       "  'fresh herbs',\n",
       "  'fresh fruits',\n",
       "  'fresh fruits',\n",
       "  'fresh vegetables',\n",
       "  'fresh vegetables',\n",
       "  'fresh fruits',\n",
       "  'fresh vegetables'],\n",
       " ['bread'],\n",
       " ['canned meals beans', 'soup broth bouillon', 'canned meals beans'],\n",
       " ['soy lactosefree', 'soy lactosefree'],\n",
       " ['water seltzer sparkling water',\n",
       "  'water seltzer sparkling water',\n",
       "  'water seltzer sparkling water',\n",
       "  'water seltzer sparkling water',\n",
       "  'water seltzer sparkling water',\n",
       "  'water seltzer sparkling water'],\n",
       " ['granola',\n",
       "  'cereal',\n",
       "  'cereal',\n",
       "  'granola',\n",
       "  'cereal',\n",
       "  'cereal',\n",
       "  'cereal',\n",
       "  'granola',\n",
       "  'cereal',\n",
       "  'cereal'],\n",
       " ['milk', 'milk', 'soy lactosefree', 'soy lactosefree', 'soy lactosefree'],\n",
       " ['asian foods'],\n",
       " ['condiments'],\n",
       " ['candy chocolate',\n",
       "  'fruit vegetable snacks',\n",
       "  'energy granola bars',\n",
       "  'energy granola bars',\n",
       "  'energy granola bars',\n",
       "  'candy chocolate',\n",
       "  'candy chocolate',\n",
       "  'candy chocolate',\n",
       "  'candy chocolate',\n",
       "  'candy chocolate',\n",
       "  'energy granola bars',\n",
       "  'energy granola bars',\n",
       "  'energy granola bars',\n",
       "  'energy granola bars',\n",
       "  'energy granola bars',\n",
       "  'candy chocolate',\n",
       "  'candy chocolate'],\n",
       " ['bread', 'bread', 'bread', 'breakfast bakery'],\n",
       " ['water seltzer sparkling water'],\n",
       " ['granola'],\n",
       " ['soup broth bouillon'],\n",
       " ['cream', 'other creams cheeses', 'eggs', 'milk'],\n",
       " ['fresh dips tapenades'],\n",
       " ['food storage'],\n",
       " ['baking ingredients'],\n",
       " ['fresh fruits', 'fresh vegetables', 'fresh vegetables', 'fresh vegetables'],\n",
       " ['nuts seeds dried fruit'],\n",
       " ['buns rolls'],\n",
       " ['breakfast bars pastries'],\n",
       " ['energy granola bars', 'energy granola bars'],\n",
       " ['bread'],\n",
       " ['hot cereal pancake mixes'],\n",
       " ['yogurt'],\n",
       " ['dry pasta', 'pasta sauce'],\n",
       " ['frozen produce',\n",
       "  'frozen pizza',\n",
       "  'frozen meals',\n",
       "  'frozen meals',\n",
       "  'frozen pizza',\n",
       "  'frozen meals'],\n",
       " ['fresh fruits', 'fresh fruits'],\n",
       " ['crackers', 'candy chocolate', 'energy granola bars'],\n",
       " ['milk', 'butter'],\n",
       " ['baking ingredients',\n",
       "  'baking ingredients',\n",
       "  'baking ingredients',\n",
       "  'baking ingredients',\n",
       "  'baking ingredients',\n",
       "  'oils vinegars'],\n",
       " ['packaged vegetables fruits'],\n",
       " ['nuts seeds dried fruit', 'nuts seeds dried fruit'],\n",
       " ['milk'],\n",
       " ['fresh fruits',\n",
       "  'packaged vegetables fruits',\n",
       "  'fresh vegetables',\n",
       "  'fresh fruits',\n",
       "  'fresh vegetables',\n",
       "  'fresh vegetables',\n",
       "  'fresh vegetables'],\n",
       " ['chips pretzels', 'chips pretzels', 'popcorn jerky'],\n",
       " ['milk'],\n",
       " ['prepared meals'],\n",
       " ['butter'],\n",
       " ['packaged produce', 'fresh fruits'],\n",
       " ['crackers'],\n",
       " ['water seltzer sparkling water', 'juice nectars'],\n",
       " ['fresh dips tapenades', 'fresh dips tapenades'],\n",
       " ['asian foods'],\n",
       " ['spreads'],\n",
       " ['fresh fruits', 'fresh vegetables', 'fresh vegetables'],\n",
       " ['buns rolls'],\n",
       " ['hot cereal pancake mixes'],\n",
       " ['canned meals beans', 'canned meals beans'],\n",
       " ['eggs', 'packaged cheese', 'yogurt', 'eggs', 'yogurt', 'yogurt', 'milk'],\n",
       " ['lunch meat'],\n",
       " ['frozen appetizers sides'],\n",
       " ['hot dogs bacon sausage'],\n",
       " ['salad dressing toppings', 'condiments', 'spreads'],\n",
       " ['fresh fruits',\n",
       "  'fresh fruits',\n",
       "  'fresh fruits',\n",
       "  'fresh herbs',\n",
       "  'packaged vegetables fruits',\n",
       "  'fresh vegetables',\n",
       "  'fresh vegetables',\n",
       "  'fresh vegetables',\n",
       "  'fresh fruits',\n",
       "  'fresh fruits',\n",
       "  'fresh vegetables',\n",
       "  'packaged vegetables fruits',\n",
       "  'fresh vegetables',\n",
       "  'fresh vegetables',\n",
       "  'fresh vegetables',\n",
       "  'fresh fruits',\n",
       "  'fresh fruits',\n",
       "  'fresh herbs',\n",
       "  'fresh fruits',\n",
       "  'fresh fruits',\n",
       "  'fresh fruits',\n",
       "  'fresh vegetables',\n",
       "  'fresh vegetables',\n",
       "  'packaged vegetables fruits',\n",
       "  'packaged produce',\n",
       "  'fresh vegetables',\n",
       "  'fresh fruits'],\n",
       " ['energy granola bars', 'energy granola bars', 'energy granola bars'],\n",
       " ['bread'],\n",
       " ['refrigerated', 'water seltzer sparkling water'],\n",
       " ['granola'],\n",
       " ['fresh vegetables'],\n",
       " ['soft drinks', 'soft drinks', 'soft drinks'],\n",
       " ['frozen breakfast', 'ice cream ice', 'ice cream ice', 'ice cream ice'],\n",
       " ['more household', 'food storage'],\n",
       " ['other'],\n",
       " ['cold flu allergy', 'cold flu allergy', 'first aid'],\n",
       " ['crackers',\n",
       "  'cookies cakes',\n",
       "  'chips pretzels',\n",
       "  'cookies cakes',\n",
       "  'chips pretzels'],\n",
       " ['granola'],\n",
       " ['yogurt', 'milk'],\n",
       " ['nuts seeds dried fruit'],\n",
       " ['bread'],\n",
       " ['butter'],\n",
       " ['hot dogs bacon sausage'],\n",
       " ['spreads'],\n",
       " ['fresh fruits', 'fresh fruits'],\n",
       " ['yogurt'],\n",
       " ['other creams cheeses'],\n",
       " ['ice cream ice'],\n",
       " ['crackers'],\n",
       " ['pasta sauce'],\n",
       " ['poultry counter', 'poultry counter'],\n",
       " ['preserved dips spreads'],\n",
       " ['fresh fruits',\n",
       "  'fresh vegetables',\n",
       "  'fresh herbs',\n",
       "  'fresh fruits',\n",
       "  'fresh fruits',\n",
       "  'fresh vegetables',\n",
       "  'fresh vegetables',\n",
       "  'fresh fruits',\n",
       "  'fresh herbs',\n",
       "  'fresh fruits',\n",
       "  'fresh fruits',\n",
       "  'fresh vegetables',\n",
       "  'fresh vegetables',\n",
       "  'packaged vegetables fruits',\n",
       "  'fresh vegetables',\n",
       "  'fresh herbs'],\n",
       " ['chips pretzels'],\n",
       " ['bread'],\n",
       " ['tea'],\n",
       " ['cream', 'yogurt', 'yogurt', 'yogurt', 'yogurt'],\n",
       " ['latino foods', 'asian foods'],\n",
       " ['packaged poultry', 'meat counter'],\n",
       " ['fresh fruits',\n",
       "  'fresh vegetables',\n",
       "  'fresh vegetables',\n",
       "  'fresh fruits',\n",
       "  'packaged vegetables fruits'],\n",
       " ['fresh dips tapenades'],\n",
       " ['frozen meals', 'ice cream ice', 'ice cream ice'],\n",
       " ['condiments'],\n",
       " ['cream', 'milk'],\n",
       " ['hot dogs bacon sausage'],\n",
       " ['fresh fruits'],\n",
       " ['beers coolers'],\n",
       " ['buns rolls'],\n",
       " ['milk', 'butter', 'other creams cheeses'],\n",
       " ['pasta sauce', 'dry pasta'],\n",
       " ['frozen dessert',\n",
       "  'frozen appetizers sides',\n",
       "  'ice cream ice',\n",
       "  'ice cream ice',\n",
       "  'ice cream ice',\n",
       "  'ice cream ice',\n",
       "  'ice cream ice'],\n",
       " ['paper goods'],\n",
       " ['doughs gelatins bake mixes',\n",
       "  'baking ingredients',\n",
       "  'marinades meat preparation',\n",
       "  'marinades meat preparation',\n",
       "  'salad dressing toppings',\n",
       "  'marinades meat preparation'],\n",
       " ['eye ear care', 'deodorants'],\n",
       " ['fresh vegetables',\n",
       "  'packaged vegetables fruits',\n",
       "  'packaged vegetables fruits',\n",
       "  'packaged vegetables fruits'],\n",
       " ['ice cream toppings', 'chips pretzels', 'chips pretzels'],\n",
       " ['breakfast bakery'],\n",
       " ['refrigerated'],\n",
       " ['breakfast bars pastries'],\n",
       " ['other creams cheeses', 'eggs', 'other creams cheeses', 'milk'],\n",
       " ['fresh pasta', 'fresh pasta'],\n",
       " ['ice cream ice', 'ice cream ice'],\n",
       " ['energy granola bars'],\n",
       " ['cream', 'soy lactosefree'],\n",
       " ['frozen produce', 'frozen produce', 'frozen produce', 'frozen produce'],\n",
       " ['chips pretzels',\n",
       "  'chips pretzels',\n",
       "  'nuts seeds dried fruit',\n",
       "  'cookies cakes'],\n",
       " ['baby food formula',\n",
       "  'baby food formula',\n",
       "  'baby food formula',\n",
       "  'baby food formula',\n",
       "  'baby food formula'],\n",
       " ['tortillas flat bread',\n",
       "  'tortillas flat bread',\n",
       "  'tortillas flat bread',\n",
       "  'bread'],\n",
       " ['refrigerated',\n",
       "  'refrigerated',\n",
       "  'refrigerated',\n",
       "  'water seltzer sparkling water',\n",
       "  'refrigerated'],\n",
       " ['cereal', 'cereal'],\n",
       " ['bulk dried fruits vegetables'],\n",
       " ['soup broth bouillon', 'canned fruit applesauce'],\n",
       " ['yogurt',\n",
       "  'packaged cheese',\n",
       "  'soy lactosefree',\n",
       "  'milk',\n",
       "  'cream',\n",
       "  'soy lactosefree',\n",
       "  'soy lactosefree',\n",
       "  'yogurt',\n",
       "  'other creams cheeses',\n",
       "  'yogurt',\n",
       "  'soy lactosefree',\n",
       "  'yogurt',\n",
       "  'soy lactosefree',\n",
       "  'yogurt'],\n",
       " ['fresh dips tapenades',\n",
       "  'fresh dips tapenades',\n",
       "  'fresh dips tapenades',\n",
       "  'tofu meat alternatives',\n",
       "  'fresh dips tapenades'],\n",
       " ['ice cream ice', 'ice cream ice', 'frozen produce'],\n",
       " ['baking ingredients', 'baking ingredients', 'preserved dips spreads'],\n",
       " ['packaged vegetables fruits',\n",
       "  'fresh vegetables',\n",
       "  'fresh fruits',\n",
       "  'fresh fruits',\n",
       "  'fresh fruits',\n",
       "  'fresh fruits',\n",
       "  'fresh fruits',\n",
       "  'packaged vegetables fruits',\n",
       "  'fresh fruits',\n",
       "  'fresh fruits',\n",
       "  'fresh vegetables',\n",
       "  'fresh fruits',\n",
       "  'fresh herbs',\n",
       "  'fresh vegetables',\n",
       "  'fresh vegetables',\n",
       "  'fresh vegetables',\n",
       "  'fresh fruits',\n",
       "  'fresh fruits',\n",
       "  'fresh fruits',\n",
       "  'fresh fruits',\n",
       "  'fresh fruits',\n",
       "  'fresh vegetables',\n",
       "  'fresh vegetables',\n",
       "  'fresh vegetables',\n",
       "  'fresh vegetables',\n",
       "  'fresh fruits',\n",
       "  'fresh fruits',\n",
       "  'fresh fruits',\n",
       "  'fresh fruits',\n",
       "  'fresh fruits',\n",
       "  'packaged vegetables fruits',\n",
       "  'packaged vegetables fruits',\n",
       "  'fresh vegetables',\n",
       "  'fresh fruits',\n",
       "  'packaged vegetables fruits',\n",
       "  'fresh fruits',\n",
       "  'fresh fruits'],\n",
       " ['chips pretzels',\n",
       "  'crackers',\n",
       "  'chips pretzels',\n",
       "  'nuts seeds dried fruit',\n",
       "  'chips pretzels',\n",
       "  'fruit vegetable snacks',\n",
       "  'crackers'],\n",
       " ['bread'],\n",
       " ['water seltzer sparkling water'],\n",
       " ['fresh fruits',\n",
       "  'fresh herbs',\n",
       "  'fresh fruits',\n",
       "  'fresh vegetables',\n",
       "  'fresh fruits',\n",
       "  'fresh fruits'],\n",
       " ['nuts seeds dried fruit'],\n",
       " ['milk'],\n",
       " ['hot dogs bacon sausage'],\n",
       " ['fresh fruits'],\n",
       " ['milk', 'packaged cheese'],\n",
       " ['prepared soups salads'],\n",
       " ['bread'],\n",
       " ['granola'],\n",
       " ['milk', 'yogurt', 'yogurt', 'yogurt', 'yogurt', 'yogurt'],\n",
       " ['lunch meat'],\n",
       " ['eggs', 'eggs'],\n",
       " ['lunch meat', 'lunch meat'],\n",
       " ['baking ingredients', 'oils vinegars', 'oils vinegars', 'spices seasonings'],\n",
       " ['packaged vegetables fruits',\n",
       "  'fresh vegetables',\n",
       "  'packaged vegetables fruits'],\n",
       " ['nuts seeds dried fruit'],\n",
       " ['buns rolls'],\n",
       " ['granola'],\n",
       " ['yogurt', 'soy lactosefree', 'eggs', 'milk', 'butter'],\n",
       " ['tofu meat alternatives'],\n",
       " ['frozen vegan vegetarian'],\n",
       " ['hot dogs bacon sausage'],\n",
       " ['baking ingredients', 'baking ingredients'],\n",
       " ['fresh fruits', 'fresh vegetables'],\n",
       " ['nuts seeds dried fruit', 'nuts seeds dried fruit'],\n",
       " ['tortillas flat bread'],\n",
       " ['soft drinks',\n",
       "  'coffee',\n",
       "  'juice nectars',\n",
       "  'water seltzer sparkling water',\n",
       "  'water seltzer sparkling water',\n",
       "  'juice nectars'],\n",
       " ['butter', 'soy lactosefree'],\n",
       " ['frozen breakfast', 'frozen breakfast'],\n",
       " ['spreads', 'baking ingredients', 'spreads'],\n",
       " ['digestion', 'body lotions soap', 'digestion'],\n",
       " ['fresh fruits', 'fresh fruits'],\n",
       " ['crackers',\n",
       "  'crackers',\n",
       "  'cookies cakes',\n",
       "  'cookies cakes',\n",
       "  'crackers',\n",
       "  'candy chocolate',\n",
       "  'candy chocolate'],\n",
       " ['baby food formula'],\n",
       " ['soy lactosefree', 'other creams cheeses'],\n",
       " ['fresh dips tapenades'],\n",
       " ['missing'],\n",
       " ['crackers'],\n",
       " ['tea'],\n",
       " ['milk', 'yogurt'],\n",
       " ['frozen produce'],\n",
       " ['fresh fruits',\n",
       "  'fresh vegetables',\n",
       "  'fresh fruits',\n",
       "  'fresh fruits',\n",
       "  'fresh vegetables',\n",
       "  'packaged vegetables fruits',\n",
       "  'fresh fruits',\n",
       "  'fresh fruits',\n",
       "  'fresh vegetables',\n",
       "  'fresh fruits',\n",
       "  'fresh fruits',\n",
       "  'packaged vegetables fruits',\n",
       "  'fresh vegetables',\n",
       "  'fresh vegetables',\n",
       "  'packaged vegetables fruits',\n",
       "  'fresh herbs',\n",
       "  'fresh vegetables'],\n",
       " ['tortillas flat bread',\n",
       "  'bread',\n",
       "  'buns rolls',\n",
       "  'bread',\n",
       "  'tortillas flat bread',\n",
       "  'buns rolls'],\n",
       " ['soft drinks',\n",
       "  'water seltzer sparkling water',\n",
       "  'juice nectars',\n",
       "  'soft drinks',\n",
       "  'soft drinks',\n",
       "  'soft drinks',\n",
       "  'coffee',\n",
       "  'juice nectars',\n",
       "  'soft drinks',\n",
       "  'coffee'],\n",
       " ['canned jarred vegetables', 'canned meals beans', 'soup broth bouillon'],\n",
       " ['eggs',\n",
       "  'milk',\n",
       "  'packaged cheese',\n",
       "  'other creams cheeses',\n",
       "  'packaged cheese',\n",
       "  'packaged cheese',\n",
       "  'packaged cheese',\n",
       "  'packaged cheese',\n",
       "  'yogurt',\n",
       "  'yogurt',\n",
       "  'yogurt'],\n",
       " ['fresh dips tapenades'],\n",
       " ['instant foods',\n",
       "  'instant foods',\n",
       "  'fresh pasta',\n",
       "  'pasta sauce',\n",
       "  'fresh pasta',\n",
       "  'fresh pasta'],\n",
       " ['frozen dessert',\n",
       "  'frozen meals',\n",
       "  'frozen produce',\n",
       "  'frozen appetizers sides'],\n",
       " ['trash bags liners',\n",
       "  'paper goods',\n",
       "  'paper goods',\n",
       "  'paper goods',\n",
       "  'laundry',\n",
       "  'paper goods'],\n",
       " ['packaged poultry',\n",
       "  'poultry counter',\n",
       "  'packaged poultry',\n",
       "  'packaged poultry',\n",
       "  'poultry counter',\n",
       "  'hot dogs bacon sausage'],\n",
       " ['doughs gelatins bake mixes',\n",
       "  'spices seasonings',\n",
       "  'baking ingredients',\n",
       "  'spreads',\n",
       "  'baking ingredients',\n",
       "  'marinades meat preparation',\n",
       "  'marinades meat preparation',\n",
       "  'marinades meat preparation'],\n",
       " ['dog food care', 'dog food care'],\n",
       " ['packaged produce',\n",
       "  'fresh vegetables',\n",
       "  'fresh vegetables',\n",
       "  'fresh vegetables',\n",
       "  'fresh vegetables',\n",
       "  'fresh vegetables',\n",
       "  'fresh fruits',\n",
       "  'fresh herbs',\n",
       "  'packaged vegetables fruits',\n",
       "  'fresh vegetables',\n",
       "  'fresh fruits',\n",
       "  'packaged vegetables fruits',\n",
       "  'fresh vegetables',\n",
       "  'packaged vegetables fruits',\n",
       "  'packaged vegetables fruits'],\n",
       " ['cookies cakes',\n",
       "  'crackers',\n",
       "  'fruit vegetable snacks',\n",
       "  'fruit vegetable snacks',\n",
       "  'nuts seeds dried fruit',\n",
       "  'crackers',\n",
       "  'popcorn jerky'],\n",
       " ['refrigerated', 'water seltzer sparkling water', 'refrigerated'],\n",
       " ['soy lactosefree', 'soy lactosefree'],\n",
       " ['prepared meals', 'prepared soups salads'],\n",
       " ['frozen produce'],\n",
       " ['fresh fruits', 'fresh vegetables', 'fresh vegetables'],\n",
       " ['energy sports drinks', 'energy sports drinks', 'juice nectars'],\n",
       " ['eggs', 'packaged cheese', 'yogurt', 'yogurt', 'packaged cheese'],\n",
       " ['fresh dips tapenades'],\n",
       " ['dry pasta'],\n",
       " ['frozen produce', 'frozen meals', 'ice cream ice'],\n",
       " ['food storage'],\n",
       " ['spreads'],\n",
       " ['cat food care'],\n",
       " ['packaged vegetables fruits',\n",
       "  'fresh vegetables',\n",
       "  'packaged produce',\n",
       "  'fresh fruits',\n",
       "  'fresh fruits'],\n",
       " ['chips pretzels', 'nuts seeds dried fruit'],\n",
       " ['bread'],\n",
       " ['canned jarred vegetables'],\n",
       " ['milk', 'packaged cheese'],\n",
       " ['lunch meat'],\n",
       " ['instant foods', 'instant foods', 'instant foods'],\n",
       " ['frozen meat seafood', 'frozen produce', 'frozen produce'],\n",
       " ['baking ingredients', 'pickled goods olives'],\n",
       " ['fresh vegetables',\n",
       "  'fresh vegetables',\n",
       "  'fresh vegetables',\n",
       "  'packaged vegetables fruits',\n",
       "  'fresh vegetables',\n",
       "  'fresh fruits',\n",
       "  'fresh fruits',\n",
       "  'packaged vegetables fruits',\n",
       "  'fresh vegetables'],\n",
       " ['refrigerated', 'tea', 'tea'],\n",
       " ['yogurt', 'yogurt', 'yogurt'],\n",
       " ['lunch meat', 'prepared meals'],\n",
       " ['fresh fruits', 'packaged vegetables fruits', 'fresh vegetables'],\n",
       " ['chips pretzels'],\n",
       " ['canned fruit applesauce'],\n",
       " ['soy lactosefree', 'packaged cheese'],\n",
       " ['prepared meals'],\n",
       " ['instant foods'],\n",
       " ['frozen meals',\n",
       "  'frozen meals',\n",
       "  'frozen meals',\n",
       "  'frozen meals',\n",
       "  'ice cream ice'],\n",
       " ['fresh fruits'],\n",
       " ['tea'],\n",
       " ['milk'],\n",
       " ['ice cream ice'],\n",
       " ['tortillas flat bread'],\n",
       " ['refrigerated',\n",
       "  'water seltzer sparkling water',\n",
       "  'water seltzer sparkling water',\n",
       "  'water seltzer sparkling water'],\n",
       " ['cereal', 'cereal', 'cereal', 'cereal', 'cereal'],\n",
       " ['specialty cheeses',\n",
       "  'specialty cheeses',\n",
       "  'cream',\n",
       "  'milk',\n",
       "  'yogurt',\n",
       "  'yogurt',\n",
       "  'yogurt'],\n",
       " ['fresh dips tapenades'],\n",
       " ['fresh fruits', 'fresh fruits', 'fresh fruits', 'fresh vegetables'],\n",
       " ['nuts seeds dried fruit',\n",
       "  'crackers',\n",
       "  'crackers',\n",
       "  'crackers',\n",
       "  'crackers',\n",
       "  'trail mix snack mix'],\n",
       " ['tea'],\n",
       " ['other creams cheeses', 'packaged cheese'],\n",
       " ['frozen appetizers sides',\n",
       "  'ice cream ice',\n",
       "  'ice cream ice',\n",
       "  'ice cream ice',\n",
       "  'ice cream ice'],\n",
       " ['paper goods'],\n",
       " ['hot dogs bacon sausage'],\n",
       " ['fresh fruits', 'fresh fruits'],\n",
       " ['crackers'],\n",
       " ['baby food formula',\n",
       "  'baby food formula',\n",
       "  'baby food formula',\n",
       "  'baby food formula'],\n",
       " ['soy lactosefree', 'soy lactosefree'],\n",
       " ['prepared meals', 'prepared soups salads'],\n",
       " ['ice cream ice', 'frozen breakfast', 'frozen breakfast'],\n",
       " ['asian foods'],\n",
       " ['fresh fruits',\n",
       "  'fresh vegetables',\n",
       "  'fresh fruits',\n",
       "  'fresh fruits',\n",
       "  'packaged vegetables fruits',\n",
       "  'fresh fruits'],\n",
       " ['chips pretzels'],\n",
       " ['butter', 'milk'],\n",
       " ['doughs gelatins bake mixes',\n",
       "  'baking supplies decor',\n",
       "  'doughs gelatins bake mixes'],\n",
       " ['breakfast bakery'],\n",
       " ['dry pasta'],\n",
       " ['buns rolls'],\n",
       " ['fresh dips tapenades'],\n",
       " ['refrigerated'],\n",
       " ['soy lactosefree'],\n",
       " ['dry pasta'],\n",
       " ['frozen produce', 'frozen produce'],\n",
       " ['condiments'],\n",
       " ['coffee', 'water seltzer sparkling water', 'soft drinks', 'soft drinks'],\n",
       " ['cereal'],\n",
       " ['soy lactosefree', 'milk'],\n",
       " ['fresh dips tapenades'],\n",
       " ['dish detergents', 'paper goods'],\n",
       " ['poultry counter'],\n",
       " ['fresh vegetables', 'fresh vegetables', 'fresh fruits'],\n",
       " ['candy chocolate',\n",
       "  'fruit vegetable snacks',\n",
       "  'fruit vegetable snacks',\n",
       "  'nuts seeds dried fruit'],\n",
       " ['bread', 'bread', 'bread', 'breakfast bakery'],\n",
       " ['refrigerated', 'tea'],\n",
       " ['cereal'],\n",
       " ['soup broth bouillon', 'soup broth bouillon'],\n",
       " ['milk',\n",
       "  'cream',\n",
       "  'yogurt',\n",
       "  'packaged cheese',\n",
       "  'yogurt',\n",
       "  'yogurt',\n",
       "  'cream',\n",
       "  'yogurt',\n",
       "  'eggs',\n",
       "  'butter',\n",
       "  'yogurt',\n",
       "  'other creams cheeses'],\n",
       " ['fresh dips tapenades'],\n",
       " ['asian foods'],\n",
       " ['spreads'],\n",
       " ['chips pretzels', 'crackers', 'chips pretzels'],\n",
       " ['water seltzer sparkling water', 'refrigerated', 'juice nectars'],\n",
       " ['yogurt'],\n",
       " ['cat food care'],\n",
       " ['water seltzer sparkling water'],\n",
       " ['canned meals beans'],\n",
       " ['eggs', 'eggs'],\n",
       " ['fresh fruits', 'fresh vegetables', 'packaged vegetables fruits'],\n",
       " ['tea'],\n",
       " ['crackers', 'crackers'],\n",
       " ['soft drinks'],\n",
       " ['cereal'],\n",
       " ['fresh fruits',\n",
       "  'fresh fruits',\n",
       "  'packaged produce',\n",
       "  'fresh fruits',\n",
       "  'fresh fruits'],\n",
       " ['nuts seeds dried fruit', 'nuts seeds dried fruit'],\n",
       " ['water seltzer sparkling water',\n",
       "  'water seltzer sparkling water',\n",
       "  'juice nectars'],\n",
       " ['cream',\n",
       "  'eggs',\n",
       "  'cream',\n",
       "  'yogurt',\n",
       "  'yogurt',\n",
       "  'yogurt',\n",
       "  'yogurt',\n",
       "  'packaged cheese',\n",
       "  'packaged cheese'],\n",
       " ['lunch meat'],\n",
       " ['frozen produce'],\n",
       " ['poultry counter'],\n",
       " ['condiments', 'baking ingredients', 'oils vinegars', 'spices seasonings'],\n",
       " ['fresh vegetables',\n",
       "  'fresh fruits',\n",
       "  'fresh vegetables',\n",
       "  'fresh vegetables',\n",
       "  'fresh fruits',\n",
       "  'packaged vegetables fruits',\n",
       "  'fresh fruits'],\n",
       " ['nuts seeds dried fruit', 'candy chocolate', 'candy chocolate'],\n",
       " ['soft drinks'],\n",
       " ['canned jarred vegetables'],\n",
       " ['eggs', 'yogurt', 'yogurt', 'soy lactosefree', 'yogurt'],\n",
       " ['fresh pasta'],\n",
       " ['ice cream ice'],\n",
       " ['dish detergents'],\n",
       " ['asian foods'],\n",
       " ['missing'],\n",
       " ['spices seasonings'],\n",
       " ['fresh vegetables',\n",
       "  'fresh fruits',\n",
       "  'packaged vegetables fruits',\n",
       "  'fresh herbs',\n",
       "  'fresh vegetables',\n",
       "  'packaged vegetables fruits'],\n",
       " ['milk', 'packaged cheese'],\n",
       " ['frozen appetizers sides'],\n",
       " ['meat counter'],\n",
       " ['fresh fruits', 'fresh vegetables', 'fresh vegetables'],\n",
       " ['milk'],\n",
       " ['fresh fruits', 'fresh fruits'],\n",
       " ['tea', 'tea'],\n",
       " ['prepared meals', 'fresh dips tapenades'],\n",
       " ['fresh fruits', 'packaged vegetables fruits'],\n",
       " ['bulk dried fruits vegetables'],\n",
       " ['asian foods'],\n",
       " ['fresh fruits', 'fresh fruits', 'fresh fruits'],\n",
       " ['energy granola bars',\n",
       "  'energy granola bars',\n",
       "  'energy granola bars',\n",
       "  'energy granola bars',\n",
       "  'energy granola bars',\n",
       "  'energy granola bars',\n",
       "  'energy granola bars',\n",
       "  'energy granola bars',\n",
       "  'energy granola bars',\n",
       "  'energy granola bars',\n",
       "  'energy granola bars',\n",
       "  'energy granola bars',\n",
       "  'energy granola bars',\n",
       "  'energy granola bars',\n",
       "  'energy granola bars',\n",
       "  'energy granola bars',\n",
       "  'energy granola bars',\n",
       "  'fruit vegetable snacks',\n",
       "  'fruit vegetable snacks',\n",
       "  'fruit vegetable snacks',\n",
       "  'energy granola bars',\n",
       "  'energy granola bars',\n",
       "  'energy granola bars',\n",
       "  'energy granola bars',\n",
       "  'energy granola bars',\n",
       "  'energy granola bars',\n",
       "  'energy granola bars',\n",
       "  'energy granola bars',\n",
       "  'energy granola bars',\n",
       "  'energy granola bars'],\n",
       " ['baby food formula'],\n",
       " ['tortillas flat bread',\n",
       "  'buns rolls',\n",
       "  'buns rolls',\n",
       "  'buns rolls',\n",
       "  'tortillas flat bread',\n",
       "  'tortillas flat bread'],\n",
       " ['juice nectars',\n",
       "  'water seltzer sparkling water',\n",
       "  'juice nectars',\n",
       "  'juice nectars',\n",
       "  'juice nectars',\n",
       "  'water seltzer sparkling water',\n",
       "  'juice nectars',\n",
       "  'water seltzer sparkling water'],\n",
       " ['cereal', 'hot cereal pancake mixes', 'cereal', 'cereal'],\n",
       " ['canned meals beans',\n",
       "  'canned meals beans',\n",
       "  'canned meals beans',\n",
       "  'canned meals beans',\n",
       "  'canned meals beans'],\n",
       " ['packaged cheese',\n",
       "  'milk',\n",
       "  'yogurt',\n",
       "  'yogurt',\n",
       "  'packaged cheese',\n",
       "  'packaged cheese',\n",
       "  'milk',\n",
       "  'yogurt',\n",
       "  'yogurt',\n",
       "  'yogurt',\n",
       "  'packaged cheese',\n",
       "  'packaged cheese',\n",
       "  'yogurt',\n",
       "  'milk',\n",
       "  'milk',\n",
       "  'packaged cheese',\n",
       "  'butter',\n",
       "  'packaged cheese',\n",
       "  'milk',\n",
       "  'yogurt',\n",
       "  'yogurt',\n",
       "  'packaged cheese',\n",
       "  'other creams cheeses',\n",
       "  'milk',\n",
       "  'yogurt',\n",
       "  'packaged cheese',\n",
       "  'packaged cheese',\n",
       "  'milk',\n",
       "  'yogurt',\n",
       "  'yogurt',\n",
       "  'packaged cheese',\n",
       "  'milk'],\n",
       " ['tofu meat alternatives',\n",
       "  'tofu meat alternatives',\n",
       "  'tofu meat alternatives',\n",
       "  'tofu meat alternatives',\n",
       "  'tofu meat alternatives',\n",
       "  'tofu meat alternatives',\n",
       "  'fresh dips tapenades',\n",
       "  'tofu meat alternatives',\n",
       "  'tofu meat alternatives',\n",
       "  'tofu meat alternatives',\n",
       "  'tofu meat alternatives',\n",
       "  'fresh dips tapenades'],\n",
       " ['dry pasta',\n",
       "  'pasta sauce',\n",
       "  'pasta sauce',\n",
       "  'fresh pasta',\n",
       "  'instant foods',\n",
       "  'dry pasta',\n",
       "  'pasta sauce',\n",
       "  'dry pasta',\n",
       "  'instant foods',\n",
       "  'instant foods',\n",
       "  'instant foods',\n",
       "  'fresh pasta',\n",
       "  'pasta sauce',\n",
       "  'instant foods',\n",
       "  'pasta sauce'],\n",
       " ['ice cream ice',\n",
       "  'frozen vegan vegetarian',\n",
       "  'frozen vegan vegetarian',\n",
       "  'frozen vegan vegetarian',\n",
       "  'frozen vegan vegetarian',\n",
       "  'frozen produce',\n",
       "  'frozen vegan vegetarian',\n",
       "  'frozen vegan vegetarian',\n",
       "  'frozen vegan vegetarian',\n",
       "  'frozen vegan vegetarian',\n",
       "  'frozen vegan vegetarian',\n",
       "  'frozen breakfast',\n",
       "  'frozen appetizers sides',\n",
       "  'frozen vegan vegetarian'],\n",
       " ['doughs gelatins bake mixes',\n",
       "  'spreads',\n",
       "  'oils vinegars',\n",
       "  'pickled goods olives',\n",
       "  'oils vinegars',\n",
       "  'pickled goods olives',\n",
       "  'doughs gelatins bake mixes',\n",
       "  'doughs gelatins bake mixes',\n",
       "  'spreads',\n",
       "  'baking ingredients'],\n",
       " ['fresh vegetables',\n",
       "  'fresh herbs',\n",
       "  'fresh vegetables',\n",
       "  'fresh vegetables',\n",
       "  'fresh vegetables',\n",
       "  'packaged vegetables fruits',\n",
       "  'fresh fruits',\n",
       "  'fresh vegetables',\n",
       "  'packaged vegetables fruits',\n",
       "  'fresh fruits',\n",
       "  'fresh fruits',\n",
       "  'fresh vegetables',\n",
       "  'fresh fruits',\n",
       "  'fresh fruits',\n",
       "  'fresh vegetables',\n",
       "  'fresh fruits',\n",
       "  'fresh fruits',\n",
       "  'fresh vegetables',\n",
       "  'fresh fruits',\n",
       "  'fresh vegetables',\n",
       "  'packaged vegetables fruits',\n",
       "  'fresh vegetables',\n",
       "  'fresh fruits',\n",
       "  'fresh fruits',\n",
       "  'fresh herbs',\n",
       "  'fresh vegetables',\n",
       "  'fresh fruits',\n",
       "  'fresh fruits',\n",
       "  'packaged vegetables fruits',\n",
       "  'fresh herbs',\n",
       "  'fresh vegetables',\n",
       "  'fresh vegetables',\n",
       "  'fresh fruits',\n",
       "  'fresh vegetables',\n",
       "  'fresh fruits',\n",
       "  'fresh fruits',\n",
       "  'fresh vegetables',\n",
       "  'packaged vegetables fruits',\n",
       "  'packaged vegetables fruits',\n",
       "  'fresh vegetables',\n",
       "  'fresh herbs',\n",
       "  'fresh vegetables',\n",
       "  'fresh vegetables',\n",
       "  'fresh vegetables',\n",
       "  'fresh vegetables',\n",
       "  'fresh fruits',\n",
       "  'fresh fruits',\n",
       "  'fresh vegetables'],\n",
       " ['fruit vegetable snacks',\n",
       "  'fruit vegetable snacks',\n",
       "  'cookies cakes',\n",
       "  'nuts seeds dried fruit'],\n",
       " ['fresh vegetables'],\n",
       " ['baby accessories'],\n",
       " ['tea', 'tea', 'tea', 'soft drinks', 'tea'],\n",
       " ['canned jarred vegetables', 'soup broth bouillon'],\n",
       " ['soy lactosefree',\n",
       "  'packaged cheese',\n",
       "  'yogurt',\n",
       "  'eggs',\n",
       "  'milk',\n",
       "  'butter',\n",
       "  'soy lactosefree'],\n",
       " ['frozen produce',\n",
       "  'frozen produce',\n",
       "  'frozen produce',\n",
       "  'frozen produce',\n",
       "  'frozen produce',\n",
       "  'frozen produce'],\n",
       " ['asian foods'],\n",
       " ['hot dogs bacon sausage', 'packaged poultry', 'packaged meat'],\n",
       " ['preserved dips spreads', 'spices seasonings'],\n",
       " ['vitamins supplements'],\n",
       " ['packaged vegetables fruits',\n",
       "  'fresh fruits',\n",
       "  'fresh vegetables',\n",
       "  'fresh vegetables',\n",
       "  'fresh vegetables',\n",
       "  'fresh fruits',\n",
       "  'fresh fruits',\n",
       "  'packaged vegetables fruits',\n",
       "  'fresh vegetables',\n",
       "  'fresh herbs',\n",
       "  'fresh vegetables',\n",
       "  'fresh fruits',\n",
       "  'fresh fruits',\n",
       "  'fresh vegetables',\n",
       "  'packaged vegetables fruits',\n",
       "  'fresh fruits',\n",
       "  'fresh fruits',\n",
       "  'packaged vegetables fruits',\n",
       "  'fresh vegetables',\n",
       "  'fresh vegetables',\n",
       "  'fresh vegetables',\n",
       "  'fresh vegetables',\n",
       "  'fresh vegetables',\n",
       "  'fresh vegetables',\n",
       "  'fresh vegetables',\n",
       "  'fresh vegetables',\n",
       "  'fresh fruits',\n",
       "  'fresh vegetables',\n",
       "  'packaged vegetables fruits',\n",
       "  'fresh vegetables',\n",
       "  'fresh vegetables',\n",
       "  'fresh fruits',\n",
       "  'packaged vegetables fruits'],\n",
       " ['juice nectars'],\n",
       " ['cream',\n",
       "  'other creams cheeses',\n",
       "  'other creams cheeses',\n",
       "  'soy lactosefree',\n",
       "  'cream',\n",
       "  'yogurt',\n",
       "  'milk'],\n",
       " ['pasta sauce'],\n",
       " ['dish detergents',\n",
       "  'air fresheners candles',\n",
       "  'laundry',\n",
       "  'laundry',\n",
       "  'trash bags liners',\n",
       "  'more household',\n",
       "  'cleaning products'],\n",
       " ['spices seasonings',\n",
       "  'oils vinegars',\n",
       "  'baking ingredients',\n",
       "  'baking ingredients',\n",
       "  'condiments'],\n",
       " ['oral hygiene'],\n",
       " ['fresh fruits',\n",
       "  'fresh fruits',\n",
       "  'fresh vegetables',\n",
       "  'packaged vegetables fruits'],\n",
       " ['cookies cakes', 'cookies cakes', 'fruit vegetable snacks'],\n",
       " ['energy sports drinks'],\n",
       " ['breakfast bars pastries'],\n",
       " ['cream'],\n",
       " ['soap'],\n",
       " ['fresh vegetables'],\n",
       " ['buns rolls', 'bread'],\n",
       " ['water seltzer sparkling water',\n",
       "  'water seltzer sparkling water',\n",
       "  'water seltzer sparkling water'],\n",
       " ['milk', 'cream', 'milk', 'yogurt'],\n",
       " ['hot dogs bacon sausage'],\n",
       " ['pickled goods olives'],\n",
       " ['packaged vegetables fruits', 'packaged vegetables fruits', 'fresh herbs'],\n",
       " ['energy granola bars', 'chips pretzels'],\n",
       " ['other creams cheeses', 'yogurt', 'milk'],\n",
       " ['poultry counter'],\n",
       " ['fresh fruits',\n",
       "  'fresh fruits',\n",
       "  'packaged vegetables fruits',\n",
       "  'packaged vegetables fruits'],\n",
       " ['cream'],\n",
       " ['pasta sauce'],\n",
       " ['asian foods'],\n",
       " ['fresh fruits', 'fresh vegetables'],\n",
       " ['bakery desserts'],\n",
       " ['soft drinks', 'energy sports drinks', 'energy sports drinks'],\n",
       " ['breakfast bars pastries', 'breakfast bars pastries'],\n",
       " ['milk', 'soy lactosefree', 'yogurt', 'yogurt', 'milk', 'milk'],\n",
       " ['plates bowls cups flatware',\n",
       "  'plates bowls cups flatware',\n",
       "  'more household',\n",
       "  'plates bowls cups flatware',\n",
       "  'plates bowls cups flatware',\n",
       "  'air fresheners candles'],\n",
       " ['asian foods'],\n",
       " ['body lotions soap',\n",
       "  'vitamins supplements',\n",
       "  'cold flu allergy',\n",
       "  'cold flu allergy',\n",
       "  'cold flu allergy',\n",
       "  'cold flu allergy',\n",
       "  'body lotions soap',\n",
       "  'feminine care',\n",
       "  'body lotions soap'],\n",
       " ['fresh fruits',\n",
       "  'fresh fruits',\n",
       "  'fresh fruits',\n",
       "  'packaged vegetables fruits'],\n",
       " ['energy granola bars',\n",
       "  'candy chocolate',\n",
       "  'popcorn jerky',\n",
       "  'cookies cakes',\n",
       "  'popcorn jerky',\n",
       "  'candy chocolate',\n",
       "  'chips pretzels',\n",
       "  'popcorn jerky',\n",
       "  'candy chocolate',\n",
       "  'candy chocolate'],\n",
       " ['bread'],\n",
       " ['refrigerated'],\n",
       " ['yogurt',\n",
       "  'yogurt',\n",
       "  'yogurt',\n",
       "  'cream',\n",
       "  'soy lactosefree',\n",
       "  'yogurt',\n",
       "  'yogurt'],\n",
       " ['fresh dips tapenades', 'fresh dips tapenades'],\n",
       " ['fresh fruits',\n",
       "  'fresh fruits',\n",
       "  'fresh fruits',\n",
       "  'fresh fruits',\n",
       "  'fresh fruits'],\n",
       " ['energy granola bars',\n",
       "  'energy granola bars',\n",
       "  'energy granola bars',\n",
       "  'energy granola bars',\n",
       "  'energy granola bars',\n",
       "  'fruit vegetable snacks',\n",
       "  'nuts seeds dried fruit'],\n",
       " ['tea', 'tea', 'tea'],\n",
       " ['soy lactosefree',\n",
       "  'soy lactosefree',\n",
       "  'cream',\n",
       "  'soy lactosefree',\n",
       "  'milk',\n",
       "  'milk',\n",
       "  'soy lactosefree',\n",
       "  'soy lactosefree',\n",
       "  'soy lactosefree',\n",
       "  'milk',\n",
       "  'milk'],\n",
       " ['condiments'],\n",
       " ['trail mix snack mix'],\n",
       " ['diapers wipes'],\n",
       " ['breakfast bakery'],\n",
       " ['juice nectars',\n",
       "  'juice nectars',\n",
       "  'refrigerated',\n",
       "  'refrigerated',\n",
       "  'juice nectars'],\n",
       " ['hot cereal pancake mixes'],\n",
       " ['canned meals beans',\n",
       "  'canned meat seafood',\n",
       "  'canned meals beans',\n",
       "  'canned meals beans'],\n",
       " ['yogurt',\n",
       "  'packaged cheese',\n",
       "  'other creams cheeses',\n",
       "  'packaged cheese',\n",
       "  'eggs',\n",
       "  'soy lactosefree'],\n",
       " ['grains rice dried goods'],\n",
       " ['ice cream ice', 'frozen produce'],\n",
       " ['kitchen supplies'],\n",
       " ['missing'],\n",
       " ['baking supplies decor', 'pickled goods olives'],\n",
       " ['fresh fruits',\n",
       "  'fresh fruits',\n",
       "  'fresh fruits',\n",
       "  'fresh fruits',\n",
       "  'fresh vegetables',\n",
       "  'fresh fruits',\n",
       "  'fresh vegetables',\n",
       "  'fresh vegetables',\n",
       "  'fresh vegetables',\n",
       "  'fresh vegetables',\n",
       "  'fresh vegetables',\n",
       "  'packaged vegetables fruits',\n",
       "  'fresh fruits',\n",
       "  'fresh vegetables',\n",
       "  'fresh vegetables'],\n",
       " ['water seltzer sparkling water', 'water seltzer sparkling water'],\n",
       " ['packaged cheese',\n",
       "  'milk',\n",
       "  'butter',\n",
       "  'yogurt',\n",
       "  'yogurt',\n",
       "  'yogurt',\n",
       "  'yogurt',\n",
       "  'yogurt'],\n",
       " ['frozen meals',\n",
       "  'frozen meals',\n",
       "  'frozen meals',\n",
       "  'frozen meals',\n",
       "  'frozen meals',\n",
       "  'frozen meals',\n",
       "  'frozen meals',\n",
       "  'frozen meals'],\n",
       " ['packaged vegetables fruits'],\n",
       " ['energy granola bars'],\n",
       " ['juice nectars'],\n",
       " ['granola', 'granola', 'granola'],\n",
       " ['packaged cheese',\n",
       "  'yogurt',\n",
       "  'packaged cheese',\n",
       "  'packaged cheese',\n",
       "  'yogurt',\n",
       "  'packaged cheese'],\n",
       " ['fresh dips tapenades', 'lunch meat', 'fresh dips tapenades'],\n",
       " ['ice cream ice'],\n",
       " ['kitchen supplies'],\n",
       " ['baking ingredients',\n",
       "  'baking ingredients',\n",
       "  'spices seasonings',\n",
       "  'doughs gelatins bake mixes',\n",
       "  'baking ingredients',\n",
       "  'baking ingredients',\n",
       "  'preserved dips spreads',\n",
       "  'baking ingredients'],\n",
       " ['packaged vegetables fruits',\n",
       "  'fresh fruits',\n",
       "  'fresh fruits',\n",
       "  'packaged vegetables fruits',\n",
       "  'fresh vegetables',\n",
       "  'packaged vegetables fruits',\n",
       "  'fresh vegetables',\n",
       "  'fresh fruits',\n",
       "  'fresh fruits',\n",
       "  'packaged vegetables fruits',\n",
       "  'packaged vegetables fruits'],\n",
       " ['chips pretzels', 'crackers'],\n",
       " ['breakfast bakery',\n",
       "  'breakfast bakery',\n",
       "  'breakfast bakery',\n",
       "  'breakfast bakery'],\n",
       " ['coffee', 'coffee', 'coffee'],\n",
       " ['granola', 'breakfast bars pastries'],\n",
       " ['soup broth bouillon',\n",
       "  'canned meals beans',\n",
       "  'soup broth bouillon',\n",
       "  'canned jarred vegetables',\n",
       "  'soup broth bouillon',\n",
       "  'canned meals beans',\n",
       "  'soup broth bouillon'],\n",
       " ['yogurt', 'milk', 'yogurt', 'milk', 'packaged cheese', 'milk', 'milk'],\n",
       " ['tofu meat alternatives'],\n",
       " ['fresh pasta', 'instant foods', 'dry pasta', 'pasta sauce', 'instant foods'],\n",
       " ['cleaning products',\n",
       "  'paper goods',\n",
       "  'paper goods',\n",
       "  'paper goods',\n",
       "  'paper goods',\n",
       "  'cleaning products'],\n",
       " ['hot dogs bacon sausage',\n",
       "  'hot dogs bacon sausage',\n",
       "  'hot dogs bacon sausage',\n",
       "  'hot dogs bacon sausage',\n",
       "  'hot dogs bacon sausage'],\n",
       " ['oils vinegars',\n",
       "  'spices seasonings',\n",
       "  'spices seasonings',\n",
       "  'spices seasonings',\n",
       "  'spices seasonings',\n",
       "  'preserved dips spreads',\n",
       "  'doughs gelatins bake mixes'],\n",
       " ['cat food care',\n",
       "  'cat food care',\n",
       "  'cat food care',\n",
       "  'cat food care',\n",
       "  'cat food care',\n",
       "  'cat food care'],\n",
       " ['packaged vegetables fruits',\n",
       "  'fresh vegetables',\n",
       "  'fresh fruits',\n",
       "  'fresh vegetables',\n",
       "  'fresh vegetables',\n",
       "  'fresh fruits',\n",
       "  'packaged vegetables fruits',\n",
       "  'fresh vegetables',\n",
       "  'fresh vegetables',\n",
       "  'fresh vegetables',\n",
       "  'fresh vegetables',\n",
       "  'packaged vegetables fruits',\n",
       "  'fresh fruits'],\n",
       " ['chips pretzels',\n",
       "  'cookies cakes',\n",
       "  'popcorn jerky',\n",
       "  'candy chocolate',\n",
       "  'energy granola bars'],\n",
       " ['bread'],\n",
       " ['refrigerated',\n",
       "  'soft drinks',\n",
       "  'soft drinks',\n",
       "  'water seltzer sparkling water',\n",
       "  'water seltzer sparkling water',\n",
       "  'soft drinks',\n",
       "  'water seltzer sparkling water',\n",
       "  'water seltzer sparkling water',\n",
       "  'refrigerated',\n",
       "  'soft drinks'],\n",
       " ['cereal'],\n",
       " ['milk', 'packaged cheese', 'eggs', 'soy lactosefree'],\n",
       " ['lunch meat', 'fresh dips tapenades'],\n",
       " ['frozen breakfast', 'ice cream ice', 'frozen breakfast', 'frozen produce'],\n",
       " ['paper goods',\n",
       "  'paper goods',\n",
       "  'paper goods',\n",
       "  'cleaning products',\n",
       "  'dish detergents'],\n",
       " ['oils vinegars', 'spreads', 'oils vinegars'],\n",
       " ['muscles joints pain relief'],\n",
       " ['fresh vegetables',\n",
       "  'fresh fruits',\n",
       "  'fresh fruits',\n",
       "  'fresh fruits',\n",
       "  'packaged vegetables fruits'],\n",
       " ['popcorn jerky', 'crackers', 'crackers', 'crackers'],\n",
       " ['breakfast bakery', 'buns rolls'],\n",
       " ['water seltzer sparkling water',\n",
       "  'soft drinks',\n",
       "  'soft drinks',\n",
       "  'soft drinks',\n",
       "  'water seltzer sparkling water',\n",
       "  'refrigerated',\n",
       "  'soft drinks',\n",
       "  'soft drinks'],\n",
       " ['canned jarred vegetables',\n",
       "  'canned jarred vegetables',\n",
       "  'canned jarred vegetables'],\n",
       " ['lunch meat', 'fresh dips tapenades', 'lunch meat', 'fresh dips tapenades'],\n",
       " ['pasta sauce', 'fresh pasta'],\n",
       " ['frozen breakfast', 'frozen appetizers sides', 'frozen breakfast'],\n",
       " ['latino foods'],\n",
       " ['hot dogs bacon sausage'],\n",
       " ['fresh fruits',\n",
       "  'fresh fruits',\n",
       "  'packaged vegetables fruits',\n",
       "  'fresh herbs',\n",
       "  'fresh vegetables',\n",
       "  'packaged vegetables fruits',\n",
       "  'fresh fruits'],\n",
       " ['water seltzer sparkling water'],\n",
       " ['packaged poultry'],\n",
       " ['first aid'],\n",
       " ['bakery desserts'],\n",
       " ['energy sports drinks'],\n",
       " ['soup broth bouillon'],\n",
       " ['cream', 'other creams cheeses'],\n",
       " ['fresh dips tapenades'],\n",
       " ['frozen produce', 'frozen appetizers sides', 'frozen appetizers sides'],\n",
       " ['latino foods'],\n",
       " ['fresh fruits', 'fresh fruits'],\n",
       " ['water seltzer sparkling water',\n",
       "  'water seltzer sparkling water',\n",
       "  'water seltzer sparkling water'],\n",
       " ['packaged cheese', 'packaged cheese', 'soy lactosefree', 'cream'],\n",
       " ['lunch meat'],\n",
       " ['asian foods'],\n",
       " ['pickled goods olives', 'condiments'],\n",
       " ['fresh vegetables',\n",
       "  'fresh vegetables',\n",
       "  'fresh vegetables',\n",
       "  'fresh fruits',\n",
       "  'fresh herbs'],\n",
       " ['chips pretzels'],\n",
       " ['refrigerated', 'refrigerated'],\n",
       " ['canned meat seafood', 'canned meat seafood', 'canned meat seafood'],\n",
       " ['frozen produce', 'frozen produce'],\n",
       " ['oils vinegars',\n",
       "  'pickled goods olives',\n",
       "  'baking ingredients',\n",
       "  'pickled goods olives',\n",
       "  'baking ingredients',\n",
       "  'spreads'],\n",
       " ['packaged vegetables fruits',\n",
       "  'fresh vegetables',\n",
       "  'packaged vegetables fruits',\n",
       "  'packaged vegetables fruits',\n",
       "  'fresh vegetables',\n",
       "  'fresh vegetables',\n",
       "  'fresh vegetables',\n",
       "  'packaged produce',\n",
       "  'fresh vegetables',\n",
       "  'fresh vegetables',\n",
       "  'fresh vegetables',\n",
       "  'fresh fruits',\n",
       "  'fresh vegetables',\n",
       "  'fresh vegetables',\n",
       "  'fresh fruits',\n",
       "  'fresh fruits',\n",
       "  'fresh vegetables',\n",
       "  'fresh vegetables',\n",
       "  'fresh vegetables',\n",
       "  'fresh fruits',\n",
       "  'fresh fruits',\n",
       "  'fresh vegetables'],\n",
       " ['fresh fruits',\n",
       "  'fresh fruits',\n",
       "  'fresh fruits',\n",
       "  'packaged vegetables fruits',\n",
       "  'fresh fruits',\n",
       "  'fresh fruits',\n",
       "  'fresh fruits',\n",
       "  'fresh fruits'],\n",
       " ['chips pretzels', 'chips pretzels'],\n",
       " ['packaged cheese', 'packaged cheese', 'soy lactosefree', 'packaged cheese'],\n",
       " ['lunch meat', 'fresh dips tapenades'],\n",
       " ['instant foods'],\n",
       " ['cleaning products',\n",
       "  'paper goods',\n",
       "  'cleaning products',\n",
       "  'cleaning products'],\n",
       " ['salad dressing toppings'],\n",
       " ['packaged vegetables fruits', 'fresh vegetables'],\n",
       " ['bakery desserts', 'bread'],\n",
       " ['refrigerated', 'refrigerated'],\n",
       " ['soup broth bouillon'],\n",
       " ['other creams cheeses'],\n",
       " ['tofu meat alternatives'],\n",
       " ['dish detergents'],\n",
       " ['asian foods'],\n",
       " ['soap'],\n",
       " ['fresh fruits',\n",
       "  'packaged vegetables fruits',\n",
       "  'packaged vegetables fruits',\n",
       "  'fresh fruits',\n",
       "  'packaged vegetables fruits',\n",
       "  'fresh vegetables',\n",
       "  'fresh vegetables',\n",
       "  'fresh vegetables',\n",
       "  'fresh vegetables'],\n",
       " ['cookies cakes', 'fruit vegetable snacks', 'candy chocolate'],\n",
       " ['butter',\n",
       "  'other creams cheeses',\n",
       "  'other creams cheeses',\n",
       "  'milk',\n",
       "  'cream',\n",
       "  'cream',\n",
       "  'soy lactosefree',\n",
       "  'yogurt'],\n",
       " ['grains rice dried goods'],\n",
       " ['frozen produce'],\n",
       " ['condiments', 'baking ingredients', 'baking ingredients'],\n",
       " ['packaged vegetables fruits', 'fresh vegetables'],\n",
       " ['nuts seeds dried fruit'],\n",
       " ['refrigerated', 'refrigerated', 'refrigerated'],\n",
       " ['canned jarred vegetables', 'canned meals beans', 'canned meals beans'],\n",
       " ['packaged cheese'],\n",
       " ['lunch meat'],\n",
       " ['frozen meals'],\n",
       " ['protein meal replacements'],\n",
       " ['fresh fruits', 'packaged vegetables fruits', 'fresh fruits'],\n",
       " ['soft drinks',\n",
       "  'soft drinks',\n",
       "  'soft drinks',\n",
       "  'water seltzer sparkling water',\n",
       "  'tea'],\n",
       " ['cereal'],\n",
       " ['milk', 'cream', 'yogurt', 'yogurt', 'yogurt', 'milk'],\n",
       " ['ice cream ice'],\n",
       " ['doughs gelatins bake mixes'],\n",
       " ['fresh fruits', 'fresh fruits'],\n",
       " ['candy chocolate',\n",
       "  'candy chocolate',\n",
       "  'candy chocolate',\n",
       "  'candy chocolate',\n",
       "  'cookies cakes',\n",
       "  'cookies cakes',\n",
       "  'cookies cakes'],\n",
       " ['bread'],\n",
       " ['hot cereal pancake mixes'],\n",
       " ['canned jarred vegetables',\n",
       "  'soup broth bouillon',\n",
       "  'canned jarred vegetables'],\n",
       " ['milk',\n",
       "  'yogurt',\n",
       "  'specialty cheeses',\n",
       "  'other creams cheeses',\n",
       "  'packaged cheese',\n",
       "  'yogurt',\n",
       "  'cream',\n",
       "  'yogurt',\n",
       "  'yogurt',\n",
       "  'packaged cheese',\n",
       "  'yogurt'],\n",
       " ['lunch meat'],\n",
       " ['dry pasta'],\n",
       " ['indian foods'],\n",
       " ['preserved dips spreads'],\n",
       " ['packaged vegetables fruits',\n",
       "  'fresh fruits',\n",
       "  'fresh vegetables',\n",
       "  'fresh fruits',\n",
       "  'fresh fruits',\n",
       "  'fresh vegetables',\n",
       "  'fresh fruits',\n",
       "  'fresh vegetables',\n",
       "  'packaged vegetables fruits'],\n",
       " ['packaged vegetables fruits',\n",
       "  'packaged vegetables fruits',\n",
       "  'packaged produce'],\n",
       " ['beers coolers'],\n",
       " ['soft drinks', 'water seltzer sparkling water'],\n",
       " ['milk'],\n",
       " ['lunch meat', 'fresh dips tapenades'],\n",
       " ['frozen appetizers sides', 'frozen meals'],\n",
       " ['hot dogs bacon sausage'],\n",
       " ['preserved dips spreads', 'doughs gelatins bake mixes'],\n",
       " ['chips pretzels', 'chips pretzels', 'nuts seeds dried fruit', 'crackers'],\n",
       " ['packaged cheese', 'packaged cheese', 'butter'],\n",
       " ['spreads', 'spreads'],\n",
       " ['fresh vegetables',\n",
       "  'packaged vegetables fruits',\n",
       "  'packaged produce',\n",
       "  'packaged produce',\n",
       "  'fresh fruits',\n",
       "  'fresh fruits',\n",
       "  'fresh fruits',\n",
       "  'fresh fruits',\n",
       "  'packaged produce',\n",
       "  'fresh vegetables'],\n",
       " ['water seltzer sparkling water', 'water seltzer sparkling water'],\n",
       " ['bread', 'bread'],\n",
       " ['instant foods'],\n",
       " ['frozen appetizers sides'],\n",
       " ['paper goods'],\n",
       " ['fresh fruits', 'fresh fruits', 'fresh fruits'],\n",
       " ['energy granola bars'],\n",
       " ['bread'],\n",
       " ['soy lactosefree', 'yogurt'],\n",
       " ['frozen produce'],\n",
       " ['eye ear care'],\n",
       " ['fresh vegetables', 'fresh vegetables', 'fresh fruits'],\n",
       " ['cream', 'soy lactosefree', 'milk', 'cream', 'soy lactosefree', 'cream'],\n",
       " ['ice cream ice'],\n",
       " ['fresh fruits',\n",
       "  'fresh fruits',\n",
       "  'fresh fruits',\n",
       "  'fresh vegetables',\n",
       "  'fresh fruits',\n",
       "  'fresh vegetables',\n",
       "  'fresh fruits'],\n",
       " ['spreads', 'baking ingredients'],\n",
       " ['fresh fruits', 'fresh fruits'],\n",
       " ['buns rolls', 'bread'],\n",
       " ['milk',\n",
       "  'packaged cheese',\n",
       "  'other creams cheeses',\n",
       "  'yogurt',\n",
       "  'packaged cheese',\n",
       "  'eggs',\n",
       "  'packaged cheese',\n",
       "  'packaged cheese',\n",
       "  'milk',\n",
       "  'packaged cheese',\n",
       "  'milk',\n",
       "  'packaged cheese',\n",
       "  'milk',\n",
       "  'packaged cheese'],\n",
       " ['instant foods',\n",
       "  'instant foods',\n",
       "  'instant foods',\n",
       "  'dry pasta',\n",
       "  'instant foods',\n",
       "  'instant foods'],\n",
       " ['frozen appetizers sides',\n",
       "  'frozen appetizers sides',\n",
       "  'ice cream ice',\n",
       "  'ice cream ice',\n",
       "  'frozen appetizers sides'],\n",
       " ['latino foods'],\n",
       " ['hot dogs bacon sausage'],\n",
       " ['baking ingredients'],\n",
       " ['fresh fruits',\n",
       "  'fresh vegetables',\n",
       "  'fresh fruits',\n",
       "  'fresh fruits',\n",
       "  'fresh fruits',\n",
       "  'fresh vegetables',\n",
       "  'packaged vegetables fruits',\n",
       "  'fresh vegetables',\n",
       "  'fresh fruits',\n",
       "  'packaged vegetables fruits',\n",
       "  'fresh fruits',\n",
       "  'fresh fruits',\n",
       "  'fresh fruits',\n",
       "  'fresh fruits',\n",
       "  'fresh vegetables',\n",
       "  'fresh fruits',\n",
       "  'fresh fruits',\n",
       "  'packaged vegetables fruits'],\n",
       " ['chips pretzels', 'popcorn jerky', 'popcorn jerky'],\n",
       " ['breakfast bakery', 'breakfast bakery'],\n",
       " ['refrigerated'],\n",
       " ['packaged cheese', 'soy lactosefree', 'milk', 'yogurt', 'packaged cheese'],\n",
       " ['frozen produce'],\n",
       " ['fresh vegetables',\n",
       "  'fresh herbs',\n",
       "  'fresh fruits',\n",
       "  'fresh fruits',\n",
       "  'fresh fruits',\n",
       "  'fresh vegetables',\n",
       "  'fresh vegetables',\n",
       "  'fresh fruits',\n",
       "  'fresh fruits',\n",
       "  'fresh vegetables',\n",
       "  'fresh vegetables',\n",
       "  'fresh fruits',\n",
       "  'packaged vegetables fruits'],\n",
       " ['nuts seeds dried fruit'],\n",
       " ['other creams cheeses'],\n",
       " ['packaged produce', 'packaged vegetables fruits'],\n",
       " ['cookies cakes'],\n",
       " ['baby food formula', 'baby food formula', 'baby food formula'],\n",
       " ['tea'],\n",
       " ['granola', 'granola'],\n",
       " ['canned jarred vegetables',\n",
       "  'soup broth bouillon',\n",
       "  'soup broth bouillon',\n",
       "  'canned meals beans',\n",
       "  'canned meals beans',\n",
       "  'soup broth bouillon',\n",
       "  'canned jarred vegetables',\n",
       "  'soup broth bouillon',\n",
       "  'canned meals beans',\n",
       "  'canned meals beans',\n",
       "  'soup broth bouillon'],\n",
       " ['soy lactosefree',\n",
       "  'yogurt',\n",
       "  'cream',\n",
       "  'packaged cheese',\n",
       "  'butter',\n",
       "  'soy lactosefree',\n",
       "  'cream',\n",
       "  'soy lactosefree'],\n",
       " ['dry pasta',\n",
       "  'grains rice dried goods',\n",
       "  'dry pasta',\n",
       "  'dry pasta',\n",
       "  'pasta sauce'],\n",
       " ['asian foods'],\n",
       " ['poultry counter', 'poultry counter'],\n",
       " ['baking ingredients',\n",
       "  'oils vinegars',\n",
       "  'baking ingredients',\n",
       "  'spices seasonings'],\n",
       " ['soap'],\n",
       " ['packaged vegetables fruits',\n",
       "  'fresh vegetables',\n",
       "  'fresh vegetables',\n",
       "  'fresh vegetables',\n",
       "  'packaged vegetables fruits',\n",
       "  'fresh vegetables',\n",
       "  'fresh vegetables'],\n",
       " ['crackers'],\n",
       " ['paper goods'],\n",
       " ['shave needs', 'hair care', 'body lotions soap', 'oral hygiene'],\n",
       " ['water seltzer sparkling water'],\n",
       " ['fruit vegetable snacks', 'cookies cakes'],\n",
       " ['bread', 'bread', 'tortillas flat bread'],\n",
       " ['juice nectars'],\n",
       " ['cereal'],\n",
       " ['soy lactosefree',\n",
       "  'packaged cheese',\n",
       "  'soy lactosefree',\n",
       "  'yogurt',\n",
       "  'milk',\n",
       "  'packaged cheese',\n",
       "  'packaged cheese',\n",
       "  'soy lactosefree',\n",
       "  'soy lactosefree'],\n",
       " ['grains rice dried goods', 'dry pasta', 'grains rice dried goods'],\n",
       " ['spices seasonings', 'spreads', 'spreads', 'preserved dips spreads'],\n",
       " ['fresh fruits',\n",
       "  'fresh herbs',\n",
       "  'fresh fruits',\n",
       "  'fresh fruits',\n",
       "  'packaged vegetables fruits',\n",
       "  'fresh vegetables',\n",
       "  'fresh fruits',\n",
       "  'fresh vegetables',\n",
       "  'fresh fruits',\n",
       "  'fresh fruits',\n",
       "  'fresh vegetables',\n",
       "  'fresh fruits',\n",
       "  'fresh fruits',\n",
       "  'fresh vegetables',\n",
       "  'fresh fruits',\n",
       "  'fresh fruits',\n",
       "  'fresh vegetables',\n",
       "  'fresh vegetables',\n",
       "  'fresh vegetables',\n",
       "  'fresh herbs',\n",
       "  'fresh vegetables',\n",
       "  'packaged vegetables fruits',\n",
       "  'packaged vegetables fruits',\n",
       "  'fresh vegetables',\n",
       "  'fresh vegetables',\n",
       "  'packaged vegetables fruits',\n",
       "  'fresh vegetables',\n",
       "  'fresh fruits',\n",
       "  'fresh fruits',\n",
       "  'fresh vegetables',\n",
       "  'fresh vegetables',\n",
       "  'fresh vegetables'],\n",
       " ['breakfast bakery', 'bakery desserts', 'tortillas flat bread'],\n",
       " ['juice nectars',\n",
       "  'refrigerated',\n",
       "  'soft drinks',\n",
       "  'soft drinks',\n",
       "  'refrigerated',\n",
       "  'refrigerated',\n",
       "  'juice nectars',\n",
       "  'coffee',\n",
       "  'tea',\n",
       "  'water seltzer sparkling water',\n",
       "  'coffee',\n",
       "  'refrigerated'],\n",
       " ['cereal', 'cereal'],\n",
       " ['soup broth bouillon',\n",
       "  'canned jarred vegetables',\n",
       "  'canned jarred vegetables',\n",
       "  'canned jarred vegetables',\n",
       "  'canned jarred vegetables',\n",
       "  'canned fruit applesauce',\n",
       "  'canned meat seafood',\n",
       "  'canned meals beans',\n",
       "  'canned meals beans',\n",
       "  'canned meat seafood',\n",
       "  'canned jarred vegetables'],\n",
       " ['milk',\n",
       "  'yogurt',\n",
       "  'milk',\n",
       "  'yogurt',\n",
       "  'yogurt',\n",
       "  'yogurt',\n",
       "  'yogurt',\n",
       "  'packaged cheese',\n",
       "  'yogurt',\n",
       "  'yogurt',\n",
       "  'yogurt',\n",
       "  'yogurt',\n",
       "  'yogurt',\n",
       "  'packaged cheese'],\n",
       " ['lunch meat', 'prepared soups salads'],\n",
       " ['instant foods', 'instant foods', 'instant foods'],\n",
       " ['ice cream ice',\n",
       "  'frozen appetizers sides',\n",
       "  'ice cream ice',\n",
       "  'frozen appetizers sides',\n",
       "  'frozen appetizers sides',\n",
       "  'frozen meat seafood',\n",
       "  'ice cream ice'],\n",
       " ['dish detergents',\n",
       "  'plates bowls cups flatware',\n",
       "  'plates bowls cups flatware',\n",
       "  'paper goods',\n",
       "  'food storage',\n",
       "  'paper goods'],\n",
       " ['packaged meat', 'meat counter'],\n",
       " ['baking ingredients',\n",
       "  'oils vinegars',\n",
       "  'doughs gelatins bake mixes',\n",
       "  'baking ingredients',\n",
       "  'doughs gelatins bake mixes',\n",
       "  'marinades meat preparation',\n",
       "  'baking ingredients',\n",
       "  'oils vinegars',\n",
       "  'condiments',\n",
       "  'baking ingredients'],\n",
       " ['oral hygiene',\n",
       "  'first aid',\n",
       "  'body lotions soap',\n",
       "  'vitamins supplements',\n",
       "  'vitamins supplements'],\n",
       " ['dog food care',\n",
       "  'dog food care',\n",
       "  'dog food care',\n",
       "  'dog food care',\n",
       "  'dog food care',\n",
       "  'dog food care',\n",
       "  'dog food care',\n",
       "  'dog food care',\n",
       "  'dog food care',\n",
       "  'dog food care',\n",
       "  'dog food care',\n",
       "  'dog food care',\n",
       "  'dog food care',\n",
       "  'dog food care',\n",
       "  'dog food care',\n",
       "  'dog food care',\n",
       "  'dog food care',\n",
       "  'dog food care',\n",
       "  'dog food care',\n",
       "  'dog food care',\n",
       "  'dog food care',\n",
       "  'dog food care',\n",
       "  'dog food care',\n",
       "  'dog food care',\n",
       "  'dog food care'],\n",
       " ['fresh vegetables', 'packaged vegetables fruits', 'fresh vegetables'],\n",
       " ['mint gum',\n",
       "  'chips pretzels',\n",
       "  'cookies cakes',\n",
       "  'energy granola bars',\n",
       "  'chips pretzels',\n",
       "  'cookies cakes',\n",
       "  'crackers',\n",
       "  'candy chocolate',\n",
       "  'cookies cakes',\n",
       "  'cookies cakes',\n",
       "  'cookies cakes',\n",
       "  'chips pretzels',\n",
       "  'cookies cakes',\n",
       "  'candy chocolate',\n",
       "  'chips pretzels',\n",
       "  'mint gum',\n",
       "  'cookies cakes',\n",
       "  'popcorn jerky',\n",
       "  'cookies cakes'],\n",
       " ['buns rolls'],\n",
       " ['other creams cheeses'],\n",
       " ['hot dogs bacon sausage'],\n",
       " ['packaged produce', 'fresh vegetables'],\n",
       " ['frozen meals'],\n",
       " ['fresh vegetables', 'fresh vegetables'],\n",
       " ['yogurt'],\n",
       " ['fresh fruits',\n",
       "  'fresh vegetables',\n",
       "  'fresh herbs',\n",
       "  'fresh vegetables',\n",
       "  'fresh fruits',\n",
       "  'fresh fruits',\n",
       "  'packaged vegetables fruits',\n",
       "  'fresh fruits'],\n",
       " ['cookies cakes',\n",
       "  'energy granola bars',\n",
       "  'candy chocolate',\n",
       "  'energy granola bars'],\n",
       " ['baby food formula', 'baby food formula'],\n",
       " ['soft drinks',\n",
       "  'cocoa drink mixes',\n",
       "  'soft drinks',\n",
       "  'cocoa drink mixes',\n",
       "  'cocoa drink mixes'],\n",
       " ['cereal'],\n",
       " ['milk'],\n",
       " ['ice cream ice', 'ice cream ice', 'ice cream ice'],\n",
       " ['food storage'],\n",
       " ['candy chocolate',\n",
       "  'fruit vegetable snacks',\n",
       "  'candy chocolate',\n",
       "  'candy chocolate',\n",
       "  'candy chocolate',\n",
       "  'candy chocolate'],\n",
       " ['bread'],\n",
       " ['air fresheners candles'],\n",
       " ['spreads',\n",
       "  'honeys syrups nectars',\n",
       "  'spreads',\n",
       "  'spices seasonings',\n",
       "  'spices seasonings'],\n",
       " ['oral hygiene',\n",
       "  'oral hygiene',\n",
       "  'oral hygiene',\n",
       "  'oral hygiene',\n",
       "  'oral hygiene',\n",
       "  'oral hygiene'],\n",
       " ['crackers', 'crackers', 'nuts seeds dried fruit'],\n",
       " ['refrigerated'],\n",
       " ['milk', 'milk', 'yogurt'],\n",
       " ['cleaning products', 'paper goods'],\n",
       " ['energy granola bars'],\n",
       " ['butter'],\n",
       " ['frozen produce'],\n",
       " ['hot dogs bacon sausage'],\n",
       " ['fresh fruits'],\n",
       " ['chips pretzels',\n",
       "  'popcorn jerky',\n",
       "  'chips pretzels',\n",
       "  'candy chocolate',\n",
       "  'chips pretzels'],\n",
       " ['canned meals beans'],\n",
       " ['fresh dips tapenades'],\n",
       " ['packaged produce', 'packaged vegetables fruits', 'packaged produce'],\n",
       " ['cream', 'soy lactosefree'],\n",
       " ['frozen produce'],\n",
       " ['condiments', 'oils vinegars', 'condiments'],\n",
       " ['packaged vegetables fruits',\n",
       "  'fresh vegetables',\n",
       "  'fresh vegetables',\n",
       "  'fresh fruits',\n",
       "  'packaged vegetables fruits'],\n",
       " ['beers coolers',\n",
       "  'beers coolers',\n",
       "  'white wines',\n",
       "  'white wines',\n",
       "  'white wines',\n",
       "  'red wines',\n",
       "  'red wines',\n",
       "  'red wines',\n",
       "  'beers coolers',\n",
       "  'beers coolers'],\n",
       " ['juice nectars', 'energy sports drinks', 'energy sports drinks'],\n",
       " ['cream', 'cream', 'soy lactosefree', 'cream'],\n",
       " ['instant foods'],\n",
       " ['asian foods'],\n",
       " ['other', 'other', 'other'],\n",
       " ['condiments'],\n",
       " ['candy chocolate', 'fruit vegetable snacks', 'candy chocolate', 'crackers'],\n",
       " ['canned meals beans'],\n",
       " ['refrigerated pudding desserts',\n",
       "  'refrigerated pudding desserts',\n",
       "  'yogurt',\n",
       "  'yogurt'],\n",
       " ['frozen meals', 'frozen pizza'],\n",
       " ['baby accessories', 'baby accessories'],\n",
       " ['canned meals beans',\n",
       "  'soup broth bouillon',\n",
       "  'canned meals beans',\n",
       "  'canned meals beans',\n",
       "  'soup broth bouillon',\n",
       "  'canned meals beans'],\n",
       " ['eggs', 'eggs', 'soy lactosefree', 'eggs'],\n",
       " ['lunch meat',\n",
       "  'lunch meat',\n",
       "  'lunch meat',\n",
       "  'lunch meat',\n",
       "  'fresh dips tapenades',\n",
       "  'lunch meat',\n",
       "  'lunch meat'],\n",
       " ['dry pasta', 'dry pasta', 'dry pasta', 'dry pasta', 'dry pasta'],\n",
       " ['frozen meals', 'frozen breakfast'],\n",
       " ['paper goods', 'laundry', 'paper goods', 'paper goods'],\n",
       " ['hot dogs bacon sausage',\n",
       "  'hot dogs bacon sausage',\n",
       "  'hot dogs bacon sausage',\n",
       "  'hot dogs bacon sausage'],\n",
       " ['pickled goods olives'],\n",
       " ['oral hygiene', 'oral hygiene', 'oral hygiene'],\n",
       " ['fresh fruits',\n",
       "  'fresh vegetables',\n",
       "  'fresh vegetables',\n",
       "  'fresh vegetables',\n",
       "  'fresh vegetables',\n",
       "  'fresh fruits',\n",
       "  'fresh vegetables',\n",
       "  'fresh vegetables',\n",
       "  'fresh vegetables',\n",
       "  'fresh vegetables',\n",
       "  'fresh vegetables',\n",
       "  'fresh vegetables',\n",
       "  'fresh fruits',\n",
       "  'fresh vegetables',\n",
       "  'fresh fruits',\n",
       "  'fresh vegetables',\n",
       "  'fresh fruits',\n",
       "  'fresh vegetables',\n",
       "  'packaged vegetables fruits',\n",
       "  'fresh vegetables',\n",
       "  'fresh vegetables',\n",
       "  'fresh vegetables',\n",
       "  'fresh vegetables',\n",
       "  'fresh vegetables',\n",
       "  'fresh vegetables',\n",
       "  'fresh fruits',\n",
       "  'fresh vegetables',\n",
       "  'fresh vegetables',\n",
       "  'fresh vegetables',\n",
       "  'fresh vegetables',\n",
       "  'packaged vegetables fruits',\n",
       "  'fresh fruits',\n",
       "  'fresh vegetables',\n",
       "  'fresh vegetables',\n",
       "  'fresh vegetables',\n",
       "  'fresh vegetables',\n",
       "  'fresh fruits',\n",
       "  'fresh vegetables'],\n",
       " ['specialty wines champagnes'],\n",
       " ['breakfast bakery'],\n",
       " ['water seltzer sparkling water'],\n",
       " ['eggs'],\n",
       " ['packaged vegetables fruits',\n",
       "  'fresh fruits',\n",
       "  'fresh vegetables',\n",
       "  'fresh vegetables',\n",
       "  'fresh vegetables',\n",
       "  'fresh fruits'],\n",
       " ['soft drinks'],\n",
       " ['packaged cheese'],\n",
       " ['lunch meat'],\n",
       " ['pasta sauce'],\n",
       " ['ice cream ice', 'frozen pizza', 'ice cream ice'],\n",
       " ['paper goods'],\n",
       " ['oral hygiene'],\n",
       " ['fresh fruits'],\n",
       " ['chips pretzels'],\n",
       " ['water seltzer sparkling water', 'water seltzer sparkling water'],\n",
       " ['packaged cheese'],\n",
       " ['instant foods'],\n",
       " ['hot dogs bacon sausage'],\n",
       " ['spices seasonings'],\n",
       " ['fresh fruits',\n",
       "  'packaged vegetables fruits',\n",
       "  'fresh vegetables',\n",
       "  'packaged produce'],\n",
       " ['coffee'],\n",
       " ['soy lactosefree'],\n",
       " ['frozen produce'],\n",
       " ['trash bags liners', 'dish detergents'],\n",
       " ['indian foods'],\n",
       " ['baking ingredients', 'spices seasonings'],\n",
       " ['fresh herbs',\n",
       "  'fresh vegetables',\n",
       "  'fresh fruits',\n",
       "  'fresh fruits',\n",
       "  'fresh herbs',\n",
       "  'fresh herbs',\n",
       "  'fresh vegetables',\n",
       "  'fresh fruits',\n",
       "  'fresh vegetables',\n",
       "  'fresh vegetables',\n",
       "  'fresh vegetables',\n",
       "  'fresh vegetables',\n",
       "  'fresh vegetables',\n",
       "  'fresh vegetables',\n",
       "  'fresh vegetables',\n",
       "  'fresh vegetables',\n",
       "  'fresh vegetables',\n",
       "  'fresh fruits'],\n",
       " ['candy chocolate'],\n",
       " ['bread'],\n",
       " ['water seltzer sparkling water'],\n",
       " ['hot cereal pancake mixes'],\n",
       " ['eggs', 'milk', 'soy lactosefree', 'milk', 'yogurt'],\n",
       " ['fresh dips tapenades'],\n",
       " ['spreads', 'condiments'],\n",
       " ['fresh fruits',\n",
       "  'fresh fruits',\n",
       "  'fresh fruits',\n",
       "  'packaged vegetables fruits',\n",
       "  'packaged vegetables fruits',\n",
       "  'packaged vegetables fruits',\n",
       "  'fresh vegetables'],\n",
       " ['bread', 'bread'],\n",
       " ['coffee',\n",
       "  'coffee',\n",
       "  'water seltzer sparkling water',\n",
       "  'water seltzer sparkling water',\n",
       "  'coffee',\n",
       "  'water seltzer sparkling water',\n",
       "  'water seltzer sparkling water',\n",
       "  'water seltzer sparkling water',\n",
       "  'water seltzer sparkling water',\n",
       "  'water seltzer sparkling water',\n",
       "  'coffee',\n",
       "  'water seltzer sparkling water',\n",
       "  'water seltzer sparkling water',\n",
       "  'water seltzer sparkling water',\n",
       "  'water seltzer sparkling water',\n",
       "  'water seltzer sparkling water',\n",
       "  'coffee',\n",
       "  'coffee'],\n",
       " ['cereal',\n",
       "  'cereal',\n",
       "  'granola',\n",
       "  'granola',\n",
       "  'granola',\n",
       "  'granola',\n",
       "  'granola',\n",
       "  'granola',\n",
       "  'cereal',\n",
       "  'cereal',\n",
       "  'granola'],\n",
       " ['cream',\n",
       "  'soy lactosefree',\n",
       "  'yogurt',\n",
       "  'milk',\n",
       "  'milk',\n",
       "  'yogurt',\n",
       "  'milk',\n",
       "  'packaged cheese',\n",
       "  'milk',\n",
       "  'packaged cheese',\n",
       "  'packaged cheese'],\n",
       " ['lunch meat', 'lunch meat'],\n",
       " ['ice cream ice', 'ice cream ice'],\n",
       " ['asian foods', 'asian foods', 'asian foods'],\n",
       " ['condiments',\n",
       "  'condiments',\n",
       "  'spreads',\n",
       "  'spreads',\n",
       "  'spreads',\n",
       "  'spreads',\n",
       "  'spreads',\n",
       "  'honeys syrups nectars',\n",
       "  'baking ingredients',\n",
       "  'spreads',\n",
       "  'spreads',\n",
       "  'spreads'],\n",
       " ['packaged vegetables fruits',\n",
       "  'packaged vegetables fruits',\n",
       "  'packaged vegetables fruits',\n",
       "  'fresh fruits',\n",
       "  'fresh fruits',\n",
       "  'fresh fruits',\n",
       "  'fresh fruits',\n",
       "  'fresh fruits',\n",
       "  'packaged vegetables fruits',\n",
       "  'fresh fruits',\n",
       "  'packaged vegetables fruits',\n",
       "  'fresh fruits',\n",
       "  'packaged vegetables fruits',\n",
       "  'fresh fruits',\n",
       "  'fresh fruits',\n",
       "  'fresh fruits',\n",
       "  'fresh fruits',\n",
       "  'fresh fruits',\n",
       "  'packaged vegetables fruits',\n",
       "  'fresh fruits',\n",
       "  'fresh fruits'],\n",
       " ['energy granola bars',\n",
       "  'energy granola bars',\n",
       "  'energy granola bars',\n",
       "  'energy granola bars',\n",
       "  'chips pretzels',\n",
       "  'energy granola bars',\n",
       "  'energy granola bars',\n",
       "  'energy granola bars',\n",
       "  'nuts seeds dried fruit',\n",
       "  'energy granola bars',\n",
       "  'energy granola bars',\n",
       "  'energy granola bars',\n",
       "  'energy granola bars',\n",
       "  'energy granola bars',\n",
       "  'chips pretzels',\n",
       "  'chips pretzels',\n",
       "  'chips pretzels'],\n",
       " ['diapers wipes', 'baby accessories'],\n",
       " ['juice nectars'],\n",
       " ['soy lactosefree', 'cream', 'packaged cheese'],\n",
       " ['spreads', 'spreads', 'baking ingredients'],\n",
       " ['cold flu allergy'],\n",
       " ['fresh vegetables',\n",
       "  'fresh vegetables',\n",
       "  'fresh vegetables',\n",
       "  'packaged vegetables fruits',\n",
       "  'fresh fruits'],\n",
       " ['crackers', 'chips pretzels', 'crackers', 'crackers'],\n",
       " ['breakfast bakery'],\n",
       " ['butter', 'milk'],\n",
       " ['lunch meat'],\n",
       " ['frozen produce', 'ice cream ice'],\n",
       " ['spreads'],\n",
       " ['packaged vegetables fruits', 'fresh fruits'],\n",
       " ['trail mix snack mix', 'crackers', 'crackers', 'chips pretzels'],\n",
       " ['bread'],\n",
       " ['soft drinks'],\n",
       " ['canned meat seafood'],\n",
       " ['instant foods'],\n",
       " ['frozen pizza'],\n",
       " ['fresh fruits'],\n",
       " ['cookies cakes'],\n",
       " ['bread'],\n",
       " ['refrigerated',\n",
       "  'refrigerated',\n",
       "  'refrigerated',\n",
       "  'soft drinks',\n",
       "  'refrigerated',\n",
       "  'refrigerated',\n",
       "  'soft drinks'],\n",
       " ['cereal', 'cereal', 'cereal'],\n",
       " ['canned jarred vegetables',\n",
       "  'canned jarred vegetables',\n",
       "  'canned jarred vegetables'],\n",
       " ['yogurt',\n",
       "  'soy lactosefree',\n",
       "  'yogurt',\n",
       "  'packaged cheese',\n",
       "  'soy lactosefree',\n",
       "  'yogurt',\n",
       "  'yogurt',\n",
       "  'yogurt',\n",
       "  'yogurt',\n",
       "  'yogurt',\n",
       "  'yogurt',\n",
       "  'soy lactosefree',\n",
       "  'packaged cheese'],\n",
       " ['lunch meat', 'lunch meat', 'lunch meat'],\n",
       " ['pasta sauce', 'dry pasta', 'dry pasta'],\n",
       " ['ice cream ice',\n",
       "  'frozen produce',\n",
       "  'frozen pizza',\n",
       "  'frozen breakfast',\n",
       "  'frozen breakfast',\n",
       "  'frozen breakfast',\n",
       "  'frozen pizza',\n",
       "  'ice cream ice',\n",
       "  'frozen breakfast',\n",
       "  'ice cream ice',\n",
       "  'ice cream ice',\n",
       "  'frozen pizza',\n",
       "  'ice cream ice',\n",
       "  'frozen breakfast',\n",
       "  'frozen produce',\n",
       "  'frozen breakfast'],\n",
       " ['hot dogs bacon sausage',\n",
       "  'hot dogs bacon sausage',\n",
       "  'meat counter',\n",
       "  'poultry counter',\n",
       "  'meat counter',\n",
       "  'meat counter',\n",
       "  'hot dogs bacon sausage'],\n",
       " ['baking supplies decor',\n",
       "  'spices seasonings',\n",
       "  'spices seasonings',\n",
       "  'spreads',\n",
       "  'spreads',\n",
       "  'spices seasonings',\n",
       "  'spreads',\n",
       "  'spreads'],\n",
       " ['fresh fruits',\n",
       "  'fresh vegetables',\n",
       "  'fresh fruits',\n",
       "  'fresh vegetables',\n",
       "  'fresh fruits',\n",
       "  'fresh vegetables',\n",
       "  'fresh vegetables',\n",
       "  'fresh vegetables',\n",
       "  'fresh fruits',\n",
       "  'fresh herbs'],\n",
       " ['candy chocolate',\n",
       "  'chips pretzels',\n",
       "  'chips pretzels',\n",
       "  'fruit vegetable snacks',\n",
       "  'crackers',\n",
       "  'cookies cakes',\n",
       "  'chips pretzels'],\n",
       " ['bread'],\n",
       " ['soup broth bouillon'],\n",
       " ['other creams cheeses'],\n",
       " ['bread'],\n",
       " ['water seltzer sparkling water',\n",
       "  'water seltzer sparkling water',\n",
       "  'water seltzer sparkling water',\n",
       "  'water seltzer sparkling water'],\n",
       " ['hot cereal pancake mixes'],\n",
       " ['canned meals beans',\n",
       "  'canned meals beans',\n",
       "  'canned jarred vegetables',\n",
       "  'canned meat seafood'],\n",
       " ['yogurt',\n",
       "  'yogurt',\n",
       "  'yogurt',\n",
       "  'soy lactosefree',\n",
       "  'yogurt',\n",
       "  'eggs',\n",
       "  'specialty cheeses',\n",
       "  'milk',\n",
       "  'packaged cheese',\n",
       "  'yogurt',\n",
       "  'yogurt',\n",
       "  'yogurt',\n",
       "  'yogurt',\n",
       "  'yogurt',\n",
       "  'soy lactosefree'],\n",
       " ['fresh dips tapenades', 'tofu meat alternatives'],\n",
       " ['grains rice dried goods'],\n",
       " ['frozen produce', 'frozen produce', 'ice cream ice', 'frozen produce'],\n",
       " ...]"
      ]
     },
     "execution_count": 131,
     "metadata": {},
     "output_type": "execute_result"
    }
   ],
   "source": [
    "transactions"
   ]
  },
  {
   "cell_type": "code",
   "execution_count": null,
   "metadata": {
    "id": "EWnDO1tCeh0_",
    "outputId": "cf4be211-b069-4e79-e311-10b75141db1b"
   },
   "outputs": [
    {
     "name": "stdout",
     "output_type": "stream",
     "text": [
      "Transaction 1:['packaged cheese', 'packaged cheese']\n",
      "Transaction 2:['lunch meat', 'prepared soups salads', 'fresh dips tapenades']\n",
      "Transaction 3:['fresh fruits', 'fresh fruits', 'fresh fruits']\n",
      "Transaction 4:['popcorn jerky', 'crackers', 'chips pretzels']\n",
      "Transaction 5:['water seltzer sparkling water']\n",
      "Transaction 6:['other creams cheeses', 'packaged cheese', 'soy lactosefree', 'soy lactosefree', 'soy lactosefree']\n",
      "Transaction 7:['ice cream ice', 'frozen breakfast']\n",
      "Transaction 8:['paper goods']\n",
      "Transaction 9:['spreads']\n",
      "Transaction 10:['fresh fruits', 'packaged vegetables fruits', 'fresh fruits', 'fresh fruits', 'packaged vegetables fruits', 'packaged vegetables fruits']\n",
      "Transaction 11:['nuts seeds dried fruit', 'nuts seeds dried fruit', 'crackers']\n",
      "Transaction 12:['bread']\n",
      "Transaction 13:['refrigerated', 'coffee', 'refrigerated', 'refrigerated', 'refrigerated', 'coffee', 'refrigerated']\n",
      "Transaction 14:['canned meals beans', 'canned fruit applesauce']\n",
      "Transaction 15:['packaged cheese', 'other creams cheeses', 'yogurt', 'soy lactosefree']\n",
      "Transaction 16:['lunch meat', 'lunch meat', 'lunch meat']\n",
      "Transaction 17:['frozen meals']\n",
      "Transaction 18:['meat counter']\n",
      "Transaction 19:['fresh fruits', 'fresh vegetables']\n",
      "Transaction 20:['fruit vegetable snacks', 'popcorn jerky', 'crackers']\n"
     ]
    }
   ],
   "source": [
    "first_20_transaction = transactions[:20]\n",
    "\n",
    "for i, transaction in enumerate(first_20_transaction):\n",
    "    print(f\"Transaction {i+1}:{transaction}\")"
   ]
  },
  {
   "cell_type": "code",
   "execution_count": null,
   "metadata": {
    "id": "dUVR2qYXeh1A"
   },
   "outputs": [],
   "source": [
    "te = TransactionEncoder()\n",
    "te_ary = te.fit(transactions).transform(transactions)"
   ]
  },
  {
   "cell_type": "code",
   "execution_count": null,
   "metadata": {
    "id": "RjJ9YxZzeh1A",
    "outputId": "9989537c-fe6f-448f-b2d5-23a7373c6fa9"
   },
   "outputs": [
    {
     "data": {
      "text/plain": [
       "[['packaged cheese', 'packaged cheese'],\n",
       " ['lunch meat', 'prepared soups salads', 'fresh dips tapenades'],\n",
       " ['fresh fruits', 'fresh fruits', 'fresh fruits'],\n",
       " ['popcorn jerky', 'crackers', 'chips pretzels'],\n",
       " ['water seltzer sparkling water'],\n",
       " ['other creams cheeses',\n",
       "  'packaged cheese',\n",
       "  'soy lactosefree',\n",
       "  'soy lactosefree',\n",
       "  'soy lactosefree'],\n",
       " ['ice cream ice', 'frozen breakfast'],\n",
       " ['paper goods'],\n",
       " ['spreads'],\n",
       " ['fresh fruits',\n",
       "  'packaged vegetables fruits',\n",
       "  'fresh fruits',\n",
       "  'fresh fruits',\n",
       "  'packaged vegetables fruits',\n",
       "  'packaged vegetables fruits'],\n",
       " ['nuts seeds dried fruit', 'nuts seeds dried fruit', 'crackers'],\n",
       " ['bread'],\n",
       " ['refrigerated',\n",
       "  'coffee',\n",
       "  'refrigerated',\n",
       "  'refrigerated',\n",
       "  'refrigerated',\n",
       "  'coffee',\n",
       "  'refrigerated'],\n",
       " ['canned meals beans', 'canned fruit applesauce'],\n",
       " ['packaged cheese', 'other creams cheeses', 'yogurt', 'soy lactosefree'],\n",
       " ['lunch meat', 'lunch meat', 'lunch meat'],\n",
       " ['frozen meals'],\n",
       " ['meat counter'],\n",
       " ['fresh fruits', 'fresh vegetables'],\n",
       " ['fruit vegetable snacks', 'popcorn jerky', 'crackers'],\n",
       " ['packaged cheese',\n",
       "  'packaged cheese',\n",
       "  'packaged cheese',\n",
       "  'yogurt',\n",
       "  'packaged cheese'],\n",
       " ['fresh dips tapenades', 'lunch meat', 'lunch meat', 'lunch meat'],\n",
       " ['hot dogs bacon sausage',\n",
       "  'poultry counter',\n",
       "  'hot dogs bacon sausage',\n",
       "  'meat counter'],\n",
       " ['preserved dips spreads',\n",
       "  'oils vinegars',\n",
       "  'preserved dips spreads',\n",
       "  'marinades meat preparation'],\n",
       " ['fresh vegetables',\n",
       "  'fresh fruits',\n",
       "  'fresh vegetables',\n",
       "  'fresh herbs',\n",
       "  'fresh herbs',\n",
       "  'fresh herbs',\n",
       "  'fresh herbs',\n",
       "  'fresh herbs',\n",
       "  'packaged vegetables fruits',\n",
       "  'packaged vegetables fruits',\n",
       "  'packaged vegetables fruits',\n",
       "  'fresh vegetables',\n",
       "  'fresh fruits'],\n",
       " ['water seltzer sparkling water',\n",
       "  'soft drinks',\n",
       "  'water seltzer sparkling water'],\n",
       " ['butter', 'cream'],\n",
       " ['baking ingredients', 'oils vinegars', 'baking ingredients', 'spreads'],\n",
       " ['packaged vegetables fruits', 'packaged produce'],\n",
       " ['bread', 'tortillas flat bread'],\n",
       " ['canned meals beans'],\n",
       " ['milk', 'cream', 'soy lactosefree'],\n",
       " ['fresh vegetables', 'fresh vegetables', 'fresh vegetables'],\n",
       " ['nuts seeds dried fruit'],\n",
       " ['white wines'],\n",
       " ['water seltzer sparkling water'],\n",
       " ['soup broth bouillon'],\n",
       " ['eggs'],\n",
       " ['fresh fruits'],\n",
       " ['breakfast bakery'],\n",
       " ['tea'],\n",
       " ['eggs'],\n",
       " ['crackers'],\n",
       " ['eggs'],\n",
       " ['frozen produce'],\n",
       " ['baking ingredients', 'condiments'],\n",
       " ['packaged vegetables fruits',\n",
       "  'packaged vegetables fruits',\n",
       "  'fresh vegetables',\n",
       "  'fresh vegetables',\n",
       "  'fresh fruits'],\n",
       " ['juice nectars'],\n",
       " ['hot dogs bacon sausage'],\n",
       " ['crackers', 'popcorn jerky'],\n",
       " ['cream'],\n",
       " ['honeys syrups nectars'],\n",
       " ['nuts seeds dried fruit'],\n",
       " ['breakfast bakery'],\n",
       " ['water seltzer sparkling water',\n",
       "  'coffee',\n",
       "  'juice nectars',\n",
       "  'refrigerated',\n",
       "  'coffee'],\n",
       " ['soy lactosefree'],\n",
       " ['spreads'],\n",
       " ['energy granola bars', 'mint gum'],\n",
       " ['bakery desserts'],\n",
       " ['juice nectars'],\n",
       " ['canned meat seafood'],\n",
       " ['packaged cheese', 'packaged cheese'],\n",
       " ['lunch meat'],\n",
       " ['frozen meals', 'ice cream ice'],\n",
       " ['paper goods'],\n",
       " ['spreads'],\n",
       " ['cookies cakes', 'cookies cakes', 'crackers'],\n",
       " ['water seltzer sparkling water', 'water seltzer sparkling water'],\n",
       " ['trash bags liners'],\n",
       " ['bread'],\n",
       " ['milk'],\n",
       " ['ice cream ice', 'ice cream ice'],\n",
       " ['doughs gelatins bake mixes'],\n",
       " ['refrigerated'],\n",
       " ['pasta sauce'],\n",
       " ['soy lactosefree', 'packaged cheese', 'yogurt', 'yogurt'],\n",
       " ['tofu meat alternatives'],\n",
       " ['spreads'],\n",
       " ['fresh fruits',\n",
       "  'fresh fruits',\n",
       "  'packaged vegetables fruits',\n",
       "  'fresh fruits',\n",
       "  'fresh vegetables',\n",
       "  'packaged vegetables fruits',\n",
       "  'fresh vegetables'],\n",
       " ['cookies cakes'],\n",
       " ['bread'],\n",
       " ['packaged cheese', 'other creams cheeses', 'butter', 'cream'],\n",
       " ['dry pasta'],\n",
       " ['spreads', 'spreads', 'spreads', 'spreads', 'spreads'],\n",
       " ['fresh vegetables',\n",
       "  'fresh fruits',\n",
       "  'fresh vegetables',\n",
       "  'fresh fruits',\n",
       "  'fresh fruits',\n",
       "  'fresh fruits',\n",
       "  'fresh fruits'],\n",
       " ['breakfast bakery', 'tortillas flat bread', 'breakfast bakery', 'bread'],\n",
       " ['coffee',\n",
       "  'water seltzer sparkling water',\n",
       "  'coffee',\n",
       "  'coffee',\n",
       "  'water seltzer sparkling water',\n",
       "  'water seltzer sparkling water',\n",
       "  'coffee'],\n",
       " ['milk',\n",
       "  'packaged cheese',\n",
       "  'packaged cheese',\n",
       "  'packaged cheese',\n",
       "  'packaged cheese',\n",
       "  'soy lactosefree',\n",
       "  'eggs',\n",
       "  'soy lactosefree',\n",
       "  'packaged cheese',\n",
       "  'packaged cheese',\n",
       "  'soy lactosefree',\n",
       "  'butter'],\n",
       " ['pasta sauce', 'dry pasta', 'dry pasta', 'instant foods'],\n",
       " ['frozen appetizers sides', 'frozen appetizers sides', 'frozen produce'],\n",
       " ['paper goods', 'paper goods', 'dish detergents'],\n",
       " ['hot dogs bacon sausage', 'hot dogs bacon sausage'],\n",
       " ['baking ingredients',\n",
       "  'oils vinegars',\n",
       "  'oils vinegars',\n",
       "  'doughs gelatins bake mixes'],\n",
       " ['packaged vegetables fruits',\n",
       "  'fresh fruits',\n",
       "  'fresh vegetables',\n",
       "  'fresh vegetables',\n",
       "  'fresh vegetables',\n",
       "  'fresh fruits',\n",
       "  'fresh vegetables',\n",
       "  'fresh vegetables'],\n",
       " ['chips pretzels', 'chips pretzels', 'chips pretzels'],\n",
       " ['canned meals beans', 'canned jarred vegetables', 'canned meals beans'],\n",
       " ['yogurt'],\n",
       " ['lunch meat'],\n",
       " ['frozen meat seafood', 'frozen produce', 'frozen produce', 'frozen produce'],\n",
       " ['packaged poultry'],\n",
       " ['fresh fruits',\n",
       "  'fresh vegetables',\n",
       "  'fresh fruits',\n",
       "  'fresh fruits',\n",
       "  'fresh fruits',\n",
       "  'packaged vegetables fruits',\n",
       "  'fresh fruits',\n",
       "  'fresh vegetables',\n",
       "  'packaged vegetables fruits'],\n",
       " ['bread', 'bread', 'breakfast bakery'],\n",
       " ['canned meals beans'],\n",
       " ['packaged cheese', 'packaged cheese', 'milk', 'other creams cheeses'],\n",
       " ['frozen vegan vegetarian',\n",
       "  'frozen vegan vegetarian',\n",
       "  'frozen meals',\n",
       "  'frozen pizza',\n",
       "  'frozen meals',\n",
       "  'frozen meals',\n",
       "  'frozen meals',\n",
       "  'frozen meals',\n",
       "  'frozen meals',\n",
       "  'frozen meals'],\n",
       " ['paper goods'],\n",
       " ['preserved dips spreads'],\n",
       " ['fresh fruits'],\n",
       " ['candy chocolate', 'crackers'],\n",
       " ['buns rolls'],\n",
       " ['soft drinks'],\n",
       " ['cereal'],\n",
       " ['soup broth bouillon', 'canned jarred vegetables'],\n",
       " ['milk', 'cream', 'yogurt', 'milk', 'packaged cheese', 'cream'],\n",
       " ['instant foods'],\n",
       " ['frozen meals'],\n",
       " ['hot dogs bacon sausage'],\n",
       " ['doughs gelatins bake mixes'],\n",
       " ['fresh fruits',\n",
       "  'packaged vegetables fruits',\n",
       "  'fresh fruits',\n",
       "  'fresh fruits',\n",
       "  'packaged vegetables fruits',\n",
       "  'packaged produce',\n",
       "  'fresh fruits',\n",
       "  'fresh fruits',\n",
       "  'packaged vegetables fruits',\n",
       "  'fresh vegetables',\n",
       "  'packaged produce',\n",
       "  'packaged vegetables fruits',\n",
       "  'fresh fruits'],\n",
       " ['energy granola bars'],\n",
       " ['refrigerated'],\n",
       " ['cereal'],\n",
       " ['ice cream ice'],\n",
       " ['hot dogs bacon sausage'],\n",
       " ['chips pretzels'],\n",
       " ['bread'],\n",
       " ['yogurt', 'packaged cheese'],\n",
       " ['frozen breakfast'],\n",
       " ['baking ingredients'],\n",
       " ['fresh fruits'],\n",
       " ['water seltzer sparkling water', 'water seltzer sparkling water'],\n",
       " ['butter', 'eggs'],\n",
       " ['laundry'],\n",
       " ['fresh vegetables',\n",
       "  'fresh fruits',\n",
       "  'fresh vegetables',\n",
       "  'fresh vegetables',\n",
       "  'fresh vegetables',\n",
       "  'fresh vegetables'],\n",
       " ['mint gum'],\n",
       " ['soft drinks', 'soft drinks', 'soft drinks'],\n",
       " ['packaged produce', 'packaged produce', 'packaged produce'],\n",
       " ['energy granola bars',\n",
       "  'nuts seeds dried fruit',\n",
       "  'energy granola bars',\n",
       "  'fruit vegetable snacks',\n",
       "  'nuts seeds dried fruit',\n",
       "  'candy chocolate',\n",
       "  'popcorn jerky'],\n",
       " ['water seltzer sparkling water', 'water seltzer sparkling water'],\n",
       " ['canned meals beans',\n",
       "  'canned jarred vegetables',\n",
       "  'soup broth bouillon',\n",
       "  'soup broth bouillon'],\n",
       " ['yogurt', 'milk', 'butter', 'milk'],\n",
       " ['tofu meat alternatives'],\n",
       " ['oils vinegars',\n",
       "  'salad dressing toppings',\n",
       "  'baking ingredients',\n",
       "  'oils vinegars'],\n",
       " ['fresh vegetables',\n",
       "  'fresh fruits',\n",
       "  'fresh vegetables',\n",
       "  'fresh herbs',\n",
       "  'fresh vegetables',\n",
       "  'fresh herbs',\n",
       "  'fresh fruits'],\n",
       " ['other creams cheeses', 'other creams cheeses', 'eggs', 'milk'],\n",
       " ['instant foods'],\n",
       " ['frozen meals', 'frozen meals'],\n",
       " ['missing'],\n",
       " ['other'],\n",
       " ['fresh vegetables',\n",
       "  'packaged vegetables fruits',\n",
       "  'fresh vegetables',\n",
       "  'fresh fruits',\n",
       "  'packaged vegetables fruits'],\n",
       " ['nuts seeds dried fruit', 'nuts seeds dried fruit', 'popcorn jerky'],\n",
       " ['frozen produce'],\n",
       " ['meat counter'],\n",
       " ['fresh vegetables'],\n",
       " ['buns rolls'],\n",
       " ['cocoa drink mixes', 'tea', 'refrigerated'],\n",
       " ['cream', 'butter'],\n",
       " ['lunch meat'],\n",
       " ['pasta sauce', 'dry pasta'],\n",
       " ['frozen produce'],\n",
       " ['other'],\n",
       " ['doughs gelatins bake mixes', 'doughs gelatins bake mixes'],\n",
       " ['fresh vegetables'],\n",
       " ['chips pretzels'],\n",
       " ['baby food formula', 'baby food formula', 'baby food formula'],\n",
       " ['cereal'],\n",
       " ['soy lactosefree', 'cream', 'butter', 'yogurt'],\n",
       " ['fresh dips tapenades'],\n",
       " ['frozen produce'],\n",
       " ['meat counter'],\n",
       " ['baking ingredients', 'baking ingredients', 'spreads'],\n",
       " ['fresh fruits',\n",
       "  'fresh fruits',\n",
       "  'fresh fruits',\n",
       "  'packaged vegetables fruits',\n",
       "  'packaged vegetables fruits'],\n",
       " ['chips pretzels', 'energy granola bars'],\n",
       " ['bread', 'buns rolls'],\n",
       " ['water seltzer sparkling water'],\n",
       " ['hot cereal pancake mixes'],\n",
       " ['soy lactosefree', 'yogurt', 'soy lactosefree'],\n",
       " ['lunch meat'],\n",
       " ['oils vinegars'],\n",
       " ['fresh fruits', 'fresh vegetables', 'fresh vegetables'],\n",
       " ['chips pretzels'],\n",
       " ['water seltzer sparkling water', 'water seltzer sparkling water'],\n",
       " ['granola'],\n",
       " ['soup broth bouillon', 'canned jarred vegetables', 'soup broth bouillon'],\n",
       " ['packaged cheese', 'milk', 'yogurt'],\n",
       " ['pasta sauce'],\n",
       " ['frozen meals', 'frozen produce', 'frozen meals', 'frozen meals'],\n",
       " ['asian foods'],\n",
       " ['packaged meat'],\n",
       " ['oils vinegars'],\n",
       " ['fresh vegetables',\n",
       "  'fresh vegetables',\n",
       "  'fresh vegetables',\n",
       "  'fresh fruits',\n",
       "  'fresh fruits',\n",
       "  'packaged vegetables fruits',\n",
       "  'fresh vegetables',\n",
       "  'packaged vegetables fruits',\n",
       "  'fresh vegetables',\n",
       "  'fresh fruits',\n",
       "  'fresh fruits',\n",
       "  'fresh fruits',\n",
       "  'fresh fruits',\n",
       "  'packaged vegetables fruits',\n",
       "  'fresh vegetables'],\n",
       " ['chips pretzels'],\n",
       " ['bread'],\n",
       " ['soup broth bouillon'],\n",
       " ['milk',\n",
       "  'yogurt',\n",
       "  'yogurt',\n",
       "  'cream',\n",
       "  'milk',\n",
       "  'packaged cheese',\n",
       "  'cream',\n",
       "  'soy lactosefree',\n",
       "  'packaged cheese',\n",
       "  'eggs',\n",
       "  'other creams cheeses',\n",
       "  'cream',\n",
       "  'eggs',\n",
       "  'soy lactosefree',\n",
       "  'yogurt',\n",
       "  'yogurt'],\n",
       " ['instant foods', 'instant foods', 'instant foods', 'instant foods'],\n",
       " ['frozen appetizers sides',\n",
       "  'frozen produce',\n",
       "  'frozen produce',\n",
       "  'frozen vegan vegetarian',\n",
       "  'frozen vegan vegetarian',\n",
       "  'frozen meals',\n",
       "  'frozen meals',\n",
       "  'frozen meals',\n",
       "  'frozen meals',\n",
       "  'frozen meals',\n",
       "  'frozen meals',\n",
       "  'frozen meals',\n",
       "  'frozen meals',\n",
       "  'frozen meals'],\n",
       " ['hot dogs bacon sausage',\n",
       "  'hot dogs bacon sausage',\n",
       "  'hot dogs bacon sausage',\n",
       "  'hot dogs bacon sausage',\n",
       "  'hot dogs bacon sausage'],\n",
       " ['doughs gelatins bake mixes',\n",
       "  'doughs gelatins bake mixes',\n",
       "  'baking supplies decor',\n",
       "  'baking supplies decor',\n",
       "  'baking ingredients',\n",
       "  'baking ingredients',\n",
       "  'condiments',\n",
       "  'salad dressing toppings'],\n",
       " ['vitamins supplements'],\n",
       " ['fresh fruits',\n",
       "  'fresh vegetables',\n",
       "  'fresh vegetables',\n",
       "  'fresh fruits',\n",
       "  'fresh fruits',\n",
       "  'fresh vegetables',\n",
       "  'fresh fruits',\n",
       "  'fresh fruits',\n",
       "  'packaged vegetables fruits',\n",
       "  'fresh fruits',\n",
       "  'fresh vegetables',\n",
       "  'fresh fruits',\n",
       "  'fresh vegetables',\n",
       "  'fresh vegetables',\n",
       "  'fresh fruits',\n",
       "  'fresh vegetables',\n",
       "  'fresh fruits',\n",
       "  'packaged vegetables fruits',\n",
       "  'fresh vegetables',\n",
       "  'fresh vegetables'],\n",
       " ['nuts seeds dried fruit', 'chips pretzels'],\n",
       " ['bread', 'bread'],\n",
       " ['bulk dried fruits vegetables', 'bulk dried fruits vegetables'],\n",
       " ['soy lactosefree', 'packaged cheese', 'butter', 'packaged cheese'],\n",
       " ['fresh vegetables',\n",
       "  'packaged vegetables fruits',\n",
       "  'fresh fruits',\n",
       "  'fresh fruits',\n",
       "  'fresh herbs',\n",
       "  'fresh herbs',\n",
       "  'fresh vegetables',\n",
       "  'fresh vegetables',\n",
       "  'fresh fruits',\n",
       "  'fresh vegetables',\n",
       "  'packaged vegetables fruits'],\n",
       " ['candy chocolate'],\n",
       " ['breakfast bakery'],\n",
       " ['canned meals beans'],\n",
       " ['milk', 'cream', 'butter', 'yogurt'],\n",
       " ['dry pasta', 'grains rice dried goods'],\n",
       " ['meat counter'],\n",
       " ['baking ingredients', 'spreads', 'baking ingredients'],\n",
       " ['fresh herbs', 'fresh vegetables', 'fresh vegetables'],\n",
       " ['cookies cakes', 'candy chocolate'],\n",
       " ['bread'],\n",
       " ['canned jarred vegetables', 'canned jarred vegetables'],\n",
       " ['packaged cheese', 'soy lactosefree'],\n",
       " ['fresh dips tapenades', 'fresh dips tapenades'],\n",
       " ['dry pasta', 'dry pasta', 'dry pasta', 'grains rice dried goods'],\n",
       " ['frozen appetizers sides',\n",
       "  'frozen breads doughs',\n",
       "  'frozen pizza',\n",
       "  'frozen appetizers sides',\n",
       "  'frozen produce',\n",
       "  'frozen vegan vegetarian'],\n",
       " ['oral hygiene', 'deodorants'],\n",
       " ['fresh vegetables',\n",
       "  'fresh vegetables',\n",
       "  'fresh vegetables',\n",
       "  'fresh vegetables',\n",
       "  'fresh vegetables',\n",
       "  'packaged vegetables fruits',\n",
       "  'packaged vegetables fruits',\n",
       "  'fresh fruits',\n",
       "  'fresh vegetables',\n",
       "  'fresh vegetables',\n",
       "  'fresh vegetables',\n",
       "  'fresh vegetables',\n",
       "  'packaged vegetables fruits',\n",
       "  'fresh vegetables',\n",
       "  'fresh vegetables',\n",
       "  'fresh vegetables'],\n",
       " ['energy granola bars', 'chips pretzels'],\n",
       " ['baby food formula', 'baby food formula'],\n",
       " ['breakfast bakery'],\n",
       " ['canned jarred vegetables'],\n",
       " ['packaged cheese',\n",
       "  'butter',\n",
       "  'other creams cheeses',\n",
       "  'yogurt',\n",
       "  'yogurt',\n",
       "  'eggs',\n",
       "  'yogurt',\n",
       "  'yogurt',\n",
       "  'yogurt',\n",
       "  'yogurt',\n",
       "  'yogurt'],\n",
       " ['lunch meat', 'fresh dips tapenades', 'lunch meat'],\n",
       " ['pasta sauce'],\n",
       " ['packaged poultry', 'packaged seafood'],\n",
       " ['preserved dips spreads',\n",
       "  'condiments',\n",
       "  'preserved dips spreads',\n",
       "  'spreads',\n",
       "  'spreads',\n",
       "  'spreads'],\n",
       " ['fresh vegetables',\n",
       "  'fresh herbs',\n",
       "  'fresh vegetables',\n",
       "  'fresh vegetables',\n",
       "  'fresh fruits',\n",
       "  'packaged vegetables fruits'],\n",
       " ['crackers',\n",
       "  'fruit vegetable snacks',\n",
       "  'fruit vegetable snacks',\n",
       "  'fruit vegetable snacks',\n",
       "  'crackers'],\n",
       " ['soft drinks', 'tea'],\n",
       " ['ice cream ice', 'ice cream ice', 'frozen appetizers sides', 'frozen pizza'],\n",
       " ['paper goods', 'paper goods'],\n",
       " ['other'],\n",
       " ['cold flu allergy'],\n",
       " ['candy chocolate'],\n",
       " ['cereal', 'cereal'],\n",
       " ['yogurt', 'yogurt', 'yogurt', 'yogurt', 'soy lactosefree'],\n",
       " ['frozen breakfast', 'ice cream ice'],\n",
       " ['missing'],\n",
       " ['spreads', 'spreads'],\n",
       " ['fresh fruits',\n",
       "  'fresh fruits',\n",
       "  'fresh fruits',\n",
       "  'fresh fruits',\n",
       "  'fresh fruits',\n",
       "  'fresh vegetables'],\n",
       " ['energy granola bars'],\n",
       " ['soft drinks'],\n",
       " ['packaged produce', 'packaged produce', 'packaged produce'],\n",
       " ['bread'],\n",
       " ['refrigerated'],\n",
       " ['canned jarred vegetables'],\n",
       " ['frozen produce'],\n",
       " ['hot dogs bacon sausage'],\n",
       " ['fresh fruits',\n",
       "  'fresh vegetables',\n",
       "  'fresh fruits',\n",
       "  'fresh vegetables',\n",
       "  'fresh vegetables',\n",
       "  'fresh vegetables',\n",
       "  'fresh herbs',\n",
       "  'fresh fruits',\n",
       "  'fresh fruits',\n",
       "  'fresh vegetables',\n",
       "  'fresh vegetables',\n",
       "  'fresh fruits',\n",
       "  'fresh vegetables'],\n",
       " ['bread'],\n",
       " ['canned meals beans', 'soup broth bouillon', 'canned meals beans'],\n",
       " ['soy lactosefree', 'soy lactosefree'],\n",
       " ['water seltzer sparkling water',\n",
       "  'water seltzer sparkling water',\n",
       "  'water seltzer sparkling water',\n",
       "  'water seltzer sparkling water',\n",
       "  'water seltzer sparkling water',\n",
       "  'water seltzer sparkling water'],\n",
       " ['granola',\n",
       "  'cereal',\n",
       "  'cereal',\n",
       "  'granola',\n",
       "  'cereal',\n",
       "  'cereal',\n",
       "  'cereal',\n",
       "  'granola',\n",
       "  'cereal',\n",
       "  'cereal'],\n",
       " ['milk', 'milk', 'soy lactosefree', 'soy lactosefree', 'soy lactosefree'],\n",
       " ['asian foods'],\n",
       " ['condiments'],\n",
       " ['candy chocolate',\n",
       "  'fruit vegetable snacks',\n",
       "  'energy granola bars',\n",
       "  'energy granola bars',\n",
       "  'energy granola bars',\n",
       "  'candy chocolate',\n",
       "  'candy chocolate',\n",
       "  'candy chocolate',\n",
       "  'candy chocolate',\n",
       "  'candy chocolate',\n",
       "  'energy granola bars',\n",
       "  'energy granola bars',\n",
       "  'energy granola bars',\n",
       "  'energy granola bars',\n",
       "  'energy granola bars',\n",
       "  'candy chocolate',\n",
       "  'candy chocolate'],\n",
       " ['bread', 'bread', 'bread', 'breakfast bakery'],\n",
       " ['water seltzer sparkling water'],\n",
       " ['granola'],\n",
       " ['soup broth bouillon'],\n",
       " ['cream', 'other creams cheeses', 'eggs', 'milk'],\n",
       " ['fresh dips tapenades'],\n",
       " ['food storage'],\n",
       " ['baking ingredients'],\n",
       " ['fresh fruits', 'fresh vegetables', 'fresh vegetables', 'fresh vegetables'],\n",
       " ['nuts seeds dried fruit'],\n",
       " ['buns rolls'],\n",
       " ['breakfast bars pastries'],\n",
       " ['energy granola bars', 'energy granola bars'],\n",
       " ['bread'],\n",
       " ['hot cereal pancake mixes'],\n",
       " ['yogurt'],\n",
       " ['dry pasta', 'pasta sauce'],\n",
       " ['frozen produce',\n",
       "  'frozen pizza',\n",
       "  'frozen meals',\n",
       "  'frozen meals',\n",
       "  'frozen pizza',\n",
       "  'frozen meals'],\n",
       " ['fresh fruits', 'fresh fruits'],\n",
       " ['crackers', 'candy chocolate', 'energy granola bars'],\n",
       " ['milk', 'butter'],\n",
       " ['baking ingredients',\n",
       "  'baking ingredients',\n",
       "  'baking ingredients',\n",
       "  'baking ingredients',\n",
       "  'baking ingredients',\n",
       "  'oils vinegars'],\n",
       " ['packaged vegetables fruits'],\n",
       " ['nuts seeds dried fruit', 'nuts seeds dried fruit'],\n",
       " ['milk'],\n",
       " ['fresh fruits',\n",
       "  'packaged vegetables fruits',\n",
       "  'fresh vegetables',\n",
       "  'fresh fruits',\n",
       "  'fresh vegetables',\n",
       "  'fresh vegetables',\n",
       "  'fresh vegetables'],\n",
       " ['chips pretzels', 'chips pretzels', 'popcorn jerky'],\n",
       " ['milk'],\n",
       " ['prepared meals'],\n",
       " ['butter'],\n",
       " ['packaged produce', 'fresh fruits'],\n",
       " ['crackers'],\n",
       " ['water seltzer sparkling water', 'juice nectars'],\n",
       " ['fresh dips tapenades', 'fresh dips tapenades'],\n",
       " ['asian foods'],\n",
       " ['spreads'],\n",
       " ['fresh fruits', 'fresh vegetables', 'fresh vegetables'],\n",
       " ['buns rolls'],\n",
       " ['hot cereal pancake mixes'],\n",
       " ['canned meals beans', 'canned meals beans'],\n",
       " ['eggs', 'packaged cheese', 'yogurt', 'eggs', 'yogurt', 'yogurt', 'milk'],\n",
       " ['lunch meat'],\n",
       " ['frozen appetizers sides'],\n",
       " ['hot dogs bacon sausage'],\n",
       " ['salad dressing toppings', 'condiments', 'spreads'],\n",
       " ['fresh fruits',\n",
       "  'fresh fruits',\n",
       "  'fresh fruits',\n",
       "  'fresh herbs',\n",
       "  'packaged vegetables fruits',\n",
       "  'fresh vegetables',\n",
       "  'fresh vegetables',\n",
       "  'fresh vegetables',\n",
       "  'fresh fruits',\n",
       "  'fresh fruits',\n",
       "  'fresh vegetables',\n",
       "  'packaged vegetables fruits',\n",
       "  'fresh vegetables',\n",
       "  'fresh vegetables',\n",
       "  'fresh vegetables',\n",
       "  'fresh fruits',\n",
       "  'fresh fruits',\n",
       "  'fresh herbs',\n",
       "  'fresh fruits',\n",
       "  'fresh fruits',\n",
       "  'fresh fruits',\n",
       "  'fresh vegetables',\n",
       "  'fresh vegetables',\n",
       "  'packaged vegetables fruits',\n",
       "  'packaged produce',\n",
       "  'fresh vegetables',\n",
       "  'fresh fruits'],\n",
       " ['energy granola bars', 'energy granola bars', 'energy granola bars'],\n",
       " ['bread'],\n",
       " ['refrigerated', 'water seltzer sparkling water'],\n",
       " ['granola'],\n",
       " ['fresh vegetables'],\n",
       " ['soft drinks', 'soft drinks', 'soft drinks'],\n",
       " ['frozen breakfast', 'ice cream ice', 'ice cream ice', 'ice cream ice'],\n",
       " ['more household', 'food storage'],\n",
       " ['other'],\n",
       " ['cold flu allergy', 'cold flu allergy', 'first aid'],\n",
       " ['crackers',\n",
       "  'cookies cakes',\n",
       "  'chips pretzels',\n",
       "  'cookies cakes',\n",
       "  'chips pretzels'],\n",
       " ['granola'],\n",
       " ['yogurt', 'milk'],\n",
       " ['nuts seeds dried fruit'],\n",
       " ['bread'],\n",
       " ['butter'],\n",
       " ['hot dogs bacon sausage'],\n",
       " ['spreads'],\n",
       " ['fresh fruits', 'fresh fruits'],\n",
       " ['yogurt'],\n",
       " ['other creams cheeses'],\n",
       " ['ice cream ice'],\n",
       " ['crackers'],\n",
       " ['pasta sauce'],\n",
       " ['poultry counter', 'poultry counter'],\n",
       " ['preserved dips spreads'],\n",
       " ['fresh fruits',\n",
       "  'fresh vegetables',\n",
       "  'fresh herbs',\n",
       "  'fresh fruits',\n",
       "  'fresh fruits',\n",
       "  'fresh vegetables',\n",
       "  'fresh vegetables',\n",
       "  'fresh fruits',\n",
       "  'fresh herbs',\n",
       "  'fresh fruits',\n",
       "  'fresh fruits',\n",
       "  'fresh vegetables',\n",
       "  'fresh vegetables',\n",
       "  'packaged vegetables fruits',\n",
       "  'fresh vegetables',\n",
       "  'fresh herbs'],\n",
       " ['chips pretzels'],\n",
       " ['bread'],\n",
       " ['tea'],\n",
       " ['cream', 'yogurt', 'yogurt', 'yogurt', 'yogurt'],\n",
       " ['latino foods', 'asian foods'],\n",
       " ['packaged poultry', 'meat counter'],\n",
       " ['fresh fruits',\n",
       "  'fresh vegetables',\n",
       "  'fresh vegetables',\n",
       "  'fresh fruits',\n",
       "  'packaged vegetables fruits'],\n",
       " ['fresh dips tapenades'],\n",
       " ['frozen meals', 'ice cream ice', 'ice cream ice'],\n",
       " ['condiments'],\n",
       " ['cream', 'milk'],\n",
       " ['hot dogs bacon sausage'],\n",
       " ['fresh fruits'],\n",
       " ['beers coolers'],\n",
       " ['buns rolls'],\n",
       " ['milk', 'butter', 'other creams cheeses'],\n",
       " ['pasta sauce', 'dry pasta'],\n",
       " ['frozen dessert',\n",
       "  'frozen appetizers sides',\n",
       "  'ice cream ice',\n",
       "  'ice cream ice',\n",
       "  'ice cream ice',\n",
       "  'ice cream ice',\n",
       "  'ice cream ice'],\n",
       " ['paper goods'],\n",
       " ['doughs gelatins bake mixes',\n",
       "  'baking ingredients',\n",
       "  'marinades meat preparation',\n",
       "  'marinades meat preparation',\n",
       "  'salad dressing toppings',\n",
       "  'marinades meat preparation'],\n",
       " ['eye ear care', 'deodorants'],\n",
       " ['fresh vegetables',\n",
       "  'packaged vegetables fruits',\n",
       "  'packaged vegetables fruits',\n",
       "  'packaged vegetables fruits'],\n",
       " ['ice cream toppings', 'chips pretzels', 'chips pretzels'],\n",
       " ['breakfast bakery'],\n",
       " ['refrigerated'],\n",
       " ['breakfast bars pastries'],\n",
       " ['other creams cheeses', 'eggs', 'other creams cheeses', 'milk'],\n",
       " ['fresh pasta', 'fresh pasta'],\n",
       " ['ice cream ice', 'ice cream ice'],\n",
       " ['energy granola bars'],\n",
       " ['cream', 'soy lactosefree'],\n",
       " ['frozen produce', 'frozen produce', 'frozen produce', 'frozen produce'],\n",
       " ['chips pretzels',\n",
       "  'chips pretzels',\n",
       "  'nuts seeds dried fruit',\n",
       "  'cookies cakes'],\n",
       " ['baby food formula',\n",
       "  'baby food formula',\n",
       "  'baby food formula',\n",
       "  'baby food formula',\n",
       "  'baby food formula'],\n",
       " ['tortillas flat bread',\n",
       "  'tortillas flat bread',\n",
       "  'tortillas flat bread',\n",
       "  'bread'],\n",
       " ['refrigerated',\n",
       "  'refrigerated',\n",
       "  'refrigerated',\n",
       "  'water seltzer sparkling water',\n",
       "  'refrigerated'],\n",
       " ['cereal', 'cereal'],\n",
       " ['bulk dried fruits vegetables'],\n",
       " ['soup broth bouillon', 'canned fruit applesauce'],\n",
       " ['yogurt',\n",
       "  'packaged cheese',\n",
       "  'soy lactosefree',\n",
       "  'milk',\n",
       "  'cream',\n",
       "  'soy lactosefree',\n",
       "  'soy lactosefree',\n",
       "  'yogurt',\n",
       "  'other creams cheeses',\n",
       "  'yogurt',\n",
       "  'soy lactosefree',\n",
       "  'yogurt',\n",
       "  'soy lactosefree',\n",
       "  'yogurt'],\n",
       " ['fresh dips tapenades',\n",
       "  'fresh dips tapenades',\n",
       "  'fresh dips tapenades',\n",
       "  'tofu meat alternatives',\n",
       "  'fresh dips tapenades'],\n",
       " ['ice cream ice', 'ice cream ice', 'frozen produce'],\n",
       " ['baking ingredients', 'baking ingredients', 'preserved dips spreads'],\n",
       " ['packaged vegetables fruits',\n",
       "  'fresh vegetables',\n",
       "  'fresh fruits',\n",
       "  'fresh fruits',\n",
       "  'fresh fruits',\n",
       "  'fresh fruits',\n",
       "  'fresh fruits',\n",
       "  'packaged vegetables fruits',\n",
       "  'fresh fruits',\n",
       "  'fresh fruits',\n",
       "  'fresh vegetables',\n",
       "  'fresh fruits',\n",
       "  'fresh herbs',\n",
       "  'fresh vegetables',\n",
       "  'fresh vegetables',\n",
       "  'fresh vegetables',\n",
       "  'fresh fruits',\n",
       "  'fresh fruits',\n",
       "  'fresh fruits',\n",
       "  'fresh fruits',\n",
       "  'fresh fruits',\n",
       "  'fresh vegetables',\n",
       "  'fresh vegetables',\n",
       "  'fresh vegetables',\n",
       "  'fresh vegetables',\n",
       "  'fresh fruits',\n",
       "  'fresh fruits',\n",
       "  'fresh fruits',\n",
       "  'fresh fruits',\n",
       "  'fresh fruits',\n",
       "  'packaged vegetables fruits',\n",
       "  'packaged vegetables fruits',\n",
       "  'fresh vegetables',\n",
       "  'fresh fruits',\n",
       "  'packaged vegetables fruits',\n",
       "  'fresh fruits',\n",
       "  'fresh fruits'],\n",
       " ['chips pretzels',\n",
       "  'crackers',\n",
       "  'chips pretzels',\n",
       "  'nuts seeds dried fruit',\n",
       "  'chips pretzels',\n",
       "  'fruit vegetable snacks',\n",
       "  'crackers'],\n",
       " ['bread'],\n",
       " ['water seltzer sparkling water'],\n",
       " ['fresh fruits',\n",
       "  'fresh herbs',\n",
       "  'fresh fruits',\n",
       "  'fresh vegetables',\n",
       "  'fresh fruits',\n",
       "  'fresh fruits'],\n",
       " ['nuts seeds dried fruit'],\n",
       " ['milk'],\n",
       " ['hot dogs bacon sausage'],\n",
       " ['fresh fruits'],\n",
       " ['milk', 'packaged cheese'],\n",
       " ['prepared soups salads'],\n",
       " ['bread'],\n",
       " ['granola'],\n",
       " ['milk', 'yogurt', 'yogurt', 'yogurt', 'yogurt', 'yogurt'],\n",
       " ['lunch meat'],\n",
       " ['eggs', 'eggs'],\n",
       " ['lunch meat', 'lunch meat'],\n",
       " ['baking ingredients', 'oils vinegars', 'oils vinegars', 'spices seasonings'],\n",
       " ['packaged vegetables fruits',\n",
       "  'fresh vegetables',\n",
       "  'packaged vegetables fruits'],\n",
       " ['nuts seeds dried fruit'],\n",
       " ['buns rolls'],\n",
       " ['granola'],\n",
       " ['yogurt', 'soy lactosefree', 'eggs', 'milk', 'butter'],\n",
       " ['tofu meat alternatives'],\n",
       " ['frozen vegan vegetarian'],\n",
       " ['hot dogs bacon sausage'],\n",
       " ['baking ingredients', 'baking ingredients'],\n",
       " ['fresh fruits', 'fresh vegetables'],\n",
       " ['nuts seeds dried fruit', 'nuts seeds dried fruit'],\n",
       " ['tortillas flat bread'],\n",
       " ['soft drinks',\n",
       "  'coffee',\n",
       "  'juice nectars',\n",
       "  'water seltzer sparkling water',\n",
       "  'water seltzer sparkling water',\n",
       "  'juice nectars'],\n",
       " ['butter', 'soy lactosefree'],\n",
       " ['frozen breakfast', 'frozen breakfast'],\n",
       " ['spreads', 'baking ingredients', 'spreads'],\n",
       " ['digestion', 'body lotions soap', 'digestion'],\n",
       " ['fresh fruits', 'fresh fruits'],\n",
       " ['crackers',\n",
       "  'crackers',\n",
       "  'cookies cakes',\n",
       "  'cookies cakes',\n",
       "  'crackers',\n",
       "  'candy chocolate',\n",
       "  'candy chocolate'],\n",
       " ['baby food formula'],\n",
       " ['soy lactosefree', 'other creams cheeses'],\n",
       " ['fresh dips tapenades'],\n",
       " ['missing'],\n",
       " ['crackers'],\n",
       " ['tea'],\n",
       " ['milk', 'yogurt'],\n",
       " ['frozen produce'],\n",
       " ['fresh fruits',\n",
       "  'fresh vegetables',\n",
       "  'fresh fruits',\n",
       "  'fresh fruits',\n",
       "  'fresh vegetables',\n",
       "  'packaged vegetables fruits',\n",
       "  'fresh fruits',\n",
       "  'fresh fruits',\n",
       "  'fresh vegetables',\n",
       "  'fresh fruits',\n",
       "  'fresh fruits',\n",
       "  'packaged vegetables fruits',\n",
       "  'fresh vegetables',\n",
       "  'fresh vegetables',\n",
       "  'packaged vegetables fruits',\n",
       "  'fresh herbs',\n",
       "  'fresh vegetables'],\n",
       " ['tortillas flat bread',\n",
       "  'bread',\n",
       "  'buns rolls',\n",
       "  'bread',\n",
       "  'tortillas flat bread',\n",
       "  'buns rolls'],\n",
       " ['soft drinks',\n",
       "  'water seltzer sparkling water',\n",
       "  'juice nectars',\n",
       "  'soft drinks',\n",
       "  'soft drinks',\n",
       "  'soft drinks',\n",
       "  'coffee',\n",
       "  'juice nectars',\n",
       "  'soft drinks',\n",
       "  'coffee'],\n",
       " ['canned jarred vegetables', 'canned meals beans', 'soup broth bouillon'],\n",
       " ['eggs',\n",
       "  'milk',\n",
       "  'packaged cheese',\n",
       "  'other creams cheeses',\n",
       "  'packaged cheese',\n",
       "  'packaged cheese',\n",
       "  'packaged cheese',\n",
       "  'packaged cheese',\n",
       "  'yogurt',\n",
       "  'yogurt',\n",
       "  'yogurt'],\n",
       " ['fresh dips tapenades'],\n",
       " ['instant foods',\n",
       "  'instant foods',\n",
       "  'fresh pasta',\n",
       "  'pasta sauce',\n",
       "  'fresh pasta',\n",
       "  'fresh pasta'],\n",
       " ['frozen dessert',\n",
       "  'frozen meals',\n",
       "  'frozen produce',\n",
       "  'frozen appetizers sides'],\n",
       " ['trash bags liners',\n",
       "  'paper goods',\n",
       "  'paper goods',\n",
       "  'paper goods',\n",
       "  'laundry',\n",
       "  'paper goods'],\n",
       " ['packaged poultry',\n",
       "  'poultry counter',\n",
       "  'packaged poultry',\n",
       "  'packaged poultry',\n",
       "  'poultry counter',\n",
       "  'hot dogs bacon sausage'],\n",
       " ['doughs gelatins bake mixes',\n",
       "  'spices seasonings',\n",
       "  'baking ingredients',\n",
       "  'spreads',\n",
       "  'baking ingredients',\n",
       "  'marinades meat preparation',\n",
       "  'marinades meat preparation',\n",
       "  'marinades meat preparation'],\n",
       " ['dog food care', 'dog food care'],\n",
       " ['packaged produce',\n",
       "  'fresh vegetables',\n",
       "  'fresh vegetables',\n",
       "  'fresh vegetables',\n",
       "  'fresh vegetables',\n",
       "  'fresh vegetables',\n",
       "  'fresh fruits',\n",
       "  'fresh herbs',\n",
       "  'packaged vegetables fruits',\n",
       "  'fresh vegetables',\n",
       "  'fresh fruits',\n",
       "  'packaged vegetables fruits',\n",
       "  'fresh vegetables',\n",
       "  'packaged vegetables fruits',\n",
       "  'packaged vegetables fruits'],\n",
       " ['cookies cakes',\n",
       "  'crackers',\n",
       "  'fruit vegetable snacks',\n",
       "  'fruit vegetable snacks',\n",
       "  'nuts seeds dried fruit',\n",
       "  'crackers',\n",
       "  'popcorn jerky'],\n",
       " ['refrigerated', 'water seltzer sparkling water', 'refrigerated'],\n",
       " ['soy lactosefree', 'soy lactosefree'],\n",
       " ['prepared meals', 'prepared soups salads'],\n",
       " ['frozen produce'],\n",
       " ['fresh fruits', 'fresh vegetables', 'fresh vegetables'],\n",
       " ['energy sports drinks', 'energy sports drinks', 'juice nectars'],\n",
       " ['eggs', 'packaged cheese', 'yogurt', 'yogurt', 'packaged cheese'],\n",
       " ['fresh dips tapenades'],\n",
       " ['dry pasta'],\n",
       " ['frozen produce', 'frozen meals', 'ice cream ice'],\n",
       " ['food storage'],\n",
       " ['spreads'],\n",
       " ['cat food care'],\n",
       " ['packaged vegetables fruits',\n",
       "  'fresh vegetables',\n",
       "  'packaged produce',\n",
       "  'fresh fruits',\n",
       "  'fresh fruits'],\n",
       " ['chips pretzels', 'nuts seeds dried fruit'],\n",
       " ['bread'],\n",
       " ['canned jarred vegetables'],\n",
       " ['milk', 'packaged cheese'],\n",
       " ['lunch meat'],\n",
       " ['instant foods', 'instant foods', 'instant foods'],\n",
       " ['frozen meat seafood', 'frozen produce', 'frozen produce'],\n",
       " ['baking ingredients', 'pickled goods olives'],\n",
       " ['fresh vegetables',\n",
       "  'fresh vegetables',\n",
       "  'fresh vegetables',\n",
       "  'packaged vegetables fruits',\n",
       "  'fresh vegetables',\n",
       "  'fresh fruits',\n",
       "  'fresh fruits',\n",
       "  'packaged vegetables fruits',\n",
       "  'fresh vegetables'],\n",
       " ['refrigerated', 'tea', 'tea'],\n",
       " ['yogurt', 'yogurt', 'yogurt'],\n",
       " ['lunch meat', 'prepared meals'],\n",
       " ['fresh fruits', 'packaged vegetables fruits', 'fresh vegetables'],\n",
       " ['chips pretzels'],\n",
       " ['canned fruit applesauce'],\n",
       " ['soy lactosefree', 'packaged cheese'],\n",
       " ['prepared meals'],\n",
       " ['instant foods'],\n",
       " ['frozen meals',\n",
       "  'frozen meals',\n",
       "  'frozen meals',\n",
       "  'frozen meals',\n",
       "  'ice cream ice'],\n",
       " ['fresh fruits'],\n",
       " ['tea'],\n",
       " ['milk'],\n",
       " ['ice cream ice'],\n",
       " ['tortillas flat bread'],\n",
       " ['refrigerated',\n",
       "  'water seltzer sparkling water',\n",
       "  'water seltzer sparkling water',\n",
       "  'water seltzer sparkling water'],\n",
       " ['cereal', 'cereal', 'cereal', 'cereal', 'cereal'],\n",
       " ['specialty cheeses',\n",
       "  'specialty cheeses',\n",
       "  'cream',\n",
       "  'milk',\n",
       "  'yogurt',\n",
       "  'yogurt',\n",
       "  'yogurt'],\n",
       " ['fresh dips tapenades'],\n",
       " ['fresh fruits', 'fresh fruits', 'fresh fruits', 'fresh vegetables'],\n",
       " ['nuts seeds dried fruit',\n",
       "  'crackers',\n",
       "  'crackers',\n",
       "  'crackers',\n",
       "  'crackers',\n",
       "  'trail mix snack mix'],\n",
       " ['tea'],\n",
       " ['other creams cheeses', 'packaged cheese'],\n",
       " ['frozen appetizers sides',\n",
       "  'ice cream ice',\n",
       "  'ice cream ice',\n",
       "  'ice cream ice',\n",
       "  'ice cream ice'],\n",
       " ['paper goods'],\n",
       " ['hot dogs bacon sausage'],\n",
       " ['fresh fruits', 'fresh fruits'],\n",
       " ['crackers'],\n",
       " ['baby food formula',\n",
       "  'baby food formula',\n",
       "  'baby food formula',\n",
       "  'baby food formula'],\n",
       " ['soy lactosefree', 'soy lactosefree'],\n",
       " ['prepared meals', 'prepared soups salads'],\n",
       " ['ice cream ice', 'frozen breakfast', 'frozen breakfast'],\n",
       " ['asian foods'],\n",
       " ['fresh fruits',\n",
       "  'fresh vegetables',\n",
       "  'fresh fruits',\n",
       "  'fresh fruits',\n",
       "  'packaged vegetables fruits',\n",
       "  'fresh fruits'],\n",
       " ['chips pretzels'],\n",
       " ['butter', 'milk'],\n",
       " ['doughs gelatins bake mixes',\n",
       "  'baking supplies decor',\n",
       "  'doughs gelatins bake mixes'],\n",
       " ['breakfast bakery'],\n",
       " ['dry pasta'],\n",
       " ['buns rolls'],\n",
       " ['fresh dips tapenades'],\n",
       " ['refrigerated'],\n",
       " ['soy lactosefree'],\n",
       " ['dry pasta'],\n",
       " ['frozen produce', 'frozen produce'],\n",
       " ['condiments'],\n",
       " ['coffee', 'water seltzer sparkling water', 'soft drinks', 'soft drinks'],\n",
       " ['cereal'],\n",
       " ['soy lactosefree', 'milk'],\n",
       " ['fresh dips tapenades'],\n",
       " ['dish detergents', 'paper goods'],\n",
       " ['poultry counter'],\n",
       " ['fresh vegetables', 'fresh vegetables', 'fresh fruits'],\n",
       " ['candy chocolate',\n",
       "  'fruit vegetable snacks',\n",
       "  'fruit vegetable snacks',\n",
       "  'nuts seeds dried fruit'],\n",
       " ['bread', 'bread', 'bread', 'breakfast bakery'],\n",
       " ['refrigerated', 'tea'],\n",
       " ['cereal'],\n",
       " ['soup broth bouillon', 'soup broth bouillon'],\n",
       " ['milk',\n",
       "  'cream',\n",
       "  'yogurt',\n",
       "  'packaged cheese',\n",
       "  'yogurt',\n",
       "  'yogurt',\n",
       "  'cream',\n",
       "  'yogurt',\n",
       "  'eggs',\n",
       "  'butter',\n",
       "  'yogurt',\n",
       "  'other creams cheeses'],\n",
       " ['fresh dips tapenades'],\n",
       " ['asian foods'],\n",
       " ['spreads'],\n",
       " ['chips pretzels', 'crackers', 'chips pretzels'],\n",
       " ['water seltzer sparkling water', 'refrigerated', 'juice nectars'],\n",
       " ['yogurt'],\n",
       " ['cat food care'],\n",
       " ['water seltzer sparkling water'],\n",
       " ['canned meals beans'],\n",
       " ['eggs', 'eggs'],\n",
       " ['fresh fruits', 'fresh vegetables', 'packaged vegetables fruits'],\n",
       " ['tea'],\n",
       " ['crackers', 'crackers'],\n",
       " ['soft drinks'],\n",
       " ['cereal'],\n",
       " ['fresh fruits',\n",
       "  'fresh fruits',\n",
       "  'packaged produce',\n",
       "  'fresh fruits',\n",
       "  'fresh fruits'],\n",
       " ['nuts seeds dried fruit', 'nuts seeds dried fruit'],\n",
       " ['water seltzer sparkling water',\n",
       "  'water seltzer sparkling water',\n",
       "  'juice nectars'],\n",
       " ['cream',\n",
       "  'eggs',\n",
       "  'cream',\n",
       "  'yogurt',\n",
       "  'yogurt',\n",
       "  'yogurt',\n",
       "  'yogurt',\n",
       "  'packaged cheese',\n",
       "  'packaged cheese'],\n",
       " ['lunch meat'],\n",
       " ['frozen produce'],\n",
       " ['poultry counter'],\n",
       " ['condiments', 'baking ingredients', 'oils vinegars', 'spices seasonings'],\n",
       " ['fresh vegetables',\n",
       "  'fresh fruits',\n",
       "  'fresh vegetables',\n",
       "  'fresh vegetables',\n",
       "  'fresh fruits',\n",
       "  'packaged vegetables fruits',\n",
       "  'fresh fruits'],\n",
       " ['nuts seeds dried fruit', 'candy chocolate', 'candy chocolate'],\n",
       " ['soft drinks'],\n",
       " ['canned jarred vegetables'],\n",
       " ['eggs', 'yogurt', 'yogurt', 'soy lactosefree', 'yogurt'],\n",
       " ['fresh pasta'],\n",
       " ['ice cream ice'],\n",
       " ['dish detergents'],\n",
       " ['asian foods'],\n",
       " ['missing'],\n",
       " ['spices seasonings'],\n",
       " ['fresh vegetables',\n",
       "  'fresh fruits',\n",
       "  'packaged vegetables fruits',\n",
       "  'fresh herbs',\n",
       "  'fresh vegetables',\n",
       "  'packaged vegetables fruits'],\n",
       " ['milk', 'packaged cheese'],\n",
       " ['frozen appetizers sides'],\n",
       " ['meat counter'],\n",
       " ['fresh fruits', 'fresh vegetables', 'fresh vegetables'],\n",
       " ['milk'],\n",
       " ['fresh fruits', 'fresh fruits'],\n",
       " ['tea', 'tea'],\n",
       " ['prepared meals', 'fresh dips tapenades'],\n",
       " ['fresh fruits', 'packaged vegetables fruits'],\n",
       " ['bulk dried fruits vegetables'],\n",
       " ['asian foods'],\n",
       " ['fresh fruits', 'fresh fruits', 'fresh fruits'],\n",
       " ['energy granola bars',\n",
       "  'energy granola bars',\n",
       "  'energy granola bars',\n",
       "  'energy granola bars',\n",
       "  'energy granola bars',\n",
       "  'energy granola bars',\n",
       "  'energy granola bars',\n",
       "  'energy granola bars',\n",
       "  'energy granola bars',\n",
       "  'energy granola bars',\n",
       "  'energy granola bars',\n",
       "  'energy granola bars',\n",
       "  'energy granola bars',\n",
       "  'energy granola bars',\n",
       "  'energy granola bars',\n",
       "  'energy granola bars',\n",
       "  'energy granola bars',\n",
       "  'fruit vegetable snacks',\n",
       "  'fruit vegetable snacks',\n",
       "  'fruit vegetable snacks',\n",
       "  'energy granola bars',\n",
       "  'energy granola bars',\n",
       "  'energy granola bars',\n",
       "  'energy granola bars',\n",
       "  'energy granola bars',\n",
       "  'energy granola bars',\n",
       "  'energy granola bars',\n",
       "  'energy granola bars',\n",
       "  'energy granola bars',\n",
       "  'energy granola bars'],\n",
       " ['baby food formula'],\n",
       " ['tortillas flat bread',\n",
       "  'buns rolls',\n",
       "  'buns rolls',\n",
       "  'buns rolls',\n",
       "  'tortillas flat bread',\n",
       "  'tortillas flat bread'],\n",
       " ['juice nectars',\n",
       "  'water seltzer sparkling water',\n",
       "  'juice nectars',\n",
       "  'juice nectars',\n",
       "  'juice nectars',\n",
       "  'water seltzer sparkling water',\n",
       "  'juice nectars',\n",
       "  'water seltzer sparkling water'],\n",
       " ['cereal', 'hot cereal pancake mixes', 'cereal', 'cereal'],\n",
       " ['canned meals beans',\n",
       "  'canned meals beans',\n",
       "  'canned meals beans',\n",
       "  'canned meals beans',\n",
       "  'canned meals beans'],\n",
       " ['packaged cheese',\n",
       "  'milk',\n",
       "  'yogurt',\n",
       "  'yogurt',\n",
       "  'packaged cheese',\n",
       "  'packaged cheese',\n",
       "  'milk',\n",
       "  'yogurt',\n",
       "  'yogurt',\n",
       "  'yogurt',\n",
       "  'packaged cheese',\n",
       "  'packaged cheese',\n",
       "  'yogurt',\n",
       "  'milk',\n",
       "  'milk',\n",
       "  'packaged cheese',\n",
       "  'butter',\n",
       "  'packaged cheese',\n",
       "  'milk',\n",
       "  'yogurt',\n",
       "  'yogurt',\n",
       "  'packaged cheese',\n",
       "  'other creams cheeses',\n",
       "  'milk',\n",
       "  'yogurt',\n",
       "  'packaged cheese',\n",
       "  'packaged cheese',\n",
       "  'milk',\n",
       "  'yogurt',\n",
       "  'yogurt',\n",
       "  'packaged cheese',\n",
       "  'milk'],\n",
       " ['tofu meat alternatives',\n",
       "  'tofu meat alternatives',\n",
       "  'tofu meat alternatives',\n",
       "  'tofu meat alternatives',\n",
       "  'tofu meat alternatives',\n",
       "  'tofu meat alternatives',\n",
       "  'fresh dips tapenades',\n",
       "  'tofu meat alternatives',\n",
       "  'tofu meat alternatives',\n",
       "  'tofu meat alternatives',\n",
       "  'tofu meat alternatives',\n",
       "  'fresh dips tapenades'],\n",
       " ['dry pasta',\n",
       "  'pasta sauce',\n",
       "  'pasta sauce',\n",
       "  'fresh pasta',\n",
       "  'instant foods',\n",
       "  'dry pasta',\n",
       "  'pasta sauce',\n",
       "  'dry pasta',\n",
       "  'instant foods',\n",
       "  'instant foods',\n",
       "  'instant foods',\n",
       "  'fresh pasta',\n",
       "  'pasta sauce',\n",
       "  'instant foods',\n",
       "  'pasta sauce'],\n",
       " ['ice cream ice',\n",
       "  'frozen vegan vegetarian',\n",
       "  'frozen vegan vegetarian',\n",
       "  'frozen vegan vegetarian',\n",
       "  'frozen vegan vegetarian',\n",
       "  'frozen produce',\n",
       "  'frozen vegan vegetarian',\n",
       "  'frozen vegan vegetarian',\n",
       "  'frozen vegan vegetarian',\n",
       "  'frozen vegan vegetarian',\n",
       "  'frozen vegan vegetarian',\n",
       "  'frozen breakfast',\n",
       "  'frozen appetizers sides',\n",
       "  'frozen vegan vegetarian'],\n",
       " ['doughs gelatins bake mixes',\n",
       "  'spreads',\n",
       "  'oils vinegars',\n",
       "  'pickled goods olives',\n",
       "  'oils vinegars',\n",
       "  'pickled goods olives',\n",
       "  'doughs gelatins bake mixes',\n",
       "  'doughs gelatins bake mixes',\n",
       "  'spreads',\n",
       "  'baking ingredients'],\n",
       " ['fresh vegetables',\n",
       "  'fresh herbs',\n",
       "  'fresh vegetables',\n",
       "  'fresh vegetables',\n",
       "  'fresh vegetables',\n",
       "  'packaged vegetables fruits',\n",
       "  'fresh fruits',\n",
       "  'fresh vegetables',\n",
       "  'packaged vegetables fruits',\n",
       "  'fresh fruits',\n",
       "  'fresh fruits',\n",
       "  'fresh vegetables',\n",
       "  'fresh fruits',\n",
       "  'fresh fruits',\n",
       "  'fresh vegetables',\n",
       "  'fresh fruits',\n",
       "  'fresh fruits',\n",
       "  'fresh vegetables',\n",
       "  'fresh fruits',\n",
       "  'fresh vegetables',\n",
       "  'packaged vegetables fruits',\n",
       "  'fresh vegetables',\n",
       "  'fresh fruits',\n",
       "  'fresh fruits',\n",
       "  'fresh herbs',\n",
       "  'fresh vegetables',\n",
       "  'fresh fruits',\n",
       "  'fresh fruits',\n",
       "  'packaged vegetables fruits',\n",
       "  'fresh herbs',\n",
       "  'fresh vegetables',\n",
       "  'fresh vegetables',\n",
       "  'fresh fruits',\n",
       "  'fresh vegetables',\n",
       "  'fresh fruits',\n",
       "  'fresh fruits',\n",
       "  'fresh vegetables',\n",
       "  'packaged vegetables fruits',\n",
       "  'packaged vegetables fruits',\n",
       "  'fresh vegetables',\n",
       "  'fresh herbs',\n",
       "  'fresh vegetables',\n",
       "  'fresh vegetables',\n",
       "  'fresh vegetables',\n",
       "  'fresh vegetables',\n",
       "  'fresh fruits',\n",
       "  'fresh fruits',\n",
       "  'fresh vegetables'],\n",
       " ['fruit vegetable snacks',\n",
       "  'fruit vegetable snacks',\n",
       "  'cookies cakes',\n",
       "  'nuts seeds dried fruit'],\n",
       " ['fresh vegetables'],\n",
       " ['baby accessories'],\n",
       " ['tea', 'tea', 'tea', 'soft drinks', 'tea'],\n",
       " ['canned jarred vegetables', 'soup broth bouillon'],\n",
       " ['soy lactosefree',\n",
       "  'packaged cheese',\n",
       "  'yogurt',\n",
       "  'eggs',\n",
       "  'milk',\n",
       "  'butter',\n",
       "  'soy lactosefree'],\n",
       " ['frozen produce',\n",
       "  'frozen produce',\n",
       "  'frozen produce',\n",
       "  'frozen produce',\n",
       "  'frozen produce',\n",
       "  'frozen produce'],\n",
       " ['asian foods'],\n",
       " ['hot dogs bacon sausage', 'packaged poultry', 'packaged meat'],\n",
       " ['preserved dips spreads', 'spices seasonings'],\n",
       " ['vitamins supplements'],\n",
       " ['packaged vegetables fruits',\n",
       "  'fresh fruits',\n",
       "  'fresh vegetables',\n",
       "  'fresh vegetables',\n",
       "  'fresh vegetables',\n",
       "  'fresh fruits',\n",
       "  'fresh fruits',\n",
       "  'packaged vegetables fruits',\n",
       "  'fresh vegetables',\n",
       "  'fresh herbs',\n",
       "  'fresh vegetables',\n",
       "  'fresh fruits',\n",
       "  'fresh fruits',\n",
       "  'fresh vegetables',\n",
       "  'packaged vegetables fruits',\n",
       "  'fresh fruits',\n",
       "  'fresh fruits',\n",
       "  'packaged vegetables fruits',\n",
       "  'fresh vegetables',\n",
       "  'fresh vegetables',\n",
       "  'fresh vegetables',\n",
       "  'fresh vegetables',\n",
       "  'fresh vegetables',\n",
       "  'fresh vegetables',\n",
       "  'fresh vegetables',\n",
       "  'fresh vegetables',\n",
       "  'fresh fruits',\n",
       "  'fresh vegetables',\n",
       "  'packaged vegetables fruits',\n",
       "  'fresh vegetables',\n",
       "  'fresh vegetables',\n",
       "  'fresh fruits',\n",
       "  'packaged vegetables fruits'],\n",
       " ['juice nectars'],\n",
       " ['cream',\n",
       "  'other creams cheeses',\n",
       "  'other creams cheeses',\n",
       "  'soy lactosefree',\n",
       "  'cream',\n",
       "  'yogurt',\n",
       "  'milk'],\n",
       " ['pasta sauce'],\n",
       " ['dish detergents',\n",
       "  'air fresheners candles',\n",
       "  'laundry',\n",
       "  'laundry',\n",
       "  'trash bags liners',\n",
       "  'more household',\n",
       "  'cleaning products'],\n",
       " ['spices seasonings',\n",
       "  'oils vinegars',\n",
       "  'baking ingredients',\n",
       "  'baking ingredients',\n",
       "  'condiments'],\n",
       " ['oral hygiene'],\n",
       " ['fresh fruits',\n",
       "  'fresh fruits',\n",
       "  'fresh vegetables',\n",
       "  'packaged vegetables fruits'],\n",
       " ['cookies cakes', 'cookies cakes', 'fruit vegetable snacks'],\n",
       " ['energy sports drinks'],\n",
       " ['breakfast bars pastries'],\n",
       " ['cream'],\n",
       " ['soap'],\n",
       " ['fresh vegetables'],\n",
       " ['buns rolls', 'bread'],\n",
       " ['water seltzer sparkling water',\n",
       "  'water seltzer sparkling water',\n",
       "  'water seltzer sparkling water'],\n",
       " ['milk', 'cream', 'milk', 'yogurt'],\n",
       " ['hot dogs bacon sausage'],\n",
       " ['pickled goods olives'],\n",
       " ['packaged vegetables fruits', 'packaged vegetables fruits', 'fresh herbs'],\n",
       " ['energy granola bars', 'chips pretzels'],\n",
       " ['other creams cheeses', 'yogurt', 'milk'],\n",
       " ['poultry counter'],\n",
       " ['fresh fruits',\n",
       "  'fresh fruits',\n",
       "  'packaged vegetables fruits',\n",
       "  'packaged vegetables fruits'],\n",
       " ['cream'],\n",
       " ['pasta sauce'],\n",
       " ['asian foods'],\n",
       " ['fresh fruits', 'fresh vegetables'],\n",
       " ['bakery desserts'],\n",
       " ['soft drinks', 'energy sports drinks', 'energy sports drinks'],\n",
       " ['breakfast bars pastries', 'breakfast bars pastries'],\n",
       " ['milk', 'soy lactosefree', 'yogurt', 'yogurt', 'milk', 'milk'],\n",
       " ['plates bowls cups flatware',\n",
       "  'plates bowls cups flatware',\n",
       "  'more household',\n",
       "  'plates bowls cups flatware',\n",
       "  'plates bowls cups flatware',\n",
       "  'air fresheners candles'],\n",
       " ['asian foods'],\n",
       " ['body lotions soap',\n",
       "  'vitamins supplements',\n",
       "  'cold flu allergy',\n",
       "  'cold flu allergy',\n",
       "  'cold flu allergy',\n",
       "  'cold flu allergy',\n",
       "  'body lotions soap',\n",
       "  'feminine care',\n",
       "  'body lotions soap'],\n",
       " ['fresh fruits',\n",
       "  'fresh fruits',\n",
       "  'fresh fruits',\n",
       "  'packaged vegetables fruits'],\n",
       " ['energy granola bars',\n",
       "  'candy chocolate',\n",
       "  'popcorn jerky',\n",
       "  'cookies cakes',\n",
       "  'popcorn jerky',\n",
       "  'candy chocolate',\n",
       "  'chips pretzels',\n",
       "  'popcorn jerky',\n",
       "  'candy chocolate',\n",
       "  'candy chocolate'],\n",
       " ['bread'],\n",
       " ['refrigerated'],\n",
       " ['yogurt',\n",
       "  'yogurt',\n",
       "  'yogurt',\n",
       "  'cream',\n",
       "  'soy lactosefree',\n",
       "  'yogurt',\n",
       "  'yogurt'],\n",
       " ['fresh dips tapenades', 'fresh dips tapenades'],\n",
       " ['fresh fruits',\n",
       "  'fresh fruits',\n",
       "  'fresh fruits',\n",
       "  'fresh fruits',\n",
       "  'fresh fruits'],\n",
       " ['energy granola bars',\n",
       "  'energy granola bars',\n",
       "  'energy granola bars',\n",
       "  'energy granola bars',\n",
       "  'energy granola bars',\n",
       "  'fruit vegetable snacks',\n",
       "  'nuts seeds dried fruit'],\n",
       " ['tea', 'tea', 'tea'],\n",
       " ['soy lactosefree',\n",
       "  'soy lactosefree',\n",
       "  'cream',\n",
       "  'soy lactosefree',\n",
       "  'milk',\n",
       "  'milk',\n",
       "  'soy lactosefree',\n",
       "  'soy lactosefree',\n",
       "  'soy lactosefree',\n",
       "  'milk',\n",
       "  'milk'],\n",
       " ['condiments'],\n",
       " ['trail mix snack mix'],\n",
       " ['diapers wipes'],\n",
       " ['breakfast bakery'],\n",
       " ['juice nectars',\n",
       "  'juice nectars',\n",
       "  'refrigerated',\n",
       "  'refrigerated',\n",
       "  'juice nectars'],\n",
       " ['hot cereal pancake mixes'],\n",
       " ['canned meals beans',\n",
       "  'canned meat seafood',\n",
       "  'canned meals beans',\n",
       "  'canned meals beans'],\n",
       " ['yogurt',\n",
       "  'packaged cheese',\n",
       "  'other creams cheeses',\n",
       "  'packaged cheese',\n",
       "  'eggs',\n",
       "  'soy lactosefree'],\n",
       " ['grains rice dried goods'],\n",
       " ['ice cream ice', 'frozen produce'],\n",
       " ['kitchen supplies'],\n",
       " ['missing'],\n",
       " ['baking supplies decor', 'pickled goods olives'],\n",
       " ['fresh fruits',\n",
       "  'fresh fruits',\n",
       "  'fresh fruits',\n",
       "  'fresh fruits',\n",
       "  'fresh vegetables',\n",
       "  'fresh fruits',\n",
       "  'fresh vegetables',\n",
       "  'fresh vegetables',\n",
       "  'fresh vegetables',\n",
       "  'fresh vegetables',\n",
       "  'fresh vegetables',\n",
       "  'packaged vegetables fruits',\n",
       "  'fresh fruits',\n",
       "  'fresh vegetables',\n",
       "  'fresh vegetables'],\n",
       " ['water seltzer sparkling water', 'water seltzer sparkling water'],\n",
       " ['packaged cheese',\n",
       "  'milk',\n",
       "  'butter',\n",
       "  'yogurt',\n",
       "  'yogurt',\n",
       "  'yogurt',\n",
       "  'yogurt',\n",
       "  'yogurt'],\n",
       " ['frozen meals',\n",
       "  'frozen meals',\n",
       "  'frozen meals',\n",
       "  'frozen meals',\n",
       "  'frozen meals',\n",
       "  'frozen meals',\n",
       "  'frozen meals',\n",
       "  'frozen meals'],\n",
       " ['packaged vegetables fruits'],\n",
       " ['energy granola bars'],\n",
       " ['juice nectars'],\n",
       " ['granola', 'granola', 'granola'],\n",
       " ['packaged cheese',\n",
       "  'yogurt',\n",
       "  'packaged cheese',\n",
       "  'packaged cheese',\n",
       "  'yogurt',\n",
       "  'packaged cheese'],\n",
       " ['fresh dips tapenades', 'lunch meat', 'fresh dips tapenades'],\n",
       " ['ice cream ice'],\n",
       " ['kitchen supplies'],\n",
       " ['baking ingredients',\n",
       "  'baking ingredients',\n",
       "  'spices seasonings',\n",
       "  'doughs gelatins bake mixes',\n",
       "  'baking ingredients',\n",
       "  'baking ingredients',\n",
       "  'preserved dips spreads',\n",
       "  'baking ingredients'],\n",
       " ['packaged vegetables fruits',\n",
       "  'fresh fruits',\n",
       "  'fresh fruits',\n",
       "  'packaged vegetables fruits',\n",
       "  'fresh vegetables',\n",
       "  'packaged vegetables fruits',\n",
       "  'fresh vegetables',\n",
       "  'fresh fruits',\n",
       "  'fresh fruits',\n",
       "  'packaged vegetables fruits',\n",
       "  'packaged vegetables fruits'],\n",
       " ['chips pretzels', 'crackers'],\n",
       " ['breakfast bakery',\n",
       "  'breakfast bakery',\n",
       "  'breakfast bakery',\n",
       "  'breakfast bakery'],\n",
       " ['coffee', 'coffee', 'coffee'],\n",
       " ['granola', 'breakfast bars pastries'],\n",
       " ['soup broth bouillon',\n",
       "  'canned meals beans',\n",
       "  'soup broth bouillon',\n",
       "  'canned jarred vegetables',\n",
       "  'soup broth bouillon',\n",
       "  'canned meals beans',\n",
       "  'soup broth bouillon'],\n",
       " ['yogurt', 'milk', 'yogurt', 'milk', 'packaged cheese', 'milk', 'milk'],\n",
       " ['tofu meat alternatives'],\n",
       " ['fresh pasta', 'instant foods', 'dry pasta', 'pasta sauce', 'instant foods'],\n",
       " ['cleaning products',\n",
       "  'paper goods',\n",
       "  'paper goods',\n",
       "  'paper goods',\n",
       "  'paper goods',\n",
       "  'cleaning products'],\n",
       " ['hot dogs bacon sausage',\n",
       "  'hot dogs bacon sausage',\n",
       "  'hot dogs bacon sausage',\n",
       "  'hot dogs bacon sausage',\n",
       "  'hot dogs bacon sausage'],\n",
       " ['oils vinegars',\n",
       "  'spices seasonings',\n",
       "  'spices seasonings',\n",
       "  'spices seasonings',\n",
       "  'spices seasonings',\n",
       "  'preserved dips spreads',\n",
       "  'doughs gelatins bake mixes'],\n",
       " ['cat food care',\n",
       "  'cat food care',\n",
       "  'cat food care',\n",
       "  'cat food care',\n",
       "  'cat food care',\n",
       "  'cat food care'],\n",
       " ['packaged vegetables fruits',\n",
       "  'fresh vegetables',\n",
       "  'fresh fruits',\n",
       "  'fresh vegetables',\n",
       "  'fresh vegetables',\n",
       "  'fresh fruits',\n",
       "  'packaged vegetables fruits',\n",
       "  'fresh vegetables',\n",
       "  'fresh vegetables',\n",
       "  'fresh vegetables',\n",
       "  'fresh vegetables',\n",
       "  'packaged vegetables fruits',\n",
       "  'fresh fruits'],\n",
       " ['chips pretzels',\n",
       "  'cookies cakes',\n",
       "  'popcorn jerky',\n",
       "  'candy chocolate',\n",
       "  'energy granola bars'],\n",
       " ['bread'],\n",
       " ['refrigerated',\n",
       "  'soft drinks',\n",
       "  'soft drinks',\n",
       "  'water seltzer sparkling water',\n",
       "  'water seltzer sparkling water',\n",
       "  'soft drinks',\n",
       "  'water seltzer sparkling water',\n",
       "  'water seltzer sparkling water',\n",
       "  'refrigerated',\n",
       "  'soft drinks'],\n",
       " ['cereal'],\n",
       " ['milk', 'packaged cheese', 'eggs', 'soy lactosefree'],\n",
       " ['lunch meat', 'fresh dips tapenades'],\n",
       " ['frozen breakfast', 'ice cream ice', 'frozen breakfast', 'frozen produce'],\n",
       " ['paper goods',\n",
       "  'paper goods',\n",
       "  'paper goods',\n",
       "  'cleaning products',\n",
       "  'dish detergents'],\n",
       " ['oils vinegars', 'spreads', 'oils vinegars'],\n",
       " ['muscles joints pain relief'],\n",
       " ['fresh vegetables',\n",
       "  'fresh fruits',\n",
       "  'fresh fruits',\n",
       "  'fresh fruits',\n",
       "  'packaged vegetables fruits'],\n",
       " ['popcorn jerky', 'crackers', 'crackers', 'crackers'],\n",
       " ['breakfast bakery', 'buns rolls'],\n",
       " ['water seltzer sparkling water',\n",
       "  'soft drinks',\n",
       "  'soft drinks',\n",
       "  'soft drinks',\n",
       "  'water seltzer sparkling water',\n",
       "  'refrigerated',\n",
       "  'soft drinks',\n",
       "  'soft drinks'],\n",
       " ['canned jarred vegetables',\n",
       "  'canned jarred vegetables',\n",
       "  'canned jarred vegetables'],\n",
       " ['lunch meat', 'fresh dips tapenades', 'lunch meat', 'fresh dips tapenades'],\n",
       " ['pasta sauce', 'fresh pasta'],\n",
       " ['frozen breakfast', 'frozen appetizers sides', 'frozen breakfast'],\n",
       " ['latino foods'],\n",
       " ['hot dogs bacon sausage'],\n",
       " ['fresh fruits',\n",
       "  'fresh fruits',\n",
       "  'packaged vegetables fruits',\n",
       "  'fresh herbs',\n",
       "  'fresh vegetables',\n",
       "  'packaged vegetables fruits',\n",
       "  'fresh fruits'],\n",
       " ['water seltzer sparkling water'],\n",
       " ['packaged poultry'],\n",
       " ['first aid'],\n",
       " ['bakery desserts'],\n",
       " ['energy sports drinks'],\n",
       " ['soup broth bouillon'],\n",
       " ['cream', 'other creams cheeses'],\n",
       " ['fresh dips tapenades'],\n",
       " ['frozen produce', 'frozen appetizers sides', 'frozen appetizers sides'],\n",
       " ['latino foods'],\n",
       " ['fresh fruits', 'fresh fruits'],\n",
       " ['water seltzer sparkling water',\n",
       "  'water seltzer sparkling water',\n",
       "  'water seltzer sparkling water'],\n",
       " ['packaged cheese', 'packaged cheese', 'soy lactosefree', 'cream'],\n",
       " ['lunch meat'],\n",
       " ['asian foods'],\n",
       " ['pickled goods olives', 'condiments'],\n",
       " ['fresh vegetables',\n",
       "  'fresh vegetables',\n",
       "  'fresh vegetables',\n",
       "  'fresh fruits',\n",
       "  'fresh herbs'],\n",
       " ['chips pretzels'],\n",
       " ['refrigerated', 'refrigerated'],\n",
       " ['canned meat seafood', 'canned meat seafood', 'canned meat seafood'],\n",
       " ['frozen produce', 'frozen produce'],\n",
       " ['oils vinegars',\n",
       "  'pickled goods olives',\n",
       "  'baking ingredients',\n",
       "  'pickled goods olives',\n",
       "  'baking ingredients',\n",
       "  'spreads'],\n",
       " ['packaged vegetables fruits',\n",
       "  'fresh vegetables',\n",
       "  'packaged vegetables fruits',\n",
       "  'packaged vegetables fruits',\n",
       "  'fresh vegetables',\n",
       "  'fresh vegetables',\n",
       "  'fresh vegetables',\n",
       "  'packaged produce',\n",
       "  'fresh vegetables',\n",
       "  'fresh vegetables',\n",
       "  'fresh vegetables',\n",
       "  'fresh fruits',\n",
       "  'fresh vegetables',\n",
       "  'fresh vegetables',\n",
       "  'fresh fruits',\n",
       "  'fresh fruits',\n",
       "  'fresh vegetables',\n",
       "  'fresh vegetables',\n",
       "  'fresh vegetables',\n",
       "  'fresh fruits',\n",
       "  'fresh fruits',\n",
       "  'fresh vegetables'],\n",
       " ['fresh fruits',\n",
       "  'fresh fruits',\n",
       "  'fresh fruits',\n",
       "  'packaged vegetables fruits',\n",
       "  'fresh fruits',\n",
       "  'fresh fruits',\n",
       "  'fresh fruits',\n",
       "  'fresh fruits'],\n",
       " ['chips pretzels', 'chips pretzels'],\n",
       " ['packaged cheese', 'packaged cheese', 'soy lactosefree', 'packaged cheese'],\n",
       " ['lunch meat', 'fresh dips tapenades'],\n",
       " ['instant foods'],\n",
       " ['cleaning products',\n",
       "  'paper goods',\n",
       "  'cleaning products',\n",
       "  'cleaning products'],\n",
       " ['salad dressing toppings'],\n",
       " ['packaged vegetables fruits', 'fresh vegetables'],\n",
       " ['bakery desserts', 'bread'],\n",
       " ['refrigerated', 'refrigerated'],\n",
       " ['soup broth bouillon'],\n",
       " ['other creams cheeses'],\n",
       " ['tofu meat alternatives'],\n",
       " ['dish detergents'],\n",
       " ['asian foods'],\n",
       " ['soap'],\n",
       " ['fresh fruits',\n",
       "  'packaged vegetables fruits',\n",
       "  'packaged vegetables fruits',\n",
       "  'fresh fruits',\n",
       "  'packaged vegetables fruits',\n",
       "  'fresh vegetables',\n",
       "  'fresh vegetables',\n",
       "  'fresh vegetables',\n",
       "  'fresh vegetables'],\n",
       " ['cookies cakes', 'fruit vegetable snacks', 'candy chocolate'],\n",
       " ['butter',\n",
       "  'other creams cheeses',\n",
       "  'other creams cheeses',\n",
       "  'milk',\n",
       "  'cream',\n",
       "  'cream',\n",
       "  'soy lactosefree',\n",
       "  'yogurt'],\n",
       " ['grains rice dried goods'],\n",
       " ['frozen produce'],\n",
       " ['condiments', 'baking ingredients', 'baking ingredients'],\n",
       " ['packaged vegetables fruits', 'fresh vegetables'],\n",
       " ['nuts seeds dried fruit'],\n",
       " ['refrigerated', 'refrigerated', 'refrigerated'],\n",
       " ['canned jarred vegetables', 'canned meals beans', 'canned meals beans'],\n",
       " ['packaged cheese'],\n",
       " ['lunch meat'],\n",
       " ['frozen meals'],\n",
       " ['protein meal replacements'],\n",
       " ['fresh fruits', 'packaged vegetables fruits', 'fresh fruits'],\n",
       " ['soft drinks',\n",
       "  'soft drinks',\n",
       "  'soft drinks',\n",
       "  'water seltzer sparkling water',\n",
       "  'tea'],\n",
       " ['cereal'],\n",
       " ['milk', 'cream', 'yogurt', 'yogurt', 'yogurt', 'milk'],\n",
       " ['ice cream ice'],\n",
       " ['doughs gelatins bake mixes'],\n",
       " ['fresh fruits', 'fresh fruits'],\n",
       " ['candy chocolate',\n",
       "  'candy chocolate',\n",
       "  'candy chocolate',\n",
       "  'candy chocolate',\n",
       "  'cookies cakes',\n",
       "  'cookies cakes',\n",
       "  'cookies cakes'],\n",
       " ['bread'],\n",
       " ['hot cereal pancake mixes'],\n",
       " ['canned jarred vegetables',\n",
       "  'soup broth bouillon',\n",
       "  'canned jarred vegetables'],\n",
       " ['milk',\n",
       "  'yogurt',\n",
       "  'specialty cheeses',\n",
       "  'other creams cheeses',\n",
       "  'packaged cheese',\n",
       "  'yogurt',\n",
       "  'cream',\n",
       "  'yogurt',\n",
       "  'yogurt',\n",
       "  'packaged cheese',\n",
       "  'yogurt'],\n",
       " ['lunch meat'],\n",
       " ['dry pasta'],\n",
       " ['indian foods'],\n",
       " ['preserved dips spreads'],\n",
       " ['packaged vegetables fruits',\n",
       "  'fresh fruits',\n",
       "  'fresh vegetables',\n",
       "  'fresh fruits',\n",
       "  'fresh fruits',\n",
       "  'fresh vegetables',\n",
       "  'fresh fruits',\n",
       "  'fresh vegetables',\n",
       "  'packaged vegetables fruits'],\n",
       " ['packaged vegetables fruits',\n",
       "  'packaged vegetables fruits',\n",
       "  'packaged produce'],\n",
       " ['beers coolers'],\n",
       " ['soft drinks', 'water seltzer sparkling water'],\n",
       " ['milk'],\n",
       " ['lunch meat', 'fresh dips tapenades'],\n",
       " ['frozen appetizers sides', 'frozen meals'],\n",
       " ['hot dogs bacon sausage'],\n",
       " ['preserved dips spreads', 'doughs gelatins bake mixes'],\n",
       " ['chips pretzels', 'chips pretzels', 'nuts seeds dried fruit', 'crackers'],\n",
       " ['packaged cheese', 'packaged cheese', 'butter'],\n",
       " ['spreads', 'spreads'],\n",
       " ['fresh vegetables',\n",
       "  'packaged vegetables fruits',\n",
       "  'packaged produce',\n",
       "  'packaged produce',\n",
       "  'fresh fruits',\n",
       "  'fresh fruits',\n",
       "  'fresh fruits',\n",
       "  'fresh fruits',\n",
       "  'packaged produce',\n",
       "  'fresh vegetables'],\n",
       " ['water seltzer sparkling water', 'water seltzer sparkling water'],\n",
       " ['bread', 'bread'],\n",
       " ['instant foods'],\n",
       " ['frozen appetizers sides'],\n",
       " ['paper goods'],\n",
       " ['fresh fruits', 'fresh fruits', 'fresh fruits'],\n",
       " ['energy granola bars'],\n",
       " ['bread'],\n",
       " ['soy lactosefree', 'yogurt'],\n",
       " ['frozen produce'],\n",
       " ['eye ear care'],\n",
       " ['fresh vegetables', 'fresh vegetables', 'fresh fruits'],\n",
       " ['cream', 'soy lactosefree', 'milk', 'cream', 'soy lactosefree', 'cream'],\n",
       " ['ice cream ice'],\n",
       " ['fresh fruits',\n",
       "  'fresh fruits',\n",
       "  'fresh fruits',\n",
       "  'fresh vegetables',\n",
       "  'fresh fruits',\n",
       "  'fresh vegetables',\n",
       "  'fresh fruits'],\n",
       " ['spreads', 'baking ingredients'],\n",
       " ['fresh fruits', 'fresh fruits'],\n",
       " ['buns rolls', 'bread'],\n",
       " ['milk',\n",
       "  'packaged cheese',\n",
       "  'other creams cheeses',\n",
       "  'yogurt',\n",
       "  'packaged cheese',\n",
       "  'eggs',\n",
       "  'packaged cheese',\n",
       "  'packaged cheese',\n",
       "  'milk',\n",
       "  'packaged cheese',\n",
       "  'milk',\n",
       "  'packaged cheese',\n",
       "  'milk',\n",
       "  'packaged cheese'],\n",
       " ['instant foods',\n",
       "  'instant foods',\n",
       "  'instant foods',\n",
       "  'dry pasta',\n",
       "  'instant foods',\n",
       "  'instant foods'],\n",
       " ['frozen appetizers sides',\n",
       "  'frozen appetizers sides',\n",
       "  'ice cream ice',\n",
       "  'ice cream ice',\n",
       "  'frozen appetizers sides'],\n",
       " ['latino foods'],\n",
       " ['hot dogs bacon sausage'],\n",
       " ['baking ingredients'],\n",
       " ['fresh fruits',\n",
       "  'fresh vegetables',\n",
       "  'fresh fruits',\n",
       "  'fresh fruits',\n",
       "  'fresh fruits',\n",
       "  'fresh vegetables',\n",
       "  'packaged vegetables fruits',\n",
       "  'fresh vegetables',\n",
       "  'fresh fruits',\n",
       "  'packaged vegetables fruits',\n",
       "  'fresh fruits',\n",
       "  'fresh fruits',\n",
       "  'fresh fruits',\n",
       "  'fresh fruits',\n",
       "  'fresh vegetables',\n",
       "  'fresh fruits',\n",
       "  'fresh fruits',\n",
       "  'packaged vegetables fruits'],\n",
       " ['chips pretzels', 'popcorn jerky', 'popcorn jerky'],\n",
       " ['breakfast bakery', 'breakfast bakery'],\n",
       " ['refrigerated'],\n",
       " ['packaged cheese', 'soy lactosefree', 'milk', 'yogurt', 'packaged cheese'],\n",
       " ['frozen produce'],\n",
       " ['fresh vegetables',\n",
       "  'fresh herbs',\n",
       "  'fresh fruits',\n",
       "  'fresh fruits',\n",
       "  'fresh fruits',\n",
       "  'fresh vegetables',\n",
       "  'fresh vegetables',\n",
       "  'fresh fruits',\n",
       "  'fresh fruits',\n",
       "  'fresh vegetables',\n",
       "  'fresh vegetables',\n",
       "  'fresh fruits',\n",
       "  'packaged vegetables fruits'],\n",
       " ['nuts seeds dried fruit'],\n",
       " ['other creams cheeses'],\n",
       " ['packaged produce', 'packaged vegetables fruits'],\n",
       " ['cookies cakes'],\n",
       " ['baby food formula', 'baby food formula', 'baby food formula'],\n",
       " ['tea'],\n",
       " ['granola', 'granola'],\n",
       " ['canned jarred vegetables',\n",
       "  'soup broth bouillon',\n",
       "  'soup broth bouillon',\n",
       "  'canned meals beans',\n",
       "  'canned meals beans',\n",
       "  'soup broth bouillon',\n",
       "  'canned jarred vegetables',\n",
       "  'soup broth bouillon',\n",
       "  'canned meals beans',\n",
       "  'canned meals beans',\n",
       "  'soup broth bouillon'],\n",
       " ['soy lactosefree',\n",
       "  'yogurt',\n",
       "  'cream',\n",
       "  'packaged cheese',\n",
       "  'butter',\n",
       "  'soy lactosefree',\n",
       "  'cream',\n",
       "  'soy lactosefree'],\n",
       " ['dry pasta',\n",
       "  'grains rice dried goods',\n",
       "  'dry pasta',\n",
       "  'dry pasta',\n",
       "  'pasta sauce'],\n",
       " ['asian foods'],\n",
       " ['poultry counter', 'poultry counter'],\n",
       " ['baking ingredients',\n",
       "  'oils vinegars',\n",
       "  'baking ingredients',\n",
       "  'spices seasonings'],\n",
       " ['soap'],\n",
       " ['packaged vegetables fruits',\n",
       "  'fresh vegetables',\n",
       "  'fresh vegetables',\n",
       "  'fresh vegetables',\n",
       "  'packaged vegetables fruits',\n",
       "  'fresh vegetables',\n",
       "  'fresh vegetables'],\n",
       " ['crackers'],\n",
       " ['paper goods'],\n",
       " ['shave needs', 'hair care', 'body lotions soap', 'oral hygiene'],\n",
       " ['water seltzer sparkling water'],\n",
       " ['fruit vegetable snacks', 'cookies cakes'],\n",
       " ['bread', 'bread', 'tortillas flat bread'],\n",
       " ['juice nectars'],\n",
       " ['cereal'],\n",
       " ['soy lactosefree',\n",
       "  'packaged cheese',\n",
       "  'soy lactosefree',\n",
       "  'yogurt',\n",
       "  'milk',\n",
       "  'packaged cheese',\n",
       "  'packaged cheese',\n",
       "  'soy lactosefree',\n",
       "  'soy lactosefree'],\n",
       " ['grains rice dried goods', 'dry pasta', 'grains rice dried goods'],\n",
       " ['spices seasonings', 'spreads', 'spreads', 'preserved dips spreads'],\n",
       " ['fresh fruits',\n",
       "  'fresh herbs',\n",
       "  'fresh fruits',\n",
       "  'fresh fruits',\n",
       "  'packaged vegetables fruits',\n",
       "  'fresh vegetables',\n",
       "  'fresh fruits',\n",
       "  'fresh vegetables',\n",
       "  'fresh fruits',\n",
       "  'fresh fruits',\n",
       "  'fresh vegetables',\n",
       "  'fresh fruits',\n",
       "  'fresh fruits',\n",
       "  'fresh vegetables',\n",
       "  'fresh fruits',\n",
       "  'fresh fruits',\n",
       "  'fresh vegetables',\n",
       "  'fresh vegetables',\n",
       "  'fresh vegetables',\n",
       "  'fresh herbs',\n",
       "  'fresh vegetables',\n",
       "  'packaged vegetables fruits',\n",
       "  'packaged vegetables fruits',\n",
       "  'fresh vegetables',\n",
       "  'fresh vegetables',\n",
       "  'packaged vegetables fruits',\n",
       "  'fresh vegetables',\n",
       "  'fresh fruits',\n",
       "  'fresh fruits',\n",
       "  'fresh vegetables',\n",
       "  'fresh vegetables',\n",
       "  'fresh vegetables'],\n",
       " ['breakfast bakery', 'bakery desserts', 'tortillas flat bread'],\n",
       " ['juice nectars',\n",
       "  'refrigerated',\n",
       "  'soft drinks',\n",
       "  'soft drinks',\n",
       "  'refrigerated',\n",
       "  'refrigerated',\n",
       "  'juice nectars',\n",
       "  'coffee',\n",
       "  'tea',\n",
       "  'water seltzer sparkling water',\n",
       "  'coffee',\n",
       "  'refrigerated'],\n",
       " ['cereal', 'cereal'],\n",
       " ['soup broth bouillon',\n",
       "  'canned jarred vegetables',\n",
       "  'canned jarred vegetables',\n",
       "  'canned jarred vegetables',\n",
       "  'canned jarred vegetables',\n",
       "  'canned fruit applesauce',\n",
       "  'canned meat seafood',\n",
       "  'canned meals beans',\n",
       "  'canned meals beans',\n",
       "  'canned meat seafood',\n",
       "  'canned jarred vegetables'],\n",
       " ['milk',\n",
       "  'yogurt',\n",
       "  'milk',\n",
       "  'yogurt',\n",
       "  'yogurt',\n",
       "  'yogurt',\n",
       "  'yogurt',\n",
       "  'packaged cheese',\n",
       "  'yogurt',\n",
       "  'yogurt',\n",
       "  'yogurt',\n",
       "  'yogurt',\n",
       "  'yogurt',\n",
       "  'packaged cheese'],\n",
       " ['lunch meat', 'prepared soups salads'],\n",
       " ['instant foods', 'instant foods', 'instant foods'],\n",
       " ['ice cream ice',\n",
       "  'frozen appetizers sides',\n",
       "  'ice cream ice',\n",
       "  'frozen appetizers sides',\n",
       "  'frozen appetizers sides',\n",
       "  'frozen meat seafood',\n",
       "  'ice cream ice'],\n",
       " ['dish detergents',\n",
       "  'plates bowls cups flatware',\n",
       "  'plates bowls cups flatware',\n",
       "  'paper goods',\n",
       "  'food storage',\n",
       "  'paper goods'],\n",
       " ['packaged meat', 'meat counter'],\n",
       " ['baking ingredients',\n",
       "  'oils vinegars',\n",
       "  'doughs gelatins bake mixes',\n",
       "  'baking ingredients',\n",
       "  'doughs gelatins bake mixes',\n",
       "  'marinades meat preparation',\n",
       "  'baking ingredients',\n",
       "  'oils vinegars',\n",
       "  'condiments',\n",
       "  'baking ingredients'],\n",
       " ['oral hygiene',\n",
       "  'first aid',\n",
       "  'body lotions soap',\n",
       "  'vitamins supplements',\n",
       "  'vitamins supplements'],\n",
       " ['dog food care',\n",
       "  'dog food care',\n",
       "  'dog food care',\n",
       "  'dog food care',\n",
       "  'dog food care',\n",
       "  'dog food care',\n",
       "  'dog food care',\n",
       "  'dog food care',\n",
       "  'dog food care',\n",
       "  'dog food care',\n",
       "  'dog food care',\n",
       "  'dog food care',\n",
       "  'dog food care',\n",
       "  'dog food care',\n",
       "  'dog food care',\n",
       "  'dog food care',\n",
       "  'dog food care',\n",
       "  'dog food care',\n",
       "  'dog food care',\n",
       "  'dog food care',\n",
       "  'dog food care',\n",
       "  'dog food care',\n",
       "  'dog food care',\n",
       "  'dog food care',\n",
       "  'dog food care'],\n",
       " ['fresh vegetables', 'packaged vegetables fruits', 'fresh vegetables'],\n",
       " ['mint gum',\n",
       "  'chips pretzels',\n",
       "  'cookies cakes',\n",
       "  'energy granola bars',\n",
       "  'chips pretzels',\n",
       "  'cookies cakes',\n",
       "  'crackers',\n",
       "  'candy chocolate',\n",
       "  'cookies cakes',\n",
       "  'cookies cakes',\n",
       "  'cookies cakes',\n",
       "  'chips pretzels',\n",
       "  'cookies cakes',\n",
       "  'candy chocolate',\n",
       "  'chips pretzels',\n",
       "  'mint gum',\n",
       "  'cookies cakes',\n",
       "  'popcorn jerky',\n",
       "  'cookies cakes'],\n",
       " ['buns rolls'],\n",
       " ['other creams cheeses'],\n",
       " ['hot dogs bacon sausage'],\n",
       " ['packaged produce', 'fresh vegetables'],\n",
       " ['frozen meals'],\n",
       " ['fresh vegetables', 'fresh vegetables'],\n",
       " ['yogurt'],\n",
       " ['fresh fruits',\n",
       "  'fresh vegetables',\n",
       "  'fresh herbs',\n",
       "  'fresh vegetables',\n",
       "  'fresh fruits',\n",
       "  'fresh fruits',\n",
       "  'packaged vegetables fruits',\n",
       "  'fresh fruits'],\n",
       " ['cookies cakes',\n",
       "  'energy granola bars',\n",
       "  'candy chocolate',\n",
       "  'energy granola bars'],\n",
       " ['baby food formula', 'baby food formula'],\n",
       " ['soft drinks',\n",
       "  'cocoa drink mixes',\n",
       "  'soft drinks',\n",
       "  'cocoa drink mixes',\n",
       "  'cocoa drink mixes'],\n",
       " ['cereal'],\n",
       " ['milk'],\n",
       " ['ice cream ice', 'ice cream ice', 'ice cream ice'],\n",
       " ['food storage'],\n",
       " ['candy chocolate',\n",
       "  'fruit vegetable snacks',\n",
       "  'candy chocolate',\n",
       "  'candy chocolate',\n",
       "  'candy chocolate',\n",
       "  'candy chocolate'],\n",
       " ['bread'],\n",
       " ['air fresheners candles'],\n",
       " ['spreads',\n",
       "  'honeys syrups nectars',\n",
       "  'spreads',\n",
       "  'spices seasonings',\n",
       "  'spices seasonings'],\n",
       " ['oral hygiene',\n",
       "  'oral hygiene',\n",
       "  'oral hygiene',\n",
       "  'oral hygiene',\n",
       "  'oral hygiene',\n",
       "  'oral hygiene'],\n",
       " ['crackers', 'crackers', 'nuts seeds dried fruit'],\n",
       " ['refrigerated'],\n",
       " ['milk', 'milk', 'yogurt'],\n",
       " ['cleaning products', 'paper goods'],\n",
       " ['energy granola bars'],\n",
       " ['butter'],\n",
       " ['frozen produce'],\n",
       " ['hot dogs bacon sausage'],\n",
       " ['fresh fruits'],\n",
       " ['chips pretzels',\n",
       "  'popcorn jerky',\n",
       "  'chips pretzels',\n",
       "  'candy chocolate',\n",
       "  'chips pretzels'],\n",
       " ['canned meals beans'],\n",
       " ['fresh dips tapenades'],\n",
       " ['packaged produce', 'packaged vegetables fruits', 'packaged produce'],\n",
       " ['cream', 'soy lactosefree'],\n",
       " ['frozen produce'],\n",
       " ['condiments', 'oils vinegars', 'condiments'],\n",
       " ['packaged vegetables fruits',\n",
       "  'fresh vegetables',\n",
       "  'fresh vegetables',\n",
       "  'fresh fruits',\n",
       "  'packaged vegetables fruits'],\n",
       " ['beers coolers',\n",
       "  'beers coolers',\n",
       "  'white wines',\n",
       "  'white wines',\n",
       "  'white wines',\n",
       "  'red wines',\n",
       "  'red wines',\n",
       "  'red wines',\n",
       "  'beers coolers',\n",
       "  'beers coolers'],\n",
       " ['juice nectars', 'energy sports drinks', 'energy sports drinks'],\n",
       " ['cream', 'cream', 'soy lactosefree', 'cream'],\n",
       " ['instant foods'],\n",
       " ['asian foods'],\n",
       " ['other', 'other', 'other'],\n",
       " ['condiments'],\n",
       " ['candy chocolate', 'fruit vegetable snacks', 'candy chocolate', 'crackers'],\n",
       " ['canned meals beans'],\n",
       " ['refrigerated pudding desserts',\n",
       "  'refrigerated pudding desserts',\n",
       "  'yogurt',\n",
       "  'yogurt'],\n",
       " ['frozen meals', 'frozen pizza'],\n",
       " ['baby accessories', 'baby accessories'],\n",
       " ['canned meals beans',\n",
       "  'soup broth bouillon',\n",
       "  'canned meals beans',\n",
       "  'canned meals beans',\n",
       "  'soup broth bouillon',\n",
       "  'canned meals beans'],\n",
       " ['eggs', 'eggs', 'soy lactosefree', 'eggs'],\n",
       " ['lunch meat',\n",
       "  'lunch meat',\n",
       "  'lunch meat',\n",
       "  'lunch meat',\n",
       "  'fresh dips tapenades',\n",
       "  'lunch meat',\n",
       "  'lunch meat'],\n",
       " ['dry pasta', 'dry pasta', 'dry pasta', 'dry pasta', 'dry pasta'],\n",
       " ['frozen meals', 'frozen breakfast'],\n",
       " ['paper goods', 'laundry', 'paper goods', 'paper goods'],\n",
       " ['hot dogs bacon sausage',\n",
       "  'hot dogs bacon sausage',\n",
       "  'hot dogs bacon sausage',\n",
       "  'hot dogs bacon sausage'],\n",
       " ['pickled goods olives'],\n",
       " ['oral hygiene', 'oral hygiene', 'oral hygiene'],\n",
       " ['fresh fruits',\n",
       "  'fresh vegetables',\n",
       "  'fresh vegetables',\n",
       "  'fresh vegetables',\n",
       "  'fresh vegetables',\n",
       "  'fresh fruits',\n",
       "  'fresh vegetables',\n",
       "  'fresh vegetables',\n",
       "  'fresh vegetables',\n",
       "  'fresh vegetables',\n",
       "  'fresh vegetables',\n",
       "  'fresh vegetables',\n",
       "  'fresh fruits',\n",
       "  'fresh vegetables',\n",
       "  'fresh fruits',\n",
       "  'fresh vegetables',\n",
       "  'fresh fruits',\n",
       "  'fresh vegetables',\n",
       "  'packaged vegetables fruits',\n",
       "  'fresh vegetables',\n",
       "  'fresh vegetables',\n",
       "  'fresh vegetables',\n",
       "  'fresh vegetables',\n",
       "  'fresh vegetables',\n",
       "  'fresh vegetables',\n",
       "  'fresh fruits',\n",
       "  'fresh vegetables',\n",
       "  'fresh vegetables',\n",
       "  'fresh vegetables',\n",
       "  'fresh vegetables',\n",
       "  'packaged vegetables fruits',\n",
       "  'fresh fruits',\n",
       "  'fresh vegetables',\n",
       "  'fresh vegetables',\n",
       "  'fresh vegetables',\n",
       "  'fresh vegetables',\n",
       "  'fresh fruits',\n",
       "  'fresh vegetables'],\n",
       " ['specialty wines champagnes'],\n",
       " ['breakfast bakery'],\n",
       " ['water seltzer sparkling water'],\n",
       " ['eggs'],\n",
       " ['packaged vegetables fruits',\n",
       "  'fresh fruits',\n",
       "  'fresh vegetables',\n",
       "  'fresh vegetables',\n",
       "  'fresh vegetables',\n",
       "  'fresh fruits'],\n",
       " ['soft drinks'],\n",
       " ['packaged cheese'],\n",
       " ['lunch meat'],\n",
       " ['pasta sauce'],\n",
       " ['ice cream ice', 'frozen pizza', 'ice cream ice'],\n",
       " ['paper goods'],\n",
       " ['oral hygiene'],\n",
       " ['fresh fruits'],\n",
       " ['chips pretzels'],\n",
       " ['water seltzer sparkling water', 'water seltzer sparkling water'],\n",
       " ['packaged cheese'],\n",
       " ['instant foods'],\n",
       " ['hot dogs bacon sausage'],\n",
       " ['spices seasonings'],\n",
       " ['fresh fruits',\n",
       "  'packaged vegetables fruits',\n",
       "  'fresh vegetables',\n",
       "  'packaged produce'],\n",
       " ['coffee'],\n",
       " ['soy lactosefree'],\n",
       " ['frozen produce'],\n",
       " ['trash bags liners', 'dish detergents'],\n",
       " ['indian foods'],\n",
       " ['baking ingredients', 'spices seasonings'],\n",
       " ['fresh herbs',\n",
       "  'fresh vegetables',\n",
       "  'fresh fruits',\n",
       "  'fresh fruits',\n",
       "  'fresh herbs',\n",
       "  'fresh herbs',\n",
       "  'fresh vegetables',\n",
       "  'fresh fruits',\n",
       "  'fresh vegetables',\n",
       "  'fresh vegetables',\n",
       "  'fresh vegetables',\n",
       "  'fresh vegetables',\n",
       "  'fresh vegetables',\n",
       "  'fresh vegetables',\n",
       "  'fresh vegetables',\n",
       "  'fresh vegetables',\n",
       "  'fresh vegetables',\n",
       "  'fresh fruits'],\n",
       " ['candy chocolate'],\n",
       " ['bread'],\n",
       " ['water seltzer sparkling water'],\n",
       " ['hot cereal pancake mixes'],\n",
       " ['eggs', 'milk', 'soy lactosefree', 'milk', 'yogurt'],\n",
       " ['fresh dips tapenades'],\n",
       " ['spreads', 'condiments'],\n",
       " ['fresh fruits',\n",
       "  'fresh fruits',\n",
       "  'fresh fruits',\n",
       "  'packaged vegetables fruits',\n",
       "  'packaged vegetables fruits',\n",
       "  'packaged vegetables fruits',\n",
       "  'fresh vegetables'],\n",
       " ['bread', 'bread'],\n",
       " ['coffee',\n",
       "  'coffee',\n",
       "  'water seltzer sparkling water',\n",
       "  'water seltzer sparkling water',\n",
       "  'coffee',\n",
       "  'water seltzer sparkling water',\n",
       "  'water seltzer sparkling water',\n",
       "  'water seltzer sparkling water',\n",
       "  'water seltzer sparkling water',\n",
       "  'water seltzer sparkling water',\n",
       "  'coffee',\n",
       "  'water seltzer sparkling water',\n",
       "  'water seltzer sparkling water',\n",
       "  'water seltzer sparkling water',\n",
       "  'water seltzer sparkling water',\n",
       "  'water seltzer sparkling water',\n",
       "  'coffee',\n",
       "  'coffee'],\n",
       " ['cereal',\n",
       "  'cereal',\n",
       "  'granola',\n",
       "  'granola',\n",
       "  'granola',\n",
       "  'granola',\n",
       "  'granola',\n",
       "  'granola',\n",
       "  'cereal',\n",
       "  'cereal',\n",
       "  'granola'],\n",
       " ['cream',\n",
       "  'soy lactosefree',\n",
       "  'yogurt',\n",
       "  'milk',\n",
       "  'milk',\n",
       "  'yogurt',\n",
       "  'milk',\n",
       "  'packaged cheese',\n",
       "  'milk',\n",
       "  'packaged cheese',\n",
       "  'packaged cheese'],\n",
       " ['lunch meat', 'lunch meat'],\n",
       " ['ice cream ice', 'ice cream ice'],\n",
       " ['asian foods', 'asian foods', 'asian foods'],\n",
       " ['condiments',\n",
       "  'condiments',\n",
       "  'spreads',\n",
       "  'spreads',\n",
       "  'spreads',\n",
       "  'spreads',\n",
       "  'spreads',\n",
       "  'honeys syrups nectars',\n",
       "  'baking ingredients',\n",
       "  'spreads',\n",
       "  'spreads',\n",
       "  'spreads'],\n",
       " ['packaged vegetables fruits',\n",
       "  'packaged vegetables fruits',\n",
       "  'packaged vegetables fruits',\n",
       "  'fresh fruits',\n",
       "  'fresh fruits',\n",
       "  'fresh fruits',\n",
       "  'fresh fruits',\n",
       "  'fresh fruits',\n",
       "  'packaged vegetables fruits',\n",
       "  'fresh fruits',\n",
       "  'packaged vegetables fruits',\n",
       "  'fresh fruits',\n",
       "  'packaged vegetables fruits',\n",
       "  'fresh fruits',\n",
       "  'fresh fruits',\n",
       "  'fresh fruits',\n",
       "  'fresh fruits',\n",
       "  'fresh fruits',\n",
       "  'packaged vegetables fruits',\n",
       "  'fresh fruits',\n",
       "  'fresh fruits'],\n",
       " ['energy granola bars',\n",
       "  'energy granola bars',\n",
       "  'energy granola bars',\n",
       "  'energy granola bars',\n",
       "  'chips pretzels',\n",
       "  'energy granola bars',\n",
       "  'energy granola bars',\n",
       "  'energy granola bars',\n",
       "  'nuts seeds dried fruit',\n",
       "  'energy granola bars',\n",
       "  'energy granola bars',\n",
       "  'energy granola bars',\n",
       "  'energy granola bars',\n",
       "  'energy granola bars',\n",
       "  'chips pretzels',\n",
       "  'chips pretzels',\n",
       "  'chips pretzels'],\n",
       " ['diapers wipes', 'baby accessories'],\n",
       " ['juice nectars'],\n",
       " ['soy lactosefree', 'cream', 'packaged cheese'],\n",
       " ['spreads', 'spreads', 'baking ingredients'],\n",
       " ['cold flu allergy'],\n",
       " ['fresh vegetables',\n",
       "  'fresh vegetables',\n",
       "  'fresh vegetables',\n",
       "  'packaged vegetables fruits',\n",
       "  'fresh fruits'],\n",
       " ['crackers', 'chips pretzels', 'crackers', 'crackers'],\n",
       " ['breakfast bakery'],\n",
       " ['butter', 'milk'],\n",
       " ['lunch meat'],\n",
       " ['frozen produce', 'ice cream ice'],\n",
       " ['spreads'],\n",
       " ['packaged vegetables fruits', 'fresh fruits'],\n",
       " ['trail mix snack mix', 'crackers', 'crackers', 'chips pretzels'],\n",
       " ['bread'],\n",
       " ['soft drinks'],\n",
       " ['canned meat seafood'],\n",
       " ['instant foods'],\n",
       " ['frozen pizza'],\n",
       " ['fresh fruits'],\n",
       " ['cookies cakes'],\n",
       " ['bread'],\n",
       " ['refrigerated',\n",
       "  'refrigerated',\n",
       "  'refrigerated',\n",
       "  'soft drinks',\n",
       "  'refrigerated',\n",
       "  'refrigerated',\n",
       "  'soft drinks'],\n",
       " ['cereal', 'cereal', 'cereal'],\n",
       " ['canned jarred vegetables',\n",
       "  'canned jarred vegetables',\n",
       "  'canned jarred vegetables'],\n",
       " ['yogurt',\n",
       "  'soy lactosefree',\n",
       "  'yogurt',\n",
       "  'packaged cheese',\n",
       "  'soy lactosefree',\n",
       "  'yogurt',\n",
       "  'yogurt',\n",
       "  'yogurt',\n",
       "  'yogurt',\n",
       "  'yogurt',\n",
       "  'yogurt',\n",
       "  'soy lactosefree',\n",
       "  'packaged cheese'],\n",
       " ['lunch meat', 'lunch meat', 'lunch meat'],\n",
       " ['pasta sauce', 'dry pasta', 'dry pasta'],\n",
       " ['ice cream ice',\n",
       "  'frozen produce',\n",
       "  'frozen pizza',\n",
       "  'frozen breakfast',\n",
       "  'frozen breakfast',\n",
       "  'frozen breakfast',\n",
       "  'frozen pizza',\n",
       "  'ice cream ice',\n",
       "  'frozen breakfast',\n",
       "  'ice cream ice',\n",
       "  'ice cream ice',\n",
       "  'frozen pizza',\n",
       "  'ice cream ice',\n",
       "  'frozen breakfast',\n",
       "  'frozen produce',\n",
       "  'frozen breakfast'],\n",
       " ['hot dogs bacon sausage',\n",
       "  'hot dogs bacon sausage',\n",
       "  'meat counter',\n",
       "  'poultry counter',\n",
       "  'meat counter',\n",
       "  'meat counter',\n",
       "  'hot dogs bacon sausage'],\n",
       " ['baking supplies decor',\n",
       "  'spices seasonings',\n",
       "  'spices seasonings',\n",
       "  'spreads',\n",
       "  'spreads',\n",
       "  'spices seasonings',\n",
       "  'spreads',\n",
       "  'spreads'],\n",
       " ['fresh fruits',\n",
       "  'fresh vegetables',\n",
       "  'fresh fruits',\n",
       "  'fresh vegetables',\n",
       "  'fresh fruits',\n",
       "  'fresh vegetables',\n",
       "  'fresh vegetables',\n",
       "  'fresh vegetables',\n",
       "  'fresh fruits',\n",
       "  'fresh herbs'],\n",
       " ['candy chocolate',\n",
       "  'chips pretzels',\n",
       "  'chips pretzels',\n",
       "  'fruit vegetable snacks',\n",
       "  'crackers',\n",
       "  'cookies cakes',\n",
       "  'chips pretzels'],\n",
       " ['bread'],\n",
       " ['soup broth bouillon'],\n",
       " ['other creams cheeses'],\n",
       " ['bread'],\n",
       " ['water seltzer sparkling water',\n",
       "  'water seltzer sparkling water',\n",
       "  'water seltzer sparkling water',\n",
       "  'water seltzer sparkling water'],\n",
       " ['hot cereal pancake mixes'],\n",
       " ['canned meals beans',\n",
       "  'canned meals beans',\n",
       "  'canned jarred vegetables',\n",
       "  'canned meat seafood'],\n",
       " ['yogurt',\n",
       "  'yogurt',\n",
       "  'yogurt',\n",
       "  'soy lactosefree',\n",
       "  'yogurt',\n",
       "  'eggs',\n",
       "  'specialty cheeses',\n",
       "  'milk',\n",
       "  'packaged cheese',\n",
       "  'yogurt',\n",
       "  'yogurt',\n",
       "  'yogurt',\n",
       "  'yogurt',\n",
       "  'yogurt',\n",
       "  'soy lactosefree'],\n",
       " ['fresh dips tapenades', 'tofu meat alternatives'],\n",
       " ['grains rice dried goods'],\n",
       " ['frozen produce', 'frozen produce', 'ice cream ice', 'frozen produce'],\n",
       " ...]"
      ]
     },
     "execution_count": 134,
     "metadata": {},
     "output_type": "execute_result"
    }
   ],
   "source": [
    "transactions"
   ]
  },
  {
   "cell_type": "code",
   "execution_count": null,
   "metadata": {
    "id": "pkSkuYBGeh1B"
   },
   "outputs": [],
   "source": [
    "# head_cols = [{'Product': ' '.join(col)} for col in te.columns_[:20]]\n",
    "# df = pd.DataFrame(head_cols)\n",
    "# print(df)"
   ]
  },
  {
   "cell_type": "code",
   "execution_count": null,
   "metadata": {
    "id": "o6UaBRn2eh1B",
    "outputId": "db903d92-27c0-4c2c-96b8-86054d8ae357"
   },
   "outputs": [
    {
     "data": {
      "text/plain": [
       "array([[False, False, False, ..., False, False, False],\n",
       "       [False, False, False, ..., False, False, False],\n",
       "       [False, False, False, ..., False, False, False],\n",
       "       ...,\n",
       "       [False, False, False, ..., False, False, False],\n",
       "       [False, False, False, ..., False, False, False],\n",
       "       [False, False, False, ..., False, False, False]])"
      ]
     },
     "execution_count": 136,
     "metadata": {},
     "output_type": "execute_result"
    }
   ],
   "source": [
    "te_ary"
   ]
  },
  {
   "cell_type": "code",
   "execution_count": null,
   "metadata": {
    "id": "JcG9NtMBeh1B",
    "outputId": "9f838fcf-1d1e-449a-b75b-532775efca42"
   },
   "outputs": [
    {
     "data": {
      "text/html": [
       "<div>\n",
       "<style scoped>\n",
       "    .dataframe tbody tr th:only-of-type {\n",
       "        vertical-align: middle;\n",
       "    }\n",
       "\n",
       "    .dataframe tbody tr th {\n",
       "        vertical-align: top;\n",
       "    }\n",
       "\n",
       "    .dataframe thead th {\n",
       "        text-align: right;\n",
       "    }\n",
       "</style>\n",
       "<table border=\"1\" class=\"dataframe\">\n",
       "  <thead>\n",
       "    <tr style=\"text-align: right;\">\n",
       "      <th></th>\n",
       "      <th>air fresheners candles</th>\n",
       "      <th>asian foods</th>\n",
       "      <th>baby accessories</th>\n",
       "      <th>baby bath body care</th>\n",
       "      <th>baby food formula</th>\n",
       "      <th>bakery desserts</th>\n",
       "      <th>baking ingredients</th>\n",
       "      <th>baking supplies decor</th>\n",
       "      <th>beauty</th>\n",
       "      <th>beers coolers</th>\n",
       "      <th>...</th>\n",
       "      <th>spreads</th>\n",
       "      <th>tea</th>\n",
       "      <th>tofu meat alternatives</th>\n",
       "      <th>tortillas flat bread</th>\n",
       "      <th>trail mix snack mix</th>\n",
       "      <th>trash bags liners</th>\n",
       "      <th>vitamins supplements</th>\n",
       "      <th>water seltzer sparkling water</th>\n",
       "      <th>white wines</th>\n",
       "      <th>yogurt</th>\n",
       "    </tr>\n",
       "  </thead>\n",
       "  <tbody>\n",
       "    <tr>\n",
       "      <th>count</th>\n",
       "      <td>639006</td>\n",
       "      <td>639006</td>\n",
       "      <td>639006</td>\n",
       "      <td>639006</td>\n",
       "      <td>639006</td>\n",
       "      <td>639006</td>\n",
       "      <td>639006</td>\n",
       "      <td>639006</td>\n",
       "      <td>639006</td>\n",
       "      <td>639006</td>\n",
       "      <td>...</td>\n",
       "      <td>639006</td>\n",
       "      <td>639006</td>\n",
       "      <td>639006</td>\n",
       "      <td>639006</td>\n",
       "      <td>639006</td>\n",
       "      <td>639006</td>\n",
       "      <td>639006</td>\n",
       "      <td>639006</td>\n",
       "      <td>639006</td>\n",
       "      <td>639006</td>\n",
       "    </tr>\n",
       "    <tr>\n",
       "      <th>unique</th>\n",
       "      <td>2</td>\n",
       "      <td>2</td>\n",
       "      <td>2</td>\n",
       "      <td>2</td>\n",
       "      <td>2</td>\n",
       "      <td>2</td>\n",
       "      <td>2</td>\n",
       "      <td>2</td>\n",
       "      <td>2</td>\n",
       "      <td>2</td>\n",
       "      <td>...</td>\n",
       "      <td>2</td>\n",
       "      <td>2</td>\n",
       "      <td>2</td>\n",
       "      <td>2</td>\n",
       "      <td>2</td>\n",
       "      <td>2</td>\n",
       "      <td>2</td>\n",
       "      <td>2</td>\n",
       "      <td>2</td>\n",
       "      <td>2</td>\n",
       "    </tr>\n",
       "    <tr>\n",
       "      <th>top</th>\n",
       "      <td>False</td>\n",
       "      <td>False</td>\n",
       "      <td>False</td>\n",
       "      <td>False</td>\n",
       "      <td>False</td>\n",
       "      <td>False</td>\n",
       "      <td>False</td>\n",
       "      <td>False</td>\n",
       "      <td>False</td>\n",
       "      <td>False</td>\n",
       "      <td>...</td>\n",
       "      <td>False</td>\n",
       "      <td>False</td>\n",
       "      <td>False</td>\n",
       "      <td>False</td>\n",
       "      <td>False</td>\n",
       "      <td>False</td>\n",
       "      <td>False</td>\n",
       "      <td>False</td>\n",
       "      <td>False</td>\n",
       "      <td>False</td>\n",
       "    </tr>\n",
       "    <tr>\n",
       "      <th>freq</th>\n",
       "      <td>638062</td>\n",
       "      <td>631396</td>\n",
       "      <td>638572</td>\n",
       "      <td>638554</td>\n",
       "      <td>632592</td>\n",
       "      <td>637201</td>\n",
       "      <td>625861</td>\n",
       "      <td>637761</td>\n",
       "      <td>638660</td>\n",
       "      <td>637531</td>\n",
       "      <td>...</td>\n",
       "      <td>625783</td>\n",
       "      <td>629963</td>\n",
       "      <td>633844</td>\n",
       "      <td>629603</td>\n",
       "      <td>637236</td>\n",
       "      <td>637208</td>\n",
       "      <td>636663</td>\n",
       "      <td>612103</td>\n",
       "      <td>637855</td>\n",
       "      <td>603025</td>\n",
       "    </tr>\n",
       "  </tbody>\n",
       "</table>\n",
       "<p>4 rows × 134 columns</p>\n",
       "</div>"
      ],
      "text/plain": [
       "       air fresheners candles asian foods baby accessories  \\\n",
       "count                  639006      639006           639006   \n",
       "unique                      2           2                2   \n",
       "top                     False       False            False   \n",
       "freq                   638062      631396           638572   \n",
       "\n",
       "       baby bath body care baby food formula bakery desserts  \\\n",
       "count               639006            639006          639006   \n",
       "unique                   2                 2               2   \n",
       "top                  False             False           False   \n",
       "freq                638554            632592          637201   \n",
       "\n",
       "       baking ingredients baking supplies decor  beauty beers coolers  ...  \\\n",
       "count              639006                639006  639006        639006  ...   \n",
       "unique                  2                     2       2             2  ...   \n",
       "top                 False                 False   False         False  ...   \n",
       "freq               625861                637761  638660        637531  ...   \n",
       "\n",
       "       spreads     tea tofu meat alternatives tortillas flat bread  \\\n",
       "count   639006  639006                 639006               639006   \n",
       "unique       2       2                      2                    2   \n",
       "top      False   False                  False                False   \n",
       "freq    625783  629963                 633844               629603   \n",
       "\n",
       "       trail mix snack mix trash bags liners vitamins supplements  \\\n",
       "count               639006            639006               639006   \n",
       "unique                   2                 2                    2   \n",
       "top                  False             False                False   \n",
       "freq                637236            637208               636663   \n",
       "\n",
       "       water seltzer sparkling water white wines  yogurt  \n",
       "count                         639006      639006  639006  \n",
       "unique                             2           2       2  \n",
       "top                            False       False   False  \n",
       "freq                          612103      637855  603025  \n",
       "\n",
       "[4 rows x 134 columns]"
      ]
     },
     "execution_count": 137,
     "metadata": {},
     "output_type": "execute_result"
    }
   ],
   "source": [
    "transactions = pd.DataFrame(te_ary, columns=te.columns_)\n",
    "pt = transactions.describe()\n",
    "pt"
   ]
  },
  {
   "cell_type": "code",
   "execution_count": null,
   "metadata": {
    "id": "Leb6YrnQeh1C",
    "outputId": "d3f42975-69ed-4ac9-f9f0-d18d77a24dbd"
   },
   "outputs": [
    {
     "data": {
      "text/plain": [
       "array([[False, False, False, ..., False, False, False],\n",
       "       [False, False, False, ..., False, False, False],\n",
       "       [False, False, False, ..., False, False, False],\n",
       "       ...,\n",
       "       [False, False, False, ..., False, False, False],\n",
       "       [False, False, False, ..., False, False, False],\n",
       "       [False, False, False, ..., False, False, False]])"
      ]
     },
     "execution_count": 138,
     "metadata": {},
     "output_type": "execute_result"
    }
   ],
   "source": [
    "te_ary"
   ]
  },
  {
   "cell_type": "code",
   "execution_count": null,
   "metadata": {
    "id": "kY_Sc83Heh1C",
    "outputId": "8ef21f64-f71c-4e7d-cd63-45dfbecd8441"
   },
   "outputs": [
    {
     "data": {
      "text/plain": [
       "(4, 134)"
      ]
     },
     "execution_count": 139,
     "metadata": {},
     "output_type": "execute_result"
    }
   ],
   "source": [
    "pt.shape"
   ]
  },
  {
   "cell_type": "code",
   "execution_count": null,
   "metadata": {
    "id": "Kf1IqbrCeh1C",
    "outputId": "16e59b5b-8ece-4859-f82c-ec8a72e64247"
   },
   "outputs": [
    {
     "data": {
      "text/html": [
       "<div>\n",
       "<style scoped>\n",
       "    .dataframe tbody tr th:only-of-type {\n",
       "        vertical-align: middle;\n",
       "    }\n",
       "\n",
       "    .dataframe tbody tr th {\n",
       "        vertical-align: top;\n",
       "    }\n",
       "\n",
       "    .dataframe thead th {\n",
       "        text-align: right;\n",
       "    }\n",
       "</style>\n",
       "<table border=\"1\" class=\"dataframe\">\n",
       "  <thead>\n",
       "    <tr style=\"text-align: right;\">\n",
       "      <th></th>\n",
       "      <th>air fresheners candles</th>\n",
       "      <th>asian foods</th>\n",
       "      <th>baby accessories</th>\n",
       "      <th>baby bath body care</th>\n",
       "      <th>baby food formula</th>\n",
       "      <th>bakery desserts</th>\n",
       "      <th>baking ingredients</th>\n",
       "      <th>baking supplies decor</th>\n",
       "      <th>beauty</th>\n",
       "      <th>beers coolers</th>\n",
       "      <th>...</th>\n",
       "      <th>spreads</th>\n",
       "      <th>tea</th>\n",
       "      <th>tofu meat alternatives</th>\n",
       "      <th>tortillas flat bread</th>\n",
       "      <th>trail mix snack mix</th>\n",
       "      <th>trash bags liners</th>\n",
       "      <th>vitamins supplements</th>\n",
       "      <th>water seltzer sparkling water</th>\n",
       "      <th>white wines</th>\n",
       "      <th>yogurt</th>\n",
       "    </tr>\n",
       "  </thead>\n",
       "  <tbody>\n",
       "    <tr>\n",
       "      <th>0</th>\n",
       "      <td>False</td>\n",
       "      <td>False</td>\n",
       "      <td>False</td>\n",
       "      <td>False</td>\n",
       "      <td>False</td>\n",
       "      <td>False</td>\n",
       "      <td>False</td>\n",
       "      <td>False</td>\n",
       "      <td>False</td>\n",
       "      <td>False</td>\n",
       "      <td>...</td>\n",
       "      <td>False</td>\n",
       "      <td>False</td>\n",
       "      <td>False</td>\n",
       "      <td>False</td>\n",
       "      <td>False</td>\n",
       "      <td>False</td>\n",
       "      <td>False</td>\n",
       "      <td>False</td>\n",
       "      <td>False</td>\n",
       "      <td>False</td>\n",
       "    </tr>\n",
       "    <tr>\n",
       "      <th>1</th>\n",
       "      <td>False</td>\n",
       "      <td>False</td>\n",
       "      <td>False</td>\n",
       "      <td>False</td>\n",
       "      <td>False</td>\n",
       "      <td>False</td>\n",
       "      <td>False</td>\n",
       "      <td>False</td>\n",
       "      <td>False</td>\n",
       "      <td>False</td>\n",
       "      <td>...</td>\n",
       "      <td>False</td>\n",
       "      <td>False</td>\n",
       "      <td>False</td>\n",
       "      <td>False</td>\n",
       "      <td>False</td>\n",
       "      <td>False</td>\n",
       "      <td>False</td>\n",
       "      <td>False</td>\n",
       "      <td>False</td>\n",
       "      <td>False</td>\n",
       "    </tr>\n",
       "    <tr>\n",
       "      <th>2</th>\n",
       "      <td>False</td>\n",
       "      <td>False</td>\n",
       "      <td>False</td>\n",
       "      <td>False</td>\n",
       "      <td>False</td>\n",
       "      <td>False</td>\n",
       "      <td>False</td>\n",
       "      <td>False</td>\n",
       "      <td>False</td>\n",
       "      <td>False</td>\n",
       "      <td>...</td>\n",
       "      <td>False</td>\n",
       "      <td>False</td>\n",
       "      <td>False</td>\n",
       "      <td>False</td>\n",
       "      <td>False</td>\n",
       "      <td>False</td>\n",
       "      <td>False</td>\n",
       "      <td>False</td>\n",
       "      <td>False</td>\n",
       "      <td>False</td>\n",
       "    </tr>\n",
       "    <tr>\n",
       "      <th>3</th>\n",
       "      <td>False</td>\n",
       "      <td>False</td>\n",
       "      <td>False</td>\n",
       "      <td>False</td>\n",
       "      <td>False</td>\n",
       "      <td>False</td>\n",
       "      <td>False</td>\n",
       "      <td>False</td>\n",
       "      <td>False</td>\n",
       "      <td>False</td>\n",
       "      <td>...</td>\n",
       "      <td>False</td>\n",
       "      <td>False</td>\n",
       "      <td>False</td>\n",
       "      <td>False</td>\n",
       "      <td>False</td>\n",
       "      <td>False</td>\n",
       "      <td>False</td>\n",
       "      <td>False</td>\n",
       "      <td>False</td>\n",
       "      <td>False</td>\n",
       "    </tr>\n",
       "    <tr>\n",
       "      <th>4</th>\n",
       "      <td>False</td>\n",
       "      <td>False</td>\n",
       "      <td>False</td>\n",
       "      <td>False</td>\n",
       "      <td>False</td>\n",
       "      <td>False</td>\n",
       "      <td>False</td>\n",
       "      <td>False</td>\n",
       "      <td>False</td>\n",
       "      <td>False</td>\n",
       "      <td>...</td>\n",
       "      <td>False</td>\n",
       "      <td>False</td>\n",
       "      <td>False</td>\n",
       "      <td>False</td>\n",
       "      <td>False</td>\n",
       "      <td>False</td>\n",
       "      <td>False</td>\n",
       "      <td>True</td>\n",
       "      <td>False</td>\n",
       "      <td>False</td>\n",
       "    </tr>\n",
       "    <tr>\n",
       "      <th>...</th>\n",
       "      <td>...</td>\n",
       "      <td>...</td>\n",
       "      <td>...</td>\n",
       "      <td>...</td>\n",
       "      <td>...</td>\n",
       "      <td>...</td>\n",
       "      <td>...</td>\n",
       "      <td>...</td>\n",
       "      <td>...</td>\n",
       "      <td>...</td>\n",
       "      <td>...</td>\n",
       "      <td>...</td>\n",
       "      <td>...</td>\n",
       "      <td>...</td>\n",
       "      <td>...</td>\n",
       "      <td>...</td>\n",
       "      <td>...</td>\n",
       "      <td>...</td>\n",
       "      <td>...</td>\n",
       "      <td>...</td>\n",
       "      <td>...</td>\n",
       "    </tr>\n",
       "    <tr>\n",
       "      <th>639001</th>\n",
       "      <td>False</td>\n",
       "      <td>False</td>\n",
       "      <td>False</td>\n",
       "      <td>False</td>\n",
       "      <td>False</td>\n",
       "      <td>False</td>\n",
       "      <td>False</td>\n",
       "      <td>False</td>\n",
       "      <td>False</td>\n",
       "      <td>False</td>\n",
       "      <td>...</td>\n",
       "      <td>False</td>\n",
       "      <td>False</td>\n",
       "      <td>False</td>\n",
       "      <td>False</td>\n",
       "      <td>False</td>\n",
       "      <td>False</td>\n",
       "      <td>False</td>\n",
       "      <td>False</td>\n",
       "      <td>False</td>\n",
       "      <td>False</td>\n",
       "    </tr>\n",
       "    <tr>\n",
       "      <th>639002</th>\n",
       "      <td>False</td>\n",
       "      <td>False</td>\n",
       "      <td>False</td>\n",
       "      <td>False</td>\n",
       "      <td>False</td>\n",
       "      <td>False</td>\n",
       "      <td>False</td>\n",
       "      <td>False</td>\n",
       "      <td>False</td>\n",
       "      <td>False</td>\n",
       "      <td>...</td>\n",
       "      <td>False</td>\n",
       "      <td>False</td>\n",
       "      <td>False</td>\n",
       "      <td>False</td>\n",
       "      <td>False</td>\n",
       "      <td>True</td>\n",
       "      <td>False</td>\n",
       "      <td>False</td>\n",
       "      <td>False</td>\n",
       "      <td>False</td>\n",
       "    </tr>\n",
       "    <tr>\n",
       "      <th>639003</th>\n",
       "      <td>False</td>\n",
       "      <td>False</td>\n",
       "      <td>False</td>\n",
       "      <td>False</td>\n",
       "      <td>False</td>\n",
       "      <td>False</td>\n",
       "      <td>False</td>\n",
       "      <td>False</td>\n",
       "      <td>False</td>\n",
       "      <td>False</td>\n",
       "      <td>...</td>\n",
       "      <td>False</td>\n",
       "      <td>False</td>\n",
       "      <td>False</td>\n",
       "      <td>False</td>\n",
       "      <td>False</td>\n",
       "      <td>False</td>\n",
       "      <td>False</td>\n",
       "      <td>False</td>\n",
       "      <td>False</td>\n",
       "      <td>False</td>\n",
       "    </tr>\n",
       "    <tr>\n",
       "      <th>639004</th>\n",
       "      <td>False</td>\n",
       "      <td>False</td>\n",
       "      <td>False</td>\n",
       "      <td>False</td>\n",
       "      <td>False</td>\n",
       "      <td>False</td>\n",
       "      <td>False</td>\n",
       "      <td>False</td>\n",
       "      <td>False</td>\n",
       "      <td>False</td>\n",
       "      <td>...</td>\n",
       "      <td>False</td>\n",
       "      <td>False</td>\n",
       "      <td>False</td>\n",
       "      <td>False</td>\n",
       "      <td>False</td>\n",
       "      <td>False</td>\n",
       "      <td>False</td>\n",
       "      <td>False</td>\n",
       "      <td>False</td>\n",
       "      <td>False</td>\n",
       "    </tr>\n",
       "    <tr>\n",
       "      <th>639005</th>\n",
       "      <td>False</td>\n",
       "      <td>False</td>\n",
       "      <td>False</td>\n",
       "      <td>False</td>\n",
       "      <td>False</td>\n",
       "      <td>False</td>\n",
       "      <td>False</td>\n",
       "      <td>False</td>\n",
       "      <td>False</td>\n",
       "      <td>False</td>\n",
       "      <td>...</td>\n",
       "      <td>False</td>\n",
       "      <td>False</td>\n",
       "      <td>False</td>\n",
       "      <td>False</td>\n",
       "      <td>False</td>\n",
       "      <td>False</td>\n",
       "      <td>False</td>\n",
       "      <td>False</td>\n",
       "      <td>False</td>\n",
       "      <td>False</td>\n",
       "    </tr>\n",
       "  </tbody>\n",
       "</table>\n",
       "<p>639006 rows × 134 columns</p>\n",
       "</div>"
      ],
      "text/plain": [
       "        air fresheners candles  asian foods  baby accessories  \\\n",
       "0                        False        False             False   \n",
       "1                        False        False             False   \n",
       "2                        False        False             False   \n",
       "3                        False        False             False   \n",
       "4                        False        False             False   \n",
       "...                        ...          ...               ...   \n",
       "639001                   False        False             False   \n",
       "639002                   False        False             False   \n",
       "639003                   False        False             False   \n",
       "639004                   False        False             False   \n",
       "639005                   False        False             False   \n",
       "\n",
       "        baby bath body care  baby food formula  bakery desserts  \\\n",
       "0                     False              False            False   \n",
       "1                     False              False            False   \n",
       "2                     False              False            False   \n",
       "3                     False              False            False   \n",
       "4                     False              False            False   \n",
       "...                     ...                ...              ...   \n",
       "639001                False              False            False   \n",
       "639002                False              False            False   \n",
       "639003                False              False            False   \n",
       "639004                False              False            False   \n",
       "639005                False              False            False   \n",
       "\n",
       "        baking ingredients  baking supplies decor  beauty  beers coolers  ...  \\\n",
       "0                    False                  False   False          False  ...   \n",
       "1                    False                  False   False          False  ...   \n",
       "2                    False                  False   False          False  ...   \n",
       "3                    False                  False   False          False  ...   \n",
       "4                    False                  False   False          False  ...   \n",
       "...                    ...                    ...     ...            ...  ...   \n",
       "639001               False                  False   False          False  ...   \n",
       "639002               False                  False   False          False  ...   \n",
       "639003               False                  False   False          False  ...   \n",
       "639004               False                  False   False          False  ...   \n",
       "639005               False                  False   False          False  ...   \n",
       "\n",
       "        spreads    tea  tofu meat alternatives  tortillas flat bread  \\\n",
       "0         False  False                   False                 False   \n",
       "1         False  False                   False                 False   \n",
       "2         False  False                   False                 False   \n",
       "3         False  False                   False                 False   \n",
       "4         False  False                   False                 False   \n",
       "...         ...    ...                     ...                   ...   \n",
       "639001    False  False                   False                 False   \n",
       "639002    False  False                   False                 False   \n",
       "639003    False  False                   False                 False   \n",
       "639004    False  False                   False                 False   \n",
       "639005    False  False                   False                 False   \n",
       "\n",
       "        trail mix snack mix  trash bags liners  vitamins supplements  \\\n",
       "0                     False              False                 False   \n",
       "1                     False              False                 False   \n",
       "2                     False              False                 False   \n",
       "3                     False              False                 False   \n",
       "4                     False              False                 False   \n",
       "...                     ...                ...                   ...   \n",
       "639001                False              False                 False   \n",
       "639002                False               True                 False   \n",
       "639003                False              False                 False   \n",
       "639004                False              False                 False   \n",
       "639005                False              False                 False   \n",
       "\n",
       "        water seltzer sparkling water  white wines  yogurt  \n",
       "0                               False        False   False  \n",
       "1                               False        False   False  \n",
       "2                               False        False   False  \n",
       "3                               False        False   False  \n",
       "4                                True        False   False  \n",
       "...                               ...          ...     ...  \n",
       "639001                          False        False   False  \n",
       "639002                          False        False   False  \n",
       "639003                          False        False   False  \n",
       "639004                          False        False   False  \n",
       "639005                          False        False   False  \n",
       "\n",
       "[639006 rows x 134 columns]"
      ]
     },
     "execution_count": 140,
     "metadata": {},
     "output_type": "execute_result"
    }
   ],
   "source": [
    "f = pt.iloc[0] - pt.iloc[3]\n",
    "a = f.tolist()\n",
    "# print(a)\n",
    "b = list(f.index)\n",
    "# print(b)\n",
    "\n",
    "item = pd.DataFrame([[a[r], b[r]] for r in range(len(a))], columns=[\"Count\", \"Item\"])\n",
    "item = item.sort_values(by=\"Count\", ascending=False).head(50)\n",
    "transactions"
   ]
  },
  {
   "cell_type": "code",
   "execution_count": null,
   "metadata": {
    "id": "xDABHNEkeh1D",
    "outputId": "f8bbca37-73fe-45db-8c07-dff6eebfa3ab"
   },
   "outputs": [
    {
     "data": {
      "text/html": [
       "<div>\n",
       "<style scoped>\n",
       "    .dataframe tbody tr th:only-of-type {\n",
       "        vertical-align: middle;\n",
       "    }\n",
       "\n",
       "    .dataframe tbody tr th {\n",
       "        vertical-align: top;\n",
       "    }\n",
       "\n",
       "    .dataframe thead th {\n",
       "        text-align: right;\n",
       "    }\n",
       "</style>\n",
       "<table border=\"1\" class=\"dataframe\">\n",
       "  <thead>\n",
       "    <tr style=\"text-align: right;\">\n",
       "      <th></th>\n",
       "      <th>Count</th>\n",
       "      <th>Item</th>\n",
       "    </tr>\n",
       "  </thead>\n",
       "  <tbody>\n",
       "    <tr>\n",
       "      <th>50</th>\n",
       "      <td>66823</td>\n",
       "      <td>fresh fruits</td>\n",
       "    </tr>\n",
       "    <tr>\n",
       "      <th>53</th>\n",
       "      <td>56265</td>\n",
       "      <td>fresh vegetables</td>\n",
       "    </tr>\n",
       "    <tr>\n",
       "      <th>98</th>\n",
       "      <td>49230</td>\n",
       "      <td>packaged vegetables fruits</td>\n",
       "    </tr>\n",
       "    <tr>\n",
       "      <th>133</th>\n",
       "      <td>35981</td>\n",
       "      <td>yogurt</td>\n",
       "    </tr>\n",
       "    <tr>\n",
       "      <th>93</th>\n",
       "      <td>34049</td>\n",
       "      <td>packaged cheese</td>\n",
       "    </tr>\n",
       "    <tr>\n",
       "      <th>83</th>\n",
       "      <td>32024</td>\n",
       "      <td>milk</td>\n",
       "    </tr>\n",
       "    <tr>\n",
       "      <th>131</th>\n",
       "      <td>26903</td>\n",
       "      <td>water seltzer sparkling water</td>\n",
       "    </tr>\n",
       "    <tr>\n",
       "      <th>25</th>\n",
       "      <td>25682</td>\n",
       "      <td>chips pretzels</td>\n",
       "    </tr>\n",
       "    <tr>\n",
       "      <th>11</th>\n",
       "      <td>24363</td>\n",
       "      <td>bread</td>\n",
       "    </tr>\n",
       "    <tr>\n",
       "      <th>119</th>\n",
       "      <td>24001</td>\n",
       "      <td>soy lactosefree</td>\n",
       "    </tr>\n",
       "    <tr>\n",
       "      <th>41</th>\n",
       "      <td>20719</td>\n",
       "      <td>eggs</td>\n",
       "    </tr>\n",
       "    <tr>\n",
       "      <th>62</th>\n",
       "      <td>19507</td>\n",
       "      <td>frozen produce</td>\n",
       "    </tr>\n",
       "    <tr>\n",
       "      <th>110</th>\n",
       "      <td>19473</td>\n",
       "      <td>refrigerated</td>\n",
       "    </tr>\n",
       "    <tr>\n",
       "      <th>32</th>\n",
       "      <td>18203</td>\n",
       "      <td>crackers</td>\n",
       "    </tr>\n",
       "    <tr>\n",
       "      <th>71</th>\n",
       "      <td>17705</td>\n",
       "      <td>ice cream ice</td>\n",
       "    </tr>\n",
       "    <tr>\n",
       "      <th>80</th>\n",
       "      <td>16141</td>\n",
       "      <td>lunch meat</td>\n",
       "    </tr>\n",
       "    <tr>\n",
       "      <th>49</th>\n",
       "      <td>15573</td>\n",
       "      <td>fresh dips tapenades</td>\n",
       "    </tr>\n",
       "    <tr>\n",
       "      <th>51</th>\n",
       "      <td>14939</td>\n",
       "      <td>fresh herbs</td>\n",
       "    </tr>\n",
       "    <tr>\n",
       "      <th>24</th>\n",
       "      <td>14800</td>\n",
       "      <td>cereal</td>\n",
       "    </tr>\n",
       "    <tr>\n",
       "      <th>118</th>\n",
       "      <td>14270</td>\n",
       "      <td>soup broth bouillon</td>\n",
       "    </tr>\n",
       "    <tr>\n",
       "      <th>92</th>\n",
       "      <td>14144</td>\n",
       "      <td>other creams cheeses</td>\n",
       "    </tr>\n",
       "    <tr>\n",
       "      <th>75</th>\n",
       "      <td>14098</td>\n",
       "      <td>juice nectars</td>\n",
       "    </tr>\n",
       "    <tr>\n",
       "      <th>70</th>\n",
       "      <td>13693</td>\n",
       "      <td>hot dogs bacon sausage</td>\n",
       "    </tr>\n",
       "    <tr>\n",
       "      <th>33</th>\n",
       "      <td>13668</td>\n",
       "      <td>cream</td>\n",
       "    </tr>\n",
       "    <tr>\n",
       "      <th>117</th>\n",
       "      <td>13243</td>\n",
       "      <td>soft drinks</td>\n",
       "    </tr>\n",
       "    <tr>\n",
       "      <th>124</th>\n",
       "      <td>13223</td>\n",
       "      <td>spreads</td>\n",
       "    </tr>\n",
       "    <tr>\n",
       "      <th>6</th>\n",
       "      <td>13145</td>\n",
       "      <td>baking ingredients</td>\n",
       "    </tr>\n",
       "    <tr>\n",
       "      <th>42</th>\n",
       "      <td>13128</td>\n",
       "      <td>energy granola bars</td>\n",
       "    </tr>\n",
       "    <tr>\n",
       "      <th>88</th>\n",
       "      <td>13086</td>\n",
       "      <td>nuts seeds dried fruit</td>\n",
       "    </tr>\n",
       "    <tr>\n",
       "      <th>17</th>\n",
       "      <td>12665</td>\n",
       "      <td>butter</td>\n",
       "    </tr>\n",
       "    <tr>\n",
       "      <th>20</th>\n",
       "      <td>12311</td>\n",
       "      <td>canned jarred vegetables</td>\n",
       "    </tr>\n",
       "    <tr>\n",
       "      <th>89</th>\n",
       "      <td>11946</td>\n",
       "      <td>oils vinegars</td>\n",
       "    </tr>\n",
       "    <tr>\n",
       "      <th>40</th>\n",
       "      <td>11876</td>\n",
       "      <td>dry pasta</td>\n",
       "    </tr>\n",
       "    <tr>\n",
       "      <th>59</th>\n",
       "      <td>11761</td>\n",
       "      <td>frozen meals</td>\n",
       "    </tr>\n",
       "    <tr>\n",
       "      <th>21</th>\n",
       "      <td>11705</td>\n",
       "      <td>canned meals beans</td>\n",
       "    </tr>\n",
       "    <tr>\n",
       "      <th>100</th>\n",
       "      <td>10860</td>\n",
       "      <td>pasta sauce</td>\n",
       "    </tr>\n",
       "    <tr>\n",
       "      <th>18</th>\n",
       "      <td>10729</td>\n",
       "      <td>candy chocolate</td>\n",
       "    </tr>\n",
       "    <tr>\n",
       "      <th>30</th>\n",
       "      <td>10704</td>\n",
       "      <td>condiments</td>\n",
       "    </tr>\n",
       "    <tr>\n",
       "      <th>12</th>\n",
       "      <td>10670</td>\n",
       "      <td>breakfast bakery</td>\n",
       "    </tr>\n",
       "    <tr>\n",
       "      <th>99</th>\n",
       "      <td>10503</td>\n",
       "      <td>paper goods</td>\n",
       "    </tr>\n",
       "    <tr>\n",
       "      <th>31</th>\n",
       "      <td>9650</td>\n",
       "      <td>cookies cakes</td>\n",
       "    </tr>\n",
       "    <tr>\n",
       "      <th>56</th>\n",
       "      <td>9596</td>\n",
       "      <td>frozen breakfast</td>\n",
       "    </tr>\n",
       "    <tr>\n",
       "      <th>122</th>\n",
       "      <td>9573</td>\n",
       "      <td>spices seasonings</td>\n",
       "    </tr>\n",
       "    <tr>\n",
       "      <th>127</th>\n",
       "      <td>9403</td>\n",
       "      <td>tortillas flat bread</td>\n",
       "    </tr>\n",
       "    <tr>\n",
       "      <th>96</th>\n",
       "      <td>9270</td>\n",
       "      <td>packaged produce</td>\n",
       "    </tr>\n",
       "    <tr>\n",
       "      <th>125</th>\n",
       "      <td>9043</td>\n",
       "      <td>tea</td>\n",
       "    </tr>\n",
       "    <tr>\n",
       "      <th>74</th>\n",
       "      <td>8881</td>\n",
       "      <td>instant foods</td>\n",
       "    </tr>\n",
       "    <tr>\n",
       "      <th>28</th>\n",
       "      <td>8594</td>\n",
       "      <td>coffee</td>\n",
       "    </tr>\n",
       "    <tr>\n",
       "      <th>54</th>\n",
       "      <td>8591</td>\n",
       "      <td>frozen appetizers sides</td>\n",
       "    </tr>\n",
       "    <tr>\n",
       "      <th>69</th>\n",
       "      <td>7796</td>\n",
       "      <td>hot cereal pancake mixes</td>\n",
       "    </tr>\n",
       "  </tbody>\n",
       "</table>\n",
       "</div>"
      ],
      "text/plain": [
       "     Count                           Item\n",
       "50   66823                   fresh fruits\n",
       "53   56265               fresh vegetables\n",
       "98   49230     packaged vegetables fruits\n",
       "133  35981                         yogurt\n",
       "93   34049                packaged cheese\n",
       "83   32024                           milk\n",
       "131  26903  water seltzer sparkling water\n",
       "25   25682                 chips pretzels\n",
       "11   24363                          bread\n",
       "119  24001                soy lactosefree\n",
       "41   20719                           eggs\n",
       "62   19507                 frozen produce\n",
       "110  19473                   refrigerated\n",
       "32   18203                       crackers\n",
       "71   17705                  ice cream ice\n",
       "80   16141                     lunch meat\n",
       "49   15573           fresh dips tapenades\n",
       "51   14939                    fresh herbs\n",
       "24   14800                         cereal\n",
       "118  14270            soup broth bouillon\n",
       "92   14144           other creams cheeses\n",
       "75   14098                  juice nectars\n",
       "70   13693         hot dogs bacon sausage\n",
       "33   13668                          cream\n",
       "117  13243                    soft drinks\n",
       "124  13223                        spreads\n",
       "6    13145             baking ingredients\n",
       "42   13128            energy granola bars\n",
       "88   13086         nuts seeds dried fruit\n",
       "17   12665                         butter\n",
       "20   12311       canned jarred vegetables\n",
       "89   11946                  oils vinegars\n",
       "40   11876                      dry pasta\n",
       "59   11761                   frozen meals\n",
       "21   11705             canned meals beans\n",
       "100  10860                    pasta sauce\n",
       "18   10729                candy chocolate\n",
       "30   10704                     condiments\n",
       "12   10670               breakfast bakery\n",
       "99   10503                    paper goods\n",
       "31    9650                  cookies cakes\n",
       "56    9596               frozen breakfast\n",
       "122   9573              spices seasonings\n",
       "127   9403           tortillas flat bread\n",
       "96    9270               packaged produce\n",
       "125   9043                            tea\n",
       "74    8881                  instant foods\n",
       "28    8594                         coffee\n",
       "54    8591        frozen appetizers sides\n",
       "69    7796       hot cereal pancake mixes"
      ]
     },
     "execution_count": 141,
     "metadata": {},
     "output_type": "execute_result"
    }
   ],
   "source": [
    "item"
   ]
  },
  {
   "cell_type": "code",
   "execution_count": null,
   "metadata": {
    "id": "S-FH3JL0eh1D",
    "outputId": "f99504c8-e325-4dcf-8601-2dc82ca7dd35"
   },
   "outputs": [
    {
     "data": {
      "application/vnd.plotly.v1+json": {
       "config": {
        "plotlyServerURL": "https://plot.ly"
       },
       "data": [
        {
         "branchvalues": "total",
         "domain": {
          "x": [
           0,
           1
          ],
          "y": [
           0,
           1
          ]
         },
         "hovertemplate": "labels=%{label}<br>Count=%{value}<br>parent=%{parent}<br>id=%{id}<extra></extra>",
         "ids": [
          "baking ingredients",
          "bread",
          "breakfast bakery",
          "butter",
          "candy chocolate",
          "canned jarred vegetables",
          "canned meals beans",
          "cereal",
          "chips pretzels",
          "coffee",
          "condiments",
          "cookies cakes",
          "crackers",
          "cream",
          "dry pasta",
          "eggs",
          "energy granola bars",
          "fresh dips tapenades",
          "fresh fruits",
          "fresh herbs",
          "fresh vegetables",
          "frozen appetizers sides",
          "frozen breakfast",
          "frozen meals",
          "frozen produce",
          "hot cereal pancake mixes",
          "hot dogs bacon sausage",
          "ice cream ice",
          "instant foods",
          "juice nectars",
          "lunch meat",
          "milk",
          "nuts seeds dried fruit",
          "oils vinegars",
          "other creams cheeses",
          "packaged cheese",
          "packaged produce",
          "packaged vegetables fruits",
          "paper goods",
          "pasta sauce",
          "refrigerated",
          "soft drinks",
          "soup broth bouillon",
          "soy lactosefree",
          "spices seasonings",
          "spreads",
          "tea",
          "tortillas flat bread",
          "water seltzer sparkling water",
          "yogurt"
         ],
         "labels": [
          "baking ingredients",
          "bread",
          "breakfast bakery",
          "butter",
          "candy chocolate",
          "canned jarred vegetables",
          "canned meals beans",
          "cereal",
          "chips pretzels",
          "coffee",
          "condiments",
          "cookies cakes",
          "crackers",
          "cream",
          "dry pasta",
          "eggs",
          "energy granola bars",
          "fresh dips tapenades",
          "fresh fruits",
          "fresh herbs",
          "fresh vegetables",
          "frozen appetizers sides",
          "frozen breakfast",
          "frozen meals",
          "frozen produce",
          "hot cereal pancake mixes",
          "hot dogs bacon sausage",
          "ice cream ice",
          "instant foods",
          "juice nectars",
          "lunch meat",
          "milk",
          "nuts seeds dried fruit",
          "oils vinegars",
          "other creams cheeses",
          "packaged cheese",
          "packaged produce",
          "packaged vegetables fruits",
          "paper goods",
          "pasta sauce",
          "refrigerated",
          "soft drinks",
          "soup broth bouillon",
          "soy lactosefree",
          "spices seasonings",
          "spreads",
          "tea",
          "tortillas flat bread",
          "water seltzer sparkling water",
          "yogurt"
         ],
         "name": "",
         "parents": [
          "",
          "",
          "",
          "",
          "",
          "",
          "",
          "",
          "",
          "",
          "",
          "",
          "",
          "",
          "",
          "",
          "",
          "",
          "",
          "",
          "",
          "",
          "",
          "",
          "",
          "",
          "",
          "",
          "",
          "",
          "",
          "",
          "",
          "",
          "",
          "",
          "",
          "",
          "",
          "",
          "",
          "",
          "",
          "",
          "",
          "",
          "",
          "",
          "",
          ""
         ],
         "type": "treemap",
         "values": [
          13145,
          24363,
          10670,
          12665,
          10729,
          12311,
          11705,
          14800,
          25682,
          8594,
          10704,
          9650,
          18203,
          13668,
          11876,
          20719,
          13128,
          15573,
          66823,
          14939,
          56265,
          8591,
          9596,
          11761,
          19507,
          7796,
          13693,
          17705,
          8881,
          14098,
          16141,
          32024,
          13086,
          11946,
          14144,
          34049,
          9270,
          49230,
          10503,
          10860,
          19473,
          13243,
          14270,
          24001,
          9573,
          13223,
          9043,
          9403,
          26903,
          35981
         ]
        }
       ],
       "layout": {
        "legend": {
         "tracegroupgap": 0
        },
        "margin": {
         "t": 60
        },
        "template": {
         "data": {
          "bar": [
           {
            "error_x": {
             "color": "#2a3f5f"
            },
            "error_y": {
             "color": "#2a3f5f"
            },
            "marker": {
             "line": {
              "color": "#E5ECF6",
              "width": 0.5
             },
             "pattern": {
              "fillmode": "overlay",
              "size": 10,
              "solidity": 0.2
             }
            },
            "type": "bar"
           }
          ],
          "barpolar": [
           {
            "marker": {
             "line": {
              "color": "#E5ECF6",
              "width": 0.5
             },
             "pattern": {
              "fillmode": "overlay",
              "size": 10,
              "solidity": 0.2
             }
            },
            "type": "barpolar"
           }
          ],
          "carpet": [
           {
            "aaxis": {
             "endlinecolor": "#2a3f5f",
             "gridcolor": "white",
             "linecolor": "white",
             "minorgridcolor": "white",
             "startlinecolor": "#2a3f5f"
            },
            "baxis": {
             "endlinecolor": "#2a3f5f",
             "gridcolor": "white",
             "linecolor": "white",
             "minorgridcolor": "white",
             "startlinecolor": "#2a3f5f"
            },
            "type": "carpet"
           }
          ],
          "choropleth": [
           {
            "colorbar": {
             "outlinewidth": 0,
             "ticks": ""
            },
            "type": "choropleth"
           }
          ],
          "contour": [
           {
            "colorbar": {
             "outlinewidth": 0,
             "ticks": ""
            },
            "colorscale": [
             [
              0,
              "#0d0887"
             ],
             [
              0.1111111111111111,
              "#46039f"
             ],
             [
              0.2222222222222222,
              "#7201a8"
             ],
             [
              0.3333333333333333,
              "#9c179e"
             ],
             [
              0.4444444444444444,
              "#bd3786"
             ],
             [
              0.5555555555555556,
              "#d8576b"
             ],
             [
              0.6666666666666666,
              "#ed7953"
             ],
             [
              0.7777777777777778,
              "#fb9f3a"
             ],
             [
              0.8888888888888888,
              "#fdca26"
             ],
             [
              1,
              "#f0f921"
             ]
            ],
            "type": "contour"
           }
          ],
          "contourcarpet": [
           {
            "colorbar": {
             "outlinewidth": 0,
             "ticks": ""
            },
            "type": "contourcarpet"
           }
          ],
          "heatmap": [
           {
            "colorbar": {
             "outlinewidth": 0,
             "ticks": ""
            },
            "colorscale": [
             [
              0,
              "#0d0887"
             ],
             [
              0.1111111111111111,
              "#46039f"
             ],
             [
              0.2222222222222222,
              "#7201a8"
             ],
             [
              0.3333333333333333,
              "#9c179e"
             ],
             [
              0.4444444444444444,
              "#bd3786"
             ],
             [
              0.5555555555555556,
              "#d8576b"
             ],
             [
              0.6666666666666666,
              "#ed7953"
             ],
             [
              0.7777777777777778,
              "#fb9f3a"
             ],
             [
              0.8888888888888888,
              "#fdca26"
             ],
             [
              1,
              "#f0f921"
             ]
            ],
            "type": "heatmap"
           }
          ],
          "heatmapgl": [
           {
            "colorbar": {
             "outlinewidth": 0,
             "ticks": ""
            },
            "colorscale": [
             [
              0,
              "#0d0887"
             ],
             [
              0.1111111111111111,
              "#46039f"
             ],
             [
              0.2222222222222222,
              "#7201a8"
             ],
             [
              0.3333333333333333,
              "#9c179e"
             ],
             [
              0.4444444444444444,
              "#bd3786"
             ],
             [
              0.5555555555555556,
              "#d8576b"
             ],
             [
              0.6666666666666666,
              "#ed7953"
             ],
             [
              0.7777777777777778,
              "#fb9f3a"
             ],
             [
              0.8888888888888888,
              "#fdca26"
             ],
             [
              1,
              "#f0f921"
             ]
            ],
            "type": "heatmapgl"
           }
          ],
          "histogram": [
           {
            "marker": {
             "pattern": {
              "fillmode": "overlay",
              "size": 10,
              "solidity": 0.2
             }
            },
            "type": "histogram"
           }
          ],
          "histogram2d": [
           {
            "colorbar": {
             "outlinewidth": 0,
             "ticks": ""
            },
            "colorscale": [
             [
              0,
              "#0d0887"
             ],
             [
              0.1111111111111111,
              "#46039f"
             ],
             [
              0.2222222222222222,
              "#7201a8"
             ],
             [
              0.3333333333333333,
              "#9c179e"
             ],
             [
              0.4444444444444444,
              "#bd3786"
             ],
             [
              0.5555555555555556,
              "#d8576b"
             ],
             [
              0.6666666666666666,
              "#ed7953"
             ],
             [
              0.7777777777777778,
              "#fb9f3a"
             ],
             [
              0.8888888888888888,
              "#fdca26"
             ],
             [
              1,
              "#f0f921"
             ]
            ],
            "type": "histogram2d"
           }
          ],
          "histogram2dcontour": [
           {
            "colorbar": {
             "outlinewidth": 0,
             "ticks": ""
            },
            "colorscale": [
             [
              0,
              "#0d0887"
             ],
             [
              0.1111111111111111,
              "#46039f"
             ],
             [
              0.2222222222222222,
              "#7201a8"
             ],
             [
              0.3333333333333333,
              "#9c179e"
             ],
             [
              0.4444444444444444,
              "#bd3786"
             ],
             [
              0.5555555555555556,
              "#d8576b"
             ],
             [
              0.6666666666666666,
              "#ed7953"
             ],
             [
              0.7777777777777778,
              "#fb9f3a"
             ],
             [
              0.8888888888888888,
              "#fdca26"
             ],
             [
              1,
              "#f0f921"
             ]
            ],
            "type": "histogram2dcontour"
           }
          ],
          "mesh3d": [
           {
            "colorbar": {
             "outlinewidth": 0,
             "ticks": ""
            },
            "type": "mesh3d"
           }
          ],
          "parcoords": [
           {
            "line": {
             "colorbar": {
              "outlinewidth": 0,
              "ticks": ""
             }
            },
            "type": "parcoords"
           }
          ],
          "pie": [
           {
            "automargin": true,
            "type": "pie"
           }
          ],
          "scatter": [
           {
            "fillpattern": {
             "fillmode": "overlay",
             "size": 10,
             "solidity": 0.2
            },
            "type": "scatter"
           }
          ],
          "scatter3d": [
           {
            "line": {
             "colorbar": {
              "outlinewidth": 0,
              "ticks": ""
             }
            },
            "marker": {
             "colorbar": {
              "outlinewidth": 0,
              "ticks": ""
             }
            },
            "type": "scatter3d"
           }
          ],
          "scattercarpet": [
           {
            "marker": {
             "colorbar": {
              "outlinewidth": 0,
              "ticks": ""
             }
            },
            "type": "scattercarpet"
           }
          ],
          "scattergeo": [
           {
            "marker": {
             "colorbar": {
              "outlinewidth": 0,
              "ticks": ""
             }
            },
            "type": "scattergeo"
           }
          ],
          "scattergl": [
           {
            "marker": {
             "colorbar": {
              "outlinewidth": 0,
              "ticks": ""
             }
            },
            "type": "scattergl"
           }
          ],
          "scattermapbox": [
           {
            "marker": {
             "colorbar": {
              "outlinewidth": 0,
              "ticks": ""
             }
            },
            "type": "scattermapbox"
           }
          ],
          "scatterpolar": [
           {
            "marker": {
             "colorbar": {
              "outlinewidth": 0,
              "ticks": ""
             }
            },
            "type": "scatterpolar"
           }
          ],
          "scatterpolargl": [
           {
            "marker": {
             "colorbar": {
              "outlinewidth": 0,
              "ticks": ""
             }
            },
            "type": "scatterpolargl"
           }
          ],
          "scatterternary": [
           {
            "marker": {
             "colorbar": {
              "outlinewidth": 0,
              "ticks": ""
             }
            },
            "type": "scatterternary"
           }
          ],
          "surface": [
           {
            "colorbar": {
             "outlinewidth": 0,
             "ticks": ""
            },
            "colorscale": [
             [
              0,
              "#0d0887"
             ],
             [
              0.1111111111111111,
              "#46039f"
             ],
             [
              0.2222222222222222,
              "#7201a8"
             ],
             [
              0.3333333333333333,
              "#9c179e"
             ],
             [
              0.4444444444444444,
              "#bd3786"
             ],
             [
              0.5555555555555556,
              "#d8576b"
             ],
             [
              0.6666666666666666,
              "#ed7953"
             ],
             [
              0.7777777777777778,
              "#fb9f3a"
             ],
             [
              0.8888888888888888,
              "#fdca26"
             ],
             [
              1,
              "#f0f921"
             ]
            ],
            "type": "surface"
           }
          ],
          "table": [
           {
            "cells": {
             "fill": {
              "color": "#EBF0F8"
             },
             "line": {
              "color": "white"
             }
            },
            "header": {
             "fill": {
              "color": "#C8D4E3"
             },
             "line": {
              "color": "white"
             }
            },
            "type": "table"
           }
          ]
         },
         "layout": {
          "annotationdefaults": {
           "arrowcolor": "#2a3f5f",
           "arrowhead": 0,
           "arrowwidth": 1
          },
          "autotypenumbers": "strict",
          "coloraxis": {
           "colorbar": {
            "outlinewidth": 0,
            "ticks": ""
           }
          },
          "colorscale": {
           "diverging": [
            [
             0,
             "#8e0152"
            ],
            [
             0.1,
             "#c51b7d"
            ],
            [
             0.2,
             "#de77ae"
            ],
            [
             0.3,
             "#f1b6da"
            ],
            [
             0.4,
             "#fde0ef"
            ],
            [
             0.5,
             "#f7f7f7"
            ],
            [
             0.6,
             "#e6f5d0"
            ],
            [
             0.7,
             "#b8e186"
            ],
            [
             0.8,
             "#7fbc41"
            ],
            [
             0.9,
             "#4d9221"
            ],
            [
             1,
             "#276419"
            ]
           ],
           "sequential": [
            [
             0,
             "#0d0887"
            ],
            [
             0.1111111111111111,
             "#46039f"
            ],
            [
             0.2222222222222222,
             "#7201a8"
            ],
            [
             0.3333333333333333,
             "#9c179e"
            ],
            [
             0.4444444444444444,
             "#bd3786"
            ],
            [
             0.5555555555555556,
             "#d8576b"
            ],
            [
             0.6666666666666666,
             "#ed7953"
            ],
            [
             0.7777777777777778,
             "#fb9f3a"
            ],
            [
             0.8888888888888888,
             "#fdca26"
            ],
            [
             1,
             "#f0f921"
            ]
           ],
           "sequentialminus": [
            [
             0,
             "#0d0887"
            ],
            [
             0.1111111111111111,
             "#46039f"
            ],
            [
             0.2222222222222222,
             "#7201a8"
            ],
            [
             0.3333333333333333,
             "#9c179e"
            ],
            [
             0.4444444444444444,
             "#bd3786"
            ],
            [
             0.5555555555555556,
             "#d8576b"
            ],
            [
             0.6666666666666666,
             "#ed7953"
            ],
            [
             0.7777777777777778,
             "#fb9f3a"
            ],
            [
             0.8888888888888888,
             "#fdca26"
            ],
            [
             1,
             "#f0f921"
            ]
           ]
          },
          "colorway": [
           "#636efa",
           "#EF553B",
           "#00cc96",
           "#ab63fa",
           "#FFA15A",
           "#19d3f3",
           "#FF6692",
           "#B6E880",
           "#FF97FF",
           "#FECB52"
          ],
          "font": {
           "color": "#2a3f5f"
          },
          "geo": {
           "bgcolor": "white",
           "lakecolor": "white",
           "landcolor": "#E5ECF6",
           "showlakes": true,
           "showland": true,
           "subunitcolor": "white"
          },
          "hoverlabel": {
           "align": "left"
          },
          "hovermode": "closest",
          "mapbox": {
           "style": "light"
          },
          "paper_bgcolor": "white",
          "plot_bgcolor": "#E5ECF6",
          "polar": {
           "angularaxis": {
            "gridcolor": "white",
            "linecolor": "white",
            "ticks": ""
           },
           "bgcolor": "#E5ECF6",
           "radialaxis": {
            "gridcolor": "white",
            "linecolor": "white",
            "ticks": ""
           }
          },
          "scene": {
           "xaxis": {
            "backgroundcolor": "#E5ECF6",
            "gridcolor": "white",
            "gridwidth": 2,
            "linecolor": "white",
            "showbackground": true,
            "ticks": "",
            "zerolinecolor": "white"
           },
           "yaxis": {
            "backgroundcolor": "#E5ECF6",
            "gridcolor": "white",
            "gridwidth": 2,
            "linecolor": "white",
            "showbackground": true,
            "ticks": "",
            "zerolinecolor": "white"
           },
           "zaxis": {
            "backgroundcolor": "#E5ECF6",
            "gridcolor": "white",
            "gridwidth": 2,
            "linecolor": "white",
            "showbackground": true,
            "ticks": "",
            "zerolinecolor": "white"
           }
          },
          "shapedefaults": {
           "line": {
            "color": "#2a3f5f"
           }
          },
          "ternary": {
           "aaxis": {
            "gridcolor": "white",
            "linecolor": "white",
            "ticks": ""
           },
           "baxis": {
            "gridcolor": "white",
            "linecolor": "white",
            "ticks": ""
           },
           "bgcolor": "#E5ECF6",
           "caxis": {
            "gridcolor": "white",
            "linecolor": "white",
            "ticks": ""
           }
          },
          "title": {
           "x": 0.05
          },
          "xaxis": {
           "automargin": true,
           "gridcolor": "white",
           "linecolor": "white",
           "ticks": "",
           "title": {
            "standoff": 15
           },
           "zerolinecolor": "white",
           "zerolinewidth": 2
          },
          "yaxis": {
           "automargin": true,
           "gridcolor": "white",
           "linecolor": "white",
           "ticks": "",
           "title": {
            "standoff": 15
           },
           "zerolinecolor": "white",
           "zerolinewidth": 2
          }
         }
        },
        "title": {
         "font": {
          "size": 20
         },
         "text": "Visualizing Item Counts with a Treemap",
         "x": 0.5
        }
       }
      }
     },
     "metadata": {},
     "output_type": "display_data"
    }
   ],
   "source": [
    "fig = ex.treemap(item, path=[\"Item\"], values=\"Count\")\n",
    "fig.update_layout(\n",
    "    title=\"Visualizing Item Counts with a Treemap\", title_font_size=20, title_x=0.5\n",
    ")\n",
    "fig.show()"
   ]
  },
  {
   "cell_type": "code",
   "execution_count": null,
   "metadata": {
    "id": "8o6X39XXeh1E"
   },
   "outputs": [],
   "source": [
    "frequent_items = apriori(transactions, min_support=0.005, use_colnames=True, max_len=2)\n",
    "rules = association_rules(frequent_items, metric=\"lift\", min_threshold=1.5).iloc[:, 0:7]\n",
    "# rules"
   ]
  },
  {
   "cell_type": "code",
   "execution_count": null,
   "metadata": {
    "id": "zqBDfHv_eh1E",
    "outputId": "ce0de0db-b36c-469b-c2f6-e2d7406b47b0"
   },
   "outputs": [
    {
     "data": {
      "text/html": [
       "<div>\n",
       "<style scoped>\n",
       "    .dataframe tbody tr th:only-of-type {\n",
       "        vertical-align: middle;\n",
       "    }\n",
       "\n",
       "    .dataframe tbody tr th {\n",
       "        vertical-align: top;\n",
       "    }\n",
       "\n",
       "    .dataframe thead th {\n",
       "        text-align: right;\n",
       "    }\n",
       "</style>\n",
       "<table border=\"1\" class=\"dataframe\">\n",
       "  <thead>\n",
       "    <tr style=\"text-align: right;\">\n",
       "      <th></th>\n",
       "      <th>antecedents</th>\n",
       "      <th>consequents</th>\n",
       "      <th>antecedent support</th>\n",
       "      <th>consequent support</th>\n",
       "      <th>support</th>\n",
       "      <th>confidence</th>\n",
       "      <th>lift</th>\n",
       "    </tr>\n",
       "  </thead>\n",
       "  <tbody>\n",
       "    <tr>\n",
       "      <th>55</th>\n",
       "      <td>(pasta sauce)</td>\n",
       "      <td>(dry pasta)</td>\n",
       "      <td>0.016995</td>\n",
       "      <td>0.018585</td>\n",
       "      <td>0.006576</td>\n",
       "      <td>0.386924</td>\n",
       "      <td>20.819053</td>\n",
       "    </tr>\n",
       "    <tr>\n",
       "      <th>54</th>\n",
       "      <td>(dry pasta)</td>\n",
       "      <td>(pasta sauce)</td>\n",
       "      <td>0.018585</td>\n",
       "      <td>0.016995</td>\n",
       "      <td>0.006576</td>\n",
       "      <td>0.353823</td>\n",
       "      <td>20.819053</td>\n",
       "    </tr>\n",
       "    <tr>\n",
       "      <th>19</th>\n",
       "      <td>(canned jarred vegetables)</td>\n",
       "      <td>(canned meals beans)</td>\n",
       "      <td>0.019266</td>\n",
       "      <td>0.018318</td>\n",
       "      <td>0.006383</td>\n",
       "      <td>0.331330</td>\n",
       "      <td>18.088139</td>\n",
       "    </tr>\n",
       "    <tr>\n",
       "      <th>18</th>\n",
       "      <td>(canned meals beans)</td>\n",
       "      <td>(canned jarred vegetables)</td>\n",
       "      <td>0.018318</td>\n",
       "      <td>0.019266</td>\n",
       "      <td>0.006383</td>\n",
       "      <td>0.348484</td>\n",
       "      <td>18.088139</td>\n",
       "    </tr>\n",
       "    <tr>\n",
       "      <th>20</th>\n",
       "      <td>(soup broth bouillon)</td>\n",
       "      <td>(canned jarred vegetables)</td>\n",
       "      <td>0.022332</td>\n",
       "      <td>0.019266</td>\n",
       "      <td>0.006307</td>\n",
       "      <td>0.282411</td>\n",
       "      <td>14.658606</td>\n",
       "    </tr>\n",
       "    <tr>\n",
       "      <th>21</th>\n",
       "      <td>(canned jarred vegetables)</td>\n",
       "      <td>(soup broth bouillon)</td>\n",
       "      <td>0.019266</td>\n",
       "      <td>0.022332</td>\n",
       "      <td>0.006307</td>\n",
       "      <td>0.327350</td>\n",
       "      <td>14.658606</td>\n",
       "    </tr>\n",
       "    <tr>\n",
       "      <th>23</th>\n",
       "      <td>(soup broth bouillon)</td>\n",
       "      <td>(canned meals beans)</td>\n",
       "      <td>0.022332</td>\n",
       "      <td>0.018318</td>\n",
       "      <td>0.005715</td>\n",
       "      <td>0.255922</td>\n",
       "      <td>13.971412</td>\n",
       "    </tr>\n",
       "    <tr>\n",
       "      <th>22</th>\n",
       "      <td>(canned meals beans)</td>\n",
       "      <td>(soup broth bouillon)</td>\n",
       "      <td>0.018318</td>\n",
       "      <td>0.022332</td>\n",
       "      <td>0.005715</td>\n",
       "      <td>0.312003</td>\n",
       "      <td>13.971412</td>\n",
       "    </tr>\n",
       "    <tr>\n",
       "      <th>36</th>\n",
       "      <td>(crackers)</td>\n",
       "      <td>(cookies cakes)</td>\n",
       "      <td>0.028486</td>\n",
       "      <td>0.015102</td>\n",
       "      <td>0.005315</td>\n",
       "      <td>0.186563</td>\n",
       "      <td>12.353850</td>\n",
       "    </tr>\n",
       "    <tr>\n",
       "      <th>37</th>\n",
       "      <td>(cookies cakes)</td>\n",
       "      <td>(crackers)</td>\n",
       "      <td>0.015102</td>\n",
       "      <td>0.028486</td>\n",
       "      <td>0.005315</td>\n",
       "      <td>0.351917</td>\n",
       "      <td>12.353850</td>\n",
       "    </tr>\n",
       "    <tr>\n",
       "      <th>9</th>\n",
       "      <td>(butter)</td>\n",
       "      <td>(other creams cheeses)</td>\n",
       "      <td>0.019820</td>\n",
       "      <td>0.022134</td>\n",
       "      <td>0.005341</td>\n",
       "      <td>0.269483</td>\n",
       "      <td>12.174855</td>\n",
       "    </tr>\n",
       "    <tr>\n",
       "      <th>8</th>\n",
       "      <td>(other creams cheeses)</td>\n",
       "      <td>(butter)</td>\n",
       "      <td>0.022134</td>\n",
       "      <td>0.019820</td>\n",
       "      <td>0.005341</td>\n",
       "      <td>0.241304</td>\n",
       "      <td>12.174855</td>\n",
       "    </tr>\n",
       "    <tr>\n",
       "      <th>30</th>\n",
       "      <td>(fruit vegetable snacks)</td>\n",
       "      <td>(chips pretzels)</td>\n",
       "      <td>0.011688</td>\n",
       "      <td>0.040191</td>\n",
       "      <td>0.005509</td>\n",
       "      <td>0.471281</td>\n",
       "      <td>11.726173</td>\n",
       "    </tr>\n",
       "    <tr>\n",
       "      <th>31</th>\n",
       "      <td>(chips pretzels)</td>\n",
       "      <td>(fruit vegetable snacks)</td>\n",
       "      <td>0.040191</td>\n",
       "      <td>0.011688</td>\n",
       "      <td>0.005509</td>\n",
       "      <td>0.137061</td>\n",
       "      <td>11.726173</td>\n",
       "    </tr>\n",
       "    <tr>\n",
       "      <th>35</th>\n",
       "      <td>(chips pretzels)</td>\n",
       "      <td>(popcorn jerky)</td>\n",
       "      <td>0.040191</td>\n",
       "      <td>0.011868</td>\n",
       "      <td>0.005538</td>\n",
       "      <td>0.137801</td>\n",
       "      <td>11.610698</td>\n",
       "    </tr>\n",
       "    <tr>\n",
       "      <th>34</th>\n",
       "      <td>(popcorn jerky)</td>\n",
       "      <td>(chips pretzels)</td>\n",
       "      <td>0.011868</td>\n",
       "      <td>0.040191</td>\n",
       "      <td>0.005538</td>\n",
       "      <td>0.466640</td>\n",
       "      <td>11.610698</td>\n",
       "    </tr>\n",
       "    <tr>\n",
       "      <th>24</th>\n",
       "      <td>(chips pretzels)</td>\n",
       "      <td>(cookies cakes)</td>\n",
       "      <td>0.040191</td>\n",
       "      <td>0.015102</td>\n",
       "      <td>0.006992</td>\n",
       "      <td>0.173974</td>\n",
       "      <td>11.520251</td>\n",
       "    </tr>\n",
       "    <tr>\n",
       "      <th>25</th>\n",
       "      <td>(cookies cakes)</td>\n",
       "      <td>(chips pretzels)</td>\n",
       "      <td>0.015102</td>\n",
       "      <td>0.040191</td>\n",
       "      <td>0.006992</td>\n",
       "      <td>0.463005</td>\n",
       "      <td>11.520251</td>\n",
       "    </tr>\n",
       "    <tr>\n",
       "      <th>38</th>\n",
       "      <td>(crackers)</td>\n",
       "      <td>(energy granola bars)</td>\n",
       "      <td>0.028486</td>\n",
       "      <td>0.020544</td>\n",
       "      <td>0.006532</td>\n",
       "      <td>0.229303</td>\n",
       "      <td>11.161327</td>\n",
       "    </tr>\n",
       "    <tr>\n",
       "      <th>39</th>\n",
       "      <td>(energy granola bars)</td>\n",
       "      <td>(crackers)</td>\n",
       "      <td>0.020544</td>\n",
       "      <td>0.028486</td>\n",
       "      <td>0.006532</td>\n",
       "      <td>0.317946</td>\n",
       "      <td>11.161327</td>\n",
       "    </tr>\n",
       "    <tr>\n",
       "      <th>91</th>\n",
       "      <td>(juice nectars)</td>\n",
       "      <td>(refrigerated)</td>\n",
       "      <td>0.022062</td>\n",
       "      <td>0.030474</td>\n",
       "      <td>0.007415</td>\n",
       "      <td>0.336076</td>\n",
       "      <td>11.028327</td>\n",
       "    </tr>\n",
       "    <tr>\n",
       "      <th>90</th>\n",
       "      <td>(refrigerated)</td>\n",
       "      <td>(juice nectars)</td>\n",
       "      <td>0.030474</td>\n",
       "      <td>0.022062</td>\n",
       "      <td>0.007415</td>\n",
       "      <td>0.243311</td>\n",
       "      <td>11.028327</td>\n",
       "    </tr>\n",
       "    <tr>\n",
       "      <th>3</th>\n",
       "      <td>(tortillas flat bread)</td>\n",
       "      <td>(bread)</td>\n",
       "      <td>0.014715</td>\n",
       "      <td>0.038126</td>\n",
       "      <td>0.006152</td>\n",
       "      <td>0.418058</td>\n",
       "      <td>10.965054</td>\n",
       "    </tr>\n",
       "    <tr>\n",
       "      <th>2</th>\n",
       "      <td>(bread)</td>\n",
       "      <td>(tortillas flat bread)</td>\n",
       "      <td>0.038126</td>\n",
       "      <td>0.014715</td>\n",
       "      <td>0.006152</td>\n",
       "      <td>0.161351</td>\n",
       "      <td>10.965054</td>\n",
       "    </tr>\n",
       "    <tr>\n",
       "      <th>47</th>\n",
       "      <td>(cream)</td>\n",
       "      <td>(other creams cheeses)</td>\n",
       "      <td>0.021389</td>\n",
       "      <td>0.022134</td>\n",
       "      <td>0.005086</td>\n",
       "      <td>0.237782</td>\n",
       "      <td>10.742641</td>\n",
       "    </tr>\n",
       "    <tr>\n",
       "      <th>46</th>\n",
       "      <td>(other creams cheeses)</td>\n",
       "      <td>(cream)</td>\n",
       "      <td>0.022134</td>\n",
       "      <td>0.021389</td>\n",
       "      <td>0.005086</td>\n",
       "      <td>0.229779</td>\n",
       "      <td>10.742641</td>\n",
       "    </tr>\n",
       "    <tr>\n",
       "      <th>0</th>\n",
       "      <td>(breakfast bakery)</td>\n",
       "      <td>(bread)</td>\n",
       "      <td>0.016698</td>\n",
       "      <td>0.038126</td>\n",
       "      <td>0.006795</td>\n",
       "      <td>0.406935</td>\n",
       "      <td>10.673321</td>\n",
       "    </tr>\n",
       "    <tr>\n",
       "      <th>1</th>\n",
       "      <td>(bread)</td>\n",
       "      <td>(breakfast bakery)</td>\n",
       "      <td>0.038126</td>\n",
       "      <td>0.016698</td>\n",
       "      <td>0.006795</td>\n",
       "      <td>0.178221</td>\n",
       "      <td>10.673321</td>\n",
       "    </tr>\n",
       "    <tr>\n",
       "      <th>102</th>\n",
       "      <td>(other creams cheeses)</td>\n",
       "      <td>(packaged cheese)</td>\n",
       "      <td>0.022134</td>\n",
       "      <td>0.053284</td>\n",
       "      <td>0.012577</td>\n",
       "      <td>0.568227</td>\n",
       "      <td>10.664053</td>\n",
       "    </tr>\n",
       "    <tr>\n",
       "      <th>103</th>\n",
       "      <td>(packaged cheese)</td>\n",
       "      <td>(other creams cheeses)</td>\n",
       "      <td>0.053284</td>\n",
       "      <td>0.022134</td>\n",
       "      <td>0.012577</td>\n",
       "      <td>0.236042</td>\n",
       "      <td>10.664053</td>\n",
       "    </tr>\n",
       "    <tr>\n",
       "      <th>26</th>\n",
       "      <td>(crackers)</td>\n",
       "      <td>(chips pretzels)</td>\n",
       "      <td>0.028486</td>\n",
       "      <td>0.040191</td>\n",
       "      <td>0.012105</td>\n",
       "      <td>0.424930</td>\n",
       "      <td>10.572883</td>\n",
       "    </tr>\n",
       "    <tr>\n",
       "      <th>27</th>\n",
       "      <td>(chips pretzels)</td>\n",
       "      <td>(crackers)</td>\n",
       "      <td>0.040191</td>\n",
       "      <td>0.028486</td>\n",
       "      <td>0.012105</td>\n",
       "      <td>0.301184</td>\n",
       "      <td>10.572883</td>\n",
       "    </tr>\n",
       "    <tr>\n",
       "      <th>5</th>\n",
       "      <td>(butter)</td>\n",
       "      <td>(eggs)</td>\n",
       "      <td>0.019820</td>\n",
       "      <td>0.032424</td>\n",
       "      <td>0.006754</td>\n",
       "      <td>0.340782</td>\n",
       "      <td>10.510234</td>\n",
       "    </tr>\n",
       "    <tr>\n",
       "      <th>4</th>\n",
       "      <td>(eggs)</td>\n",
       "      <td>(butter)</td>\n",
       "      <td>0.032424</td>\n",
       "      <td>0.019820</td>\n",
       "      <td>0.006754</td>\n",
       "      <td>0.208311</td>\n",
       "      <td>10.510234</td>\n",
       "    </tr>\n",
       "    <tr>\n",
       "      <th>28</th>\n",
       "      <td>(chips pretzels)</td>\n",
       "      <td>(energy granola bars)</td>\n",
       "      <td>0.040191</td>\n",
       "      <td>0.020544</td>\n",
       "      <td>0.008598</td>\n",
       "      <td>0.213924</td>\n",
       "      <td>10.412768</td>\n",
       "    </tr>\n",
       "    <tr>\n",
       "      <th>29</th>\n",
       "      <td>(energy granola bars)</td>\n",
       "      <td>(chips pretzels)</td>\n",
       "      <td>0.020544</td>\n",
       "      <td>0.040191</td>\n",
       "      <td>0.008598</td>\n",
       "      <td>0.418495</td>\n",
       "      <td>10.412768</td>\n",
       "    </tr>\n",
       "    <tr>\n",
       "      <th>77</th>\n",
       "      <td>(fresh vegetables)</td>\n",
       "      <td>(fresh herbs)</td>\n",
       "      <td>0.088051</td>\n",
       "      <td>0.023378</td>\n",
       "      <td>0.021394</td>\n",
       "      <td>0.242975</td>\n",
       "      <td>10.393106</td>\n",
       "    </tr>\n",
       "    <tr>\n",
       "      <th>76</th>\n",
       "      <td>(fresh herbs)</td>\n",
       "      <td>(fresh vegetables)</td>\n",
       "      <td>0.023378</td>\n",
       "      <td>0.088051</td>\n",
       "      <td>0.021394</td>\n",
       "      <td>0.915121</td>\n",
       "      <td>10.393106</td>\n",
       "    </tr>\n",
       "    <tr>\n",
       "      <th>16</th>\n",
       "      <td>(candy chocolate)</td>\n",
       "      <td>(chips pretzels)</td>\n",
       "      <td>0.016790</td>\n",
       "      <td>0.040191</td>\n",
       "      <td>0.006978</td>\n",
       "      <td>0.415603</td>\n",
       "      <td>10.340804</td>\n",
       "    </tr>\n",
       "    <tr>\n",
       "      <th>17</th>\n",
       "      <td>(chips pretzels)</td>\n",
       "      <td>(candy chocolate)</td>\n",
       "      <td>0.040191</td>\n",
       "      <td>0.016790</td>\n",
       "      <td>0.006978</td>\n",
       "      <td>0.173624</td>\n",
       "      <td>10.340804</td>\n",
       "    </tr>\n",
       "    <tr>\n",
       "      <th>87</th>\n",
       "      <td>(ice cream ice)</td>\n",
       "      <td>(frozen meals)</td>\n",
       "      <td>0.027707</td>\n",
       "      <td>0.018405</td>\n",
       "      <td>0.005246</td>\n",
       "      <td>0.189325</td>\n",
       "      <td>10.286527</td>\n",
       "    </tr>\n",
       "    <tr>\n",
       "      <th>86</th>\n",
       "      <td>(frozen meals)</td>\n",
       "      <td>(ice cream ice)</td>\n",
       "      <td>0.018405</td>\n",
       "      <td>0.027707</td>\n",
       "      <td>0.005246</td>\n",
       "      <td>0.285010</td>\n",
       "      <td>10.286527</td>\n",
       "    </tr>\n",
       "    <tr>\n",
       "      <th>41</th>\n",
       "      <td>(crackers)</td>\n",
       "      <td>(nuts seeds dried fruit)</td>\n",
       "      <td>0.028486</td>\n",
       "      <td>0.020479</td>\n",
       "      <td>0.005875</td>\n",
       "      <td>0.206230</td>\n",
       "      <td>10.070460</td>\n",
       "    </tr>\n",
       "    <tr>\n",
       "      <th>40</th>\n",
       "      <td>(nuts seeds dried fruit)</td>\n",
       "      <td>(crackers)</td>\n",
       "      <td>0.020479</td>\n",
       "      <td>0.028486</td>\n",
       "      <td>0.005875</td>\n",
       "      <td>0.286871</td>\n",
       "      <td>10.070460</td>\n",
       "    </tr>\n",
       "    <tr>\n",
       "      <th>66</th>\n",
       "      <td>(lunch meat)</td>\n",
       "      <td>(fresh dips tapenades)</td>\n",
       "      <td>0.025260</td>\n",
       "      <td>0.024371</td>\n",
       "      <td>0.006122</td>\n",
       "      <td>0.242364</td>\n",
       "      <td>9.944915</td>\n",
       "    </tr>\n",
       "    <tr>\n",
       "      <th>67</th>\n",
       "      <td>(fresh dips tapenades)</td>\n",
       "      <td>(lunch meat)</td>\n",
       "      <td>0.024371</td>\n",
       "      <td>0.025260</td>\n",
       "      <td>0.006122</td>\n",
       "      <td>0.251204</td>\n",
       "      <td>9.944915</td>\n",
       "    </tr>\n",
       "    <tr>\n",
       "      <th>10</th>\n",
       "      <td>(butter)</td>\n",
       "      <td>(packaged cheese)</td>\n",
       "      <td>0.019820</td>\n",
       "      <td>0.053284</td>\n",
       "      <td>0.010424</td>\n",
       "      <td>0.525938</td>\n",
       "      <td>9.870401</td>\n",
       "    </tr>\n",
       "    <tr>\n",
       "      <th>11</th>\n",
       "      <td>(packaged cheese)</td>\n",
       "      <td>(butter)</td>\n",
       "      <td>0.053284</td>\n",
       "      <td>0.019820</td>\n",
       "      <td>0.010424</td>\n",
       "      <td>0.195630</td>\n",
       "      <td>9.870401</td>\n",
       "    </tr>\n",
       "    <tr>\n",
       "      <th>6</th>\n",
       "      <td>(milk)</td>\n",
       "      <td>(butter)</td>\n",
       "      <td>0.050115</td>\n",
       "      <td>0.019820</td>\n",
       "      <td>0.009717</td>\n",
       "      <td>0.193886</td>\n",
       "      <td>9.782409</td>\n",
       "    </tr>\n",
       "    <tr>\n",
       "      <th>7</th>\n",
       "      <td>(butter)</td>\n",
       "      <td>(milk)</td>\n",
       "      <td>0.019820</td>\n",
       "      <td>0.050115</td>\n",
       "      <td>0.009717</td>\n",
       "      <td>0.490249</td>\n",
       "      <td>9.782409</td>\n",
       "    </tr>\n",
       "  </tbody>\n",
       "</table>\n",
       "</div>"
      ],
      "text/plain": [
       "                    antecedents                 consequents  \\\n",
       "55                (pasta sauce)                 (dry pasta)   \n",
       "54                  (dry pasta)               (pasta sauce)   \n",
       "19   (canned jarred vegetables)        (canned meals beans)   \n",
       "18         (canned meals beans)  (canned jarred vegetables)   \n",
       "20        (soup broth bouillon)  (canned jarred vegetables)   \n",
       "21   (canned jarred vegetables)       (soup broth bouillon)   \n",
       "23        (soup broth bouillon)        (canned meals beans)   \n",
       "22         (canned meals beans)       (soup broth bouillon)   \n",
       "36                   (crackers)             (cookies cakes)   \n",
       "37              (cookies cakes)                  (crackers)   \n",
       "9                      (butter)      (other creams cheeses)   \n",
       "8        (other creams cheeses)                    (butter)   \n",
       "30     (fruit vegetable snacks)            (chips pretzels)   \n",
       "31             (chips pretzels)    (fruit vegetable snacks)   \n",
       "35             (chips pretzels)             (popcorn jerky)   \n",
       "34              (popcorn jerky)            (chips pretzels)   \n",
       "24             (chips pretzels)             (cookies cakes)   \n",
       "25              (cookies cakes)            (chips pretzels)   \n",
       "38                   (crackers)       (energy granola bars)   \n",
       "39        (energy granola bars)                  (crackers)   \n",
       "91              (juice nectars)              (refrigerated)   \n",
       "90               (refrigerated)             (juice nectars)   \n",
       "3        (tortillas flat bread)                     (bread)   \n",
       "2                       (bread)      (tortillas flat bread)   \n",
       "47                      (cream)      (other creams cheeses)   \n",
       "46       (other creams cheeses)                     (cream)   \n",
       "0            (breakfast bakery)                     (bread)   \n",
       "1                       (bread)          (breakfast bakery)   \n",
       "102      (other creams cheeses)           (packaged cheese)   \n",
       "103           (packaged cheese)      (other creams cheeses)   \n",
       "26                   (crackers)            (chips pretzels)   \n",
       "27             (chips pretzels)                  (crackers)   \n",
       "5                      (butter)                      (eggs)   \n",
       "4                        (eggs)                    (butter)   \n",
       "28             (chips pretzels)       (energy granola bars)   \n",
       "29        (energy granola bars)            (chips pretzels)   \n",
       "77           (fresh vegetables)               (fresh herbs)   \n",
       "76                (fresh herbs)          (fresh vegetables)   \n",
       "16            (candy chocolate)            (chips pretzels)   \n",
       "17             (chips pretzels)           (candy chocolate)   \n",
       "87              (ice cream ice)              (frozen meals)   \n",
       "86               (frozen meals)             (ice cream ice)   \n",
       "41                   (crackers)    (nuts seeds dried fruit)   \n",
       "40     (nuts seeds dried fruit)                  (crackers)   \n",
       "66                 (lunch meat)      (fresh dips tapenades)   \n",
       "67       (fresh dips tapenades)                (lunch meat)   \n",
       "10                     (butter)           (packaged cheese)   \n",
       "11            (packaged cheese)                    (butter)   \n",
       "6                        (milk)                    (butter)   \n",
       "7                      (butter)                      (milk)   \n",
       "\n",
       "     antecedent support  consequent support   support  confidence       lift  \n",
       "55             0.016995            0.018585  0.006576    0.386924  20.819053  \n",
       "54             0.018585            0.016995  0.006576    0.353823  20.819053  \n",
       "19             0.019266            0.018318  0.006383    0.331330  18.088139  \n",
       "18             0.018318            0.019266  0.006383    0.348484  18.088139  \n",
       "20             0.022332            0.019266  0.006307    0.282411  14.658606  \n",
       "21             0.019266            0.022332  0.006307    0.327350  14.658606  \n",
       "23             0.022332            0.018318  0.005715    0.255922  13.971412  \n",
       "22             0.018318            0.022332  0.005715    0.312003  13.971412  \n",
       "36             0.028486            0.015102  0.005315    0.186563  12.353850  \n",
       "37             0.015102            0.028486  0.005315    0.351917  12.353850  \n",
       "9              0.019820            0.022134  0.005341    0.269483  12.174855  \n",
       "8              0.022134            0.019820  0.005341    0.241304  12.174855  \n",
       "30             0.011688            0.040191  0.005509    0.471281  11.726173  \n",
       "31             0.040191            0.011688  0.005509    0.137061  11.726173  \n",
       "35             0.040191            0.011868  0.005538    0.137801  11.610698  \n",
       "34             0.011868            0.040191  0.005538    0.466640  11.610698  \n",
       "24             0.040191            0.015102  0.006992    0.173974  11.520251  \n",
       "25             0.015102            0.040191  0.006992    0.463005  11.520251  \n",
       "38             0.028486            0.020544  0.006532    0.229303  11.161327  \n",
       "39             0.020544            0.028486  0.006532    0.317946  11.161327  \n",
       "91             0.022062            0.030474  0.007415    0.336076  11.028327  \n",
       "90             0.030474            0.022062  0.007415    0.243311  11.028327  \n",
       "3              0.014715            0.038126  0.006152    0.418058  10.965054  \n",
       "2              0.038126            0.014715  0.006152    0.161351  10.965054  \n",
       "47             0.021389            0.022134  0.005086    0.237782  10.742641  \n",
       "46             0.022134            0.021389  0.005086    0.229779  10.742641  \n",
       "0              0.016698            0.038126  0.006795    0.406935  10.673321  \n",
       "1              0.038126            0.016698  0.006795    0.178221  10.673321  \n",
       "102            0.022134            0.053284  0.012577    0.568227  10.664053  \n",
       "103            0.053284            0.022134  0.012577    0.236042  10.664053  \n",
       "26             0.028486            0.040191  0.012105    0.424930  10.572883  \n",
       "27             0.040191            0.028486  0.012105    0.301184  10.572883  \n",
       "5              0.019820            0.032424  0.006754    0.340782  10.510234  \n",
       "4              0.032424            0.019820  0.006754    0.208311  10.510234  \n",
       "28             0.040191            0.020544  0.008598    0.213924  10.412768  \n",
       "29             0.020544            0.040191  0.008598    0.418495  10.412768  \n",
       "77             0.088051            0.023378  0.021394    0.242975  10.393106  \n",
       "76             0.023378            0.088051  0.021394    0.915121  10.393106  \n",
       "16             0.016790            0.040191  0.006978    0.415603  10.340804  \n",
       "17             0.040191            0.016790  0.006978    0.173624  10.340804  \n",
       "87             0.027707            0.018405  0.005246    0.189325  10.286527  \n",
       "86             0.018405            0.027707  0.005246    0.285010  10.286527  \n",
       "41             0.028486            0.020479  0.005875    0.206230  10.070460  \n",
       "40             0.020479            0.028486  0.005875    0.286871  10.070460  \n",
       "66             0.025260            0.024371  0.006122    0.242364   9.944915  \n",
       "67             0.024371            0.025260  0.006122    0.251204   9.944915  \n",
       "10             0.019820            0.053284  0.010424    0.525938   9.870401  \n",
       "11             0.053284            0.019820  0.010424    0.195630   9.870401  \n",
       "6              0.050115            0.019820  0.009717    0.193886   9.782409  \n",
       "7              0.019820            0.050115  0.009717    0.490249   9.782409  "
      ]
     },
     "execution_count": 145,
     "metadata": {},
     "output_type": "execute_result"
    }
   ],
   "source": [
    "rules.sort_values(by=\"lift\", ascending=False).head(50)"
   ]
  },
  {
   "cell_type": "code",
   "execution_count": null,
   "metadata": {
    "id": "nSiJjeDReh1F"
   },
   "outputs": [],
   "source": [
    "product_detail = (\n",
    "    data.groupby([\"product_id\", \"product_name\", \"department\"])[\"reordered\"]\n",
    "    .agg(\"count\")\n",
    "    .reset_index()\n",
    "    .sort_values(by=\"reordered\", ascending=False)\n",
    ")"
   ]
  },
  {
   "cell_type": "code",
   "execution_count": null,
   "metadata": {
    "id": "BBlqIBSkeh1F",
    "outputId": "1ab020bb-6cb9-42e5-cb5d-b14ab23b42be"
   },
   "outputs": [
    {
     "data": {
      "text/html": [
       "<div>\n",
       "<style scoped>\n",
       "    .dataframe tbody tr th:only-of-type {\n",
       "        vertical-align: middle;\n",
       "    }\n",
       "\n",
       "    .dataframe tbody tr th {\n",
       "        vertical-align: top;\n",
       "    }\n",
       "\n",
       "    .dataframe thead th {\n",
       "        text-align: right;\n",
       "    }\n",
       "</style>\n",
       "<table border=\"1\" class=\"dataframe\">\n",
       "  <thead>\n",
       "    <tr style=\"text-align: right;\">\n",
       "      <th></th>\n",
       "      <th>product_id</th>\n",
       "      <th>product_name</th>\n",
       "      <th>department</th>\n",
       "      <th>reordered</th>\n",
       "    </tr>\n",
       "  </thead>\n",
       "  <tbody>\n",
       "    <tr>\n",
       "      <th>23</th>\n",
       "      <td>24</td>\n",
       "      <td>fresh fruits</td>\n",
       "      <td>produce</td>\n",
       "      <td>226039</td>\n",
       "    </tr>\n",
       "    <tr>\n",
       "      <th>82</th>\n",
       "      <td>83</td>\n",
       "      <td>fresh vegetables</td>\n",
       "      <td>produce</td>\n",
       "      <td>212611</td>\n",
       "    </tr>\n",
       "    <tr>\n",
       "      <th>122</th>\n",
       "      <td>123</td>\n",
       "      <td>packaged vegetables fruits</td>\n",
       "      <td>produce</td>\n",
       "      <td>109596</td>\n",
       "    </tr>\n",
       "    <tr>\n",
       "      <th>119</th>\n",
       "      <td>120</td>\n",
       "      <td>yogurt</td>\n",
       "      <td>dairy eggs</td>\n",
       "      <td>90751</td>\n",
       "    </tr>\n",
       "    <tr>\n",
       "      <th>20</th>\n",
       "      <td>21</td>\n",
       "      <td>packaged cheese</td>\n",
       "      <td>dairy eggs</td>\n",
       "      <td>61502</td>\n",
       "    </tr>\n",
       "    <tr>\n",
       "      <th>...</th>\n",
       "      <td>...</td>\n",
       "      <td>...</td>\n",
       "      <td>...</td>\n",
       "      <td>...</td>\n",
       "    </tr>\n",
       "    <tr>\n",
       "      <th>9</th>\n",
       "      <td>10</td>\n",
       "      <td>kitchen supplies</td>\n",
       "      <td>household</td>\n",
       "      <td>561</td>\n",
       "    </tr>\n",
       "    <tr>\n",
       "      <th>101</th>\n",
       "      <td>102</td>\n",
       "      <td>baby bath body care</td>\n",
       "      <td>babies</td>\n",
       "      <td>515</td>\n",
       "    </tr>\n",
       "    <tr>\n",
       "      <th>81</th>\n",
       "      <td>82</td>\n",
       "      <td>baby accessories</td>\n",
       "      <td>babies</td>\n",
       "      <td>504</td>\n",
       "    </tr>\n",
       "    <tr>\n",
       "      <th>131</th>\n",
       "      <td>132</td>\n",
       "      <td>beauty</td>\n",
       "      <td>personal care</td>\n",
       "      <td>387</td>\n",
       "    </tr>\n",
       "    <tr>\n",
       "      <th>112</th>\n",
       "      <td>113</td>\n",
       "      <td>frozen juice</td>\n",
       "      <td>frozen</td>\n",
       "      <td>279</td>\n",
       "    </tr>\n",
       "  </tbody>\n",
       "</table>\n",
       "<p>134 rows × 4 columns</p>\n",
       "</div>"
      ],
      "text/plain": [
       "     product_id                product_name     department  reordered\n",
       "23           24                fresh fruits        produce     226039\n",
       "82           83            fresh vegetables        produce     212611\n",
       "122         123  packaged vegetables fruits        produce     109596\n",
       "119         120                      yogurt     dairy eggs      90751\n",
       "20           21             packaged cheese     dairy eggs      61502\n",
       "..          ...                         ...            ...        ...\n",
       "9            10            kitchen supplies      household        561\n",
       "101         102         baby bath body care         babies        515\n",
       "81           82            baby accessories         babies        504\n",
       "131         132                      beauty  personal care        387\n",
       "112         113                frozen juice         frozen        279\n",
       "\n",
       "[134 rows x 4 columns]"
      ]
     },
     "execution_count": 147,
     "metadata": {},
     "output_type": "execute_result"
    }
   ],
   "source": [
    "product_detail"
   ]
  },
  {
   "cell_type": "code",
   "execution_count": null,
   "metadata": {
    "id": "ajhKjDXWeh1G",
    "outputId": "e24dc367-68c5-4d34-97d2-0c0542cbdc58"
   },
   "outputs": [
    {
     "data": {
      "application/vnd.plotly.v1+json": {
       "config": {
        "plotlyServerURL": "https://plot.ly"
       },
       "data": [
        {
         "alignmentgroup": "True",
         "hovertemplate": "product_id=%{x}<br>reordered=%{y}<extra></extra>",
         "legendgroup": "",
         "marker": {
          "color": "#636efa",
          "pattern": {
           "shape": ""
          }
         },
         "name": "",
         "offsetgroup": "",
         "orientation": "v",
         "showlegend": false,
         "textposition": "auto",
         "type": "bar",
         "x": [
          24,
          83,
          123,
          120,
          21,
          84,
          115,
          107,
          91,
          112,
          31,
          116,
          37,
          3,
          78,
          86,
          96,
          38,
          121,
          92,
          16,
          77,
          67,
          69,
          98,
          17,
          53,
          108,
          106,
          117,
          45,
          88,
          81,
          32,
          59,
          131,
          36,
          94,
          54,
          93,
          19,
          61,
          52,
          9,
          72,
          104,
          26,
          4,
          129,
          128,
          50,
          66,
          23,
          79,
          130,
          63,
          35,
          14,
          49,
          114,
          43,
          110,
          51,
          105,
          64,
          57,
          42,
          13,
          89,
          75,
          74,
          99,
          2,
          100,
          30,
          48,
          122,
          34,
          1,
          95,
          29,
          85,
          20,
          25,
          5,
          41,
          27,
          47,
          111,
          127,
          58,
          71,
          12,
          65,
          6,
          125,
          8,
          40,
          28,
          67,
          22,
          62,
          39,
          124,
          70,
          11,
          56,
          97,
          46,
          90,
          15,
          126,
          101,
          133,
          119,
          87,
          68,
          18,
          76,
          80,
          73,
          103,
          33,
          118,
          109,
          55,
          134,
          44,
          10,
          102,
          82,
          132,
          113
         ],
         "xaxis": "x",
         "y": [
          226039,
          212611,
          109596,
          90751,
          61502,
          55150,
          52564,
          45306,
          39389,
          36381,
          35893,
          32432,
          31323,
          28639,
          28574,
          27986,
          24470,
          24449,
          23754,
          23355,
          23342,
          22428,
          22175,
          21540,
          20715,
          20137,
          19786,
          19091,
          19037,
          19026,
          18735,
          18149,
          18025,
          17408,
          16818,
          16414,
          15735,
          15733,
          15422,
          15357,
          15213,
          14745,
          14346,
          13771,
          13760,
          13067,
          12823,
          12651,
          12178,
          12082,
          10931,
          10426,
          10415,
          10124,
          9820,
          8878,
          8131,
          8003,
          7467,
          7429,
          6949,
          6925,
          6866,
          6693,
          6638,
          6410,
          6321,
          6144,
          6009,
          5904,
          5867,
          5458,
          5102,
          4749,
          4652,
          4621,
          4472,
          4408,
          4384,
          4212,
          4156,
          4144,
          4018,
          3918,
          3836,
          3835,
          3002,
          2912,
          2671,
          2507,
          2486,
          2423,
          2340,
          2257,
          2240,
          2238,
          2214,
          2178,
          2135,
          2020,
          1909,
          1893,
          1843,
          1795,
          1727,
          1589,
          1566,
          1451,
          1377,
          1332,
          1301,
          1296,
          1258,
          1256,
          1190,
          1170,
          1074,
          1059,
          963,
          924,
          843,
          706,
          697,
          693,
          654,
          646,
          614,
          598,
          561,
          515,
          504,
          387,
          279
         ],
         "yaxis": "y"
        }
       ],
       "layout": {
        "barmode": "relative",
        "legend": {
         "tracegroupgap": 0
        },
        "margin": {
         "t": 60
        },
        "template": {
         "data": {
          "bar": [
           {
            "error_x": {
             "color": "#2a3f5f"
            },
            "error_y": {
             "color": "#2a3f5f"
            },
            "marker": {
             "line": {
              "color": "#E5ECF6",
              "width": 0.5
             },
             "pattern": {
              "fillmode": "overlay",
              "size": 10,
              "solidity": 0.2
             }
            },
            "type": "bar"
           }
          ],
          "barpolar": [
           {
            "marker": {
             "line": {
              "color": "#E5ECF6",
              "width": 0.5
             },
             "pattern": {
              "fillmode": "overlay",
              "size": 10,
              "solidity": 0.2
             }
            },
            "type": "barpolar"
           }
          ],
          "carpet": [
           {
            "aaxis": {
             "endlinecolor": "#2a3f5f",
             "gridcolor": "white",
             "linecolor": "white",
             "minorgridcolor": "white",
             "startlinecolor": "#2a3f5f"
            },
            "baxis": {
             "endlinecolor": "#2a3f5f",
             "gridcolor": "white",
             "linecolor": "white",
             "minorgridcolor": "white",
             "startlinecolor": "#2a3f5f"
            },
            "type": "carpet"
           }
          ],
          "choropleth": [
           {
            "colorbar": {
             "outlinewidth": 0,
             "ticks": ""
            },
            "type": "choropleth"
           }
          ],
          "contour": [
           {
            "colorbar": {
             "outlinewidth": 0,
             "ticks": ""
            },
            "colorscale": [
             [
              0,
              "#0d0887"
             ],
             [
              0.1111111111111111,
              "#46039f"
             ],
             [
              0.2222222222222222,
              "#7201a8"
             ],
             [
              0.3333333333333333,
              "#9c179e"
             ],
             [
              0.4444444444444444,
              "#bd3786"
             ],
             [
              0.5555555555555556,
              "#d8576b"
             ],
             [
              0.6666666666666666,
              "#ed7953"
             ],
             [
              0.7777777777777778,
              "#fb9f3a"
             ],
             [
              0.8888888888888888,
              "#fdca26"
             ],
             [
              1,
              "#f0f921"
             ]
            ],
            "type": "contour"
           }
          ],
          "contourcarpet": [
           {
            "colorbar": {
             "outlinewidth": 0,
             "ticks": ""
            },
            "type": "contourcarpet"
           }
          ],
          "heatmap": [
           {
            "colorbar": {
             "outlinewidth": 0,
             "ticks": ""
            },
            "colorscale": [
             [
              0,
              "#0d0887"
             ],
             [
              0.1111111111111111,
              "#46039f"
             ],
             [
              0.2222222222222222,
              "#7201a8"
             ],
             [
              0.3333333333333333,
              "#9c179e"
             ],
             [
              0.4444444444444444,
              "#bd3786"
             ],
             [
              0.5555555555555556,
              "#d8576b"
             ],
             [
              0.6666666666666666,
              "#ed7953"
             ],
             [
              0.7777777777777778,
              "#fb9f3a"
             ],
             [
              0.8888888888888888,
              "#fdca26"
             ],
             [
              1,
              "#f0f921"
             ]
            ],
            "type": "heatmap"
           }
          ],
          "heatmapgl": [
           {
            "colorbar": {
             "outlinewidth": 0,
             "ticks": ""
            },
            "colorscale": [
             [
              0,
              "#0d0887"
             ],
             [
              0.1111111111111111,
              "#46039f"
             ],
             [
              0.2222222222222222,
              "#7201a8"
             ],
             [
              0.3333333333333333,
              "#9c179e"
             ],
             [
              0.4444444444444444,
              "#bd3786"
             ],
             [
              0.5555555555555556,
              "#d8576b"
             ],
             [
              0.6666666666666666,
              "#ed7953"
             ],
             [
              0.7777777777777778,
              "#fb9f3a"
             ],
             [
              0.8888888888888888,
              "#fdca26"
             ],
             [
              1,
              "#f0f921"
             ]
            ],
            "type": "heatmapgl"
           }
          ],
          "histogram": [
           {
            "marker": {
             "pattern": {
              "fillmode": "overlay",
              "size": 10,
              "solidity": 0.2
             }
            },
            "type": "histogram"
           }
          ],
          "histogram2d": [
           {
            "colorbar": {
             "outlinewidth": 0,
             "ticks": ""
            },
            "colorscale": [
             [
              0,
              "#0d0887"
             ],
             [
              0.1111111111111111,
              "#46039f"
             ],
             [
              0.2222222222222222,
              "#7201a8"
             ],
             [
              0.3333333333333333,
              "#9c179e"
             ],
             [
              0.4444444444444444,
              "#bd3786"
             ],
             [
              0.5555555555555556,
              "#d8576b"
             ],
             [
              0.6666666666666666,
              "#ed7953"
             ],
             [
              0.7777777777777778,
              "#fb9f3a"
             ],
             [
              0.8888888888888888,
              "#fdca26"
             ],
             [
              1,
              "#f0f921"
             ]
            ],
            "type": "histogram2d"
           }
          ],
          "histogram2dcontour": [
           {
            "colorbar": {
             "outlinewidth": 0,
             "ticks": ""
            },
            "colorscale": [
             [
              0,
              "#0d0887"
             ],
             [
              0.1111111111111111,
              "#46039f"
             ],
             [
              0.2222222222222222,
              "#7201a8"
             ],
             [
              0.3333333333333333,
              "#9c179e"
             ],
             [
              0.4444444444444444,
              "#bd3786"
             ],
             [
              0.5555555555555556,
              "#d8576b"
             ],
             [
              0.6666666666666666,
              "#ed7953"
             ],
             [
              0.7777777777777778,
              "#fb9f3a"
             ],
             [
              0.8888888888888888,
              "#fdca26"
             ],
             [
              1,
              "#f0f921"
             ]
            ],
            "type": "histogram2dcontour"
           }
          ],
          "mesh3d": [
           {
            "colorbar": {
             "outlinewidth": 0,
             "ticks": ""
            },
            "type": "mesh3d"
           }
          ],
          "parcoords": [
           {
            "line": {
             "colorbar": {
              "outlinewidth": 0,
              "ticks": ""
             }
            },
            "type": "parcoords"
           }
          ],
          "pie": [
           {
            "automargin": true,
            "type": "pie"
           }
          ],
          "scatter": [
           {
            "fillpattern": {
             "fillmode": "overlay",
             "size": 10,
             "solidity": 0.2
            },
            "type": "scatter"
           }
          ],
          "scatter3d": [
           {
            "line": {
             "colorbar": {
              "outlinewidth": 0,
              "ticks": ""
             }
            },
            "marker": {
             "colorbar": {
              "outlinewidth": 0,
              "ticks": ""
             }
            },
            "type": "scatter3d"
           }
          ],
          "scattercarpet": [
           {
            "marker": {
             "colorbar": {
              "outlinewidth": 0,
              "ticks": ""
             }
            },
            "type": "scattercarpet"
           }
          ],
          "scattergeo": [
           {
            "marker": {
             "colorbar": {
              "outlinewidth": 0,
              "ticks": ""
             }
            },
            "type": "scattergeo"
           }
          ],
          "scattergl": [
           {
            "marker": {
             "colorbar": {
              "outlinewidth": 0,
              "ticks": ""
             }
            },
            "type": "scattergl"
           }
          ],
          "scattermapbox": [
           {
            "marker": {
             "colorbar": {
              "outlinewidth": 0,
              "ticks": ""
             }
            },
            "type": "scattermapbox"
           }
          ],
          "scatterpolar": [
           {
            "marker": {
             "colorbar": {
              "outlinewidth": 0,
              "ticks": ""
             }
            },
            "type": "scatterpolar"
           }
          ],
          "scatterpolargl": [
           {
            "marker": {
             "colorbar": {
              "outlinewidth": 0,
              "ticks": ""
             }
            },
            "type": "scatterpolargl"
           }
          ],
          "scatterternary": [
           {
            "marker": {
             "colorbar": {
              "outlinewidth": 0,
              "ticks": ""
             }
            },
            "type": "scatterternary"
           }
          ],
          "surface": [
           {
            "colorbar": {
             "outlinewidth": 0,
             "ticks": ""
            },
            "colorscale": [
             [
              0,
              "#0d0887"
             ],
             [
              0.1111111111111111,
              "#46039f"
             ],
             [
              0.2222222222222222,
              "#7201a8"
             ],
             [
              0.3333333333333333,
              "#9c179e"
             ],
             [
              0.4444444444444444,
              "#bd3786"
             ],
             [
              0.5555555555555556,
              "#d8576b"
             ],
             [
              0.6666666666666666,
              "#ed7953"
             ],
             [
              0.7777777777777778,
              "#fb9f3a"
             ],
             [
              0.8888888888888888,
              "#fdca26"
             ],
             [
              1,
              "#f0f921"
             ]
            ],
            "type": "surface"
           }
          ],
          "table": [
           {
            "cells": {
             "fill": {
              "color": "#EBF0F8"
             },
             "line": {
              "color": "white"
             }
            },
            "header": {
             "fill": {
              "color": "#C8D4E3"
             },
             "line": {
              "color": "white"
             }
            },
            "type": "table"
           }
          ]
         },
         "layout": {
          "annotationdefaults": {
           "arrowcolor": "#2a3f5f",
           "arrowhead": 0,
           "arrowwidth": 1
          },
          "autotypenumbers": "strict",
          "coloraxis": {
           "colorbar": {
            "outlinewidth": 0,
            "ticks": ""
           }
          },
          "colorscale": {
           "diverging": [
            [
             0,
             "#8e0152"
            ],
            [
             0.1,
             "#c51b7d"
            ],
            [
             0.2,
             "#de77ae"
            ],
            [
             0.3,
             "#f1b6da"
            ],
            [
             0.4,
             "#fde0ef"
            ],
            [
             0.5,
             "#f7f7f7"
            ],
            [
             0.6,
             "#e6f5d0"
            ],
            [
             0.7,
             "#b8e186"
            ],
            [
             0.8,
             "#7fbc41"
            ],
            [
             0.9,
             "#4d9221"
            ],
            [
             1,
             "#276419"
            ]
           ],
           "sequential": [
            [
             0,
             "#0d0887"
            ],
            [
             0.1111111111111111,
             "#46039f"
            ],
            [
             0.2222222222222222,
             "#7201a8"
            ],
            [
             0.3333333333333333,
             "#9c179e"
            ],
            [
             0.4444444444444444,
             "#bd3786"
            ],
            [
             0.5555555555555556,
             "#d8576b"
            ],
            [
             0.6666666666666666,
             "#ed7953"
            ],
            [
             0.7777777777777778,
             "#fb9f3a"
            ],
            [
             0.8888888888888888,
             "#fdca26"
            ],
            [
             1,
             "#f0f921"
            ]
           ],
           "sequentialminus": [
            [
             0,
             "#0d0887"
            ],
            [
             0.1111111111111111,
             "#46039f"
            ],
            [
             0.2222222222222222,
             "#7201a8"
            ],
            [
             0.3333333333333333,
             "#9c179e"
            ],
            [
             0.4444444444444444,
             "#bd3786"
            ],
            [
             0.5555555555555556,
             "#d8576b"
            ],
            [
             0.6666666666666666,
             "#ed7953"
            ],
            [
             0.7777777777777778,
             "#fb9f3a"
            ],
            [
             0.8888888888888888,
             "#fdca26"
            ],
            [
             1,
             "#f0f921"
            ]
           ]
          },
          "colorway": [
           "#636efa",
           "#EF553B",
           "#00cc96",
           "#ab63fa",
           "#FFA15A",
           "#19d3f3",
           "#FF6692",
           "#B6E880",
           "#FF97FF",
           "#FECB52"
          ],
          "font": {
           "color": "#2a3f5f"
          },
          "geo": {
           "bgcolor": "white",
           "lakecolor": "white",
           "landcolor": "#E5ECF6",
           "showlakes": true,
           "showland": true,
           "subunitcolor": "white"
          },
          "hoverlabel": {
           "align": "left"
          },
          "hovermode": "closest",
          "mapbox": {
           "style": "light"
          },
          "paper_bgcolor": "white",
          "plot_bgcolor": "#E5ECF6",
          "polar": {
           "angularaxis": {
            "gridcolor": "white",
            "linecolor": "white",
            "ticks": ""
           },
           "bgcolor": "#E5ECF6",
           "radialaxis": {
            "gridcolor": "white",
            "linecolor": "white",
            "ticks": ""
           }
          },
          "scene": {
           "xaxis": {
            "backgroundcolor": "#E5ECF6",
            "gridcolor": "white",
            "gridwidth": 2,
            "linecolor": "white",
            "showbackground": true,
            "ticks": "",
            "zerolinecolor": "white"
           },
           "yaxis": {
            "backgroundcolor": "#E5ECF6",
            "gridcolor": "white",
            "gridwidth": 2,
            "linecolor": "white",
            "showbackground": true,
            "ticks": "",
            "zerolinecolor": "white"
           },
           "zaxis": {
            "backgroundcolor": "#E5ECF6",
            "gridcolor": "white",
            "gridwidth": 2,
            "linecolor": "white",
            "showbackground": true,
            "ticks": "",
            "zerolinecolor": "white"
           }
          },
          "shapedefaults": {
           "line": {
            "color": "#2a3f5f"
           }
          },
          "ternary": {
           "aaxis": {
            "gridcolor": "white",
            "linecolor": "white",
            "ticks": ""
           },
           "baxis": {
            "gridcolor": "white",
            "linecolor": "white",
            "ticks": ""
           },
           "bgcolor": "#E5ECF6",
           "caxis": {
            "gridcolor": "white",
            "linecolor": "white",
            "ticks": ""
           }
          },
          "title": {
           "x": 0.05
          },
          "xaxis": {
           "automargin": true,
           "gridcolor": "white",
           "linecolor": "white",
           "ticks": "",
           "title": {
            "standoff": 15
           },
           "zerolinecolor": "white",
           "zerolinewidth": 2
          },
          "yaxis": {
           "automargin": true,
           "gridcolor": "white",
           "linecolor": "white",
           "ticks": "",
           "title": {
            "standoff": 15
           },
           "zerolinecolor": "white",
           "zerolinewidth": 2
          }
         }
        },
        "xaxis": {
         "anchor": "y",
         "domain": [
          0,
          1
         ],
         "title": {
          "text": "product_id"
         }
        },
        "yaxis": {
         "anchor": "x",
         "domain": [
          0,
          1
         ],
         "title": {
          "text": "reordered"
         }
        }
       }
      }
     },
     "metadata": {},
     "output_type": "display_data"
    }
   ],
   "source": [
    "reordered_product = (\n",
    "    product_detail.groupby(\"reordered\")[\"product_id\"]\n",
    "    .sum()\n",
    "    .reset_index()\n",
    "    .sort_values(by=\"reordered\", ascending=False)\n",
    ")\n",
    "fig = ex.bar(reordered_product, x=\"product_id\", y=\"reordered\")\n",
    "fig.show()"
   ]
  },
  {
   "cell_type": "code",
   "execution_count": null,
   "metadata": {
    "id": "gUt5qMeLeh1G"
   },
   "outputs": [],
   "source": [
    "# encoding features\n",
    "# df = data[['user_id','department']]"
   ]
  },
  {
   "cell_type": "code",
   "execution_count": null,
   "metadata": {
    "id": "OVZXU0GSeh1G",
    "outputId": "89bae77d-696e-4487-de70-1e0b53048bce"
   },
   "outputs": [
    {
     "data": {
      "text/plain": [
       "134"
      ]
     },
     "execution_count": 150,
     "metadata": {},
     "output_type": "execute_result"
    }
   ],
   "source": [
    "data.product_name.nunique()"
   ]
  },
  {
   "cell_type": "markdown",
   "metadata": {
    "id": "07LlXkN_eh1H"
   },
   "source": []
  },
  {
   "cell_type": "code",
   "execution_count": null,
   "metadata": {
    "id": "J4hIfgdTeh1I"
   },
   "outputs": [],
   "source": [
    "new_data = data.copy()"
   ]
  },
  {
   "cell_type": "code",
   "execution_count": null,
   "metadata": {
    "id": "l8fDPq-_eh1J"
   },
   "outputs": [],
   "source": [
    "count = CountEncoder()\n",
    "new_data[\"department\"] = count.fit_transform(new_data[\"department\"])\n",
    "new_data[\"product_name\"] = count.fit_transform(new_data[\"product_name\"])"
   ]
  },
  {
   "cell_type": "code",
   "execution_count": null,
   "metadata": {
    "id": "OKOw90Z2eh1J"
   },
   "outputs": [],
   "source": [
    "new_data = new_data.drop(\n",
    "    [\n",
    "        \"user_id\",\n",
    "        \"department_id\",\n",
    "        \"product_id\",\n",
    "        \"order_id\",\n",
    "        \"order_number_group\",\n",
    "        \"order_time\",\n",
    "    ],\n",
    "    axis=1,\n",
    ")"
   ]
  },
  {
   "cell_type": "code",
   "execution_count": null,
   "metadata": {
    "id": "xeww_8pEeh1K",
    "outputId": "c00f2edb-4796-40f5-efa1-9e683aeed89f"
   },
   "outputs": [
    {
     "data": {
      "text/plain": [
       "Index(['order_number', 'order_dow', 'order_hour_of_day',\n",
       "       'days_since_prior_order', 'add_to_cart_order', 'reordered',\n",
       "       'department', 'product_name'],\n",
       "      dtype='object')"
      ]
     },
     "execution_count": 160,
     "metadata": {},
     "output_type": "execute_result"
    }
   ],
   "source": [
    "new_data.columns"
   ]
  },
  {
   "cell_type": "code",
   "execution_count": null,
   "metadata": {
    "id": "dqKio_hreh1K"
   },
   "outputs": [],
   "source": [
    "scaler = MinMaxScaler()\n",
    "X_sc = scaler.fit_transform(new_data)"
   ]
  },
  {
   "cell_type": "code",
   "execution_count": null,
   "metadata": {
    "id": "gWt5eWKseh1L",
    "outputId": "51a73ff4-2c8e-445c-d370-94279de7e4fe"
   },
   "outputs": [
    {
     "name": "stdout",
     "output_type": "stream",
     "text": [
      "clusters [5 5 5 ... 1 1 4]\n",
      "inertia 520177.342585181\n"
     ]
    }
   ],
   "source": [
    "kmeans = KMeans(n_clusters=6)\n",
    "kmeans.fit(X_sc)\n",
    "print(\"clusters\", kmeans.labels_)\n",
    "print(\"inertia\", kmeans.inertia_)"
   ]
  },
  {
   "cell_type": "code",
   "execution_count": null,
   "metadata": {
    "id": "FV2TSclfeh1L"
   },
   "outputs": [],
   "source": [
    "# 9118872.908321965"
   ]
  },
  {
   "cell_type": "code",
   "execution_count": null,
   "metadata": {
    "id": "_iVoIQACeh1M"
   },
   "outputs": [],
   "source": [
    "ssd = []\n",
    "\n",
    "for k in range(2, 40):\n",
    "    kmeans = KMeans(n_clusters=k)\n",
    "    kmeans.fit(X_sc)\n",
    "    ssd.append(kmeans.inertia_)"
   ]
  },
  {
   "cell_type": "code",
   "execution_count": null,
   "metadata": {
    "id": "Z4vQdU78eh1M",
    "outputId": "bc586e79-d14e-456d-8348-458c2281bd66"
   },
   "outputs": [
    {
     "data": {
      "text/plain": [
       "Text(0, 0.5, ' Sum of Squared Distances')"
      ]
     },
     "execution_count": 183,
     "metadata": {},
     "output_type": "execute_result"
    },
    {
     "data": {
      "image/png": "[encoded data removed]",
      "text/plain": [
       "<Figure size 640x480 with 1 Axes>"
      ]
     },
     "metadata": {},
     "output_type": "display_data"
    }
   ],
   "source": [
    "plt.plot(range(2, 40), ssd, \"o--\")\n",
    "plt.xlabel(\"K Value\")\n",
    "plt.ylabel(\" Sum of Squared Distances\")"
   ]
  },
  {
   "cell_type": "code",
   "execution_count": null,
   "metadata": {
    "id": "1A8F8PjEeh1N"
   },
   "outputs": [],
   "source": [
    "# model = KMeans(n_clusters=20)\n",
    "# model.fit(X_sc)\n",
    "# print('clusters',model.labels_)\n",
    "# print('inertia',model.inertia_)"
   ]
  },
  {
   "cell_type": "code",
   "execution_count": null,
   "metadata": {
    "id": "aRvMwfMFeh1N"
   },
   "outputs": [],
   "source": [
    "elbow_point = [15, 20, 25, 30, 35, 40]\n",
    "inertia = {}\n",
    "clusters = {}\n",
    "for el in elbow_point:\n",
    "    model = KMeans(n_clusters=el)\n",
    "    model.fit(X_sc)\n",
    "    clusters[el] = model.labels_\n",
    "    inertia[el] = model.inertia_"
   ]
  },
  {
   "cell_type": "code",
   "execution_count": null,
   "metadata": {
    "id": "p4rKvFWmeh1O",
    "outputId": "8578b3c0-1df8-473c-e391-407413bef9b6"
   },
   "outputs": [
    {
     "data": {
      "text/plain": [
       "{15: 323264.5528773182,\n",
       " 20: 288018.1435749506,\n",
       " 25: 251724.48837776447,\n",
       " 30: 229013.4343464164,\n",
       " 35: 219970.18672485254,\n",
       " 40: 203181.2930879215}"
      ]
     },
     "execution_count": 185,
     "metadata": {},
     "output_type": "execute_result"
    }
   ],
   "source": [
    "inertia"
   ]
  },
  {
   "cell_type": "code",
   "execution_count": null,
   "metadata": {
    "id": "Vt_BV_WHeh1O",
    "outputId": "6e65a53d-f5da-41e6-82a2-71e47dbd6775"
   },
   "outputs": [
    {
     "data": {
      "text/plain": [
       "{15: array([ 4, 13, 13, ..., 12, 12, 12]),\n",
       " 20: array([15,  3,  3, ...,  1,  1,  6]),\n",
       " 25: array([21,  5,  5, ..., 12, 12,  8]),\n",
       " 30: array([28, 23, 23, ...,  1,  1,  1]),\n",
       " 35: array([26, 17, 17, ..., 20, 20, 20]),\n",
       " 40: array([ 3, 37, 37, ..., 14, 14, 14])}"
      ]
     },
     "execution_count": 186,
     "metadata": {},
     "output_type": "execute_result"
    }
   ],
   "source": [
    "clusters"
   ]
  },
  {
   "cell_type": "code",
   "execution_count": null,
   "metadata": {
    "id": "EUMV9lH8eh1P",
    "outputId": "6e51cfba-22d4-4f60-bc85-cdb84ea33d96"
   },
   "outputs": [
    {
     "data": {
      "text/html": [
       "<div>\n",
       "<style scoped>\n",
       "    .dataframe tbody tr th:only-of-type {\n",
       "        vertical-align: middle;\n",
       "    }\n",
       "\n",
       "    .dataframe tbody tr th {\n",
       "        vertical-align: top;\n",
       "    }\n",
       "\n",
       "    .dataframe thead th {\n",
       "        text-align: right;\n",
       "    }\n",
       "</style>\n",
       "<table border=\"1\" class=\"dataframe\">\n",
       "  <thead>\n",
       "    <tr style=\"text-align: right;\">\n",
       "      <th></th>\n",
       "      <th>0</th>\n",
       "      <th>1</th>\n",
       "      <th>2</th>\n",
       "      <th>3</th>\n",
       "      <th>4</th>\n",
       "      <th>5</th>\n",
       "      <th>6</th>\n",
       "      <th>7</th>\n",
       "      <th>8</th>\n",
       "      <th>9</th>\n",
       "      <th>...</th>\n",
       "      <th>30</th>\n",
       "      <th>31</th>\n",
       "      <th>32</th>\n",
       "      <th>33</th>\n",
       "      <th>34</th>\n",
       "      <th>35</th>\n",
       "      <th>36</th>\n",
       "      <th>37</th>\n",
       "      <th>38</th>\n",
       "      <th>39</th>\n",
       "    </tr>\n",
       "  </thead>\n",
       "  <tbody>\n",
       "    <tr>\n",
       "      <th>0</th>\n",
       "      <td>71652</td>\n",
       "      <td>56622</td>\n",
       "      <td>38066</td>\n",
       "      <td>81715</td>\n",
       "      <td>61590</td>\n",
       "      <td>27489</td>\n",
       "      <td>52254</td>\n",
       "      <td>38680</td>\n",
       "      <td>41892</td>\n",
       "      <td>41875</td>\n",
       "      <td>...</td>\n",
       "      <td>20503</td>\n",
       "      <td>55688</td>\n",
       "      <td>62088</td>\n",
       "      <td>68752</td>\n",
       "      <td>34229</td>\n",
       "      <td>27843</td>\n",
       "      <td>67902</td>\n",
       "      <td>58934</td>\n",
       "      <td>71774</td>\n",
       "      <td>43064</td>\n",
       "    </tr>\n",
       "  </tbody>\n",
       "</table>\n",
       "<p>1 rows × 40 columns</p>\n",
       "</div>"
      ],
      "text/plain": [
       "      0      1      2      3      4      5      6      7      8      9   ...  \\\n",
       "0  71652  56622  38066  81715  61590  27489  52254  38680  41892  41875  ...   \n",
       "\n",
       "      30     31     32     33     34     35     36     37     38     39  \n",
       "0  20503  55688  62088  68752  34229  27843  67902  58934  71774  43064  \n",
       "\n",
       "[1 rows x 40 columns]"
      ]
     },
     "execution_count": 195,
     "metadata": {},
     "output_type": "execute_result"
    }
   ],
   "source": [
    "new_model = KMeans(n_clusters=40)\n",
    "new_model.fit(X_sc)\n",
    "new_model.labels_\n",
    "\n",
    "# predictions\n",
    "predictions = new_model.predict(X_sc)\n",
    "unique, counts = np.unique(predictions, return_counts=True)\n",
    "counts = counts.reshape(1, 40)\n",
    "\n",
    "countscldf = pd.DataFrame(counts)\n",
    "countscldf"
   ]
  },
  {
   "cell_type": "code",
   "execution_count": null,
   "metadata": {
    "id": "XjrL7H3beh1P"
   },
   "outputs": [],
   "source": [
    "pca = PCA(n_components=2)\n",
    "X_r = pca.fit_transform(X_sc)"
   ]
  },
  {
   "cell_type": "code",
   "execution_count": null,
   "metadata": {
    "id": "RS5-nnD-eh1Q",
    "outputId": "27841a9a-2138-4816-e95a-a84e6a8caf81"
   },
   "outputs": [
    {
     "name": "stdout",
     "output_type": "stream",
     "text": [
      "Explained variance ratio (first two components): [0.35022482 0.27662073]\n"
     ]
    }
   ],
   "source": [
    "print(\n",
    "    \"Explained variance ratio (first two components): %s\"\n",
    "    % str(pca.explained_variance_ratio_)\n",
    ")"
   ]
  },
  {
   "cell_type": "code",
   "execution_count": null,
   "metadata": {
    "id": "aH4Gq85Reh1Q",
    "outputId": "a04a827a-c98b-4b26-e6dc-d3120f778f0e"
   },
   "outputs": [
    {
     "name": "stdout",
     "output_type": "stream",
     "text": [
      "Total Variance in our dataset is:  0.7820333054468378\n",
      "The 95% variance we want to have is:  0.7429316401744959\n",
      "\n",
      "Variance explain with 4 n_compononets:  0.7022546704547561\n",
      "Variance explain with 8 n_compononets:  0.7820333054468378\n",
      "Variance explain with 9 n_compononets:  0.7820333054468378\n",
      "Variance explain with 10 n_compononets:  0.7820333054468378\n",
      "Variance explain with 15 n_compononets:  0.7820333054468378\n",
      "Variance explain with 18 n_compononets:  0.7820333054468378\n",
      "Variance explain with 21 n_compononets:  0.7820333054468378\n"
     ]
    }
   ],
   "source": [
    "n_components = X_sc.shape[1]\n",
    "pca = PCA(n_components=n_components)\n",
    "X_r = pca.fit_transform(X_sc)\n",
    "total_variance = sum(pca.explained_variance_)\n",
    "print(\"Total Variance in our dataset is: \", total_variance)\n",
    "var_95 = total_variance * 0.95\n",
    "print(\"The 95% variance we want to have is: \", var_95)\n",
    "print(\"\")\n",
    "\n",
    "a = zip(range(0, n_components), pca.explained_variance_)\n",
    "a = pd.DataFrame(a, columns=[\"PCA Comp\", \"Explained Variance\"])\n",
    "\n",
    "print(\"Variance explain with 4 n_compononets: \", sum(a[\"Explained Variance\"][0:4]))\n",
    "print(\"Variance explain with 8 n_compononets: \", sum(a[\"Explained Variance\"][0:8]))\n",
    "print(\"Variance explain with 9 n_compononets: \", sum(a[\"Explained Variance\"][0:9]))\n",
    "print(\"Variance explain with 10 n_compononets: \", sum(a[\"Explained Variance\"][0:10]))\n",
    "print(\"Variance explain with 15 n_compononets: \", sum(a[\"Explained Variance\"][0:15]))\n",
    "print(\"Variance explain with 18 n_compononets: \", sum(a[\"Explained Variance\"][0:18]))\n",
    "print(\"Variance explain with 21 n_compononets: \", sum(a[\"Explained Variance\"][0:21]))"
   ]
  },
  {
   "cell_type": "code",
   "execution_count": null,
   "metadata": {
    "id": "vj-bBfX-eh1R"
   },
   "outputs": [],
   "source": [
    "pca = PCA(n_components=4)\n",
    "X_r = pca.fit_transform(X_sc)\n",
    "\n",
    "tune_inertia = {}\n",
    "tune_clusters = {}\n",
    "\n",
    "for k in range(2, 20):\n",
    "    kmeans = KMeans(n_clusters=k)\n",
    "    kmeans.fit(X_r)\n",
    "    tune_clusters[k] = kmeans.labels_\n",
    "    tune_inertia[k] = kmeans.inertia_"
   ]
  },
  {
   "cell_type": "code",
   "execution_count": null,
   "metadata": {
    "id": "odh1DcN1eh1R",
    "outputId": "8032f19b-227c-4ed7-bd7c-35d007a850ed"
   },
   "outputs": [
    {
     "data": {
      "text/plain": [
       "{2: 916801.2247463113,\n",
       " 3: 661803.009642435,\n",
       " 4: 575413.3095176701,\n",
       " 5: 437713.2516665853,\n",
       " 6: 359889.0874762538,\n",
       " 7: 349916.3691562335,\n",
       " 8: 339609.9221339205,\n",
       " 9: 250162.5642136934,\n",
       " 10: 252103.47861619337,\n",
       " 11: 217411.85412032975,\n",
       " 12: 213882.0484861424,\n",
       " 13: 203347.93215824122,\n",
       " 14: 178355.34903694736,\n",
       " 15: 180084.00924199336,\n",
       " 16: 167716.860535633,\n",
       " 17: 151076.75661667043,\n",
       " 18: 142855.84091397363,\n",
       " 19: 146846.7108912442}"
      ]
     },
     "execution_count": 228,
     "metadata": {},
     "output_type": "execute_result"
    }
   ],
   "source": [
    "tune_inertia"
   ]
  },
  {
   "cell_type": "code",
   "execution_count": null,
   "metadata": {
    "id": "09B57qQ1eh1R",
    "outputId": "e573aa9a-8eb8-4be8-8c86-53e4396019ce"
   },
   "outputs": [
    {
     "data": {
      "text/plain": [
       "Text(0, 0.5, ' Sum of Squared Distances')"
      ]
     },
     "execution_count": 235,
     "metadata": {},
     "output_type": "execute_result"
    },
    {
     "data": {
      "image/png": "[encoded data removed]",
      "text/plain": [
       "<Figure size 640x480 with 1 Axes>"
      ]
     },
     "metadata": {},
     "output_type": "display_data"
    }
   ],
   "source": [
    "plt.plot(range(2, 20), list(tune_inertia.values()), \"o--\")\n",
    "plt.xlabel(\"K Value\")\n",
    "plt.ylabel(\" Sum of Squared Distances\")"
   ]
  },
  {
   "cell_type": "code",
   "execution_count": null,
   "metadata": {
    "id": "C-9kGxG8eh1S"
   },
   "outputs": [],
   "source": []
  }
 ],
 "metadata": {
  "colab": {
   "provenance": []
  },
  "kernelspec": {
   "display_name": "Python 3 (ipykernel)",
   "language": "python",
   "name": "python3"
  },
  "language_info": {
   "codemirror_mode": {
    "name": "ipython",
    "version": 3
   },
   "file_extension": ".py",
   "mimetype": "text/x-python",
   "name": "python",
   "nbconvert_exporter": "python",
   "pygments_lexer": "ipython3",
   "version": "3.10.0"
  }
 },
 "nbformat": 4,
 "nbformat_minor": 0
}
